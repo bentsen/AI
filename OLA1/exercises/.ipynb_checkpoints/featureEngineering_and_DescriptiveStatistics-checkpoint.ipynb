{
 "cells": [
  {
   "cell_type": "code",
   "execution_count": null,
   "id": "initial_id",
   "metadata": {
    "ExecuteTime": {
     "end_time": "2024-02-16T17:37:30.976672700Z",
     "start_time": "2024-02-16T17:37:30.967379200Z"
    },
    "pycharm": {
     "name": "#%%\n"
    }
   },
   "outputs": [],
   "source": [
    "%%markdown\n",
    "# 2. Feature Engineering:"
   ]
  },
  {
   "cell_type": "code",
   "execution_count": null,
   "id": "cc952576288eb024",
   "metadata": {
    "ExecuteTime": {
     "end_time": "2024-02-16T17:29:52.155688200Z",
     "start_time": "2024-02-16T17:29:52.133640900Z"
    },
    "pycharm": {
     "name": "#%%\n"
    }
   },
   "outputs": [],
   "source": [
    "#  Create a new feature by binning a numerical variable into categories (e.g., low, medium, high). Put ranges (eg age, into three or four groups rather than a continuous distribution)\n",
    "\n",
    "import pandas as pd\n",
    "df = pd.read_csv('../resources/tested.csv')\n",
    "\n",
    "bins = [0, 30, 60, df['Age'].max()]\n",
    "labels = ['Low', 'Medium', 'High']\n",
    "df['Age_Group'] = pd.cut(df['Age'], bins=bins, labels=labels, include_lowest=True)\n",
    "\n",
    "print(df[['Age', 'Age_Group']].head())"
   ]
  },
  {
   "cell_type": "code",
   "execution_count": null,
   "id": "50681d559be685d0",
   "metadata": {
    "ExecuteTime": {
     "end_time": "2024-02-16T17:29:52.221777500Z",
     "start_time": "2024-02-16T17:29:52.159097700Z"
    },
    "pycharm": {
     "name": "#%%\n"
    }
   },
   "outputs": [],
   "source": [
    "# Implement one-hot encoding for a categorical variable.\n",
    "\n",
    "encoded_df = pd.get_dummies(df, columns=['Age_Group'])\n",
    "print(encoded_df.head())"
   ]
  },
  {
   "cell_type": "code",
   "execution_count": null,
   "id": "33cd4f666396549e",
   "metadata": {
    "ExecuteTime": {
     "end_time": "2024-02-16T17:29:52.224865800Z",
     "start_time": "2024-02-16T17:29:52.171997700Z"
    },
    "pycharm": {
     "name": "#%%\n"
    }
   },
   "outputs": [],
   "source": [
    "%%markdown\n",
    "# 2. Descriptive Statistics:"
   ]
  },
  {
   "cell_type": "code",
   "execution_count": null,
   "id": "637d8bb48f6ca2dc",
   "metadata": {
    "ExecuteTime": {
     "end_time": "2024-02-16T17:29:52.239094500Z",
     "start_time": "2024-02-16T17:29:52.176392Z"
    },
    "pycharm": {
     "name": "#%%\n"
    }
   },
   "outputs": [],
   "source": [
    "# Calculate the mean, median, mode, and standard deviation of a numerical features.\n",
    "\n",
    "numerical_df = df.select_dtypes(include=['number'])\n",
    "\n",
    "mean_values = numerical_df.mean()\n",
    "median_values = numerical_df.median()\n",
    "std_deviation = numerical_df.std()\n",
    "\n",
    "print(\"Mean Values:\\n\", mean_values)\n",
    "print(\"\\nMedian Values:\\n\", median_values)\n",
    "print(\"\\nStandard Deviation:\\n\", std_deviation)"
   ]
  },
  {
   "cell_type": "code",
   "execution_count": null,
   "id": "af3f0b0c491e667",
   "metadata": {
    "ExecuteTime": {
     "end_time": "2024-02-16T17:29:52.289574200Z",
     "start_time": "2024-02-16T17:29:52.194208900Z"
    },
    "pycharm": {
     "name": "#%%\n"
    }
   },
   "outputs": [],
   "source": [
    "#  For categorical features, count the frequency of each category.\n",
    "\n",
    "categorical_df = df.select_dtypes(include=['object', 'category'])\n",
    "\n",
    "for column in categorical_df.columns:\n",
    "    print(f\"Frequency of categories in {column}:\")\n",
    "    print(categorical_df[column].value_counts())\n",
    "    print(\"\\n\")\n",
    "    "
   ]
  },
  {
   "cell_type": "code",
   "execution_count": null,
   "id": "24df1215589eb42",
   "metadata": {
    "ExecuteTime": {
     "end_time": "2024-02-16T17:29:52.293112500Z",
     "start_time": "2024-02-16T17:29:52.227858600Z"
    },
    "pycharm": {
     "name": "#%%\n"
    }
   },
   "outputs": [],
   "source": [
    "%%markdown\n",
    "\n",
    "# 3. Visualization:"
   ]
  },
  {
   "cell_type": "code",
   "execution_count": null,
   "id": "32990f260347126c",
   "metadata": {
    "ExecuteTime": {
     "end_time": "2024-02-16T17:35:44.983443500Z",
     "start_time": "2024-02-16T17:35:44.788319100Z"
    },
    "pycharm": {
     "name": "#%%\n"
    }
   },
   "outputs": [],
   "source": [
    "#  Use seaborn to create box plots for numerical features to identify outliers.\n",
    "\n",
    "import seaborn as sns\n",
    "import matplotlib.pyplot as plt\n",
    "\n",
    "sns.set(style=\"whitegrid\")\n",
    "\n",
    "numerical_columns = df.select_dtypes(include=['number']).columns\n",
    "\n",
    "plt.figure(figsize=(10, 6))\n",
    "sns.boxplot(x=df[\"Age\"])\n",
    "plt.title(f'Box Plot of age')\n",
    "plt.show()\n"
   ]
  },
  {
   "cell_type": "code",
   "execution_count": null,
   "id": "7d7319828e37fb2",
   "metadata": {
    "ExecuteTime": {
     "end_time": "2024-02-16T17:36:18.654042900Z",
     "start_time": "2024-02-16T17:36:18.506351200Z"
    },
    "pycharm": {
     "name": "#%%\n"
    }
   },
   "outputs": [],
   "source": [
    "#  Visualize the distribution of categorical features using bar plots\n",
    "\n",
    "categorical_columns = df.select_dtypes(include=['object', 'category']).columns\n",
    "\n",
    "plt.figure(figsize=(10, 6))\n",
    "sns.countplot(x=\"Survived\", data=df)\n",
    "plt.title(f'Bar Plot of survived')\n",
    "plt.xticks(rotation=45)  # Rotate labels for better readability if necessary\n",
    "plt.show()"
   ]
  },
  {
   "cell_type": "code",
   "execution_count": null,
   "id": "8db677d13a12a5ff",
   "metadata": {
    "pycharm": {
     "name": "#%%\n"
    }
   },
   "outputs": [],
   "source": [
    "x"
   ]
  }
 ],
 "metadata": {
  "kernelspec": {
   "display_name": "Python 3 (ipykernel)",
   "language": "python",
   "name": "python3"
  },
  "language_info": {
   "codemirror_mode": {
    "name": "ipython",
    "version": 3
   },
   "file_extension": ".py",
   "mimetype": "text/x-python",
   "name": "python",
   "nbconvert_exporter": "python",
   "pygments_lexer": "ipython3",
   "version": "3.11.5"
  }
 },
 "nbformat": 4,
 "nbformat_minor": 5
}
