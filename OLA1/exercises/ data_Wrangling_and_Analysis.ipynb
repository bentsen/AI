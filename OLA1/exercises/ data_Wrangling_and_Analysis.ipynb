{
 "cells": [
  {
   "cell_type": "code",
   "execution_count": 1,
   "id": "initial_id",
   "metadata": {
    "collapsed": true,
    "pycharm": {
     "name": "#%%\n"
    },
    "ExecuteTime": {
     "end_time": "2024-02-19T19:10:21.508080900Z",
     "start_time": "2024-02-19T19:10:21.501683400Z"
    }
   },
   "outputs": [
    {
     "data": {
      "text/plain": "<IPython.core.display.Markdown object>",
      "text/markdown": "# Data Wrangling and Analysis\n\nObjective: Perform data wrangling to prepare data for analysis and conduct simple\nanalysis to extract stories about the data - what can we say about this data?.\n"
     },
     "metadata": {},
     "output_type": "display_data"
    }
   ],
   "source": [
    "%%markdown\n",
    "# Data Wrangling and Analysis\n",
    "\n",
    "Objective: Perform data wrangling to prepare data for analysis and conduct simple\n",
    "analysis to extract stories about the data - what can we say about this data?."
   ]
  },
  {
   "cell_type": "code",
   "outputs": [
    {
     "data": {
      "text/plain": "<IPython.core.display.Markdown object>",
      "text/markdown": "\n## Tasks: 1. Data Selection and Wrangling:\n- Select a subset of columns relevant to a hypothetical question of\ninterest (e.g., predicting a target variable).\n- Use .groupby() to aggregate data and calculate mean values for each\ncategory of a selected categorical variable.\n"
     },
     "metadata": {},
     "output_type": "display_data"
    }
   ],
   "source": [
    "%%markdown\n",
    "\n",
    "## Tasks: 1. Data Selection and Wrangling:\n",
    "- Select a subset of columns relevant to a hypothetical question of\n",
    "interest (e.g., predicting a target variable).\n",
    "- Use .groupby() to aggregate data and calculate mean values for each\n",
    "category of a selected categorical variable."
   ],
   "metadata": {
    "collapsed": false,
    "pycharm": {
     "name": "#%%\n"
    },
    "ExecuteTime": {
     "end_time": "2024-02-19T19:10:21.513997600Z",
     "start_time": "2024-02-19T19:10:21.509080600Z"
    }
   },
   "id": "3179d862bc9a5480",
   "execution_count": 2
  },
  {
   "cell_type": "code",
   "execution_count": null,
   "outputs": [],
   "source": [
    "import pandas as pd\n",
    "\n",
    "df = pd.read_csv('../resources/tested.csv')\n",
    "\n",
    "selected_columns = ['Pclass', 'Sex', 'Age', 'SibSp', 'Parch', 'Fare', 'Cabin', 'Embarked']\n",
    "subset_df = df[selected_columns]   \n",
    "target = df[\"Survived\"]\n",
    "\n",
    "mean_values_by_target = subset_df.groupby(target).mean(numeric_only=True)\n",
    "print(mean_values_by_target)"
   ],
   "metadata": {
    "collapsed": false,
    "pycharm": {
     "name": "#%%\n"
    }
   }
  },
  {
   "cell_type": "code",
   "execution_count": null,
   "outputs": [],
   "source": [
    "%%markdown\n",
    "\n",
    "## 2. Data Analysis:\n",
    "- Use seaborn to create scatter plots to visualize relationships between\n",
    "pairs of numerical variables.(X an Y axis are used for the variables)\n",
    "- Create a pairplot to visualize the pairwise relationships in the dataset.\n",
    "See https://seaborn.pydata.org/generated/seaborn.pairplot.html"
   ],
   "metadata": {
    "collapsed": false,
    "pycharm": {
     "name": "#%%\n"
    }
   }
  },
  {
   "cell_type": "code",
   "execution_count": null,
   "outputs": [],
   "source": [
    "import seaborn as sns\n",
    "import matplotlib.pyplot as plt\n",
    "\n",
    "plt.figure(figsize=(10, 6))\n",
    "sns.scatterplot(x='Age', y='Fare', data=df)\n",
    "plt.title(\"Scatter plot of Age vs Fare\")\n",
    "plt.show()\n",
    "\n",
    "plt.figure(figsize=(10, 6))\n",
    "sns.scatterplot(x='Age', y='Parch', data=df)\n",
    "plt.title(\"Scatter plot of Age vs Parch\")\n",
    "plt.show()\n",
    "\n",
    "\n",
    "sns.pairplot(df)\n",
    "plt.show()"
   ],
   "metadata": {
    "collapsed": false,
    "pycharm": {
     "name": "#%%\n"
    }
   }
  },
  {
   "cell_type": "code",
   "execution_count": null,
   "outputs": [],
   "source": [
    "%%markdown\n",
    "\n",
    "## 3. Insights:\n",
    "- Based on the visualizations and descriptive statistics, write down 3\n",
    "insights about the dataset"
   ],
   "metadata": {
    "collapsed": false,
    "pycharm": {
     "name": "#%%\n"
    }
   }
  },
  {
   "cell_type": "code",
   "execution_count": null,
   "outputs": [],
   "source": [
    "# 1. Variable Distributions: The diagonal of the pairplot shows histograms of each variable, which give insights into their distribution. For example, 'Age' appears to be somewhat normally distributed, with a concentration of values in the middle range, while 'Fare' shows a right-skewed distribution, indicating that most passengers paid lower fares, with a few paying significantly higher amounts.\n",
    "\n",
    "# 2. Correlation between Variables: The scatter plots show relationships between pairs of variables. For instance, there might be a positive correlation between 'Fare' and 'Pclass', as higher-class tickets tend to cost more. Additionally, there is no clear linear relationship between 'Age' and 'Fare', which suggests that the ticket price is not strongly dependent on the age of the passenger.\n",
    "\n",
    "# 3. Outliers: The scatter plots and histograms can help identify outliers. For example, in the 'Fare' distribution, there are a few points far to the right of the plot, indicating some passengers paid much higher fares than the rest. Outliers can also be observed in the 'Age' vs. 'Fare' scatter plot, where a few passengers with a high 'Fare' are far above the main cluster of points."
   ],
   "metadata": {
    "collapsed": false,
    "pycharm": {
     "name": "#%%\n"
    }
   }
  },
  {
   "cell_type": "code",
   "execution_count": null,
   "outputs": [],
   "source": [],
   "metadata": {
    "collapsed": false,
    "pycharm": {
     "name": "#%%\n"
    }
   }
  },
  {
   "cell_type": "code",
   "outputs": [],
   "source": [],
   "metadata": {
    "collapsed": false,
    "ExecuteTime": {
     "end_time": "2024-02-19T19:10:36.674681400Z",
     "start_time": "2024-02-19T19:10:36.671690500Z"
    }
   },
   "id": "a10878df242c0b52",
   "execution_count": 7
  }
 ],
 "metadata": {
  "kernelspec": {
   "display_name": "Python 3",
   "language": "python",
   "name": "python3"
  },
  "language_info": {
   "codemirror_mode": {
    "name": "ipython",
    "version": 2
   },
   "file_extension": ".py",
   "mimetype": "text/x-python",
   "name": "python",
   "nbconvert_exporter": "python",
   "pygments_lexer": "ipython2",
   "version": "2.7.6"
  }
 },
 "nbformat": 4,
 "nbformat_minor": 5
}