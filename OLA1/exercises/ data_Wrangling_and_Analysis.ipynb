{
 "cells": [
  {
   "cell_type": "code",
   "execution_count": 6,
   "id": "initial_id",
   "metadata": {
    "collapsed": true,
    "ExecuteTime": {
     "end_time": "2024-02-16T17:38:26.623380400Z",
     "start_time": "2024-02-16T17:38:26.618347300Z"
    },
    "pycharm": {
     "name": "#%%\n"
    }
   },
   "outputs": [
    {
     "data": {
      "text/plain": "<IPython.core.display.Markdown object>",
      "text/markdown": "# Data Wrangling and Analysis\n\nObjective: Perform data wrangling to prepare data for analysis and conduct simple\nanalysis to extract stories about the data - what can we say about this data?.\n"
     },
     "metadata": {},
     "output_type": "display_data"
    }
   ],
   "source": [
    "%%markdown\n",
    "# Data Wrangling and Analysis\n",
    "\n",
    "Objective: Perform data wrangling to prepare data for analysis and conduct simple\n",
    "analysis to extract stories about the data - what can we say about this data?."
   ]
  },
  {
   "cell_type": "code",
   "outputs": [
    {
     "data": {
      "text/plain": "<IPython.core.display.Markdown object>",
      "text/markdown": "\n## Tasks: 1. Data Selection and Wrangling:\n- Select a subset of columns relevant to a hypothetical question of\ninterest (e.g., predicting a target variable).\n- Use .groupby() to aggregate data and calculate mean values for each\ncategory of a selected categorical variable.\n"
     },
     "metadata": {},
     "output_type": "display_data"
    }
   ],
   "source": [
    "%%markdown\n",
    "\n",
    "## Tasks: 1. Data Selection and Wrangling:\n",
    "- Select a subset of columns relevant to a hypothetical question of\n",
    "interest (e.g., predicting a target variable).\n",
    "- Use .groupby() to aggregate data and calculate mean values for each\n",
    "category of a selected categorical variable."
   ],
   "metadata": {
    "collapsed": false,
    "pycharm": {
     "name": "#%%\n"
    }
   },
   "id": "3179d862bc9a5480",
   "execution_count": 7
  },
  {
   "cell_type": "code",
   "execution_count": 7,
   "outputs": [],
   "source": [],
   "metadata": {
    "collapsed": false,
    "pycharm": {
     "name": "#%%\n"
    }
   }
  }
 ],
 "metadata": {
  "kernelspec": {
   "display_name": "Python 3",
   "language": "python",
   "name": "python3"
  },
  "language_info": {
   "codemirror_mode": {
    "name": "ipython",
    "version": 2
   },
   "file_extension": ".py",
   "mimetype": "text/x-python",
   "name": "python",
   "nbconvert_exporter": "python",
   "pygments_lexer": "ipython2",
   "version": "2.7.6"
  }
 },
 "nbformat": 4,
 "nbformat_minor": 5
}