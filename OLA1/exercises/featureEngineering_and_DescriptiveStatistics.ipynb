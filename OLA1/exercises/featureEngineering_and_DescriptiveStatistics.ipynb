{
 "cells": [
  {
   "cell_type": "code",
   "execution_count": 1,
   "id": "initial_id",
   "metadata": {
    "collapsed": true,
    "ExecuteTime": {
     "end_time": "2024-02-14T19:16:54.072009300Z",
     "start_time": "2024-02-14T19:16:54.064476400Z"
    }
   },
   "outputs": [
    {
     "data": {
      "text/plain": "<IPython.core.display.Markdown object>",
      "text/markdown": "# 1. Feature Engineering:\n"
     },
     "metadata": {},
     "output_type": "display_data"
    }
   ],
   "source": [
    "%%markdown\n",
    "# 1. Feature Engineering:"
   ]
  },
  {
   "cell_type": "code",
   "outputs": [
    {
     "name": "stdout",
     "output_type": "stream",
     "text": [
      "    Age Age_Group\n",
      "0  34.5    Medium\n",
      "1  47.0    Medium\n",
      "2  62.0      High\n",
      "3  27.0       Low\n",
      "4  22.0       Low\n"
     ]
    }
   ],
   "source": [
    "#  Create a new feature by binning a numerical variable into categories (e.g., low, medium, high). Put ranges (eg age, into three or four groups rather than a continuous distribution)\n",
    "\n",
    "import pandas as pd\n",
    "df = pd.read_csv('../resources/tested.csv')\n",
    "\n",
    "bins = [0, 30, 60, df['Age'].max()]\n",
    "labels = ['Low', 'Medium', 'High']\n",
    "df['Age_Group'] = pd.cut(df['Age'], bins=bins, labels=labels, include_lowest=True)\n",
    "\n",
    "print(df[['Age', 'Age_Group']].head())"
   ],
   "metadata": {
    "collapsed": false,
    "ExecuteTime": {
     "end_time": "2024-02-14T19:22:31.097490100Z",
     "start_time": "2024-02-14T19:22:31.086073Z"
    }
   },
   "id": "cc952576288eb024",
   "execution_count": 4
  },
  {
   "cell_type": "code",
   "outputs": [
    {
     "name": "stdout",
     "output_type": "stream",
     "text": [
      "   PassengerId  Survived  Pclass  \\\n",
      "0          892         0       3   \n",
      "1          893         1       3   \n",
      "2          894         0       2   \n",
      "3          895         0       3   \n",
      "4          896         1       3   \n",
      "\n",
      "                                           Name     Sex   Age  SibSp  Parch  \\\n",
      "0                              Kelly, Mr. James    male  34.5      0      0   \n",
      "1              Wilkes, Mrs. James (Ellen Needs)  female  47.0      1      0   \n",
      "2                     Myles, Mr. Thomas Francis    male  62.0      0      0   \n",
      "3                              Wirz, Mr. Albert    male  27.0      0      0   \n",
      "4  Hirvonen, Mrs. Alexander (Helga E Lindqvist)  female  22.0      1      1   \n",
      "\n",
      "    Ticket     Fare Cabin Embarked  Age_Group_Low  Age_Group_Medium  \\\n",
      "0   330911   7.8292   NaN        Q          False              True   \n",
      "1   363272   7.0000   NaN        S          False              True   \n",
      "2   240276   9.6875   NaN        Q          False             False   \n",
      "3   315154   8.6625   NaN        S           True             False   \n",
      "4  3101298  12.2875   NaN        S           True             False   \n",
      "\n",
      "   Age_Group_High  \n",
      "0           False  \n",
      "1           False  \n",
      "2            True  \n",
      "3           False  \n",
      "4           False  \n"
     ]
    }
   ],
   "source": [
    "# Implement one-hot encoding for a categorical variable.\n",
    "\n",
    "encoded_df = pd.get_dummies(df, columns=['Age_Group'])\n",
    "print(encoded_df.head())"
   ],
   "metadata": {
    "collapsed": false,
    "ExecuteTime": {
     "end_time": "2024-02-14T19:27:44.183176200Z",
     "start_time": "2024-02-14T19:27:44.169698300Z"
    }
   },
   "id": "50681d559be685d0",
   "execution_count": 5
  },
  {
   "cell_type": "code",
   "outputs": [
    {
     "data": {
      "text/plain": "<IPython.core.display.Markdown object>",
      "text/markdown": "# 2. Descriptive Statistics:\n"
     },
     "metadata": {},
     "output_type": "display_data"
    }
   ],
   "source": [
    "%%markdown\n",
    "# 2. Descriptive Statistics:"
   ],
   "metadata": {
    "collapsed": false,
    "ExecuteTime": {
     "end_time": "2024-02-14T19:30:16.649375900Z",
     "start_time": "2024-02-14T19:30:16.643444900Z"
    }
   },
   "id": "33cd4f666396549e",
   "execution_count": 8
  },
  {
   "cell_type": "code",
   "outputs": [
    {
     "name": "stdout",
     "output_type": "stream",
     "text": [
      "Mean Values:\n",
      " PassengerId    1100.500000\n",
      "Survived          0.363636\n",
      "Pclass            2.265550\n",
      "Age              30.272590\n",
      "SibSp             0.447368\n",
      "Parch             0.392344\n",
      "Fare             35.627188\n",
      "dtype: float64\n",
      "\n",
      "Median Values:\n",
      " PassengerId    1100.5000\n",
      "Survived          0.0000\n",
      "Pclass            3.0000\n",
      "Age              27.0000\n",
      "SibSp             0.0000\n",
      "Parch             0.0000\n",
      "Fare             14.4542\n",
      "dtype: float64\n",
      "\n",
      "Standard Deviation:\n",
      " PassengerId    120.810458\n",
      "Survived         0.481622\n",
      "Pclass           0.841838\n",
      "Age             14.181209\n",
      "SibSp            0.896760\n",
      "Parch            0.981429\n",
      "Fare            55.907576\n",
      "dtype: float64\n"
     ]
    }
   ],
   "source": [
    "# Calculate the mean, median, mode, and standard deviation of a numerical features.\n",
    "\n",
    "numerical_df = df.select_dtypes(include=['number'])\n",
    "\n",
    "mean_values = numerical_df.mean()\n",
    "median_values = numerical_df.median()\n",
    "std_deviation = numerical_df.std()\n",
    "\n",
    "print(\"Mean Values:\\n\", mean_values)\n",
    "print(\"\\nMedian Values:\\n\", median_values)\n",
    "print(\"\\nStandard Deviation:\\n\", std_deviation)"
   ],
   "metadata": {
    "collapsed": false,
    "ExecuteTime": {
     "end_time": "2024-02-14T19:36:51.468554100Z",
     "start_time": "2024-02-14T19:36:51.455485800Z"
    }
   },
   "id": "637d8bb48f6ca2dc",
   "execution_count": 9
  },
  {
   "cell_type": "code",
   "outputs": [],
   "source": [
    "#  For categorical features, count the frequency of each category.\n",
    "\n"
   ],
   "metadata": {
    "collapsed": false
   },
   "id": "af3f0b0c491e667"
  }
 ],
 "metadata": {
  "kernelspec": {
   "display_name": "Python 3",
   "language": "python",
   "name": "python3"
  },
  "language_info": {
   "codemirror_mode": {
    "name": "ipython",
    "version": 2
   },
   "file_extension": ".py",
   "mimetype": "text/x-python",
   "name": "python",
   "nbconvert_exporter": "python",
   "pygments_lexer": "ipython2",
   "version": "2.7.6"
  }
 },
 "nbformat": 4,
 "nbformat_minor": 5
}
