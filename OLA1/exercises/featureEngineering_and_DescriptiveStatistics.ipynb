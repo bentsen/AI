{
 "cells": [
  {
   "cell_type": "code",
   "execution_count": 1,
   "id": "initial_id",
   "metadata": {
    "pycharm": {
     "name": "#%%\n"
    },
    "ExecuteTime": {
     "end_time": "2024-02-19T19:10:35.605028300Z",
     "start_time": "2024-02-19T19:10:35.596612400Z"
    }
   },
   "outputs": [
    {
     "data": {
      "text/plain": "<IPython.core.display.Markdown object>",
      "text/markdown": "# 2. Feature Engineering:\n"
     },
     "metadata": {},
     "output_type": "display_data"
    }
   ],
   "source": [
    "%%markdown\n",
    "# 2. Feature Engineering:"
   ]
  },
  {
   "cell_type": "code",
   "execution_count": 2,
   "id": "cc952576288eb024",
   "metadata": {
    "pycharm": {
     "name": "#%%\n"
    },
    "ExecuteTime": {
     "end_time": "2024-02-19T19:10:35.660499400Z",
     "start_time": "2024-02-19T19:10:35.605028300Z"
    }
   },
   "outputs": [
    {
     "name": "stdout",
     "output_type": "stream",
     "text": [
      "    Age Age_Group\n",
      "0  34.5    Medium\n",
      "1  47.0    Medium\n",
      "2  62.0      High\n",
      "3  27.0       Low\n",
      "4  22.0       Low\n"
     ]
    }
   ],
   "source": [
    "#  Create a new feature by binning a numerical variable into categories (e.g., low, medium, high). Put ranges (eg age, into three or four groups rather than a continuous distribution)\n",
    "\n",
    "import pandas as pd\n",
    "df = pd.read_csv('../resources/tested.csv')\n",
    "\n",
    "bins = [0, 30, 60, df['Age'].max()]\n",
    "labels = ['Low', 'Medium', 'High']\n",
    "df['Age_Group'] = pd.cut(df['Age'], bins=bins, labels=labels, include_lowest=True)\n",
    "\n",
    "print(df[['Age', 'Age_Group']].head())"
   ]
  },
  {
   "cell_type": "code",
   "execution_count": 3,
   "id": "50681d559be685d0",
   "metadata": {
    "pycharm": {
     "name": "#%%\n"
    },
    "ExecuteTime": {
     "end_time": "2024-02-19T19:10:35.661495Z",
     "start_time": "2024-02-19T19:10:35.627162100Z"
    }
   },
   "outputs": [
    {
     "name": "stdout",
     "output_type": "stream",
     "text": [
      "   PassengerId  Survived  Pclass  \\\n",
      "0          892         0       3   \n",
      "1          893         1       3   \n",
      "2          894         0       2   \n",
      "3          895         0       3   \n",
      "4          896         1       3   \n",
      "\n",
      "                                           Name     Sex   Age  SibSp  Parch  \\\n",
      "0                              Kelly, Mr. James    male  34.5      0      0   \n",
      "1              Wilkes, Mrs. James (Ellen Needs)  female  47.0      1      0   \n",
      "2                     Myles, Mr. Thomas Francis    male  62.0      0      0   \n",
      "3                              Wirz, Mr. Albert    male  27.0      0      0   \n",
      "4  Hirvonen, Mrs. Alexander (Helga E Lindqvist)  female  22.0      1      1   \n",
      "\n",
      "    Ticket     Fare Cabin Embarked  Age_Group_Low  Age_Group_Medium  \\\n",
      "0   330911   7.8292   NaN        Q          False              True   \n",
      "1   363272   7.0000   NaN        S          False              True   \n",
      "2   240276   9.6875   NaN        Q          False             False   \n",
      "3   315154   8.6625   NaN        S           True             False   \n",
      "4  3101298  12.2875   NaN        S           True             False   \n",
      "\n",
      "   Age_Group_High  \n",
      "0           False  \n",
      "1           False  \n",
      "2            True  \n",
      "3           False  \n",
      "4           False  \n"
     ]
    }
   ],
   "source": [
    "# Implement one-hot encoding for a categorical variable.\n",
    "\n",
    "encoded_df = pd.get_dummies(df, columns=['Age_Group'])\n",
    "print(encoded_df.head())"
   ]
  },
  {
   "cell_type": "code",
   "execution_count": 4,
   "id": "33cd4f666396549e",
   "metadata": {
    "pycharm": {
     "name": "#%%\n"
    },
    "ExecuteTime": {
     "end_time": "2024-02-19T19:10:35.716072800Z",
     "start_time": "2024-02-19T19:10:35.642678600Z"
    }
   },
   "outputs": [
    {
     "data": {
      "text/plain": "<IPython.core.display.Markdown object>",
      "text/markdown": "# 2. Descriptive Statistics:\n"
     },
     "metadata": {},
     "output_type": "display_data"
    }
   ],
   "source": [
    "%%markdown\n",
    "# 2. Descriptive Statistics:"
   ]
  },
  {
   "cell_type": "code",
   "execution_count": 5,
   "id": "637d8bb48f6ca2dc",
   "metadata": {
    "pycharm": {
     "name": "#%%\n"
    },
    "ExecuteTime": {
     "end_time": "2024-02-19T19:10:35.716072800Z",
     "start_time": "2024-02-19T19:10:35.650638200Z"
    }
   },
   "outputs": [
    {
     "name": "stdout",
     "output_type": "stream",
     "text": [
      "Mean Values:\n",
      " PassengerId    1100.500000\n",
      "Survived          0.363636\n",
      "Pclass            2.265550\n",
      "Age              30.272590\n",
      "SibSp             0.447368\n",
      "Parch             0.392344\n",
      "Fare             35.627188\n",
      "dtype: float64\n",
      "\n",
      "Median Values:\n",
      " PassengerId    1100.5000\n",
      "Survived          0.0000\n",
      "Pclass            3.0000\n",
      "Age              27.0000\n",
      "SibSp             0.0000\n",
      "Parch             0.0000\n",
      "Fare             14.4542\n",
      "dtype: float64\n",
      "\n",
      "Standard Deviation:\n",
      " PassengerId    120.810458\n",
      "Survived         0.481622\n",
      "Pclass           0.841838\n",
      "Age             14.181209\n",
      "SibSp            0.896760\n",
      "Parch            0.981429\n",
      "Fare            55.907576\n",
      "dtype: float64\n"
     ]
    }
   ],
   "source": [
    "# Calculate the mean, median, mode, and standard deviation of a numerical features.\n",
    "\n",
    "numerical_df = df.select_dtypes(include=['number'])\n",
    "\n",
    "mean_values = numerical_df.mean()\n",
    "median_values = numerical_df.median()\n",
    "std_deviation = numerical_df.std()\n",
    "\n",
    "print(\"Mean Values:\\n\", mean_values)\n",
    "print(\"\\nMedian Values:\\n\", median_values)\n",
    "print(\"\\nStandard Deviation:\\n\", std_deviation)"
   ]
  },
  {
   "cell_type": "code",
   "execution_count": 6,
   "id": "af3f0b0c491e667",
   "metadata": {
    "pycharm": {
     "name": "#%%\n"
    },
    "ExecuteTime": {
     "end_time": "2024-02-19T19:10:35.720592500Z",
     "start_time": "2024-02-19T19:10:35.662491600Z"
    }
   },
   "outputs": [
    {
     "name": "stdout",
     "output_type": "stream",
     "text": [
      "Frequency of categories in Name:\n",
      "Name\n",
      "Kelly, Mr. James               1\n",
      "Carr, Miss. Jeannie            1\n",
      "Dennis, Mr. William            1\n",
      "Rosblom, Miss. Salli Helena    1\n",
      "Touma, Miss. Maria Youssef     1\n",
      "                              ..\n",
      "Zakarian, Mr. Mapriededer      1\n",
      "Carlsson, Mr. Carl Robert      1\n",
      "Dintcheff, Mr. Valtcho         1\n",
      "Thomas, Mr. Charles P          1\n",
      "Peter, Master. Michael J       1\n",
      "Name: count, Length: 418, dtype: int64\n",
      "\n",
      "\n",
      "Frequency of categories in Sex:\n",
      "Sex\n",
      "male      266\n",
      "female    152\n",
      "Name: count, dtype: int64\n",
      "\n",
      "\n",
      "Frequency of categories in Ticket:\n",
      "Ticket\n",
      "PC 17608    5\n",
      "CA. 2343    4\n",
      "113503      4\n",
      "PC 17483    3\n",
      "220845      3\n",
      "           ..\n",
      "349226      1\n",
      "2621        1\n",
      "4133        1\n",
      "113780      1\n",
      "2668        1\n",
      "Name: count, Length: 363, dtype: int64\n",
      "\n",
      "\n",
      "Frequency of categories in Cabin:\n",
      "Cabin\n",
      "B57 B59 B63 B66    3\n",
      "B45                2\n",
      "C89                2\n",
      "C55 C57            2\n",
      "A34                2\n",
      "                  ..\n",
      "E52                1\n",
      "D30                1\n",
      "E31                1\n",
      "C62 C64            1\n",
      "C105               1\n",
      "Name: count, Length: 76, dtype: int64\n",
      "\n",
      "\n",
      "Frequency of categories in Embarked:\n",
      "Embarked\n",
      "S    270\n",
      "C    102\n",
      "Q     46\n",
      "Name: count, dtype: int64\n",
      "\n",
      "\n",
      "Frequency of categories in Age_Group:\n",
      "Age_Group\n",
      "Low       200\n",
      "Medium    121\n",
      "High       11\n",
      "Name: count, dtype: int64\n",
      "\n"
     ]
    }
   ],
   "source": [
    "#  For categorical features, count the frequency of each category.\n",
    "\n",
    "categorical_df = df.select_dtypes(include=['object', 'category'])\n",
    "\n",
    "for column in categorical_df.columns:\n",
    "    print(f\"Frequency of categories in {column}:\")\n",
    "    print(categorical_df[column].value_counts())\n",
    "    print(\"\\n\")\n",
    "    "
   ]
  },
  {
   "cell_type": "code",
   "execution_count": 7,
   "id": "24df1215589eb42",
   "metadata": {
    "pycharm": {
     "name": "#%%\n"
    },
    "ExecuteTime": {
     "end_time": "2024-02-19T19:10:35.738419700Z",
     "start_time": "2024-02-19T19:10:35.676447800Z"
    }
   },
   "outputs": [
    {
     "data": {
      "text/plain": "<IPython.core.display.Markdown object>",
      "text/markdown": "\n# 3. Visualization:\n"
     },
     "metadata": {},
     "output_type": "display_data"
    }
   ],
   "source": [
    "%%markdown\n",
    "\n",
    "# 3. Visualization:"
   ]
  },
  {
   "cell_type": "code",
   "execution_count": 8,
   "id": "32990f260347126c",
   "metadata": {
    "pycharm": {
     "name": "#%%\n"
    },
    "ExecuteTime": {
     "end_time": "2024-02-19T19:10:35.962490800Z",
     "start_time": "2024-02-19T19:10:35.685203600Z"
    }
   },
   "outputs": [
    {
     "data": {
      "text/plain": "<Figure size 1000x600 with 1 Axes>",
      "image/png": "[encoded data removed]"
     },
     "metadata": {},
     "output_type": "display_data"
    }
   ],
   "source": [
    "#  Use seaborn to create box plots for numerical features to identify outliers.\n",
    "\n",
    "import seaborn as sns\n",
    "import matplotlib.pyplot as plt\n",
    "\n",
    "sns.set(style=\"whitegrid\")\n",
    "\n",
    "numerical_columns = df.select_dtypes(include=['number']).columns\n",
    "\n",
    "plt.figure(figsize=(10, 6))\n",
    "sns.boxplot(x=df[\"Age\"])\n",
    "plt.title(f'Box Plot of age')\n",
    "plt.show()\n"
   ]
  },
  {
   "cell_type": "code",
   "execution_count": 9,
   "id": "7d7319828e37fb2",
   "metadata": {
    "pycharm": {
     "name": "#%%\n"
    },
    "ExecuteTime": {
     "end_time": "2024-02-19T19:10:36.192965400Z",
     "start_time": "2024-02-19T19:10:35.959498200Z"
    }
   },
   "outputs": [
    {
     "data": {
      "text/plain": "<Figure size 1000x600 with 1 Axes>",
      "image/png": "[encoded data removed]"
     },
     "metadata": {},
     "output_type": "display_data"
    }
   ],
   "source": [
    "#  Visualize the distribution of categorical features using bar plots\n",
    "\n",
    "categorical_columns = df.select_dtypes(include=['object', 'category']).columns\n",
    "\n",
    "plt.figure(figsize=(10, 6))\n",
    "sns.countplot(x=\"Survived\", data=df)\n",
    "plt.title(f'Bar Plot of survived')\n",
    "plt.xticks(rotation=45)  # Rotate labels for better readability if necessary\n",
    "plt.show()"
   ]
  },
  {
   "cell_type": "code",
   "execution_count": null,
   "id": "8db677d13a12a5ff",
   "metadata": {
    "pycharm": {
     "name": "#%%\n"
    },
    "is_executing": true,
    "ExecuteTime": {
     "start_time": "2024-02-19T19:10:36.186467700Z"
    }
   },
   "outputs": [],
   "source": [
    "x"
   ]
  }
 ],
 "metadata": {
  "kernelspec": {
   "display_name": "Python 3 (ipykernel)",
   "language": "python",
   "name": "python3"
  },
  "language_info": {
   "codemirror_mode": {
    "name": "ipython",
    "version": 3
   },
   "file_extension": ".py",
   "mimetype": "text/x-python",
   "name": "python",
   "nbconvert_exporter": "python",
   "pygments_lexer": "ipython3",
   "version": "3.11.5"
  }
 },
 "nbformat": 4,
 "nbformat_minor": 5
}