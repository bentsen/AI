{
 "cells": [
  {
   "cell_type": "code",
   "execution_count": 38,
   "id": "initial_id",
   "metadata": {
    "collapsed": true,
    "ExecuteTime": {
     "end_time": "2024-03-14T11:37:17.509409Z",
     "start_time": "2024-03-14T11:37:17.504162Z"
    },
    "pycharm": {
     "name": "#%%\n"
    }
   },
   "outputs": [],
   "source": [
    "import pandas as pd\n",
    "import numpy as np\n",
    "import matplotlib.pyplot as plt\n",
    "import seaborn as sns\n",
    "\n",
    "from sklearn.model_selection import train_test_split\n",
    "from sklearn.ensemble import RandomForestClassifier\n",
    "from sklearn.neural_network import MLPClassifier\n",
    "from sklearn.ensemble import GradientBoostingClassifier\n",
    "from sklearn.preprocessing import LabelEncoder\n",
    "from sklearn.preprocessing import StandardScaler\n",
    "from sklearn.linear_model import LogisticRegression\n",
    "from sklearn.metrics import accuracy_score, precision_score, recall_score, confusion_matrix \n"
   ]
  },
  {
   "cell_type": "code",
   "outputs": [],
   "source": [
    "df = pd.read_csv('../resources/csgo_round_snapshots.csv')"
   ],
   "metadata": {
    "collapsed": false,
    "ExecuteTime": {
     "end_time": "2024-03-14T11:37:19.932566Z",
     "start_time": "2024-03-14T11:37:17.517965Z"
    },
    "pycharm": {
     "name": "#%%\n"
    }
   },
   "id": "c1682661201273ac",
   "execution_count": 39
  },
  {
   "cell_type": "code",
   "outputs": [
    {
     "data": {
      "text/plain": "        time_left  ct_score  t_score       map  bomb_planted  ct_health  \\\n0          175.00       0.0      0.0  de_dust2         False      500.0   \n1          156.03       0.0      0.0  de_dust2         False      500.0   \n2           96.03       0.0      0.0  de_dust2         False      391.0   \n3           76.03       0.0      0.0  de_dust2         False      391.0   \n4          174.97       1.0      0.0  de_dust2         False      500.0   \n...           ...       ...      ...       ...           ...        ...   \n122405      15.41      11.0     14.0  de_train          True      200.0   \n122406     174.93      11.0     15.0  de_train         False      500.0   \n122407     114.93      11.0     15.0  de_train         False      500.0   \n122408      94.93      11.0     15.0  de_train         False      500.0   \n122409      74.93      11.0     15.0  de_train         False      375.0   \n\n        t_health  ct_armor  t_armor  ct_money  ...  t_grenade_flashbang  \\\n0          500.0       0.0      0.0    4000.0  ...                  0.0   \n1          500.0     400.0    300.0     600.0  ...                  0.0   \n2          400.0     294.0    200.0     750.0  ...                  0.0   \n3          400.0     294.0    200.0     750.0  ...                  0.0   \n4          500.0     192.0      0.0   18350.0  ...                  0.0   \n...          ...       ...      ...       ...  ...                  ...   \n122405     242.0     195.0    359.0     100.0  ...                  2.0   \n122406     500.0      95.0    175.0   11500.0  ...                  2.0   \n122407     500.0     495.0    475.0    1200.0  ...                  4.0   \n122408     500.0     495.0    475.0    1200.0  ...                  5.0   \n122409     479.0     395.0    466.0    1100.0  ...                  3.0   \n\n        ct_grenade_smokegrenade  t_grenade_smokegrenade  \\\n0                           0.0                     0.0   \n1                           0.0                     2.0   \n2                           0.0                     2.0   \n3                           0.0                     0.0   \n4                           0.0                     0.0   \n...                         ...                     ...   \n122405                      1.0                     1.0   \n122406                      1.0                     0.0   \n122407                      3.0                     5.0   \n122408                      0.0                     3.0   \n122409                      0.0                     2.0   \n\n        ct_grenade_incendiarygrenade  t_grenade_incendiarygrenade  \\\n0                                0.0                          0.0   \n1                                0.0                          0.0   \n2                                0.0                          0.0   \n3                                0.0                          0.0   \n4                                0.0                          0.0   \n...                              ...                          ...   \n122405                           0.0                          0.0   \n122406                           0.0                          0.0   \n122407                           1.0                          0.0   \n122408                           0.0                          0.0   \n122409                           0.0                          0.0   \n\n        ct_grenade_molotovgrenade  t_grenade_molotovgrenade  \\\n0                             0.0                       0.0   \n1                             0.0                       0.0   \n2                             0.0                       0.0   \n3                             0.0                       0.0   \n4                             0.0                       0.0   \n...                           ...                       ...   \n122405                        0.0                       0.0   \n122406                        0.0                       0.0   \n122407                        0.0                       5.0   \n122408                        0.0                       4.0   \n122409                        0.0                       3.0   \n\n        ct_grenade_decoygrenade  t_grenade_decoygrenade  round_winner  \n0                           0.0                     0.0            CT  \n1                           0.0                     0.0            CT  \n2                           0.0                     0.0            CT  \n3                           0.0                     0.0            CT  \n4                           0.0                     0.0            CT  \n...                         ...                     ...           ...  \n122405                      0.0                     0.0             T  \n122406                      0.0                     0.0             T  \n122407                      0.0                     0.0             T  \n122408                      0.0                     0.0             T  \n122409                      0.0                     0.0             T  \n\n[122410 rows x 97 columns]",
      "text/html": "<div>\n<style scoped>\n    .dataframe tbody tr th:only-of-type {\n        vertical-align: middle;\n    }\n\n    .dataframe tbody tr th {\n        vertical-align: top;\n    }\n\n    .dataframe thead th {\n        text-align: right;\n    }\n</style>\n<table border=\"1\" class=\"dataframe\">\n  <thead>\n    <tr style=\"text-align: right;\">\n      <th></th>\n      <th>time_left</th>\n      <th>ct_score</th>\n      <th>t_score</th>\n      <th>map</th>\n      <th>bomb_planted</th>\n      <th>ct_health</th>\n      <th>t_health</th>\n      <th>ct_armor</th>\n      <th>t_armor</th>\n      <th>ct_money</th>\n      <th>...</th>\n      <th>t_grenade_flashbang</th>\n      <th>ct_grenade_smokegrenade</th>\n      <th>t_grenade_smokegrenade</th>\n      <th>ct_grenade_incendiarygrenade</th>\n      <th>t_grenade_incendiarygrenade</th>\n      <th>ct_grenade_molotovgrenade</th>\n      <th>t_grenade_molotovgrenade</th>\n      <th>ct_grenade_decoygrenade</th>\n      <th>t_grenade_decoygrenade</th>\n      <th>round_winner</th>\n    </tr>\n  </thead>\n  <tbody>\n    <tr>\n      <th>0</th>\n      <td>175.00</td>\n      <td>0.0</td>\n      <td>0.0</td>\n      <td>de_dust2</td>\n      <td>False</td>\n      <td>500.0</td>\n      <td>500.0</td>\n      <td>0.0</td>\n      <td>0.0</td>\n      <td>4000.0</td>\n      <td>...</td>\n      <td>0.0</td>\n      <td>0.0</td>\n      <td>0.0</td>\n      <td>0.0</td>\n      <td>0.0</td>\n      <td>0.0</td>\n      <td>0.0</td>\n      <td>0.0</td>\n      <td>0.0</td>\n      <td>CT</td>\n    </tr>\n    <tr>\n      <th>1</th>\n      <td>156.03</td>\n      <td>0.0</td>\n      <td>0.0</td>\n      <td>de_dust2</td>\n      <td>False</td>\n      <td>500.0</td>\n      <td>500.0</td>\n      <td>400.0</td>\n      <td>300.0</td>\n      <td>600.0</td>\n      <td>...</td>\n      <td>0.0</td>\n      <td>0.0</td>\n      <td>2.0</td>\n      <td>0.0</td>\n      <td>0.0</td>\n      <td>0.0</td>\n      <td>0.0</td>\n      <td>0.0</td>\n      <td>0.0</td>\n      <td>CT</td>\n    </tr>\n    <tr>\n      <th>2</th>\n      <td>96.03</td>\n      <td>0.0</td>\n      <td>0.0</td>\n      <td>de_dust2</td>\n      <td>False</td>\n      <td>391.0</td>\n      <td>400.0</td>\n      <td>294.0</td>\n      <td>200.0</td>\n      <td>750.0</td>\n      <td>...</td>\n      <td>0.0</td>\n      <td>0.0</td>\n      <td>2.0</td>\n      <td>0.0</td>\n      <td>0.0</td>\n      <td>0.0</td>\n      <td>0.0</td>\n      <td>0.0</td>\n      <td>0.0</td>\n      <td>CT</td>\n    </tr>\n    <tr>\n      <th>3</th>\n      <td>76.03</td>\n      <td>0.0</td>\n      <td>0.0</td>\n      <td>de_dust2</td>\n      <td>False</td>\n      <td>391.0</td>\n      <td>400.0</td>\n      <td>294.0</td>\n      <td>200.0</td>\n      <td>750.0</td>\n      <td>...</td>\n      <td>0.0</td>\n      <td>0.0</td>\n      <td>0.0</td>\n      <td>0.0</td>\n      <td>0.0</td>\n      <td>0.0</td>\n      <td>0.0</td>\n      <td>0.0</td>\n      <td>0.0</td>\n      <td>CT</td>\n    </tr>\n    <tr>\n      <th>4</th>\n      <td>174.97</td>\n      <td>1.0</td>\n      <td>0.0</td>\n      <td>de_dust2</td>\n      <td>False</td>\n      <td>500.0</td>\n      <td>500.0</td>\n      <td>192.0</td>\n      <td>0.0</td>\n      <td>18350.0</td>\n      <td>...</td>\n      <td>0.0</td>\n      <td>0.0</td>\n      <td>0.0</td>\n      <td>0.0</td>\n      <td>0.0</td>\n      <td>0.0</td>\n      <td>0.0</td>\n      <td>0.0</td>\n      <td>0.0</td>\n      <td>CT</td>\n    </tr>\n    <tr>\n      <th>...</th>\n      <td>...</td>\n      <td>...</td>\n      <td>...</td>\n      <td>...</td>\n      <td>...</td>\n      <td>...</td>\n      <td>...</td>\n      <td>...</td>\n      <td>...</td>\n      <td>...</td>\n      <td>...</td>\n      <td>...</td>\n      <td>...</td>\n      <td>...</td>\n      <td>...</td>\n      <td>...</td>\n      <td>...</td>\n      <td>...</td>\n      <td>...</td>\n      <td>...</td>\n      <td>...</td>\n    </tr>\n    <tr>\n      <th>122405</th>\n      <td>15.41</td>\n      <td>11.0</td>\n      <td>14.0</td>\n      <td>de_train</td>\n      <td>True</td>\n      <td>200.0</td>\n      <td>242.0</td>\n      <td>195.0</td>\n      <td>359.0</td>\n      <td>100.0</td>\n      <td>...</td>\n      <td>2.0</td>\n      <td>1.0</td>\n      <td>1.0</td>\n      <td>0.0</td>\n      <td>0.0</td>\n      <td>0.0</td>\n      <td>0.0</td>\n      <td>0.0</td>\n      <td>0.0</td>\n      <td>T</td>\n    </tr>\n    <tr>\n      <th>122406</th>\n      <td>174.93</td>\n      <td>11.0</td>\n      <td>15.0</td>\n      <td>de_train</td>\n      <td>False</td>\n      <td>500.0</td>\n      <td>500.0</td>\n      <td>95.0</td>\n      <td>175.0</td>\n      <td>11500.0</td>\n      <td>...</td>\n      <td>2.0</td>\n      <td>1.0</td>\n      <td>0.0</td>\n      <td>0.0</td>\n      <td>0.0</td>\n      <td>0.0</td>\n      <td>0.0</td>\n      <td>0.0</td>\n      <td>0.0</td>\n      <td>T</td>\n    </tr>\n    <tr>\n      <th>122407</th>\n      <td>114.93</td>\n      <td>11.0</td>\n      <td>15.0</td>\n      <td>de_train</td>\n      <td>False</td>\n      <td>500.0</td>\n      <td>500.0</td>\n      <td>495.0</td>\n      <td>475.0</td>\n      <td>1200.0</td>\n      <td>...</td>\n      <td>4.0</td>\n      <td>3.0</td>\n      <td>5.0</td>\n      <td>1.0</td>\n      <td>0.0</td>\n      <td>0.0</td>\n      <td>5.0</td>\n      <td>0.0</td>\n      <td>0.0</td>\n      <td>T</td>\n    </tr>\n    <tr>\n      <th>122408</th>\n      <td>94.93</td>\n      <td>11.0</td>\n      <td>15.0</td>\n      <td>de_train</td>\n      <td>False</td>\n      <td>500.0</td>\n      <td>500.0</td>\n      <td>495.0</td>\n      <td>475.0</td>\n      <td>1200.0</td>\n      <td>...</td>\n      <td>5.0</td>\n      <td>0.0</td>\n      <td>3.0</td>\n      <td>0.0</td>\n      <td>0.0</td>\n      <td>0.0</td>\n      <td>4.0</td>\n      <td>0.0</td>\n      <td>0.0</td>\n      <td>T</td>\n    </tr>\n    <tr>\n      <th>122409</th>\n      <td>74.93</td>\n      <td>11.0</td>\n      <td>15.0</td>\n      <td>de_train</td>\n      <td>False</td>\n      <td>375.0</td>\n      <td>479.0</td>\n      <td>395.0</td>\n      <td>466.0</td>\n      <td>1100.0</td>\n      <td>...</td>\n      <td>3.0</td>\n      <td>0.0</td>\n      <td>2.0</td>\n      <td>0.0</td>\n      <td>0.0</td>\n      <td>0.0</td>\n      <td>3.0</td>\n      <td>0.0</td>\n      <td>0.0</td>\n      <td>T</td>\n    </tr>\n  </tbody>\n</table>\n<p>122410 rows × 97 columns</p>\n</div>"
     },
     "execution_count": 40,
     "metadata": {},
     "output_type": "execute_result"
    }
   ],
   "source": [
    "df"
   ],
   "metadata": {
    "collapsed": false,
    "ExecuteTime": {
     "end_time": "2024-03-14T11:37:20.061841Z",
     "start_time": "2024-03-14T11:37:19.939859Z"
    },
    "pycharm": {
     "name": "#%%\n"
    }
   },
   "id": "e0f26b6e1d61462c",
   "execution_count": 40
  },
  {
   "cell_type": "code",
   "outputs": [
    {
     "data": {
      "text/plain": "time_left                    0\nct_score                     0\nt_score                      0\nmap                          0\nbomb_planted                 0\n                            ..\nct_grenade_molotovgrenade    0\nt_grenade_molotovgrenade     0\nct_grenade_decoygrenade      0\nt_grenade_decoygrenade       0\nround_winner                 0\nLength: 97, dtype: int64"
     },
     "execution_count": 41,
     "metadata": {},
     "output_type": "execute_result"
    }
   ],
   "source": [
    "np.sum(df.isnull())"
   ],
   "metadata": {
    "collapsed": false,
    "ExecuteTime": {
     "end_time": "2024-03-14T11:37:20.206276Z",
     "start_time": "2024-03-14T11:37:20.059501Z"
    },
    "pycharm": {
     "name": "#%%\n"
    }
   },
   "id": "407aadaf3ac1df2d",
   "execution_count": 41
  },
  {
   "cell_type": "code",
   "outputs": [
    {
     "name": "stdout",
     "output_type": "stream",
     "text": [
      "Rows: 122410, Columns: 97\n"
     ]
    }
   ],
   "source": [
    "rows, columns = df.shape\n",
    "print(f'Rows: {rows}, Columns: {columns}')"
   ],
   "metadata": {
    "collapsed": false,
    "ExecuteTime": {
     "end_time": "2024-03-14T11:37:20.220113Z",
     "start_time": "2024-03-14T11:37:20.150973Z"
    },
    "pycharm": {
     "name": "#%%\n"
    }
   },
   "id": "1b5943683ebcbd80",
   "execution_count": 42
  },
  {
   "cell_type": "code",
   "outputs": [
    {
     "data": {
      "text/plain": "             map  bomb_planted round_winner\n0       de_dust2         False           CT\n1       de_dust2         False           CT\n2       de_dust2         False           CT\n3       de_dust2         False           CT\n4       de_dust2         False           CT\n...          ...           ...          ...\n122405  de_train          True            T\n122406  de_train         False            T\n122407  de_train         False            T\n122408  de_train         False            T\n122409  de_train         False            T\n\n[122410 rows x 3 columns]",
      "text/html": "<div>\n<style scoped>\n    .dataframe tbody tr th:only-of-type {\n        vertical-align: middle;\n    }\n\n    .dataframe tbody tr th {\n        vertical-align: top;\n    }\n\n    .dataframe thead th {\n        text-align: right;\n    }\n</style>\n<table border=\"1\" class=\"dataframe\">\n  <thead>\n    <tr style=\"text-align: right;\">\n      <th></th>\n      <th>map</th>\n      <th>bomb_planted</th>\n      <th>round_winner</th>\n    </tr>\n  </thead>\n  <tbody>\n    <tr>\n      <th>0</th>\n      <td>de_dust2</td>\n      <td>False</td>\n      <td>CT</td>\n    </tr>\n    <tr>\n      <th>1</th>\n      <td>de_dust2</td>\n      <td>False</td>\n      <td>CT</td>\n    </tr>\n    <tr>\n      <th>2</th>\n      <td>de_dust2</td>\n      <td>False</td>\n      <td>CT</td>\n    </tr>\n    <tr>\n      <th>3</th>\n      <td>de_dust2</td>\n      <td>False</td>\n      <td>CT</td>\n    </tr>\n    <tr>\n      <th>4</th>\n      <td>de_dust2</td>\n      <td>False</td>\n      <td>CT</td>\n    </tr>\n    <tr>\n      <th>...</th>\n      <td>...</td>\n      <td>...</td>\n      <td>...</td>\n    </tr>\n    <tr>\n      <th>122405</th>\n      <td>de_train</td>\n      <td>True</td>\n      <td>T</td>\n    </tr>\n    <tr>\n      <th>122406</th>\n      <td>de_train</td>\n      <td>False</td>\n      <td>T</td>\n    </tr>\n    <tr>\n      <th>122407</th>\n      <td>de_train</td>\n      <td>False</td>\n      <td>T</td>\n    </tr>\n    <tr>\n      <th>122408</th>\n      <td>de_train</td>\n      <td>False</td>\n      <td>T</td>\n    </tr>\n    <tr>\n      <th>122409</th>\n      <td>de_train</td>\n      <td>False</td>\n      <td>T</td>\n    </tr>\n  </tbody>\n</table>\n<p>122410 rows × 3 columns</p>\n</div>"
     },
     "execution_count": 43,
     "metadata": {},
     "output_type": "execute_result"
    }
   ],
   "source": [
    "non_numeric_cols = df.select_dtypes(exclude=[np.number])\n",
    "non_numeric_cols"
   ],
   "metadata": {
    "collapsed": false,
    "ExecuteTime": {
     "end_time": "2024-03-14T11:37:20.324063Z",
     "start_time": "2024-03-14T11:37:20.156534Z"
    },
    "pycharm": {
     "name": "#%%\n"
    }
   },
   "id": "1ad2063736dc783f",
   "execution_count": 43
  },
  {
   "cell_type": "code",
   "outputs": [
    {
     "name": "stdout",
     "output_type": "stream",
     "text": [
      "{'CT': 0, 'T': 1}\n"
     ]
    }
   ],
   "source": [
    "#This cell will transform all the non-numeric columns into numeric columns\n",
    "le = LabelEncoder()\n",
    "\n",
    "df['bomb_planted'] = df['bomb_planted'].astype(int)\n",
    "df = pd.get_dummies(df, columns=['map'], dtype=int)\n",
    "\n",
    "df[\"round_winner\"] = le.fit_transform(df[\"round_winner\"])\n",
    "label_mapping = dict(zip(le.classes_, range(len(le.classes_))))\n",
    "print(label_mapping)"
   ],
   "metadata": {
    "collapsed": false,
    "ExecuteTime": {
     "end_time": "2024-03-14T11:37:20.555928Z",
     "start_time": "2024-03-14T11:37:20.179382Z"
    },
    "pycharm": {
     "name": "#%%\n"
    }
   },
   "id": "db4d946cbe4616ac",
   "execution_count": 44
  },
  {
   "cell_type": "code",
   "outputs": [],
   "source": [
    "#This cell split target and the values and then split the data into training and testing, then scales the data.\n",
    "X,y = df.drop(['round_winner'], axis=1), df['round_winner']\n",
    "X_train, X_test, y_train, y_test = train_test_split(X, y, test_size=0.2, random_state=42, stratify=y)\n",
    "\n",
    "scaler = StandardScaler()\n",
    "X_train_scaled = scaler.fit_transform(X_train)\n",
    "X_test_scaled = scaler.transform(X_test)"
   ],
   "metadata": {
    "collapsed": false,
    "ExecuteTime": {
     "end_time": "2024-03-14T11:37:21.493150Z",
     "start_time": "2024-03-14T11:37:20.453648Z"
    },
    "pycharm": {
     "name": "#%%\n"
    }
   },
   "id": "9b098a3fb74a0f3e",
   "execution_count": 45
  },
  {
   "cell_type": "code",
   "outputs": [],
   "source": [
    "#This cell creates a new instance of a round that the model can predict\n",
    "data = {\n",
    "  \"time_left\": 20,\n",
    "  \"ct_score\": 5,\n",
    "  \"t_score\": 5,\n",
    "  \"bomb_planted\": 1,\n",
    "  \"ct_health\": 460,\n",
    "  \"t_health\": 300,\n",
    "  \"ct_armor\": 400,\n",
    "  \"t_armor\": 300,\n",
    "  \"ct_money\": 4000,\n",
    "  \"t_money\": 1000,\n",
    "  \"ct_helmets\": 4,\n",
    "  \"t_helmets\": 3,\n",
    "  \"ct_defuse_kits\": 3,\n",
    "  \"ct_players_alive\": 5,\n",
    "  \"t_players_alive\": 3,\n",
    "  \"ct_weapon_ak47\": 2,\n",
    "  \"t_weapon_ak47\": 3,\n",
    "  \"ct_weapon_aug\": 1,\n",
    "  \"t_weapon_aug\": 0,\n",
    "  \"ct_weapon_awp\": 1,\n",
    "  \"t_weapon_awp\": 0,\n",
    "  \"ct_weapon_bizon\": 0,\n",
    "  \"t_weapon_bizon\": 0,\n",
    "  \"ct_weapon_cz75auto\": 0,\n",
    "  \"t_weapon_cz75auto\": 0,\n",
    "  \"ct_weapon_elite\": 0,\n",
    "  \"t_weapon_elite\": 0,\n",
    "  \"ct_weapon_famas\": 0,\n",
    "  \"t_weapon_famas\": 0,\n",
    "  \"ct_weapon_g3sg1\": 0,\n",
    "  \"t_weapon_g3sg1\": 0,\n",
    "  \"ct_weapon_galilar\": 0,\n",
    "  \"t_weapon_galilar\": 0,\n",
    "  \"ct_weapon_glock\": 0,\n",
    "  \"t_weapon_glock\": 2,\n",
    "  \"ct_weapon_m249\": 0,\n",
    "  \"t_weapon_m249\": 0,\n",
    "  \"ct_weapon_m4a1s\": 1,\n",
    "  \"t_weapon_m4a1s\": 0,\n",
    "  \"ct_weapon_m4a4\": 0,\n",
    "  \"t_weapon_m4a4\": 0,\n",
    "  \"ct_weapon_mac10\": 0,\n",
    "  \"t_weapon_mac10\": 0,\n",
    "  \"ct_weapon_mag7\": 0,\n",
    "  \"t_weapon_mag7\": 0,\n",
    "  \"ct_weapon_mp5sd\": 0,\n",
    "  \"t_weapon_mp5sd\": 0,\n",
    "  \"ct_weapon_mp7\": 0,\n",
    "  \"t_weapon_mp7\": 0,\n",
    "  \"ct_weapon_mp9\": 0,\n",
    "  \"t_weapon_mp9\": 0,\n",
    "  \"ct_weapon_negev\": 0,\n",
    "  \"t_weapon_negev\": 0,\n",
    "  \"ct_weapon_nova\": 0,\n",
    "  \"t_weapon_nova\": 0,\n",
    "  \"ct_weapon_p90\": 0,\n",
    "  \"t_weapon_p90\": 0,\n",
    "  \"ct_weapon_r8revolver\": 0,\n",
    "  \"t_weapon_r8revolver\": 0,\n",
    "  \"ct_weapon_sawedoff\": 0,\n",
    "  \"t_weapon_sawedoff\": 0,\n",
    "  \"ct_weapon_scar20\": 0,\n",
    "  \"t_weapon_scar20\": 0,\n",
    "  \"ct_weapon_sg553\": 0,\n",
    "  \"t_weapon_sg553\": 0,\n",
    "  \"ct_weapon_ssg08\": 0,\n",
    "  \"t_weapon_ssg08\": 0,\n",
    "  \"ct_weapon_ump45\": 0,\n",
    "  \"t_weapon_ump45\": 0,\n",
    "  \"ct_weapon_xm1014\": 0,\n",
    "  \"t_weapon_xm1014\": 0,\n",
    "  \"ct_weapon_deagle\": 0,\n",
    "  \"t_weapon_deagle\": 0,\n",
    "  \"ct_weapon_fiveseven\": 0,\n",
    "  \"t_weapon_fiveseven\": 0,\n",
    "  \"ct_weapon_usps\": 5,\n",
    "  \"t_weapon_usps\": 0,\n",
    "  \"ct_weapon_p250\": 0,\n",
    "  \"t_weapon_p250\": 0,\n",
    "  \"ct_weapon_p2000\": 0,\n",
    "  \"t_weapon_p2000\": 0,\n",
    "  \"ct_weapon_tec9\": 0,\n",
    "  \"t_weapon_tec9\": 0,\n",
    "  \"ct_grenade_hegrenade\": 3,\n",
    "  \"t_grenade_hegrenade\": 0,\n",
    "  \"ct_grenade_flashbang\": 3,\n",
    "  \"t_grenade_flashbang\": 0,\n",
    "  \"ct_grenade_smokegrenade\": 3,\n",
    "  \"t_grenade_smokegrenade\": 0,\n",
    "  \"ct_grenade_incendiarygrenade\": 2,\n",
    "  \"t_grenade_incendiarygrenade\": 0,\n",
    "  \"ct_grenade_molotovgrenade\": 0,\n",
    "  \"t_grenade_molotovgrenade\": 0,\n",
    "  \"ct_grenade_decoygrenade\": 0,\n",
    "  \"t_grenade_decoygrenade\": 0,\n",
    "  \"map_de_cache\": 0,\n",
    "  \"map_de_dust2\": 1,\n",
    "  \"map_de_inferno\": 0,\n",
    "  \"map_de_mirage\": 0,\n",
    "  \"map_de_nuke\": 0,\n",
    "  \"map_de_overpass\": 0,\n",
    "  \"map_de_train\": 0,\n",
    "  \"map_de_vertigo\": 0\n",
    "}\n",
    "\n",
    "phil = pd.DataFrame(data, index=[0])\n",
    "\n",
    "phil_scaled = scaler.fit_transform(phil)"
   ],
   "metadata": {
    "collapsed": false,
    "ExecuteTime": {
     "end_time": "2024-03-14T11:37:21.523631Z",
     "start_time": "2024-03-14T11:37:21.514489Z"
    },
    "pycharm": {
     "name": "#%%\n"
    }
   },
   "id": "42db53d23357da65",
   "execution_count": 46
  },
  {
   "cell_type": "code",
   "outputs": [
    {
     "name": "stdout",
     "output_type": "stream",
     "text": [
      "Accuracy 0.8792990768728045\n",
      "Precision 0.8889433284337743\n",
      "Recall 0.8722057527441711\n",
      "Confusion Matrix [[10641  1360]\n",
      " [ 1595 10886]]\n",
      "predict CT\n",
      "predict terrorist 33%\n",
      "predict counter-terrorist 67%\n"
     ]
    }
   ],
   "source": [
    "#This cell creates a random forest model and shows the score, prediction and the probabilities of the prediction\n",
    "rf_model = RandomForestClassifier(n_jobs=4)\n",
    "\n",
    "rf_model.fit(X_train, y_train)\n",
    "rf_score = rf_model.score(X_test, y_test)\n",
    "rf_predict = rf_model.predict(phil)\n",
    "[rf_probabilities_ct, rf_probabilities_t] = rf_model.predict_proba(phil)[0]\n",
    "rf_precision = precision_score(y_test, rf_model.predict(X_test))\n",
    "rf_conf_matrix = confusion_matrix(y_test, rf_model.predict(X_test))\n",
    "rf_recall = recall_score(y_test, rf_model.predict(X_test))\n",
    "\n",
    "print(\"Accuracy\", rf_score)\n",
    "print(\"Precision\", rf_precision)\n",
    "print(\"Recall\", rf_recall)\n",
    "print(\"Confusion Matrix\", rf_conf_matrix)\n",
    "print(\"predict\", \"CT\" if rf_predict == 0 else \"T\")\n",
    "print(\"predict terrorist\", f\"{round(rf_probabilities_t * 100)}%\")\n",
    "print(\"predict counter-terrorist\", f\"{round(rf_probabilities_ct * 100)}%\")"
   ],
   "metadata": {
    "collapsed": false,
    "ExecuteTime": {
     "end_time": "2024-03-14T11:37:29.803786Z",
     "start_time": "2024-03-14T11:37:21.590186Z"
    },
    "pycharm": {
     "name": "#%%\n"
    }
   },
   "id": "d590bfa5c37f6695",
   "execution_count": 47
  },
  {
   "cell_type": "code",
   "outputs": [
    {
     "name": "stdout",
     "output_type": "stream",
     "text": [
      "score 0.7406257658688016\n",
      "predict CT\n",
      "predict terrorist 21%\n",
      "predict counter-terrorist 79%\n"
     ]
    }
   ],
   "source": [
    "lr_model = LogisticRegression(max_iter=5000)\n",
    "\n",
    "lr_model.fit(X_train, y_train)\n",
    "lr_score = lr_model.score(X_test, y_test)\n",
    "lr_predict = lr_model.predict(phil)\n",
    "[lr_probabilities_ct, lr_probabilities_t] = lr_model.predict_proba(phil)[0]\n",
    "\n",
    "\n",
    "print(\"score\", lr_score)\n",
    "print(\"predict\", \"CT\" if lr_predict == 0 else \"T\")\n",
    "print(\"predict terrorist\", f\"{round(lr_probabilities_t * 100)}%\")\n",
    "print(\"predict counter-terrorist\", f\"{round(lr_probabilities_ct * 100)}%\")"
   ],
   "metadata": {
    "collapsed": false,
    "ExecuteTime": {
     "end_time": "2024-03-14T11:39:23.063873Z",
     "start_time": "2024-03-14T11:39:03.393774Z"
    },
    "pycharm": {
     "name": "#%%\n"
    }
   },
   "id": "8773d5a8a53f960c",
   "execution_count": 50
  },
  {
   "cell_type": "code",
   "outputs": [
    {
     "name": "stdout",
     "output_type": "stream",
     "text": [
      "score 0.7537374397516543\n",
      "predict CT\n",
      "predict terrorist 40%\n",
      "predict counter-terrorist 60%\n"
     ]
    }
   ],
   "source": [
    "gb_model = GradientBoostingClassifier()\n",
    "\n",
    "gb_model.fit(X_train, y_train)\n",
    "gb_score = gb_model.score(X_test, y_test)\n",
    "gb_predict = gb_model.predict(phil)\n",
    "[gb_probabilities_ct, gb_probabilities_t] = gb_model.predict_proba(phil)[0]\n",
    "\n",
    "\n",
    "print(\"score\", gb_score)\n",
    "print(\"predict\", \"CT\" if gb_predict == 0 else \"T\")\n",
    "print(\"predict terrorist\", f\"{round(gb_probabilities_t * 100)}%\")\n",
    "print(\"predict counter-terrorist\", f\"{round(gb_probabilities_ct * 100)}%\")"
   ],
   "metadata": {
    "collapsed": false,
    "ExecuteTime": {
     "end_time": "2024-03-14T11:38:06.308110Z",
     "start_time": "2024-03-14T11:37:31.289331Z"
    },
    "pycharm": {
     "name": "#%%\n"
    }
   },
   "id": "b00eebbe0675ffd9",
   "execution_count": 49
  }
 ],
 "metadata": {
  "kernelspec": {
   "display_name": "Python 3",
   "language": "python",
   "name": "python3"
  },
  "language_info": {
   "codemirror_mode": {
    "name": "ipython",
    "version": 2
   },
   "file_extension": ".py",
   "mimetype": "text/x-python",
   "name": "python",
   "nbconvert_exporter": "python",
   "pygments_lexer": "ipython2",
   "version": "2.7.6"
  }
 },
 "nbformat": 4,
 "nbformat_minor": 5
}