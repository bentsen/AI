{
 "cells": [
  {
   "cell_type": "code",
<<<<<<< HEAD
   "execution_count": 14,
=======
<<<<<<< Updated upstream
   "execution_count": null,
=======
   "execution_count": 7,
>>>>>>> 06f48ee39f749b60467e996beac9f3a7acae595e
   "id": "initial_id",
   "metadata": {
    "collapsed": true,
    "ExecuteTime": {
<<<<<<< HEAD
     "end_time": "2024-03-14T11:07:52.368773Z",
     "start_time": "2024-03-14T11:07:52.362612Z"
=======
     "end_time": "2024-03-11T13:34:13.255078500Z",
     "start_time": "2024-03-11T13:34:12.728188700Z"
    },
    "pycharm": {
     "name": "#%%\n"
>>>>>>> 06f48ee39f749b60467e996beac9f3a7acae595e
    }
   },
>>>>>>> Stashed changes
   "outputs": [],
   "source": [
    "import pandas as pd\n",
    "import numpy as np\n",
    "import matplotlib.pyplot as plt\n",
    "import seaborn as sns\n",
    "\n",
    "from sklearn.model_selection import train_test_split\n",
    "from sklearn.ensemble import RandomForestClassifier\n",
    "from sklearn.neural_network import MLPClassifier\n",
    "from sklearn.ensemble import GradientBoostingClassifier\n",
    "from sklearn.preprocessing import LabelEncoder\n",
    "from sklearn.preprocessing import StandardScaler\n",
    "from sklearn.linear_model import LogisticRegression\n",
    "from sklearn.metrics import accuracy_score, precision_score, recall_score, confusion_matrix \n"
   ],
   "metadata": {
    "collapsed": false,
    "pycharm": {
     "name": "#%%\n"
    }
   }
  },
  {
   "cell_type": "code",
<<<<<<< Updated upstream
   "execution_count": null,
   "outputs": [],
=======
   "outputs": [
    {
     "ename": "FileNotFoundError",
     "evalue": "[Errno 2] No such file or directory: '../resources/csgo_round_snapshots.csv'",
     "output_type": "error",
     "traceback": [
      "\u001B[0;31m---------------------------------------------------------------------------\u001B[0m",
      "\u001B[0;31mFileNotFoundError\u001B[0m                         Traceback (most recent call last)",
      "Cell \u001B[0;32mIn [8], line 1\u001B[0m\n\u001B[0;32m----> 1\u001B[0m df \u001B[38;5;241m=\u001B[39m \u001B[43mpd\u001B[49m\u001B[38;5;241;43m.\u001B[39;49m\u001B[43mread_csv\u001B[49m\u001B[43m(\u001B[49m\u001B[38;5;124;43m'\u001B[39;49m\u001B[38;5;124;43m../resources/csgo_round_snapshots.csv\u001B[39;49m\u001B[38;5;124;43m'\u001B[39;49m\u001B[43m)\u001B[49m\n",
      "File \u001B[0;32m~/opt/anaconda3/lib/python3.9/site-packages/pandas/util/_decorators.py:311\u001B[0m, in \u001B[0;36mdeprecate_nonkeyword_arguments.<locals>.decorate.<locals>.wrapper\u001B[0;34m(*args, **kwargs)\u001B[0m\n\u001B[1;32m    305\u001B[0m \u001B[38;5;28;01mif\u001B[39;00m \u001B[38;5;28mlen\u001B[39m(args) \u001B[38;5;241m>\u001B[39m num_allow_args:\n\u001B[1;32m    306\u001B[0m     warnings\u001B[38;5;241m.\u001B[39mwarn(\n\u001B[1;32m    307\u001B[0m         msg\u001B[38;5;241m.\u001B[39mformat(arguments\u001B[38;5;241m=\u001B[39marguments),\n\u001B[1;32m    308\u001B[0m         \u001B[38;5;167;01mFutureWarning\u001B[39;00m,\n\u001B[1;32m    309\u001B[0m         stacklevel\u001B[38;5;241m=\u001B[39mstacklevel,\n\u001B[1;32m    310\u001B[0m     )\n\u001B[0;32m--> 311\u001B[0m \u001B[38;5;28;01mreturn\u001B[39;00m \u001B[43mfunc\u001B[49m\u001B[43m(\u001B[49m\u001B[38;5;241;43m*\u001B[39;49m\u001B[43margs\u001B[49m\u001B[43m,\u001B[49m\u001B[43m \u001B[49m\u001B[38;5;241;43m*\u001B[39;49m\u001B[38;5;241;43m*\u001B[39;49m\u001B[43mkwargs\u001B[49m\u001B[43m)\u001B[49m\n",
      "File \u001B[0;32m~/opt/anaconda3/lib/python3.9/site-packages/pandas/io/parsers/readers.py:680\u001B[0m, in \u001B[0;36mread_csv\u001B[0;34m(filepath_or_buffer, sep, delimiter, header, names, index_col, usecols, squeeze, prefix, mangle_dupe_cols, dtype, engine, converters, true_values, false_values, skipinitialspace, skiprows, skipfooter, nrows, na_values, keep_default_na, na_filter, verbose, skip_blank_lines, parse_dates, infer_datetime_format, keep_date_col, date_parser, dayfirst, cache_dates, iterator, chunksize, compression, thousands, decimal, lineterminator, quotechar, quoting, doublequote, escapechar, comment, encoding, encoding_errors, dialect, error_bad_lines, warn_bad_lines, on_bad_lines, delim_whitespace, low_memory, memory_map, float_precision, storage_options)\u001B[0m\n\u001B[1;32m    665\u001B[0m kwds_defaults \u001B[38;5;241m=\u001B[39m _refine_defaults_read(\n\u001B[1;32m    666\u001B[0m     dialect,\n\u001B[1;32m    667\u001B[0m     delimiter,\n\u001B[0;32m   (...)\u001B[0m\n\u001B[1;32m    676\u001B[0m     defaults\u001B[38;5;241m=\u001B[39m{\u001B[38;5;124m\"\u001B[39m\u001B[38;5;124mdelimiter\u001B[39m\u001B[38;5;124m\"\u001B[39m: \u001B[38;5;124m\"\u001B[39m\u001B[38;5;124m,\u001B[39m\u001B[38;5;124m\"\u001B[39m},\n\u001B[1;32m    677\u001B[0m )\n\u001B[1;32m    678\u001B[0m kwds\u001B[38;5;241m.\u001B[39mupdate(kwds_defaults)\n\u001B[0;32m--> 680\u001B[0m \u001B[38;5;28;01mreturn\u001B[39;00m \u001B[43m_read\u001B[49m\u001B[43m(\u001B[49m\u001B[43mfilepath_or_buffer\u001B[49m\u001B[43m,\u001B[49m\u001B[43m \u001B[49m\u001B[43mkwds\u001B[49m\u001B[43m)\u001B[49m\n",
      "File \u001B[0;32m~/opt/anaconda3/lib/python3.9/site-packages/pandas/io/parsers/readers.py:575\u001B[0m, in \u001B[0;36m_read\u001B[0;34m(filepath_or_buffer, kwds)\u001B[0m\n\u001B[1;32m    572\u001B[0m _validate_names(kwds\u001B[38;5;241m.\u001B[39mget(\u001B[38;5;124m\"\u001B[39m\u001B[38;5;124mnames\u001B[39m\u001B[38;5;124m\"\u001B[39m, \u001B[38;5;28;01mNone\u001B[39;00m))\n\u001B[1;32m    574\u001B[0m \u001B[38;5;66;03m# Create the parser.\u001B[39;00m\n\u001B[0;32m--> 575\u001B[0m parser \u001B[38;5;241m=\u001B[39m \u001B[43mTextFileReader\u001B[49m\u001B[43m(\u001B[49m\u001B[43mfilepath_or_buffer\u001B[49m\u001B[43m,\u001B[49m\u001B[43m \u001B[49m\u001B[38;5;241;43m*\u001B[39;49m\u001B[38;5;241;43m*\u001B[39;49m\u001B[43mkwds\u001B[49m\u001B[43m)\u001B[49m\n\u001B[1;32m    577\u001B[0m \u001B[38;5;28;01mif\u001B[39;00m chunksize \u001B[38;5;129;01mor\u001B[39;00m iterator:\n\u001B[1;32m    578\u001B[0m     \u001B[38;5;28;01mreturn\u001B[39;00m parser\n",
      "File \u001B[0;32m~/opt/anaconda3/lib/python3.9/site-packages/pandas/io/parsers/readers.py:933\u001B[0m, in \u001B[0;36mTextFileReader.__init__\u001B[0;34m(self, f, engine, **kwds)\u001B[0m\n\u001B[1;32m    930\u001B[0m     \u001B[38;5;28mself\u001B[39m\u001B[38;5;241m.\u001B[39moptions[\u001B[38;5;124m\"\u001B[39m\u001B[38;5;124mhas_index_names\u001B[39m\u001B[38;5;124m\"\u001B[39m] \u001B[38;5;241m=\u001B[39m kwds[\u001B[38;5;124m\"\u001B[39m\u001B[38;5;124mhas_index_names\u001B[39m\u001B[38;5;124m\"\u001B[39m]\n\u001B[1;32m    932\u001B[0m \u001B[38;5;28mself\u001B[39m\u001B[38;5;241m.\u001B[39mhandles: IOHandles \u001B[38;5;241m|\u001B[39m \u001B[38;5;28;01mNone\u001B[39;00m \u001B[38;5;241m=\u001B[39m \u001B[38;5;28;01mNone\u001B[39;00m\n\u001B[0;32m--> 933\u001B[0m \u001B[38;5;28mself\u001B[39m\u001B[38;5;241m.\u001B[39m_engine \u001B[38;5;241m=\u001B[39m \u001B[38;5;28;43mself\u001B[39;49m\u001B[38;5;241;43m.\u001B[39;49m\u001B[43m_make_engine\u001B[49m\u001B[43m(\u001B[49m\u001B[43mf\u001B[49m\u001B[43m,\u001B[49m\u001B[43m \u001B[49m\u001B[38;5;28;43mself\u001B[39;49m\u001B[38;5;241;43m.\u001B[39;49m\u001B[43mengine\u001B[49m\u001B[43m)\u001B[49m\n",
      "File \u001B[0;32m~/opt/anaconda3/lib/python3.9/site-packages/pandas/io/parsers/readers.py:1217\u001B[0m, in \u001B[0;36mTextFileReader._make_engine\u001B[0;34m(self, f, engine)\u001B[0m\n\u001B[1;32m   1213\u001B[0m     mode \u001B[38;5;241m=\u001B[39m \u001B[38;5;124m\"\u001B[39m\u001B[38;5;124mrb\u001B[39m\u001B[38;5;124m\"\u001B[39m\n\u001B[1;32m   1214\u001B[0m \u001B[38;5;66;03m# error: No overload variant of \"get_handle\" matches argument types\u001B[39;00m\n\u001B[1;32m   1215\u001B[0m \u001B[38;5;66;03m# \"Union[str, PathLike[str], ReadCsvBuffer[bytes], ReadCsvBuffer[str]]\"\u001B[39;00m\n\u001B[1;32m   1216\u001B[0m \u001B[38;5;66;03m# , \"str\", \"bool\", \"Any\", \"Any\", \"Any\", \"Any\", \"Any\"\u001B[39;00m\n\u001B[0;32m-> 1217\u001B[0m \u001B[38;5;28mself\u001B[39m\u001B[38;5;241m.\u001B[39mhandles \u001B[38;5;241m=\u001B[39m \u001B[43mget_handle\u001B[49m\u001B[43m(\u001B[49m\u001B[43m  \u001B[49m\u001B[38;5;66;43;03m# type: ignore[call-overload]\u001B[39;49;00m\n\u001B[1;32m   1218\u001B[0m \u001B[43m    \u001B[49m\u001B[43mf\u001B[49m\u001B[43m,\u001B[49m\n\u001B[1;32m   1219\u001B[0m \u001B[43m    \u001B[49m\u001B[43mmode\u001B[49m\u001B[43m,\u001B[49m\n\u001B[1;32m   1220\u001B[0m \u001B[43m    \u001B[49m\u001B[43mencoding\u001B[49m\u001B[38;5;241;43m=\u001B[39;49m\u001B[38;5;28;43mself\u001B[39;49m\u001B[38;5;241;43m.\u001B[39;49m\u001B[43moptions\u001B[49m\u001B[38;5;241;43m.\u001B[39;49m\u001B[43mget\u001B[49m\u001B[43m(\u001B[49m\u001B[38;5;124;43m\"\u001B[39;49m\u001B[38;5;124;43mencoding\u001B[39;49m\u001B[38;5;124;43m\"\u001B[39;49m\u001B[43m,\u001B[49m\u001B[43m \u001B[49m\u001B[38;5;28;43;01mNone\u001B[39;49;00m\u001B[43m)\u001B[49m\u001B[43m,\u001B[49m\n\u001B[1;32m   1221\u001B[0m \u001B[43m    \u001B[49m\u001B[43mcompression\u001B[49m\u001B[38;5;241;43m=\u001B[39;49m\u001B[38;5;28;43mself\u001B[39;49m\u001B[38;5;241;43m.\u001B[39;49m\u001B[43moptions\u001B[49m\u001B[38;5;241;43m.\u001B[39;49m\u001B[43mget\u001B[49m\u001B[43m(\u001B[49m\u001B[38;5;124;43m\"\u001B[39;49m\u001B[38;5;124;43mcompression\u001B[39;49m\u001B[38;5;124;43m\"\u001B[39;49m\u001B[43m,\u001B[49m\u001B[43m \u001B[49m\u001B[38;5;28;43;01mNone\u001B[39;49;00m\u001B[43m)\u001B[49m\u001B[43m,\u001B[49m\n\u001B[1;32m   1222\u001B[0m \u001B[43m    \u001B[49m\u001B[43mmemory_map\u001B[49m\u001B[38;5;241;43m=\u001B[39;49m\u001B[38;5;28;43mself\u001B[39;49m\u001B[38;5;241;43m.\u001B[39;49m\u001B[43moptions\u001B[49m\u001B[38;5;241;43m.\u001B[39;49m\u001B[43mget\u001B[49m\u001B[43m(\u001B[49m\u001B[38;5;124;43m\"\u001B[39;49m\u001B[38;5;124;43mmemory_map\u001B[39;49m\u001B[38;5;124;43m\"\u001B[39;49m\u001B[43m,\u001B[49m\u001B[43m \u001B[49m\u001B[38;5;28;43;01mFalse\u001B[39;49;00m\u001B[43m)\u001B[49m\u001B[43m,\u001B[49m\n\u001B[1;32m   1223\u001B[0m \u001B[43m    \u001B[49m\u001B[43mis_text\u001B[49m\u001B[38;5;241;43m=\u001B[39;49m\u001B[43mis_text\u001B[49m\u001B[43m,\u001B[49m\n\u001B[1;32m   1224\u001B[0m \u001B[43m    \u001B[49m\u001B[43merrors\u001B[49m\u001B[38;5;241;43m=\u001B[39;49m\u001B[38;5;28;43mself\u001B[39;49m\u001B[38;5;241;43m.\u001B[39;49m\u001B[43moptions\u001B[49m\u001B[38;5;241;43m.\u001B[39;49m\u001B[43mget\u001B[49m\u001B[43m(\u001B[49m\u001B[38;5;124;43m\"\u001B[39;49m\u001B[38;5;124;43mencoding_errors\u001B[39;49m\u001B[38;5;124;43m\"\u001B[39;49m\u001B[43m,\u001B[49m\u001B[43m \u001B[49m\u001B[38;5;124;43m\"\u001B[39;49m\u001B[38;5;124;43mstrict\u001B[39;49m\u001B[38;5;124;43m\"\u001B[39;49m\u001B[43m)\u001B[49m\u001B[43m,\u001B[49m\n\u001B[1;32m   1225\u001B[0m \u001B[43m    \u001B[49m\u001B[43mstorage_options\u001B[49m\u001B[38;5;241;43m=\u001B[39;49m\u001B[38;5;28;43mself\u001B[39;49m\u001B[38;5;241;43m.\u001B[39;49m\u001B[43moptions\u001B[49m\u001B[38;5;241;43m.\u001B[39;49m\u001B[43mget\u001B[49m\u001B[43m(\u001B[49m\u001B[38;5;124;43m\"\u001B[39;49m\u001B[38;5;124;43mstorage_options\u001B[39;49m\u001B[38;5;124;43m\"\u001B[39;49m\u001B[43m,\u001B[49m\u001B[43m \u001B[49m\u001B[38;5;28;43;01mNone\u001B[39;49;00m\u001B[43m)\u001B[49m\u001B[43m,\u001B[49m\n\u001B[1;32m   1226\u001B[0m \u001B[43m\u001B[49m\u001B[43m)\u001B[49m\n\u001B[1;32m   1227\u001B[0m \u001B[38;5;28;01massert\u001B[39;00m \u001B[38;5;28mself\u001B[39m\u001B[38;5;241m.\u001B[39mhandles \u001B[38;5;129;01mis\u001B[39;00m \u001B[38;5;129;01mnot\u001B[39;00m \u001B[38;5;28;01mNone\u001B[39;00m\n\u001B[1;32m   1228\u001B[0m f \u001B[38;5;241m=\u001B[39m \u001B[38;5;28mself\u001B[39m\u001B[38;5;241m.\u001B[39mhandles\u001B[38;5;241m.\u001B[39mhandle\n",
      "File \u001B[0;32m~/opt/anaconda3/lib/python3.9/site-packages/pandas/io/common.py:789\u001B[0m, in \u001B[0;36mget_handle\u001B[0;34m(path_or_buf, mode, encoding, compression, memory_map, is_text, errors, storage_options)\u001B[0m\n\u001B[1;32m    784\u001B[0m \u001B[38;5;28;01melif\u001B[39;00m \u001B[38;5;28misinstance\u001B[39m(handle, \u001B[38;5;28mstr\u001B[39m):\n\u001B[1;32m    785\u001B[0m     \u001B[38;5;66;03m# Check whether the filename is to be opened in binary mode.\u001B[39;00m\n\u001B[1;32m    786\u001B[0m     \u001B[38;5;66;03m# Binary mode does not support 'encoding' and 'newline'.\u001B[39;00m\n\u001B[1;32m    787\u001B[0m     \u001B[38;5;28;01mif\u001B[39;00m ioargs\u001B[38;5;241m.\u001B[39mencoding \u001B[38;5;129;01mand\u001B[39;00m \u001B[38;5;124m\"\u001B[39m\u001B[38;5;124mb\u001B[39m\u001B[38;5;124m\"\u001B[39m \u001B[38;5;129;01mnot\u001B[39;00m \u001B[38;5;129;01min\u001B[39;00m ioargs\u001B[38;5;241m.\u001B[39mmode:\n\u001B[1;32m    788\u001B[0m         \u001B[38;5;66;03m# Encoding\u001B[39;00m\n\u001B[0;32m--> 789\u001B[0m         handle \u001B[38;5;241m=\u001B[39m \u001B[38;5;28;43mopen\u001B[39;49m\u001B[43m(\u001B[49m\n\u001B[1;32m    790\u001B[0m \u001B[43m            \u001B[49m\u001B[43mhandle\u001B[49m\u001B[43m,\u001B[49m\n\u001B[1;32m    791\u001B[0m \u001B[43m            \u001B[49m\u001B[43mioargs\u001B[49m\u001B[38;5;241;43m.\u001B[39;49m\u001B[43mmode\u001B[49m\u001B[43m,\u001B[49m\n\u001B[1;32m    792\u001B[0m \u001B[43m            \u001B[49m\u001B[43mencoding\u001B[49m\u001B[38;5;241;43m=\u001B[39;49m\u001B[43mioargs\u001B[49m\u001B[38;5;241;43m.\u001B[39;49m\u001B[43mencoding\u001B[49m\u001B[43m,\u001B[49m\n\u001B[1;32m    793\u001B[0m \u001B[43m            \u001B[49m\u001B[43merrors\u001B[49m\u001B[38;5;241;43m=\u001B[39;49m\u001B[43merrors\u001B[49m\u001B[43m,\u001B[49m\n\u001B[1;32m    794\u001B[0m \u001B[43m            \u001B[49m\u001B[43mnewline\u001B[49m\u001B[38;5;241;43m=\u001B[39;49m\u001B[38;5;124;43m\"\u001B[39;49m\u001B[38;5;124;43m\"\u001B[39;49m\u001B[43m,\u001B[49m\n\u001B[1;32m    795\u001B[0m \u001B[43m        \u001B[49m\u001B[43m)\u001B[49m\n\u001B[1;32m    796\u001B[0m     \u001B[38;5;28;01melse\u001B[39;00m:\n\u001B[1;32m    797\u001B[0m         \u001B[38;5;66;03m# Binary mode\u001B[39;00m\n\u001B[1;32m    798\u001B[0m         handle \u001B[38;5;241m=\u001B[39m \u001B[38;5;28mopen\u001B[39m(handle, ioargs\u001B[38;5;241m.\u001B[39mmode)\n",
      "\u001B[0;31mFileNotFoundError\u001B[0m: [Errno 2] No such file or directory: '../resources/csgo_round_snapshots.csv'"
     ]
    }
   ],
>>>>>>> Stashed changes
   "source": [
    "df = pd.read_csv('../resources/csgo_round_snapshots.csv')"
   ],
   "metadata": {
    "collapsed": false,
<<<<<<< Updated upstream
    "pycharm": {
     "name": "#%%\n"
    }
   }
  },
  {
   "cell_type": "code",
   "execution_count": null,
=======
    "ExecuteTime": {
<<<<<<< HEAD
     "end_time": "2024-03-14T11:07:53.822612Z",
     "start_time": "2024-03-14T11:07:52.375206Z"
    }
   },
   "id": "c1682661201273ac",
   "execution_count": 15
  },
  {
   "cell_type": "code",
   "outputs": [
    {
     "data": {
      "text/plain": "        time_left  ct_score  t_score       map  bomb_planted  ct_health  \\\n0          175.00       0.0      0.0  de_dust2         False      500.0   \n1          156.03       0.0      0.0  de_dust2         False      500.0   \n2           96.03       0.0      0.0  de_dust2         False      391.0   \n3           76.03       0.0      0.0  de_dust2         False      391.0   \n4          174.97       1.0      0.0  de_dust2         False      500.0   \n...           ...       ...      ...       ...           ...        ...   \n122405      15.41      11.0     14.0  de_train          True      200.0   \n122406     174.93      11.0     15.0  de_train         False      500.0   \n122407     114.93      11.0     15.0  de_train         False      500.0   \n122408      94.93      11.0     15.0  de_train         False      500.0   \n122409      74.93      11.0     15.0  de_train         False      375.0   \n\n        t_health  ct_armor  t_armor  ct_money  ...  t_grenade_flashbang  \\\n0          500.0       0.0      0.0    4000.0  ...                  0.0   \n1          500.0     400.0    300.0     600.0  ...                  0.0   \n2          400.0     294.0    200.0     750.0  ...                  0.0   \n3          400.0     294.0    200.0     750.0  ...                  0.0   \n4          500.0     192.0      0.0   18350.0  ...                  0.0   \n...          ...       ...      ...       ...  ...                  ...   \n122405     242.0     195.0    359.0     100.0  ...                  2.0   \n122406     500.0      95.0    175.0   11500.0  ...                  2.0   \n122407     500.0     495.0    475.0    1200.0  ...                  4.0   \n122408     500.0     495.0    475.0    1200.0  ...                  5.0   \n122409     479.0     395.0    466.0    1100.0  ...                  3.0   \n\n        ct_grenade_smokegrenade  t_grenade_smokegrenade  \\\n0                           0.0                     0.0   \n1                           0.0                     2.0   \n2                           0.0                     2.0   \n3                           0.0                     0.0   \n4                           0.0                     0.0   \n...                         ...                     ...   \n122405                      1.0                     1.0   \n122406                      1.0                     0.0   \n122407                      3.0                     5.0   \n122408                      0.0                     3.0   \n122409                      0.0                     2.0   \n\n        ct_grenade_incendiarygrenade  t_grenade_incendiarygrenade  \\\n0                                0.0                          0.0   \n1                                0.0                          0.0   \n2                                0.0                          0.0   \n3                                0.0                          0.0   \n4                                0.0                          0.0   \n...                              ...                          ...   \n122405                           0.0                          0.0   \n122406                           0.0                          0.0   \n122407                           1.0                          0.0   \n122408                           0.0                          0.0   \n122409                           0.0                          0.0   \n\n        ct_grenade_molotovgrenade  t_grenade_molotovgrenade  \\\n0                             0.0                       0.0   \n1                             0.0                       0.0   \n2                             0.0                       0.0   \n3                             0.0                       0.0   \n4                             0.0                       0.0   \n...                           ...                       ...   \n122405                        0.0                       0.0   \n122406                        0.0                       0.0   \n122407                        0.0                       5.0   \n122408                        0.0                       4.0   \n122409                        0.0                       3.0   \n\n        ct_grenade_decoygrenade  t_grenade_decoygrenade  round_winner  \n0                           0.0                     0.0            CT  \n1                           0.0                     0.0            CT  \n2                           0.0                     0.0            CT  \n3                           0.0                     0.0            CT  \n4                           0.0                     0.0            CT  \n...                         ...                     ...           ...  \n122405                      0.0                     0.0             T  \n122406                      0.0                     0.0             T  \n122407                      0.0                     0.0             T  \n122408                      0.0                     0.0             T  \n122409                      0.0                     0.0             T  \n\n[122410 rows x 97 columns]",
      "text/html": "<div>\n<style scoped>\n    .dataframe tbody tr th:only-of-type {\n        vertical-align: middle;\n    }\n\n    .dataframe tbody tr th {\n        vertical-align: top;\n    }\n\n    .dataframe thead th {\n        text-align: right;\n    }\n</style>\n<table border=\"1\" class=\"dataframe\">\n  <thead>\n    <tr style=\"text-align: right;\">\n      <th></th>\n      <th>time_left</th>\n      <th>ct_score</th>\n      <th>t_score</th>\n      <th>map</th>\n      <th>bomb_planted</th>\n      <th>ct_health</th>\n      <th>t_health</th>\n      <th>ct_armor</th>\n      <th>t_armor</th>\n      <th>ct_money</th>\n      <th>...</th>\n      <th>t_grenade_flashbang</th>\n      <th>ct_grenade_smokegrenade</th>\n      <th>t_grenade_smokegrenade</th>\n      <th>ct_grenade_incendiarygrenade</th>\n      <th>t_grenade_incendiarygrenade</th>\n      <th>ct_grenade_molotovgrenade</th>\n      <th>t_grenade_molotovgrenade</th>\n      <th>ct_grenade_decoygrenade</th>\n      <th>t_grenade_decoygrenade</th>\n      <th>round_winner</th>\n    </tr>\n  </thead>\n  <tbody>\n    <tr>\n      <th>0</th>\n      <td>175.00</td>\n      <td>0.0</td>\n      <td>0.0</td>\n      <td>de_dust2</td>\n      <td>False</td>\n      <td>500.0</td>\n      <td>500.0</td>\n      <td>0.0</td>\n      <td>0.0</td>\n      <td>4000.0</td>\n      <td>...</td>\n      <td>0.0</td>\n      <td>0.0</td>\n      <td>0.0</td>\n      <td>0.0</td>\n      <td>0.0</td>\n      <td>0.0</td>\n      <td>0.0</td>\n      <td>0.0</td>\n      <td>0.0</td>\n      <td>CT</td>\n    </tr>\n    <tr>\n      <th>1</th>\n      <td>156.03</td>\n      <td>0.0</td>\n      <td>0.0</td>\n      <td>de_dust2</td>\n      <td>False</td>\n      <td>500.0</td>\n      <td>500.0</td>\n      <td>400.0</td>\n      <td>300.0</td>\n      <td>600.0</td>\n      <td>...</td>\n      <td>0.0</td>\n      <td>0.0</td>\n      <td>2.0</td>\n      <td>0.0</td>\n      <td>0.0</td>\n      <td>0.0</td>\n      <td>0.0</td>\n      <td>0.0</td>\n      <td>0.0</td>\n      <td>CT</td>\n    </tr>\n    <tr>\n      <th>2</th>\n      <td>96.03</td>\n      <td>0.0</td>\n      <td>0.0</td>\n      <td>de_dust2</td>\n      <td>False</td>\n      <td>391.0</td>\n      <td>400.0</td>\n      <td>294.0</td>\n      <td>200.0</td>\n      <td>750.0</td>\n      <td>...</td>\n      <td>0.0</td>\n      <td>0.0</td>\n      <td>2.0</td>\n      <td>0.0</td>\n      <td>0.0</td>\n      <td>0.0</td>\n      <td>0.0</td>\n      <td>0.0</td>\n      <td>0.0</td>\n      <td>CT</td>\n    </tr>\n    <tr>\n      <th>3</th>\n      <td>76.03</td>\n      <td>0.0</td>\n      <td>0.0</td>\n      <td>de_dust2</td>\n      <td>False</td>\n      <td>391.0</td>\n      <td>400.0</td>\n      <td>294.0</td>\n      <td>200.0</td>\n      <td>750.0</td>\n      <td>...</td>\n      <td>0.0</td>\n      <td>0.0</td>\n      <td>0.0</td>\n      <td>0.0</td>\n      <td>0.0</td>\n      <td>0.0</td>\n      <td>0.0</td>\n      <td>0.0</td>\n      <td>0.0</td>\n      <td>CT</td>\n    </tr>\n    <tr>\n      <th>4</th>\n      <td>174.97</td>\n      <td>1.0</td>\n      <td>0.0</td>\n      <td>de_dust2</td>\n      <td>False</td>\n      <td>500.0</td>\n      <td>500.0</td>\n      <td>192.0</td>\n      <td>0.0</td>\n      <td>18350.0</td>\n      <td>...</td>\n      <td>0.0</td>\n      <td>0.0</td>\n      <td>0.0</td>\n      <td>0.0</td>\n      <td>0.0</td>\n      <td>0.0</td>\n      <td>0.0</td>\n      <td>0.0</td>\n      <td>0.0</td>\n      <td>CT</td>\n    </tr>\n    <tr>\n      <th>...</th>\n      <td>...</td>\n      <td>...</td>\n      <td>...</td>\n      <td>...</td>\n      <td>...</td>\n      <td>...</td>\n      <td>...</td>\n      <td>...</td>\n      <td>...</td>\n      <td>...</td>\n      <td>...</td>\n      <td>...</td>\n      <td>...</td>\n      <td>...</td>\n      <td>...</td>\n      <td>...</td>\n      <td>...</td>\n      <td>...</td>\n      <td>...</td>\n      <td>...</td>\n      <td>...</td>\n    </tr>\n    <tr>\n      <th>122405</th>\n      <td>15.41</td>\n      <td>11.0</td>\n      <td>14.0</td>\n      <td>de_train</td>\n      <td>True</td>\n      <td>200.0</td>\n      <td>242.0</td>\n      <td>195.0</td>\n      <td>359.0</td>\n      <td>100.0</td>\n      <td>...</td>\n      <td>2.0</td>\n      <td>1.0</td>\n      <td>1.0</td>\n      <td>0.0</td>\n      <td>0.0</td>\n      <td>0.0</td>\n      <td>0.0</td>\n      <td>0.0</td>\n      <td>0.0</td>\n      <td>T</td>\n    </tr>\n    <tr>\n      <th>122406</th>\n      <td>174.93</td>\n      <td>11.0</td>\n      <td>15.0</td>\n      <td>de_train</td>\n      <td>False</td>\n      <td>500.0</td>\n      <td>500.0</td>\n      <td>95.0</td>\n      <td>175.0</td>\n      <td>11500.0</td>\n      <td>...</td>\n      <td>2.0</td>\n      <td>1.0</td>\n      <td>0.0</td>\n      <td>0.0</td>\n      <td>0.0</td>\n      <td>0.0</td>\n      <td>0.0</td>\n      <td>0.0</td>\n      <td>0.0</td>\n      <td>T</td>\n    </tr>\n    <tr>\n      <th>122407</th>\n      <td>114.93</td>\n      <td>11.0</td>\n      <td>15.0</td>\n      <td>de_train</td>\n      <td>False</td>\n      <td>500.0</td>\n      <td>500.0</td>\n      <td>495.0</td>\n      <td>475.0</td>\n      <td>1200.0</td>\n      <td>...</td>\n      <td>4.0</td>\n      <td>3.0</td>\n      <td>5.0</td>\n      <td>1.0</td>\n      <td>0.0</td>\n      <td>0.0</td>\n      <td>5.0</td>\n      <td>0.0</td>\n      <td>0.0</td>\n      <td>T</td>\n    </tr>\n    <tr>\n      <th>122408</th>\n      <td>94.93</td>\n      <td>11.0</td>\n      <td>15.0</td>\n      <td>de_train</td>\n      <td>False</td>\n      <td>500.0</td>\n      <td>500.0</td>\n      <td>495.0</td>\n      <td>475.0</td>\n      <td>1200.0</td>\n      <td>...</td>\n      <td>5.0</td>\n      <td>0.0</td>\n      <td>3.0</td>\n      <td>0.0</td>\n      <td>0.0</td>\n      <td>0.0</td>\n      <td>4.0</td>\n      <td>0.0</td>\n      <td>0.0</td>\n      <td>T</td>\n    </tr>\n    <tr>\n      <th>122409</th>\n      <td>74.93</td>\n      <td>11.0</td>\n      <td>15.0</td>\n      <td>de_train</td>\n      <td>False</td>\n      <td>375.0</td>\n      <td>479.0</td>\n      <td>395.0</td>\n      <td>466.0</td>\n      <td>1100.0</td>\n      <td>...</td>\n      <td>3.0</td>\n      <td>0.0</td>\n      <td>2.0</td>\n      <td>0.0</td>\n      <td>0.0</td>\n      <td>0.0</td>\n      <td>3.0</td>\n      <td>0.0</td>\n      <td>0.0</td>\n      <td>T</td>\n    </tr>\n  </tbody>\n</table>\n<p>122410 rows × 97 columns</p>\n</div>"
     },
     "execution_count": 16,
     "metadata": {},
     "output_type": "execute_result"
    }
   ],
=======
     "end_time": "2024-03-11T13:34:14.004963Z",
     "start_time": "2024-03-11T13:34:13.252984500Z"
    },
    "pycharm": {
     "name": "#%%\n"
    }
   },
   "id": "c1682661201273ac",
   "execution_count": 8
  },
  {
   "cell_type": "code",
>>>>>>> Stashed changes
   "outputs": [],
>>>>>>> 06f48ee39f749b60467e996beac9f3a7acae595e
   "source": [
    "df"
   ],
   "metadata": {
    "collapsed": false,
<<<<<<< Updated upstream
    "pycharm": {
     "name": "#%%\n"
    }
   }
  },
  {
   "cell_type": "code",
   "execution_count": null,
=======
    "ExecuteTime": {
<<<<<<< HEAD
     "end_time": "2024-03-14T11:07:53.924418Z",
     "start_time": "2024-03-14T11:07:53.834418Z"
    }
   },
   "id": "e0f26b6e1d61462c",
   "execution_count": 16
  },
  {
   "cell_type": "code",
   "outputs": [
    {
     "data": {
      "text/plain": "time_left                    0\nct_score                     0\nt_score                      0\nmap                          0\nbomb_planted                 0\n                            ..\nct_grenade_molotovgrenade    0\nt_grenade_molotovgrenade     0\nct_grenade_decoygrenade      0\nt_grenade_decoygrenade       0\nround_winner                 0\nLength: 97, dtype: int64"
     },
     "execution_count": 17,
     "metadata": {},
     "output_type": "execute_result"
    }
   ],
=======
     "end_time": "2024-03-11T13:34:14.071814100Z",
     "start_time": "2024-03-11T13:34:14.004963Z"
    },
    "pycharm": {
     "name": "#%%\n"
    }
   },
   "id": "e0f26b6e1d61462c",
   "execution_count": null
  },
  {
   "cell_type": "code",
>>>>>>> Stashed changes
   "outputs": [],
>>>>>>> 06f48ee39f749b60467e996beac9f3a7acae595e
   "source": [
    "np.sum(df.isnull())"
   ],
   "metadata": {
    "collapsed": false,
<<<<<<< Updated upstream
    "pycharm": {
     "name": "#%%\n"
    }
   }
  },
  {
   "cell_type": "code",
   "execution_count": null,
=======
    "ExecuteTime": {
<<<<<<< HEAD
     "end_time": "2024-03-14T11:07:54.120927Z",
     "start_time": "2024-03-14T11:07:53.921539Z"
    }
   },
   "id": "407aadaf3ac1df2d",
   "execution_count": 17
=======
     "end_time": "2024-03-11T13:34:14.132143600Z",
     "start_time": "2024-03-11T13:34:14.069820800Z"
    },
    "pycharm": {
     "name": "#%%\n"
    }
   },
   "id": "407aadaf3ac1df2d",
   "execution_count": null
>>>>>>> 06f48ee39f749b60467e996beac9f3a7acae595e
  },
  {
   "cell_type": "code",
>>>>>>> Stashed changes
   "outputs": [],
   "source": [
    "rows, columns = df.shape\n",
    "print(f'Rows: {rows}, Columns: {columns}')"
   ],
   "metadata": {
    "collapsed": false,
<<<<<<< Updated upstream
    "pycharm": {
     "name": "#%%\n"
    }
   }
  },
  {
   "cell_type": "code",
   "execution_count": null,
=======
    "ExecuteTime": {
<<<<<<< HEAD
     "end_time": "2024-03-14T11:07:54.133949Z",
     "start_time": "2024-03-14T11:07:54.013708Z"
    }
   },
   "id": "1b5943683ebcbd80",
   "execution_count": 18
  },
  {
   "cell_type": "code",
   "outputs": [
    {
     "data": {
      "text/plain": "             map  bomb_planted round_winner\n0       de_dust2         False           CT\n1       de_dust2         False           CT\n2       de_dust2         False           CT\n3       de_dust2         False           CT\n4       de_dust2         False           CT\n...          ...           ...          ...\n122405  de_train          True            T\n122406  de_train         False            T\n122407  de_train         False            T\n122408  de_train         False            T\n122409  de_train         False            T\n\n[122410 rows x 3 columns]",
      "text/html": "<div>\n<style scoped>\n    .dataframe tbody tr th:only-of-type {\n        vertical-align: middle;\n    }\n\n    .dataframe tbody tr th {\n        vertical-align: top;\n    }\n\n    .dataframe thead th {\n        text-align: right;\n    }\n</style>\n<table border=\"1\" class=\"dataframe\">\n  <thead>\n    <tr style=\"text-align: right;\">\n      <th></th>\n      <th>map</th>\n      <th>bomb_planted</th>\n      <th>round_winner</th>\n    </tr>\n  </thead>\n  <tbody>\n    <tr>\n      <th>0</th>\n      <td>de_dust2</td>\n      <td>False</td>\n      <td>CT</td>\n    </tr>\n    <tr>\n      <th>1</th>\n      <td>de_dust2</td>\n      <td>False</td>\n      <td>CT</td>\n    </tr>\n    <tr>\n      <th>2</th>\n      <td>de_dust2</td>\n      <td>False</td>\n      <td>CT</td>\n    </tr>\n    <tr>\n      <th>3</th>\n      <td>de_dust2</td>\n      <td>False</td>\n      <td>CT</td>\n    </tr>\n    <tr>\n      <th>4</th>\n      <td>de_dust2</td>\n      <td>False</td>\n      <td>CT</td>\n    </tr>\n    <tr>\n      <th>...</th>\n      <td>...</td>\n      <td>...</td>\n      <td>...</td>\n    </tr>\n    <tr>\n      <th>122405</th>\n      <td>de_train</td>\n      <td>True</td>\n      <td>T</td>\n    </tr>\n    <tr>\n      <th>122406</th>\n      <td>de_train</td>\n      <td>False</td>\n      <td>T</td>\n    </tr>\n    <tr>\n      <th>122407</th>\n      <td>de_train</td>\n      <td>False</td>\n      <td>T</td>\n    </tr>\n    <tr>\n      <th>122408</th>\n      <td>de_train</td>\n      <td>False</td>\n      <td>T</td>\n    </tr>\n    <tr>\n      <th>122409</th>\n      <td>de_train</td>\n      <td>False</td>\n      <td>T</td>\n    </tr>\n  </tbody>\n</table>\n<p>122410 rows × 3 columns</p>\n</div>"
     },
     "execution_count": 19,
     "metadata": {},
     "output_type": "execute_result"
    }
   ],
=======
     "end_time": "2024-03-11T13:34:14.133652800Z",
     "start_time": "2024-03-11T13:34:14.102404600Z"
    },
    "pycharm": {
     "name": "#%%\n"
    }
   },
   "id": "1b5943683ebcbd80",
   "execution_count": null
  },
  {
   "cell_type": "code",
>>>>>>> Stashed changes
   "outputs": [],
>>>>>>> 06f48ee39f749b60467e996beac9f3a7acae595e
   "source": [
    "non_numeric_cols = df.select_dtypes(exclude=[np.number])\n",
    "non_numeric_cols"
   ],
   "metadata": {
    "collapsed": false,
<<<<<<< Updated upstream
    "pycharm": {
     "name": "#%%\n"
    }
   }
  },
  {
   "cell_type": "code",
   "execution_count": null,
=======
    "ExecuteTime": {
<<<<<<< HEAD
     "end_time": "2024-03-14T11:07:54.230971Z",
     "start_time": "2024-03-14T11:07:54.024722Z"
    }
   },
   "id": "1ad2063736dc783f",
   "execution_count": 19
=======
     "end_time": "2024-03-11T13:34:14.174130700Z",
     "start_time": "2024-03-11T13:34:14.108451200Z"
    },
    "pycharm": {
     "name": "#%%\n"
    }
   },
   "id": "1ad2063736dc783f",
   "execution_count": null
>>>>>>> 06f48ee39f749b60467e996beac9f3a7acae595e
  },
  {
   "cell_type": "code",
>>>>>>> Stashed changes
   "outputs": [],
   "source": [
    "#This cell will transform all the non-numeric columns into numeric columns\n",
    "le = LabelEncoder()\n",
    "\n",
    "df['bomb_planted'] = df['bomb_planted'].astype(int)\n",
    "df = pd.get_dummies(df, columns=['map'], dtype=int)\n",
    "\n",
    "df[\"round_winner\"] = le.fit_transform(df[\"round_winner\"])\n",
    "label_mapping = dict(zip(le.classes_, range(len(le.classes_))))\n",
    "print(label_mapping)"
   ],
   "metadata": {
    "collapsed": false,
<<<<<<< Updated upstream
    "pycharm": {
     "name": "#%%\n"
    }
   }
=======
    "ExecuteTime": {
<<<<<<< HEAD
     "end_time": "2024-03-14T11:07:54.314268Z",
     "start_time": "2024-03-14T11:07:54.045987Z"
    }
   },
   "id": "db4d946cbe4616ac",
   "execution_count": 20
=======
     "end_time": "2024-03-11T13:34:14.284574300Z",
     "start_time": "2024-03-11T13:34:14.117644600Z"
    },
    "pycharm": {
     "name": "#%%\n"
    }
   },
   "id": "db4d946cbe4616ac",
   "execution_count": null
>>>>>>> Stashed changes
>>>>>>> 06f48ee39f749b60467e996beac9f3a7acae595e
  },
  {
   "cell_type": "code",
   "execution_count": null,
   "outputs": [],
   "source": [
    "#This cell split target and the values and then split the data into training and testing, then scales the data.\n",
    "X,y = df.drop(['round_winner'], axis=1), df['round_winner']\n",
    "X_train, X_test, y_train, y_test = train_test_split(X, y, test_size=0.2, random_state=42, stratify=y)\n",
    "\n",
    "scaler = StandardScaler()\n",
    "X_train_scaled = scaler.fit_transform(X_train)\n",
    "X_test_scaled = scaler.transform(X_test)"
   ],
   "metadata": {
    "collapsed": false,
<<<<<<< Updated upstream
    "pycharm": {
     "name": "#%%\n"
    }
   }
=======
    "ExecuteTime": {
<<<<<<< HEAD
     "end_time": "2024-03-14T11:07:55.549666Z",
     "start_time": "2024-03-14T11:07:54.359354Z"
    }
   },
   "id": "9b098a3fb74a0f3e",
   "execution_count": 21
=======
     "end_time": "2024-03-11T13:34:14.528057400Z",
     "start_time": "2024-03-11T13:34:14.207057100Z"
    },
    "pycharm": {
     "name": "#%%\n"
    }
   },
   "id": "9b098a3fb74a0f3e",
   "execution_count": null
>>>>>>> Stashed changes
>>>>>>> 06f48ee39f749b60467e996beac9f3a7acae595e
  },
  {
   "cell_type": "code",
   "execution_count": null,
   "outputs": [],
   "source": [
    "#This cell creates a new instance of a round that the model can predict\n",
    "data = {\n",
    "  \"time_left\": 20,\n",
    "  \"ct_score\": 5,\n",
    "  \"t_score\": 5,\n",
    "  \"bomb_planted\": 1,\n",
    "  \"ct_health\": 460,\n",
    "  \"t_health\": 300,\n",
    "  \"ct_armor\": 400,\n",
    "  \"t_armor\": 300,\n",
    "  \"ct_money\": 4000,\n",
    "  \"t_money\": 1000,\n",
    "  \"ct_helmets\": 4,\n",
    "  \"t_helmets\": 3,\n",
    "  \"ct_defuse_kits\": 3,\n",
    "  \"ct_players_alive\": 5,\n",
    "  \"t_players_alive\": 3,\n",
    "  \"ct_weapon_ak47\": 2,\n",
    "  \"t_weapon_ak47\": 3,\n",
    "  \"ct_weapon_aug\": 1,\n",
    "  \"t_weapon_aug\": 0,\n",
    "  \"ct_weapon_awp\": 1,\n",
    "  \"t_weapon_awp\": 0,\n",
    "  \"ct_weapon_bizon\": 0,\n",
    "  \"t_weapon_bizon\": 0,\n",
    "  \"ct_weapon_cz75auto\": 0,\n",
    "  \"t_weapon_cz75auto\": 0,\n",
    "  \"ct_weapon_elite\": 0,\n",
    "  \"t_weapon_elite\": 0,\n",
    "  \"ct_weapon_famas\": 0,\n",
    "  \"t_weapon_famas\": 0,\n",
    "  \"ct_weapon_g3sg1\": 0,\n",
    "  \"t_weapon_g3sg1\": 0,\n",
    "  \"ct_weapon_galilar\": 0,\n",
    "  \"t_weapon_galilar\": 0,\n",
    "  \"ct_weapon_glock\": 0,\n",
    "  \"t_weapon_glock\": 2,\n",
    "  \"ct_weapon_m249\": 0,\n",
    "  \"t_weapon_m249\": 0,\n",
    "  \"ct_weapon_m4a1s\": 1,\n",
    "  \"t_weapon_m4a1s\": 0,\n",
    "  \"ct_weapon_m4a4\": 0,\n",
    "  \"t_weapon_m4a4\": 0,\n",
    "  \"ct_weapon_mac10\": 0,\n",
    "  \"t_weapon_mac10\": 0,\n",
    "  \"ct_weapon_mag7\": 0,\n",
    "  \"t_weapon_mag7\": 0,\n",
    "  \"ct_weapon_mp5sd\": 0,\n",
    "  \"t_weapon_mp5sd\": 0,\n",
    "  \"ct_weapon_mp7\": 0,\n",
    "  \"t_weapon_mp7\": 0,\n",
    "  \"ct_weapon_mp9\": 0,\n",
    "  \"t_weapon_mp9\": 0,\n",
    "  \"ct_weapon_negev\": 0,\n",
    "  \"t_weapon_negev\": 0,\n",
    "  \"ct_weapon_nova\": 0,\n",
    "  \"t_weapon_nova\": 0,\n",
    "  \"ct_weapon_p90\": 0,\n",
    "  \"t_weapon_p90\": 0,\n",
    "  \"ct_weapon_r8revolver\": 0,\n",
    "  \"t_weapon_r8revolver\": 0,\n",
    "  \"ct_weapon_sawedoff\": 0,\n",
    "  \"t_weapon_sawedoff\": 0,\n",
    "  \"ct_weapon_scar20\": 0,\n",
    "  \"t_weapon_scar20\": 0,\n",
    "  \"ct_weapon_sg553\": 0,\n",
    "  \"t_weapon_sg553\": 0,\n",
    "  \"ct_weapon_ssg08\": 0,\n",
    "  \"t_weapon_ssg08\": 0,\n",
    "  \"ct_weapon_ump45\": 0,\n",
    "  \"t_weapon_ump45\": 0,\n",
    "  \"ct_weapon_xm1014\": 0,\n",
    "  \"t_weapon_xm1014\": 0,\n",
    "  \"ct_weapon_deagle\": 0,\n",
    "  \"t_weapon_deagle\": 0,\n",
    "  \"ct_weapon_fiveseven\": 0,\n",
    "  \"t_weapon_fiveseven\": 0,\n",
    "  \"ct_weapon_usps\": 5,\n",
    "  \"t_weapon_usps\": 0,\n",
    "  \"ct_weapon_p250\": 0,\n",
    "  \"t_weapon_p250\": 0,\n",
    "  \"ct_weapon_p2000\": 0,\n",
    "  \"t_weapon_p2000\": 0,\n",
    "  \"ct_weapon_tec9\": 0,\n",
    "  \"t_weapon_tec9\": 0,\n",
    "  \"ct_grenade_hegrenade\": 3,\n",
    "  \"t_grenade_hegrenade\": 0,\n",
    "  \"ct_grenade_flashbang\": 3,\n",
    "  \"t_grenade_flashbang\": 0,\n",
    "  \"ct_grenade_smokegrenade\": 3,\n",
    "  \"t_grenade_smokegrenade\": 0,\n",
    "  \"ct_grenade_incendiarygrenade\": 2,\n",
    "  \"t_grenade_incendiarygrenade\": 0,\n",
    "  \"ct_grenade_molotovgrenade\": 0,\n",
    "  \"t_grenade_molotovgrenade\": 0,\n",
    "  \"ct_grenade_decoygrenade\": 0,\n",
    "  \"t_grenade_decoygrenade\": 0,\n",
    "  \"map_de_cache\": 0,\n",
    "  \"map_de_dust2\": 1,\n",
    "  \"map_de_inferno\": 0,\n",
    "  \"map_de_mirage\": 0,\n",
    "  \"map_de_nuke\": 0,\n",
    "  \"map_de_overpass\": 0,\n",
    "  \"map_de_train\": 0,\n",
    "  \"map_de_vertigo\": 0\n",
    "}\n",
    "\n",
    "phil = pd.DataFrame(data, index=[0])\n",
    "\n",
    "phil_scaled = scaler.fit_transform(phil)"
   ],
   "metadata": {
    "collapsed": false,
<<<<<<< Updated upstream
    "pycharm": {
     "name": "#%%\n"
    }
   }
  },
  {
   "cell_type": "code",
   "execution_count": null,
=======
    "ExecuteTime": {
<<<<<<< HEAD
     "end_time": "2024-03-14T11:07:55.567868Z",
     "start_time": "2024-03-14T11:07:55.549033Z"
    }
   },
   "id": "42db53d23357da65",
   "execution_count": 22
  },
  {
   "cell_type": "code",
   "outputs": [
    {
     "name": "stdout",
     "output_type": "stream",
     "text": [
      "Accuracy 0.877706069765542\n",
      "Precision 0.8903151485229984\n",
      "Recall 0.8669177149266886\n",
      "Confusion Matrix [[10668  1333]\n",
      " [ 1661 10820]]\n",
      "predict CT\n",
      "predict terrorist 27%\n",
      "predict counter-terrorist 73%\n"
     ]
    }
   ],
=======
     "end_time": "2024-03-11T14:15:53.792979800Z",
     "start_time": "2024-03-11T14:15:53.785207Z"
    },
    "pycharm": {
     "name": "#%%\n"
    }
   },
   "id": "42db53d23357da65",
   "execution_count": null
  },
  {
   "cell_type": "code",
>>>>>>> Stashed changes
   "outputs": [],
>>>>>>> 06f48ee39f749b60467e996beac9f3a7acae595e
   "source": [
    "#This cell creates a random forest model and shows the score, prediction and the probabilities of the prediction\n",
    "rf_model = RandomForestClassifier(n_jobs=4)\n",
    "\n",
    "rf_model.fit(X_train, y_train)\n",
    "rf_score = rf_model.score(X_test, y_test)\n",
    "rf_predict = rf_model.predict(phil)\n",
    "[rf_probabilities_ct, rf_probabilities_t] = rf_model.predict_proba(phil)[0]\n",
    "rf_precision = precision_score(y_test, rf_model.predict(X_test))\n",
    "rf_conf_matrix = confusion_matrix(y_test, rf_model.predict(X_test))\n",
    "rf_recall = recall_score(y_test, rf_model.predict(X_test))\n",
    "\n",
    "print(\"Accuracy\", rf_score)\n",
    "print(\"Precision\", rf_precision)\n",
    "print(\"Recall\", rf_recall)\n",
    "print(\"Confusion Matrix\", rf_conf_matrix)\n",
    "print(\"predict\", \"CT\" if rf_predict == 0 else \"T\")\n",
    "print(\"predict terrorist\", f\"{round(rf_probabilities_t * 100)}%\")\n",
    "print(\"predict counter-terrorist\", f\"{round(rf_probabilities_ct * 100)}%\")"
   ],
   "metadata": {
    "collapsed": false,
<<<<<<< HEAD
    "ExecuteTime": {
     "end_time": "2024-03-14T11:08:03.888833Z",
     "start_time": "2024-03-14T11:07:55.568314Z"
    }
   },
   "id": "d590bfa5c37f6695",
   "execution_count": 23
=======
<<<<<<< Updated upstream
    "pycharm": {
     "name": "#%%\n"
    }
   }
>>>>>>> 06f48ee39f749b60467e996beac9f3a7acae595e
  },
  {
   "cell_type": "code",
   "outputs": [
    {
     "name": "stdout",
     "output_type": "stream",
     "text": [
      "score 0.741156768237889\n",
      "predict CT\n",
      "predict terrorist 21%\n",
      "predict counter-terrorist 79%\n"
     ]
    },
    {
     "name": "stderr",
     "output_type": "stream",
     "text": [
      "/Library/Frameworks/Python.framework/Versions/3.10/lib/python3.10/site-packages/sklearn/linear_model/_logistic.py:444: ConvergenceWarning: lbfgs failed to converge (status=1):\n",
      "STOP: TOTAL NO. of ITERATIONS REACHED LIMIT.\n",
      "\n",
      "Increase the number of iterations (max_iter) or scale the data as shown in:\n",
      "    https://scikit-learn.org/stable/modules/preprocessing.html\n",
      "Please also refer to the documentation for alternative solver options:\n",
      "    https://scikit-learn.org/stable/modules/linear_model.html#logistic-regression\n",
      "  n_iter_i = _check_optimize_result(\n"
     ]
    }
   ],
=======
    "ExecuteTime": {
     "end_time": "2024-03-11T14:16:03.666937800Z",
     "start_time": "2024-03-11T14:15:55.516275300Z"
    },
    "pycharm": {
     "name": "#%%\n"
    }
   },
   "id": "d590bfa5c37f6695",
   "execution_count": null
  },
  {
   "cell_type": "code",
   "outputs": [],
>>>>>>> Stashed changes
   "source": [
    "lr_model = LogisticRegression(max_iter=1000)\n",
    "\n",
    "lr_model.fit(X_train, y_train)\n",
    "lr_score = lr_model.score(X_test, y_test)\n",
    "lr_predict = lr_model.predict(phil)\n",
    "[lr_probabilities_ct, lr_probabilities_t] = lr_model.predict_proba(phil)[0]\n",
    "\n",
    "\n",
    "print(\"score\", lr_score)\n",
    "print(\"predict\", \"CT\" if lr_predict == 0 else \"T\")\n",
    "print(\"predict terrorist\", f\"{round(lr_probabilities_t * 100)}%\")\n",
    "print(\"predict counter-terrorist\", f\"{round(lr_probabilities_ct * 100)}%\")"
   ],
   "metadata": {
    "collapsed": false,
    "ExecuteTime": {
<<<<<<< HEAD
     "end_time": "2024-03-14T11:08:18.063569Z",
     "start_time": "2024-03-14T11:08:03.898688Z"
=======
<<<<<<< Updated upstream
     "end_time": "2024-03-14T10:59:13.313736Z",
     "start_time": "2024-03-14T10:58:58.802205Z"
>>>>>>> 06f48ee39f749b60467e996beac9f3a7acae595e
    }
   },
   "id": "8773d5a8a53f960c",
   "execution_count": 24
  },
  {
   "cell_type": "code",
   "outputs": [
    {
     "name": "stdout",
     "output_type": "stream",
     "text": [
      "score 0.7537374397516543\n",
      "predict CT\n",
      "predict terrorist 40%\n",
      "predict counter-terrorist 60%\n"
     ]
    }
   ],
=======
     "end_time": "2024-03-11T14:08:36.519095800Z",
     "start_time": "2024-03-11T14:08:32.251477Z"
    },
    "pycharm": {
     "name": "#%%\n"
    }
   },
   "id": "8773d5a8a53f960c",
   "execution_count": null
  },
  {
   "cell_type": "code",
   "outputs": [],
>>>>>>> Stashed changes
   "source": [
    "gb_model = GradientBoostingClassifier()\n",
    "\n",
    "gb_model.fit(X_train, y_train)\n",
    "gb_score = gb_model.score(X_test, y_test)\n",
    "gb_predict = gb_model.predict(phil)\n",
    "[gb_probabilities_ct, gb_probabilities_t] = gb_model.predict_proba(phil)[0]\n",
    "\n",
    "\n",
    "print(\"score\", gb_score)\n",
    "print(\"predict\", \"CT\" if gb_predict == 0 else \"T\")\n",
    "print(\"predict terrorist\", f\"{round(gb_probabilities_t * 100)}%\")\n",
    "print(\"predict counter-terrorist\", f\"{round(gb_probabilities_ct * 100)}%\")"
   ],
   "metadata": {
    "collapsed": false,
    "ExecuteTime": {
<<<<<<< HEAD
     "end_time": "2024-03-14T11:08:59.255538Z",
     "start_time": "2024-03-14T11:08:18.072966Z"
    }
   },
   "id": "b00eebbe0675ffd9",
   "execution_count": 25
=======
<<<<<<< Updated upstream
     "end_time": "2024-03-14T10:59:49.832529Z",
     "start_time": "2024-03-14T10:59:13.322590Z"
    }
   },
   "id": "b00eebbe0675ffd9",
   "execution_count": 12
=======
     "end_time": "2024-03-11T14:11:06.838784300Z",
     "start_time": "2024-03-11T14:10:37.969684100Z"
    },
    "pycharm": {
     "name": "#%%\n"
    }
   },
   "id": "b00eebbe0675ffd9",
   "execution_count": null
>>>>>>> Stashed changes
>>>>>>> 06f48ee39f749b60467e996beac9f3a7acae595e
  }
 ],
 "metadata": {
  "kernelspec": {
   "display_name": "Python 3",
   "language": "python",
   "name": "python3"
  },
  "language_info": {
   "codemirror_mode": {
    "name": "ipython",
    "version": 2
   },
   "file_extension": ".py",
   "mimetype": "text/x-python",
   "name": "python",
   "nbconvert_exporter": "python",
   "pygments_lexer": "ipython2",
   "version": "2.7.6"
  }
 },
 "nbformat": 4,
 "nbformat_minor": 5
}