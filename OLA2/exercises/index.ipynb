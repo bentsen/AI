{
 "cells": [
  {
   "cell_type": "code",
   "execution_count": 103,
   "id": "initial_id",
   "metadata": {
    "collapsed": true,
    "ExecuteTime": {
     "end_time": "2024-03-10T14:30:54.207107200Z",
     "start_time": "2024-03-10T14:30:54.146216800Z"
    }
   },
   "outputs": [],
   "source": [
    "import pandas as pd\n",
    "import numpy as np\n",
    "import matplotlib.pyplot as plt\n",
    "import seaborn as sns\n",
    "\n",
    "from sklearn.model_selection import train_test_split\n",
    "from sklearn.ensemble import RandomForestClassifier\n",
    "from sklearn.neural_network import MLPClassifier\n",
    "from sklearn.ensemble import GradientBoostingClassifier\n",
    "from sklearn.preprocessing import LabelEncoder\n",
    "from sklearn.preprocessing import StandardScaler\n"
   ]
  },
  {
   "cell_type": "code",
   "outputs": [],
   "source": [
    "df = pd.read_csv('../resources/csgo_round_snapshots.csv')"
   ],
   "metadata": {
    "collapsed": false,
    "ExecuteTime": {
     "end_time": "2024-03-10T14:30:55.107397800Z",
     "start_time": "2024-03-10T14:30:54.161122800Z"
    }
   },
   "id": "c1682661201273ac",
   "execution_count": 104
  },
  {
   "cell_type": "code",
   "outputs": [
    {
     "data": {
      "text/plain": "        time_left  ct_score  t_score       map  bomb_planted  ct_health  \\\n0          175.00       0.0      0.0  de_dust2         False      500.0   \n1          156.03       0.0      0.0  de_dust2         False      500.0   \n2           96.03       0.0      0.0  de_dust2         False      391.0   \n3           76.03       0.0      0.0  de_dust2         False      391.0   \n4          174.97       1.0      0.0  de_dust2         False      500.0   \n...           ...       ...      ...       ...           ...        ...   \n122405      15.41      11.0     14.0  de_train          True      200.0   \n122406     174.93      11.0     15.0  de_train         False      500.0   \n122407     114.93      11.0     15.0  de_train         False      500.0   \n122408      94.93      11.0     15.0  de_train         False      500.0   \n122409      74.93      11.0     15.0  de_train         False      375.0   \n\n        t_health  ct_armor  t_armor  ct_money  ...  t_grenade_flashbang  \\\n0          500.0       0.0      0.0    4000.0  ...                  0.0   \n1          500.0     400.0    300.0     600.0  ...                  0.0   \n2          400.0     294.0    200.0     750.0  ...                  0.0   \n3          400.0     294.0    200.0     750.0  ...                  0.0   \n4          500.0     192.0      0.0   18350.0  ...                  0.0   \n...          ...       ...      ...       ...  ...                  ...   \n122405     242.0     195.0    359.0     100.0  ...                  2.0   \n122406     500.0      95.0    175.0   11500.0  ...                  2.0   \n122407     500.0     495.0    475.0    1200.0  ...                  4.0   \n122408     500.0     495.0    475.0    1200.0  ...                  5.0   \n122409     479.0     395.0    466.0    1100.0  ...                  3.0   \n\n        ct_grenade_smokegrenade  t_grenade_smokegrenade  \\\n0                           0.0                     0.0   \n1                           0.0                     2.0   \n2                           0.0                     2.0   \n3                           0.0                     0.0   \n4                           0.0                     0.0   \n...                         ...                     ...   \n122405                      1.0                     1.0   \n122406                      1.0                     0.0   \n122407                      3.0                     5.0   \n122408                      0.0                     3.0   \n122409                      0.0                     2.0   \n\n        ct_grenade_incendiarygrenade  t_grenade_incendiarygrenade  \\\n0                                0.0                          0.0   \n1                                0.0                          0.0   \n2                                0.0                          0.0   \n3                                0.0                          0.0   \n4                                0.0                          0.0   \n...                              ...                          ...   \n122405                           0.0                          0.0   \n122406                           0.0                          0.0   \n122407                           1.0                          0.0   \n122408                           0.0                          0.0   \n122409                           0.0                          0.0   \n\n        ct_grenade_molotovgrenade  t_grenade_molotovgrenade  \\\n0                             0.0                       0.0   \n1                             0.0                       0.0   \n2                             0.0                       0.0   \n3                             0.0                       0.0   \n4                             0.0                       0.0   \n...                           ...                       ...   \n122405                        0.0                       0.0   \n122406                        0.0                       0.0   \n122407                        0.0                       5.0   \n122408                        0.0                       4.0   \n122409                        0.0                       3.0   \n\n        ct_grenade_decoygrenade  t_grenade_decoygrenade  round_winner  \n0                           0.0                     0.0            CT  \n1                           0.0                     0.0            CT  \n2                           0.0                     0.0            CT  \n3                           0.0                     0.0            CT  \n4                           0.0                     0.0            CT  \n...                         ...                     ...           ...  \n122405                      0.0                     0.0             T  \n122406                      0.0                     0.0             T  \n122407                      0.0                     0.0             T  \n122408                      0.0                     0.0             T  \n122409                      0.0                     0.0             T  \n\n[122410 rows x 97 columns]",
      "text/html": "<div>\n<style scoped>\n    .dataframe tbody tr th:only-of-type {\n        vertical-align: middle;\n    }\n\n    .dataframe tbody tr th {\n        vertical-align: top;\n    }\n\n    .dataframe thead th {\n        text-align: right;\n    }\n</style>\n<table border=\"1\" class=\"dataframe\">\n  <thead>\n    <tr style=\"text-align: right;\">\n      <th></th>\n      <th>time_left</th>\n      <th>ct_score</th>\n      <th>t_score</th>\n      <th>map</th>\n      <th>bomb_planted</th>\n      <th>ct_health</th>\n      <th>t_health</th>\n      <th>ct_armor</th>\n      <th>t_armor</th>\n      <th>ct_money</th>\n      <th>...</th>\n      <th>t_grenade_flashbang</th>\n      <th>ct_grenade_smokegrenade</th>\n      <th>t_grenade_smokegrenade</th>\n      <th>ct_grenade_incendiarygrenade</th>\n      <th>t_grenade_incendiarygrenade</th>\n      <th>ct_grenade_molotovgrenade</th>\n      <th>t_grenade_molotovgrenade</th>\n      <th>ct_grenade_decoygrenade</th>\n      <th>t_grenade_decoygrenade</th>\n      <th>round_winner</th>\n    </tr>\n  </thead>\n  <tbody>\n    <tr>\n      <th>0</th>\n      <td>175.00</td>\n      <td>0.0</td>\n      <td>0.0</td>\n      <td>de_dust2</td>\n      <td>False</td>\n      <td>500.0</td>\n      <td>500.0</td>\n      <td>0.0</td>\n      <td>0.0</td>\n      <td>4000.0</td>\n      <td>...</td>\n      <td>0.0</td>\n      <td>0.0</td>\n      <td>0.0</td>\n      <td>0.0</td>\n      <td>0.0</td>\n      <td>0.0</td>\n      <td>0.0</td>\n      <td>0.0</td>\n      <td>0.0</td>\n      <td>CT</td>\n    </tr>\n    <tr>\n      <th>1</th>\n      <td>156.03</td>\n      <td>0.0</td>\n      <td>0.0</td>\n      <td>de_dust2</td>\n      <td>False</td>\n      <td>500.0</td>\n      <td>500.0</td>\n      <td>400.0</td>\n      <td>300.0</td>\n      <td>600.0</td>\n      <td>...</td>\n      <td>0.0</td>\n      <td>0.0</td>\n      <td>2.0</td>\n      <td>0.0</td>\n      <td>0.0</td>\n      <td>0.0</td>\n      <td>0.0</td>\n      <td>0.0</td>\n      <td>0.0</td>\n      <td>CT</td>\n    </tr>\n    <tr>\n      <th>2</th>\n      <td>96.03</td>\n      <td>0.0</td>\n      <td>0.0</td>\n      <td>de_dust2</td>\n      <td>False</td>\n      <td>391.0</td>\n      <td>400.0</td>\n      <td>294.0</td>\n      <td>200.0</td>\n      <td>750.0</td>\n      <td>...</td>\n      <td>0.0</td>\n      <td>0.0</td>\n      <td>2.0</td>\n      <td>0.0</td>\n      <td>0.0</td>\n      <td>0.0</td>\n      <td>0.0</td>\n      <td>0.0</td>\n      <td>0.0</td>\n      <td>CT</td>\n    </tr>\n    <tr>\n      <th>3</th>\n      <td>76.03</td>\n      <td>0.0</td>\n      <td>0.0</td>\n      <td>de_dust2</td>\n      <td>False</td>\n      <td>391.0</td>\n      <td>400.0</td>\n      <td>294.0</td>\n      <td>200.0</td>\n      <td>750.0</td>\n      <td>...</td>\n      <td>0.0</td>\n      <td>0.0</td>\n      <td>0.0</td>\n      <td>0.0</td>\n      <td>0.0</td>\n      <td>0.0</td>\n      <td>0.0</td>\n      <td>0.0</td>\n      <td>0.0</td>\n      <td>CT</td>\n    </tr>\n    <tr>\n      <th>4</th>\n      <td>174.97</td>\n      <td>1.0</td>\n      <td>0.0</td>\n      <td>de_dust2</td>\n      <td>False</td>\n      <td>500.0</td>\n      <td>500.0</td>\n      <td>192.0</td>\n      <td>0.0</td>\n      <td>18350.0</td>\n      <td>...</td>\n      <td>0.0</td>\n      <td>0.0</td>\n      <td>0.0</td>\n      <td>0.0</td>\n      <td>0.0</td>\n      <td>0.0</td>\n      <td>0.0</td>\n      <td>0.0</td>\n      <td>0.0</td>\n      <td>CT</td>\n    </tr>\n    <tr>\n      <th>...</th>\n      <td>...</td>\n      <td>...</td>\n      <td>...</td>\n      <td>...</td>\n      <td>...</td>\n      <td>...</td>\n      <td>...</td>\n      <td>...</td>\n      <td>...</td>\n      <td>...</td>\n      <td>...</td>\n      <td>...</td>\n      <td>...</td>\n      <td>...</td>\n      <td>...</td>\n      <td>...</td>\n      <td>...</td>\n      <td>...</td>\n      <td>...</td>\n      <td>...</td>\n      <td>...</td>\n    </tr>\n    <tr>\n      <th>122405</th>\n      <td>15.41</td>\n      <td>11.0</td>\n      <td>14.0</td>\n      <td>de_train</td>\n      <td>True</td>\n      <td>200.0</td>\n      <td>242.0</td>\n      <td>195.0</td>\n      <td>359.0</td>\n      <td>100.0</td>\n      <td>...</td>\n      <td>2.0</td>\n      <td>1.0</td>\n      <td>1.0</td>\n      <td>0.0</td>\n      <td>0.0</td>\n      <td>0.0</td>\n      <td>0.0</td>\n      <td>0.0</td>\n      <td>0.0</td>\n      <td>T</td>\n    </tr>\n    <tr>\n      <th>122406</th>\n      <td>174.93</td>\n      <td>11.0</td>\n      <td>15.0</td>\n      <td>de_train</td>\n      <td>False</td>\n      <td>500.0</td>\n      <td>500.0</td>\n      <td>95.0</td>\n      <td>175.0</td>\n      <td>11500.0</td>\n      <td>...</td>\n      <td>2.0</td>\n      <td>1.0</td>\n      <td>0.0</td>\n      <td>0.0</td>\n      <td>0.0</td>\n      <td>0.0</td>\n      <td>0.0</td>\n      <td>0.0</td>\n      <td>0.0</td>\n      <td>T</td>\n    </tr>\n    <tr>\n      <th>122407</th>\n      <td>114.93</td>\n      <td>11.0</td>\n      <td>15.0</td>\n      <td>de_train</td>\n      <td>False</td>\n      <td>500.0</td>\n      <td>500.0</td>\n      <td>495.0</td>\n      <td>475.0</td>\n      <td>1200.0</td>\n      <td>...</td>\n      <td>4.0</td>\n      <td>3.0</td>\n      <td>5.0</td>\n      <td>1.0</td>\n      <td>0.0</td>\n      <td>0.0</td>\n      <td>5.0</td>\n      <td>0.0</td>\n      <td>0.0</td>\n      <td>T</td>\n    </tr>\n    <tr>\n      <th>122408</th>\n      <td>94.93</td>\n      <td>11.0</td>\n      <td>15.0</td>\n      <td>de_train</td>\n      <td>False</td>\n      <td>500.0</td>\n      <td>500.0</td>\n      <td>495.0</td>\n      <td>475.0</td>\n      <td>1200.0</td>\n      <td>...</td>\n      <td>5.0</td>\n      <td>0.0</td>\n      <td>3.0</td>\n      <td>0.0</td>\n      <td>0.0</td>\n      <td>0.0</td>\n      <td>4.0</td>\n      <td>0.0</td>\n      <td>0.0</td>\n      <td>T</td>\n    </tr>\n    <tr>\n      <th>122409</th>\n      <td>74.93</td>\n      <td>11.0</td>\n      <td>15.0</td>\n      <td>de_train</td>\n      <td>False</td>\n      <td>375.0</td>\n      <td>479.0</td>\n      <td>395.0</td>\n      <td>466.0</td>\n      <td>1100.0</td>\n      <td>...</td>\n      <td>3.0</td>\n      <td>0.0</td>\n      <td>2.0</td>\n      <td>0.0</td>\n      <td>0.0</td>\n      <td>0.0</td>\n      <td>3.0</td>\n      <td>0.0</td>\n      <td>0.0</td>\n      <td>T</td>\n    </tr>\n  </tbody>\n</table>\n<p>122410 rows × 97 columns</p>\n</div>"
     },
     "execution_count": 105,
     "metadata": {},
     "output_type": "execute_result"
    }
   ],
   "source": [
    "df"
   ],
   "metadata": {
    "collapsed": false,
    "ExecuteTime": {
     "end_time": "2024-03-10T14:30:55.171620700Z",
     "start_time": "2024-03-10T14:30:55.109393600Z"
    }
   },
   "id": "e0f26b6e1d61462c",
   "execution_count": 105
  },
  {
   "cell_type": "code",
   "outputs": [
    {
     "data": {
      "text/plain": "time_left                    0\nct_score                     0\nt_score                      0\nmap                          0\nbomb_planted                 0\n                            ..\nct_grenade_molotovgrenade    0\nt_grenade_molotovgrenade     0\nct_grenade_decoygrenade      0\nt_grenade_decoygrenade       0\nround_winner                 0\nLength: 97, dtype: int64"
     },
     "execution_count": 106,
     "metadata": {},
     "output_type": "execute_result"
    }
   ],
   "source": [
    "np.sum(df.isnull())"
   ],
   "metadata": {
    "collapsed": false,
    "ExecuteTime": {
     "end_time": "2024-03-10T14:30:55.219366200Z",
     "start_time": "2024-03-10T14:30:55.171620700Z"
    }
   },
   "id": "407aadaf3ac1df2d",
   "execution_count": 106
  },
  {
   "cell_type": "code",
   "outputs": [
    {
     "name": "stdout",
     "output_type": "stream",
     "text": [
      "Rows: 122410, Columns: 97\n"
     ]
    }
   ],
   "source": [
    "rows, columns = df.shape\n",
    "print(f'Rows: {rows}, Columns: {columns}')"
   ],
   "metadata": {
    "collapsed": false,
    "ExecuteTime": {
     "end_time": "2024-03-10T14:30:55.242190200Z",
     "start_time": "2024-03-10T14:30:55.204446900Z"
    }
   },
   "id": "1b5943683ebcbd80",
   "execution_count": 107
  },
  {
   "cell_type": "code",
   "outputs": [
    {
     "data": {
      "text/plain": "             map  bomb_planted round_winner\n0       de_dust2         False           CT\n1       de_dust2         False           CT\n2       de_dust2         False           CT\n3       de_dust2         False           CT\n4       de_dust2         False           CT\n...          ...           ...          ...\n122405  de_train          True            T\n122406  de_train         False            T\n122407  de_train         False            T\n122408  de_train         False            T\n122409  de_train         False            T\n\n[122410 rows x 3 columns]",
      "text/html": "<div>\n<style scoped>\n    .dataframe tbody tr th:only-of-type {\n        vertical-align: middle;\n    }\n\n    .dataframe tbody tr th {\n        vertical-align: top;\n    }\n\n    .dataframe thead th {\n        text-align: right;\n    }\n</style>\n<table border=\"1\" class=\"dataframe\">\n  <thead>\n    <tr style=\"text-align: right;\">\n      <th></th>\n      <th>map</th>\n      <th>bomb_planted</th>\n      <th>round_winner</th>\n    </tr>\n  </thead>\n  <tbody>\n    <tr>\n      <th>0</th>\n      <td>de_dust2</td>\n      <td>False</td>\n      <td>CT</td>\n    </tr>\n    <tr>\n      <th>1</th>\n      <td>de_dust2</td>\n      <td>False</td>\n      <td>CT</td>\n    </tr>\n    <tr>\n      <th>2</th>\n      <td>de_dust2</td>\n      <td>False</td>\n      <td>CT</td>\n    </tr>\n    <tr>\n      <th>3</th>\n      <td>de_dust2</td>\n      <td>False</td>\n      <td>CT</td>\n    </tr>\n    <tr>\n      <th>4</th>\n      <td>de_dust2</td>\n      <td>False</td>\n      <td>CT</td>\n    </tr>\n    <tr>\n      <th>...</th>\n      <td>...</td>\n      <td>...</td>\n      <td>...</td>\n    </tr>\n    <tr>\n      <th>122405</th>\n      <td>de_train</td>\n      <td>True</td>\n      <td>T</td>\n    </tr>\n    <tr>\n      <th>122406</th>\n      <td>de_train</td>\n      <td>False</td>\n      <td>T</td>\n    </tr>\n    <tr>\n      <th>122407</th>\n      <td>de_train</td>\n      <td>False</td>\n      <td>T</td>\n    </tr>\n    <tr>\n      <th>122408</th>\n      <td>de_train</td>\n      <td>False</td>\n      <td>T</td>\n    </tr>\n    <tr>\n      <th>122409</th>\n      <td>de_train</td>\n      <td>False</td>\n      <td>T</td>\n    </tr>\n  </tbody>\n</table>\n<p>122410 rows × 3 columns</p>\n</div>"
     },
     "execution_count": 108,
     "metadata": {},
     "output_type": "execute_result"
    }
   ],
   "source": [
    "non_numeric_cols = df.select_dtypes(exclude=[np.number])\n",
    "non_numeric_cols"
   ],
   "metadata": {
    "collapsed": false,
    "ExecuteTime": {
     "end_time": "2024-03-10T14:30:55.263535900Z",
     "start_time": "2024-03-10T14:30:55.208944300Z"
    }
   },
   "id": "1ad2063736dc783f",
   "execution_count": 108
  },
  {
   "cell_type": "code",
   "outputs": [],
   "source": [
    "#This cell will transform all the non-numeric columns into numeric columns\n",
    "le = LabelEncoder()\n",
    "\n",
    "df['bomb_planted'] = df['bomb_planted'].astype(int)\n",
    "df['round_winner'] = le.fit_transform(df['round_winner'])\n",
    "df['map'] = le.fit_transform(df['map'])"
   ],
   "metadata": {
    "collapsed": false,
    "ExecuteTime": {
     "end_time": "2024-03-10T14:30:55.301406500Z",
     "start_time": "2024-03-10T14:30:55.220364Z"
    }
   },
   "id": "db4d946cbe4616ac",
   "execution_count": 109
  },
  {
   "cell_type": "code",
   "outputs": [],
   "source": [
    "X,y = df.drop(['round_winner'], axis=1), df['round_winner']\n",
    "X_train, X_test, y_train, y_test = train_test_split(X, y, test_size=0.2)\n",
    "\n",
    "scaler = StandardScaler()\n",
    "X_train_scaled = scaler.fit_transform(X_train)\n",
    "X_test_scaled = scaler.transform(X_test)"
   ],
   "metadata": {
    "collapsed": false,
    "ExecuteTime": {
     "end_time": "2024-03-10T14:30:55.669353300Z",
     "start_time": "2024-03-10T14:30:55.265044400Z"
    }
   },
   "id": "9b098a3fb74a0f3e",
   "execution_count": 110
  },
  {
   "cell_type": "code",
   "outputs": [
    {
     "data": {
      "text/plain": "0.8781962257985458"
     },
     "execution_count": 111,
     "metadata": {},
     "output_type": "execute_result"
    }
   ],
   "source": [
    "rf_model = RandomForestClassifier(n_jobs=4)\n",
    "\n",
    "rf_model.fit(X_train_scaled, y_train)\n",
    "rf_model.score(X_test_scaled, y_test)"
   ],
   "metadata": {
    "collapsed": false,
    "ExecuteTime": {
     "end_time": "2024-03-10T14:31:04.493674200Z",
     "start_time": "2024-03-10T14:30:55.671347100Z"
    }
   },
   "id": "d590bfa5c37f6695",
   "execution_count": 111
  },
  {
   "cell_type": "code",
   "outputs": [
    {
     "data": {
      "text/plain": "0.7562290662527571"
     },
     "execution_count": 115,
     "metadata": {},
     "output_type": "execute_result"
    }
   ],
   "source": [
    "gb_model = GradientBoostingClassifier()\n",
    "\n",
    "gb_model.fit(X_train_scaled, y_train)\n",
    "gb_model.score(X_test_scaled, y_test)"
   ],
   "metadata": {
    "collapsed": false,
    "ExecuteTime": {
     "end_time": "2024-03-10T14:44:04.225606700Z",
     "start_time": "2024-03-10T14:43:29.110904400Z"
    }
   },
   "id": "b00eebbe0675ffd9",
   "execution_count": 115
  },
  {
   "cell_type": "code",
   "outputs": [
    {
     "data": {
      "text/plain": "0.7619475533044686"
     },
     "execution_count": 114,
     "metadata": {},
     "output_type": "execute_result"
    }
   ],
   "source": [
    "nn_model = MLPClassifier(activation='logistic', solver='adam', hidden_layer_sizes=(8,8,8,8), max_iter=500, random_state=42)\n",
    "\n",
    "nn_model.fit(X_train_scaled, y_train)\n",
    "nn_model.score(X_test_scaled, y_test)"
   ],
   "metadata": {
    "collapsed": false,
    "ExecuteTime": {
     "end_time": "2024-03-10T14:32:40.603033600Z",
     "start_time": "2024-03-10T14:31:55.123288500Z"
    }
   },
   "id": "8773d5a8a53f960c",
   "execution_count": 114
  },
  {
   "cell_type": "code",
   "outputs": [],
   "source": [],
   "metadata": {
    "collapsed": false
   },
   "id": "2907cb63014da96e"
  }
 ],
 "metadata": {
  "kernelspec": {
   "display_name": "Python 3",
   "language": "python",
   "name": "python3"
  },
  "language_info": {
   "codemirror_mode": {
    "name": "ipython",
    "version": 2
   },
   "file_extension": ".py",
   "mimetype": "text/x-python",
   "name": "python",
   "nbconvert_exporter": "python",
   "pygments_lexer": "ipython2",
   "version": "2.7.6"
  }
 },
 "nbformat": 4,
 "nbformat_minor": 5
}
