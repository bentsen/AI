{
 "cells": [
  {
   "cell_type": "code",
   "outputs": [
    {
     "data": {
      "text/plain": "   time_left  ct_score  t_score       map  bomb_planted  ct_health  t_health  \\\n0     175.00       0.0      0.0  de_dust2         False      500.0     500.0   \n1     156.03       0.0      0.0  de_dust2         False      500.0     500.0   \n2      96.03       0.0      0.0  de_dust2         False      391.0     400.0   \n3      76.03       0.0      0.0  de_dust2         False      391.0     400.0   \n4     174.97       1.0      0.0  de_dust2         False      500.0     500.0   \n\n   ct_armor  t_armor  ct_money  ...  t_grenade_flashbang  \\\n0       0.0      0.0    4000.0  ...                  0.0   \n1     400.0    300.0     600.0  ...                  0.0   \n2     294.0    200.0     750.0  ...                  0.0   \n3     294.0    200.0     750.0  ...                  0.0   \n4     192.0      0.0   18350.0  ...                  0.0   \n\n   ct_grenade_smokegrenade  t_grenade_smokegrenade  \\\n0                      0.0                     0.0   \n1                      0.0                     2.0   \n2                      0.0                     2.0   \n3                      0.0                     0.0   \n4                      0.0                     0.0   \n\n   ct_grenade_incendiarygrenade  t_grenade_incendiarygrenade  \\\n0                           0.0                          0.0   \n1                           0.0                          0.0   \n2                           0.0                          0.0   \n3                           0.0                          0.0   \n4                           0.0                          0.0   \n\n   ct_grenade_molotovgrenade  t_grenade_molotovgrenade  \\\n0                        0.0                       0.0   \n1                        0.0                       0.0   \n2                        0.0                       0.0   \n3                        0.0                       0.0   \n4                        0.0                       0.0   \n\n   ct_grenade_decoygrenade  t_grenade_decoygrenade  round_winner  \n0                      0.0                     0.0            CT  \n1                      0.0                     0.0            CT  \n2                      0.0                     0.0            CT  \n3                      0.0                     0.0            CT  \n4                      0.0                     0.0            CT  \n\n[5 rows x 97 columns]",
      "text/html": "<div>\n<style scoped>\n    .dataframe tbody tr th:only-of-type {\n        vertical-align: middle;\n    }\n\n    .dataframe tbody tr th {\n        vertical-align: top;\n    }\n\n    .dataframe thead th {\n        text-align: right;\n    }\n</style>\n<table border=\"1\" class=\"dataframe\">\n  <thead>\n    <tr style=\"text-align: right;\">\n      <th></th>\n      <th>time_left</th>\n      <th>ct_score</th>\n      <th>t_score</th>\n      <th>map</th>\n      <th>bomb_planted</th>\n      <th>ct_health</th>\n      <th>t_health</th>\n      <th>ct_armor</th>\n      <th>t_armor</th>\n      <th>ct_money</th>\n      <th>...</th>\n      <th>t_grenade_flashbang</th>\n      <th>ct_grenade_smokegrenade</th>\n      <th>t_grenade_smokegrenade</th>\n      <th>ct_grenade_incendiarygrenade</th>\n      <th>t_grenade_incendiarygrenade</th>\n      <th>ct_grenade_molotovgrenade</th>\n      <th>t_grenade_molotovgrenade</th>\n      <th>ct_grenade_decoygrenade</th>\n      <th>t_grenade_decoygrenade</th>\n      <th>round_winner</th>\n    </tr>\n  </thead>\n  <tbody>\n    <tr>\n      <th>0</th>\n      <td>175.00</td>\n      <td>0.0</td>\n      <td>0.0</td>\n      <td>de_dust2</td>\n      <td>False</td>\n      <td>500.0</td>\n      <td>500.0</td>\n      <td>0.0</td>\n      <td>0.0</td>\n      <td>4000.0</td>\n      <td>...</td>\n      <td>0.0</td>\n      <td>0.0</td>\n      <td>0.0</td>\n      <td>0.0</td>\n      <td>0.0</td>\n      <td>0.0</td>\n      <td>0.0</td>\n      <td>0.0</td>\n      <td>0.0</td>\n      <td>CT</td>\n    </tr>\n    <tr>\n      <th>1</th>\n      <td>156.03</td>\n      <td>0.0</td>\n      <td>0.0</td>\n      <td>de_dust2</td>\n      <td>False</td>\n      <td>500.0</td>\n      <td>500.0</td>\n      <td>400.0</td>\n      <td>300.0</td>\n      <td>600.0</td>\n      <td>...</td>\n      <td>0.0</td>\n      <td>0.0</td>\n      <td>2.0</td>\n      <td>0.0</td>\n      <td>0.0</td>\n      <td>0.0</td>\n      <td>0.0</td>\n      <td>0.0</td>\n      <td>0.0</td>\n      <td>CT</td>\n    </tr>\n    <tr>\n      <th>2</th>\n      <td>96.03</td>\n      <td>0.0</td>\n      <td>0.0</td>\n      <td>de_dust2</td>\n      <td>False</td>\n      <td>391.0</td>\n      <td>400.0</td>\n      <td>294.0</td>\n      <td>200.0</td>\n      <td>750.0</td>\n      <td>...</td>\n      <td>0.0</td>\n      <td>0.0</td>\n      <td>2.0</td>\n      <td>0.0</td>\n      <td>0.0</td>\n      <td>0.0</td>\n      <td>0.0</td>\n      <td>0.0</td>\n      <td>0.0</td>\n      <td>CT</td>\n    </tr>\n    <tr>\n      <th>3</th>\n      <td>76.03</td>\n      <td>0.0</td>\n      <td>0.0</td>\n      <td>de_dust2</td>\n      <td>False</td>\n      <td>391.0</td>\n      <td>400.0</td>\n      <td>294.0</td>\n      <td>200.0</td>\n      <td>750.0</td>\n      <td>...</td>\n      <td>0.0</td>\n      <td>0.0</td>\n      <td>0.0</td>\n      <td>0.0</td>\n      <td>0.0</td>\n      <td>0.0</td>\n      <td>0.0</td>\n      <td>0.0</td>\n      <td>0.0</td>\n      <td>CT</td>\n    </tr>\n    <tr>\n      <th>4</th>\n      <td>174.97</td>\n      <td>1.0</td>\n      <td>0.0</td>\n      <td>de_dust2</td>\n      <td>False</td>\n      <td>500.0</td>\n      <td>500.0</td>\n      <td>192.0</td>\n      <td>0.0</td>\n      <td>18350.0</td>\n      <td>...</td>\n      <td>0.0</td>\n      <td>0.0</td>\n      <td>0.0</td>\n      <td>0.0</td>\n      <td>0.0</td>\n      <td>0.0</td>\n      <td>0.0</td>\n      <td>0.0</td>\n      <td>0.0</td>\n      <td>CT</td>\n    </tr>\n  </tbody>\n</table>\n<p>5 rows × 97 columns</p>\n</div>"
     },
     "execution_count": 2,
     "metadata": {},
     "output_type": "execute_result"
    }
   ],
   "source": [
    "import pandas as pd\n",
    "\n",
    "# Load the dataset\n",
    "file_path = '../resources/csgo_round_snapshots.csv'\n",
    "data = pd.read_csv(file_path)\n",
    "\n",
    "# Display the first few rows of the dataset to understand its structure\n",
    "data.head()"
   ],
   "metadata": {
    "collapsed": false,
    "ExecuteTime": {
     "end_time": "2024-03-10T16:41:05.944665600Z",
     "start_time": "2024-03-10T16:41:05.213212600Z"
    }
   },
   "id": "952c957734fccce1",
   "execution_count": 2
  },
  {
   "cell_type": "code",
   "outputs": [
    {
     "data": {
      "text/plain": "   time_left ct_score t_score         map bomb_planted ct_health t_health  \\\n0  96.042363        5       0  de_inferno        False       195      359   \n\n  ct_armor t_armor ct_money  ... ct_grenade_flashbang t_grenade_flashbang  \\\n0        9     211     4373  ...                    4                   3   \n\n  ct_grenade_smokegrenade t_grenade_smokegrenade ct_grenade_incendiarygrenade  \\\n0                       4                      4                            4   \n\n  t_grenade_incendiarygrenade ct_grenade_molotovgrenade  \\\n0                           0                         4   \n\n  t_grenade_molotovgrenade ct_grenade_decoygrenade t_grenade_decoygrenade  \n0                        3                       2                      5  \n\n[1 rows x 96 columns]",
      "text/html": "<div>\n<style scoped>\n    .dataframe tbody tr th:only-of-type {\n        vertical-align: middle;\n    }\n\n    .dataframe tbody tr th {\n        vertical-align: top;\n    }\n\n    .dataframe thead th {\n        text-align: right;\n    }\n</style>\n<table border=\"1\" class=\"dataframe\">\n  <thead>\n    <tr style=\"text-align: right;\">\n      <th></th>\n      <th>time_left</th>\n      <th>ct_score</th>\n      <th>t_score</th>\n      <th>map</th>\n      <th>bomb_planted</th>\n      <th>ct_health</th>\n      <th>t_health</th>\n      <th>ct_armor</th>\n      <th>t_armor</th>\n      <th>ct_money</th>\n      <th>...</th>\n      <th>ct_grenade_flashbang</th>\n      <th>t_grenade_flashbang</th>\n      <th>ct_grenade_smokegrenade</th>\n      <th>t_grenade_smokegrenade</th>\n      <th>ct_grenade_incendiarygrenade</th>\n      <th>t_grenade_incendiarygrenade</th>\n      <th>ct_grenade_molotovgrenade</th>\n      <th>t_grenade_molotovgrenade</th>\n      <th>ct_grenade_decoygrenade</th>\n      <th>t_grenade_decoygrenade</th>\n    </tr>\n  </thead>\n  <tbody>\n    <tr>\n      <th>0</th>\n      <td>96.042363</td>\n      <td>5</td>\n      <td>0</td>\n      <td>de_inferno</td>\n      <td>False</td>\n      <td>195</td>\n      <td>359</td>\n      <td>9</td>\n      <td>211</td>\n      <td>4373</td>\n      <td>...</td>\n      <td>4</td>\n      <td>3</td>\n      <td>4</td>\n      <td>4</td>\n      <td>4</td>\n      <td>0</td>\n      <td>4</td>\n      <td>3</td>\n      <td>2</td>\n      <td>5</td>\n    </tr>\n  </tbody>\n</table>\n<p>1 rows × 96 columns</p>\n</div>"
     },
     "execution_count": 34,
     "metadata": {},
     "output_type": "execute_result"
    }
   ],
   "source": [
    "# Assuming 'data' is your original DataFrame\n",
    "# Copy the structure of the first row\n",
    "new_instance = data.iloc[0].copy()\n",
    "\n",
    "# Set a seed for reproducibility\n",
    "np.random.seed(0)\n",
    "\n",
    "# Assigning random realistic values based on the general range and type of the existing data\n",
    "\n",
    "# Time left in the round (assuming a range from 0 to 175 seconds)\n",
    "new_instance['time_left'] = np.random.uniform(0, 175)\n",
    "\n",
    "# Scores (assuming a range for a typical match)\n",
    "new_instance['ct_score'] = np.random.randint(0, 16)\n",
    "new_instance['t_score'] = np.random.randint(0, 16)\n",
    "\n",
    "# Selecting a map randomly from the existing maps\n",
    "maps = data['map'].unique()\n",
    "new_instance['map'] = np.random.choice(maps)\n",
    "\n",
    "# Randomly deciding if the bomb has been planted\n",
    "new_instance['bomb_planted'] = np.random.choice([True, False])\n",
    "\n",
    "# Health (assuming a range of 0 to 500 for each team)\n",
    "new_instance['ct_health'] = np.random.randint(0, 501)\n",
    "new_instance['t_health'] = np.random.randint(0, 501)\n",
    "\n",
    "# Armor (assuming a range of 0 to 500 for each team)\n",
    "new_instance['ct_armor'] = np.random.randint(0, 501)\n",
    "new_instance['t_armor'] = np.random.randint(0, 501)\n",
    "\n",
    "# Money (assuming a range up to 16000, typical in CS:GO)\n",
    "new_instance['ct_money'] = np.random.randint(0, 16001)\n",
    "new_instance['t_money'] = np.random.randint(0, 16001)\n",
    "\n",
    "# Randomly selecting values for weapons, grenades, etc., within a realistic range\n",
    "for column in data.columns:\n",
    "    if 'grenade' in column or 'weapon' in column:\n",
    "        new_instance[column] = np.random.randint(0, 6)\n",
    "\n",
    "# Drop the target variable if it's in the DataFrame\n",
    "if 'round_winner' in new_instance:\n",
    "    new_instance = new_instance.drop('round_winner')\n",
    "\n",
    "# Convert to DataFrame (assuming you need it in this format for prediction)\n",
    "new_instance_df = new_instance.to_frame().transpose()"
   ],
   "metadata": {
    "collapsed": true,
    "ExecuteTime": {
     "end_time": "2024-03-10T19:38:35.326021700Z",
     "start_time": "2024-03-10T19:38:35.306856700Z"
    }
   },
   "id": "initial_id",
   "execution_count": 34
  },
  {
   "cell_type": "code",
   "outputs": [],
   "source": [],
   "metadata": {
    "collapsed": false
   },
   "id": "e1b4a986aa12293e"
  }
 ],
 "metadata": {
  "kernelspec": {
   "display_name": "Python 3",
   "language": "python",
   "name": "python3"
  },
  "language_info": {
   "codemirror_mode": {
    "name": "ipython",
    "version": 2
   },
   "file_extension": ".py",
   "mimetype": "text/x-python",
   "name": "python",
   "nbconvert_exporter": "python",
   "pygments_lexer": "ipython2",
   "version": "2.7.6"
  }
 },
 "nbformat": 4,
 "nbformat_minor": 5
}
