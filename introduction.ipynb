{
 "cells": [
  {
   "cell_type": "code",
   "execution_count": 7,
   "outputs": [
    {
     "data": {
      "text/plain": "<IPython.core.display.Markdown object>",
      "text/markdown": "## i) Practise \"magic\" commands %% -create a notebook to demo them\n"
     },
     "metadata": {},
     "output_type": "display_data"
    }
   ],
   "source": [
    "%%markdown\n",
    "## i) Practise \"magic\" commands %% -create a notebook to demo them"
   ],
   "metadata": {
    "collapsed": false,
    "ExecuteTime": {
     "end_time": "2024-01-29T10:17:02.637188Z",
     "start_time": "2024-01-29T10:17:02.628950Z"
    },
    "pycharm": {
     "name": "#%%\n"
    }
   },
   "id": "22da235ef11fc20b"
  },
  {
   "cell_type": "code",
   "execution_count": 6,
   "outputs": [
    {
     "data": {
      "text/plain": "<IPython.core.display.Markdown object>",
      "text/markdown": "\n%run: Run a python script as a program\n\n%load: Load code into the current frontend.\n\n%timeit: Time the execution of a statement or expression.\n\n%matplotlib: Enable interactive Matplotlib plots.\n\n%reset: Reset the namespace by removing all names defined by the user.\n\n%pwd: Print the current working directory.\n\n%who: Display variables in the interactive namespace.\n\n%debug: Activate the interactive debugger.\n\nmore at https://ipython.readthedocs.io/en/stable/interactive/magics.html\n"
     },
     "metadata": {},
     "output_type": "display_data"
    }
   ],
   "source": [
    "%%markdown\n",
    "\n",
    "%run: Run a python script as a program\n",
    "\n",
    "%load: Load code into the current frontend.\n",
    "\n",
    "%timeit: Time the execution of a statement or expression.\n",
    "\n",
    "%matplotlib: Enable interactive Matplotlib plots.\n",
    "\n",
    "%reset: Reset the namespace by removing all names defined by the user.\n",
    "\n",
    "%pwd: Print the current working directory.\n",
    "\n",
    "%who: Display variables in the interactive namespace.\n",
    "\n",
    "%debug: Activate the interactive debugger.\n",
    "\n",
    "more at https://ipython.readthedocs.io/en/stable/interactive/magics.html"
   ],
   "metadata": {
    "collapsed": false,
    "ExecuteTime": {
     "end_time": "2024-01-29T10:16:38.059880Z",
     "start_time": "2024-01-29T10:16:38.051787Z"
    },
    "pycharm": {
     "name": "#%%\n"
    }
   },
   "id": "f4aac519c1582445"
  },
  {
   "cell_type": "code",
   "execution_count": 8,
   "outputs": [
    {
     "data": {
      "text/plain": "<IPython.core.display.Markdown object>",
      "text/markdown": "## ii) Python flow of control show how python handles it\n"
     },
     "metadata": {},
     "output_type": "display_data"
    }
   ],
   "source": [
    "%%markdown \n",
    "## ii) Python flow of control show how python handles it"
   ],
   "metadata": {
    "collapsed": false,
    "ExecuteTime": {
     "end_time": "2024-01-29T10:18:08.176029Z",
     "start_time": "2024-01-29T10:18:08.168995Z"
    },
    "pycharm": {
     "name": "#%%\n"
    }
   },
   "id": "6a311f05bcfd14b5"
  },
  {
   "cell_type": "code",
   "execution_count": 3,
   "outputs": [
    {
     "data": {
      "text/plain": "<IPython.core.display.Markdown object>",
      "text/markdown": "Flow control in Python is typically managed using conditional statements (if, elif, else) and loops (for while). Here's a simple example that demonstrates these concepts:\n"
     },
     "metadata": {},
     "output_type": "display_data"
    }
   ],
   "source": [
    "%%markdown\n",
    "Flow control in Python is typically managed using conditional statements (if, elif, else) and loops (for while). Here's a simple example that demonstrates these concepts:"
   ],
   "metadata": {
    "collapsed": false,
    "ExecuteTime": {
     "start_time": "2024-01-29T10:12:48.820964Z"
    },
    "pycharm": {
     "name": "#%%\n"
    }
   },
   "id": "initial_id"
  },
  {
   "cell_type": "code",
   "execution_count": 10,
   "outputs": [
    {
     "name": "stdout",
     "output_type": "stream",
     "text": [
      "x is positive\n",
      "Fruits in the list:\n",
      "apple\n",
      "banana\n",
      "cherry\n",
      "Count: 1\n",
      "Count: 2\n",
      "Count: 3\n",
      "Count: 4\n",
      "Count: 5\n"
     ]
    }
   ],
   "source": [
    "x = 10\n",
    "\n",
    "if x > 0:\n",
    "    print(\"x is positive\")\n",
    "elif x == 0:\n",
    "    print(\"x is zero\")\n",
    "else:\n",
    "    print(\"x is negative\")\n",
    "\n",
    "# Loops (for loop)\n",
    "fruits = [\"apple\", \"banana\", \"cherry\"]\n",
    "\n",
    "print(\"Fruits in the list:\")\n",
    "for fruit in fruits:\n",
    "    print(fruit)\n",
    "    \n",
    "# Loops (while loop)\n",
    "count = 1\n",
    "while count <= 5:\n",
    "    print(f\"Count: {count}\")\n",
    "    count += 1"
   ],
   "metadata": {
    "collapsed": false,
    "ExecuteTime": {
     "end_time": "2024-01-29T10:20:12.664547Z",
     "start_time": "2024-01-29T10:20:12.658135Z"
    },
    "pycharm": {
     "name": "#%%\n"
    }
   },
   "id": "50bcd0992502cd8d"
  },
  {
   "cell_type": "code",
   "execution_count": 5,
   "outputs": [
    {
     "data": {
      "text/plain": "<IPython.core.display.Markdown object>",
      "text/markdown": "##  Task iii) Data types + data structures show how Python handles data\n"
     },
     "metadata": {},
     "output_type": "display_data"
    }
   ],
   "source": [
    "%%markdown\n",
    "##  Task iii) Data types + data structures show how Python handles data"
   ],
   "metadata": {
    "collapsed": false,
    "ExecuteTime": {
     "end_time": "2024-01-29T10:18:58.515532Z",
     "start_time": "2024-01-29T10:18:58.496879Z"
    },
    "pycharm": {
     "name": "#%%\n"
    }
   },
   "id": "e090cad86a15bde5"
  },
  {
   "cell_type": "code",
   "execution_count": 4,
   "outputs": [
    {
     "data": {
      "text/plain": "<IPython.core.display.Markdown object>",
      "text/markdown": "\nTask iii. Data Types\n\nNumeric Types:\nint: x = 5\nfloat: y = 3.14\ncomplex: z = complex(2, 3)\n\nboolean types:\nis_true = True\nis_false = False\n\nstring type:\ntext = \"Hello, Python!\"\n\nNone type:\nempty_value = None\n"
     },
     "metadata": {},
     "output_type": "display_data"
    }
   ],
   "source": [
    "%%markdown\n",
    "\n",
    "Task iii. Data Types\n",
    "\n",
    "Numeric Types:\n",
    "int: x = 5\n",
    "float: y = 3.14\n",
    "complex: z = complex(2, 3)\n",
    "\n",
    "boolean types:\n",
    "is_true = True\n",
    "is_false = False\n",
    "\n",
    "string type:\n",
    "text = \"Hello, Python!\"\n",
    "\n",
    "None type:\n",
    "empty_value = None"
   ],
   "metadata": {
    "collapsed": false,
    "ExecuteTime": {
     "end_time": "2024-01-29T10:20:55.899477Z",
     "start_time": "2024-01-29T10:20:55.887341Z"
    },
    "pycharm": {
     "name": "#%%\n"
    }
   },
   "id": "d29db2ad44250242"
  },
  {
   "cell_type": "code",
   "execution_count": 1,
   "outputs": [
    {
     "data": {
      "text/plain": "<IPython.core.display.Markdown object>",
      "text/markdown": "\n## Task iii. Data structure\n"
     },
     "metadata": {},
     "output_type": "display_data"
    }
   ],
   "source": [
    "%%markdown\n",
    "\n",
    "## Task iii. Data structure"
   ],
   "metadata": {
    "collapsed": false,
    "ExecuteTime": {
     "end_time": "2024-01-29T10:21:06.877081Z",
     "start_time": "2024-01-29T10:21:06.858545Z"
    },
    "pycharm": {
     "name": "#%%\n"
    }
   },
   "id": "bafdf872850c1e79"
  },
  {
   "cell_type": "code",
   "execution_count": 2,
   "outputs": [],
   "source": [
    "# List (Ordered, mutable collection of elements):\n",
    "my_list = [1, 2, 3, 'a', 'b', 'c']\n",
    "\n",
    "# Tuples (Ordered, immutable collection of elements.):\n",
    "my_tuple = (1, 2, 3, 'a', 'b', 'c')\n",
    "\n",
    "# Sets (Unordered collection of unique elements.):\n",
    "my_set = {1, 2, 3, 3, 4}\n",
    "\n",
    "# Dictionaries (Unordered collection of key-value pairs.):\n",
    "my_dict = {'name': 'John', 'age': 25, 'city': 'New York'}\n",
    "\n",
    "# Arrays (NumPy) (Homogeneous multidimensional arrays (provided by the NumPy library)).:\n",
    "import numpy as np\n",
    "\n",
    "my_array = np.array([1, 2, 3, 4, 5])\n",
    "\n",
    "#DataFrames (Pandas) (2D labeled data structures with columns that can be different types (provided by the Pandas library)):\n",
    "import pandas as pd\n",
    "\n",
    "data = {'Name': ['Alice', 'Bob', 'Charlie'],\n",
    "        'Age': [25, 30, 35],\n",
    "        'City': ['New York', 'San Francisco', 'Los Angeles']}\n",
    "df = pd.DataFrame(data)"
   ],
   "metadata": {
    "collapsed": false,
    "pycharm": {
     "name": "#%%\n"
    }
   }
  },
  {
   "cell_type": "code",
   "execution_count": 3,
   "outputs": [
    {
     "data": {
      "text/plain": "<IPython.core.display.Markdown object>",
      "text/markdown": "# Task iii\n## How Python Handles Data:\n\nDynamic Typing:\nPython is dynamically typed, meaning you don't have to explicitly declare the data type of a variable. The interpreter infers the type based on the value assigned.\nx = 5      # x is an integer\ny = 'hello'  # y is a string\n\nMemory Management:\nPython manages memory automatically, and variables don't need to be explicitly declared or deallocated. Memory is managed through a system of reference counting and garbage collection.\n\nObject-Oriented:\nEverything in Python is an object, including data types and data structures. Objects have associated methods and attributes.\n\nEasy Syntax:\nPython has a clean and readable syntax, making it easy to work with data. It provides built-in functions and methods for common operations on data structures.\n"
     },
     "metadata": {},
     "output_type": "display_data"
    }
   ],
   "source": [
    "%%markdown\n",
    "# Task iii\n",
    "## How Python Handles Data:\n",
    "\n",
    "Dynamic Typing:\n",
    "Python is dynamically typed, meaning you don't have to explicitly declare the data type of a variable. The interpreter infers the type based on the value assigned.\n",
    "x = 5      # x is an integer\n",
    "y = 'hello'  # y is a string\n",
    "\n",
    "Memory Management:\n",
    "Python manages memory automatically, and variables don't need to be explicitly declared or deallocated. Memory is managed through a system of reference counting and garbage collection.\n",
    "\n",
    "Object-Oriented:\n",
    "Everything in Python is an object, including data types and data structures. Objects have associated methods and attributes.\n",
    "\n",
    "Easy Syntax:\n",
    "Python has a clean and readable syntax, making it easy to work with data. It provides built-in functions and methods for common operations on data structures."
   ],
   "metadata": {
    "collapsed": false,
    "pycharm": {
     "name": "#%%\n"
    }
   }
  },
  {
   "cell_type": "code",
   "execution_count": 13,
   "outputs": [
    {
     "data": {
      "text/plain": "<IPython.core.display.Markdown object>",
      "text/markdown": "## iv) Numpy/Pandas/Matplotlib/Seaborn. Research the most used functions + produce demo code\n"
     },
     "metadata": {},
     "output_type": "display_data"
    }
   ],
   "source": [
    "%%markdown \n",
    "## iv) Numpy/Pandas/Matplotlib/Seaborn. Research the most used functions + produce demo code"
   ],
   "metadata": {
    "collapsed": false,
    "ExecuteTime": {
     "end_time": "2024-01-29T10:23:35.977054Z",
     "start_time": "2024-01-29T10:23:35.953501Z"
    },
    "pycharm": {
     "name": "#%%\n"
    }
   },
   "id": "9125dad78720832a"
  },
  {
   "cell_type": "code",
   "execution_count": 8,
   "outputs": [
    {
     "data": {
      "text/plain": "<IPython.core.display.Markdown object>",
      "text/markdown": "### Numpy\n"
     },
     "metadata": {},
     "output_type": "display_data"
    }
   ],
   "source": [
    "%%markdown \n",
    "### Numpy"
   ],
   "metadata": {
    "collapsed": false,
    "ExecuteTime": {
     "end_time": "2024-01-29T10:34:59.718825Z",
     "start_time": "2024-01-29T10:34:59.696688Z"
    },
    "pycharm": {
     "name": "#%%\n"
    }
   },
   "id": "2df3e6f9d0cec1d1"
  },
  {
   "cell_type": "code",
   "execution_count": 18,
   "outputs": [
    {
     "name": "stdout",
     "output_type": "stream",
     "text": [
      "[[1]\n",
      " [2]\n",
      " [3]]\n",
      "[1 2 3 1 2 3]\n"
     ]
    }
   ],
   "source": [
    "import numpy as np\n",
    "\n",
    "#Creating Arrays\n",
    "arr = np.array([1, 2, 3])\n",
    "\n",
    "#Math Operations\n",
    "mean_val = np.mean(arr)\n",
    "sum_val = np.sum(arr)\n",
    "max_val = np.max(arr)\n",
    "min_val = np.min(arr)\n",
    "\n",
    "#Array Manipulation\n",
    "reshaped_arr = np.reshape(arr, (3, 1))\n",
    "print(reshaped_arr)\n",
    "concat_arr = np.concatenate([arr, arr])\n",
    "print(concat_arr)"
   ],
   "metadata": {
    "collapsed": false,
    "ExecuteTime": {
     "end_time": "2024-01-29T10:50:35.021594Z",
     "start_time": "2024-01-29T10:50:35.000440Z"
    },
    "pycharm": {
     "name": "#%%\n"
    }
   },
   "id": "adbec741982b0472"
  },
  {
   "cell_type": "code",
   "execution_count": 10,
   "outputs": [
    {
     "data": {
      "text/plain": "<IPython.core.display.Markdown object>",
      "text/markdown": "### Pandas\n"
     },
     "metadata": {},
     "output_type": "display_data"
    }
   ],
   "source": [
    "%%markdown\n",
    "### Pandas"
   ],
   "metadata": {
    "collapsed": false,
    "ExecuteTime": {
     "end_time": "2024-01-29T10:37:07.765808Z",
     "start_time": "2024-01-29T10:37:07.740207Z"
    },
    "pycharm": {
     "name": "#%%\n"
    }
   },
   "id": "f1a6b29ea221bb29"
  },
  {
   "cell_type": "code",
   "execution_count": 28,
   "outputs": [],
   "source": [
    "import pandas as pd\n",
    "\n",
    "#Creating DataFrames\n",
    "data = {'Name': ['Alice', 'Bob', 'Charlie'],\n",
    "        'Age': [25, 30, 35],\n",
    "        'City': ['New York', 'San Francisco', 'Los Angeles']}\n",
    "df = pd.DataFrame(data)\n",
    "\n",
    "#Data Exploration\n",
    "head = df.head()\n",
    "summary_stats = df.describe()\n",
    "\n",
    "#Filtering Data\n",
    "subset = df.loc[df['Age'] > 30]\n"
   ],
   "metadata": {
    "collapsed": false,
    "ExecuteTime": {
     "end_time": "2024-01-29T10:53:37.403810Z",
     "start_time": "2024-01-29T10:53:37.375247Z"
    },
    "pycharm": {
     "name": "#%%\n"
    }
   },
   "id": "43b726c93c09fdbf"
  },
  {
   "cell_type": "code",
   "execution_count": 12,
   "outputs": [
    {
     "data": {
      "text/plain": "<IPython.core.display.Markdown object>",
      "text/markdown": "### Matplotlib\n"
     },
     "metadata": {},
     "output_type": "display_data"
    }
   ],
   "source": [
    "%%markdown\n",
    "### Matplotlib"
   ],
   "metadata": {
    "collapsed": false,
    "ExecuteTime": {
     "end_time": "2024-01-29T10:40:17.995332Z",
     "start_time": "2024-01-29T10:40:17.977743Z"
    },
    "pycharm": {
     "name": "#%%\n"
    }
   },
   "id": "9208fce97322e63e"
  },
  {
   "cell_type": "code",
   "execution_count": 29,
   "outputs": [
    {
     "data": {
      "text/plain": "<Figure size 640x480 with 1 Axes>",
      "image/png": "[encoded data removed]"
     },
     "metadata": {},
     "output_type": "display_data"
    },
    {
     "data": {
      "text/plain": "<Figure size 640x480 with 1 Axes>",
      "image/png": "[encoded data removed]"
     },
     "metadata": {},
     "output_type": "display_data"
    },
    {
     "data": {
      "text/plain": "<Figure size 640x480 with 1 Axes>",
      "image/png": "[encoded data removed]"
     },
     "metadata": {},
     "output_type": "display_data"
    }
   ],
   "source": [
    "import matplotlib.pyplot as plt\n",
    "import numpy as np\n",
    "\n",
    "#Line Plot\n",
    "x = np.array([1,2,3])\n",
    "y = np.array([2,4,6])\n",
    "plt.plot(x, y)\n",
    "plt.show()\n",
    "\n",
    "#Scatter Plot\n",
    "plt.scatter(x, y)\n",
    "plt.show()\n",
    "\n",
    "#Bar Plot\n",
    "categories = ['A', 'B', 'C']\n",
    "values = [3, 7, 5]\n",
    "plt.bar(categories, values)\n",
    "plt.show()"
   ],
   "metadata": {
    "collapsed": false,
    "ExecuteTime": {
     "end_time": "2024-01-29T10:53:55.306337Z",
     "start_time": "2024-01-29T10:53:54.830273Z"
    },
    "pycharm": {
     "name": "#%%\n"
    }
   },
   "id": "6092f28f3f794e59"
  },
  {
   "cell_type": "code",
   "execution_count": 14,
   "outputs": [
    {
     "data": {
      "text/plain": "<IPython.core.display.Markdown object>",
      "text/markdown": "### Seaborn\n"
     },
     "metadata": {},
     "output_type": "display_data"
    }
   ],
   "source": [
    "%%markdown\n",
    "### Seaborn"
   ],
   "metadata": {
    "collapsed": false,
    "ExecuteTime": {
     "end_time": "2024-01-29T10:42:35.658327Z",
     "start_time": "2024-01-29T10:42:35.628904Z"
    },
    "pycharm": {
     "name": "#%%\n"
    }
   },
   "id": "f14d12f545a58811"
  },
  {
   "cell_type": "code",
   "execution_count": 16,
   "outputs": [
    {
     "name": "stderr",
     "output_type": "stream",
     "text": [
      "/var/folders/36/gbb9svk520b_3drl47hqlgx00000gp/T/ipykernel_3809/2715444076.py:8: UserWarning: \n",
      "\n",
      "`distplot` is a deprecated function and will be removed in seaborn v0.14.0.\n",
      "\n",
      "Please adapt your code to use either `displot` (a figure-level function with\n",
      "similar flexibility) or `histplot` (an axes-level function for histograms).\n",
      "\n",
      "For a guide to updating your code to use the new functions, please see\n",
      "https://gist.github.com/mwaskom/de44147ed2974457ad6372750bbe5751\n",
      "\n",
      "  sns.distplot(df['Age'])\n"
     ]
    },
    {
     "data": {
      "text/plain": "<Figure size 640x480 with 1 Axes>",
      "image/png": "[encoded data removed]"
     },
     "metadata": {},
     "output_type": "display_data"
    },
    {
     "data": {
      "text/plain": "<Figure size 640x480 with 1 Axes>",
      "image/png": "[encoded data removed]"
     },
     "metadata": {},
     "output_type": "display_data"
    },
    {
     "name": "stderr",
     "output_type": "stream",
     "text": [
      "/var/folders/36/gbb9svk520b_3drl47hqlgx00000gp/T/ipykernel_3809/2715444076.py:16: FutureWarning: The default value of numeric_only in DataFrame.corr is deprecated. In a future version, it will default to False. Select only valid columns or specify the value of numeric_only to silence this warning.\n",
      "  corr_matrix = df.corr()\n"
     ]
    },
    {
     "data": {
      "text/plain": "<Figure size 640x480 with 2 Axes>",
      "image/png": "[encoded data removed]"
     },
     "metadata": {},
     "output_type": "display_data"
    }
   ],
   "source": [
    "import seaborn as sns\n",
    "import pandas as pd\n",
    "\n",
    "data = {'Name': ['Alice', 'Bob', 'Charlie'], 'Age': [25, 30, 35]}\n",
    "df = pd.DataFrame(data)\n",
    "\n",
    "#Distribution Plot\n",
    "sns.distplot(df['Age'])\n",
    "plt.show()\n",
    "\n",
    "#Box Plot\n",
    "sns.boxplot(x='Name', y='Age', data=df)\n",
    "plt.show()\n",
    "\n",
    "#Heatmap\n",
    "corr_matrix = df.corr()\n",
    "sns.heatmap(corr_matrix, annot=True, cmap='coolwarm')\n",
    "plt.show()"
   ],
   "metadata": {
    "collapsed": false,
    "ExecuteTime": {
     "end_time": "2024-01-29T10:45:50.170291Z",
     "start_time": "2024-01-29T10:45:49.654858Z"
    },
    "pycharm": {
     "name": "#%%\n"
    }
   },
   "id": "9ee507fdc1eb4c58"
  },
  {
   "cell_type": "code",
   "execution_count": null,
   "outputs": [],
   "source": [],
   "metadata": {
    "collapsed": false,
    "pycharm": {
     "name": "#%%\n"
    }
   },
   "id": "89790c99dc7b61a9"
  }
 ],
 "metadata": {
  "kernelspec": {
   "display_name": "Python 3",
   "language": "python",
   "name": "python3"
  },
  "language_info": {
   "codemirror_mode": {
    "name": "ipython",
    "version": 2
   },
   "file_extension": ".py",
   "mimetype": "text/x-python",
   "name": "python",
   "nbconvert_exporter": "python",
   "pygments_lexer": "ipython2",
   "version": "2.7.6"
  }
 },
 "nbformat": 4,
 "nbformat_minor": 5
}