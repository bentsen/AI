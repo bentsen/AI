{
 "cells": [
  {
   "cell_type": "markdown",
   "id": "d07c6275",
   "metadata": {},
   "source": [
    "# Creating and  Using Graph DB in Python Application"
   ]
  },
  {
   "cell_type": "markdown",
   "id": "5d2636ee",
   "metadata": {},
   "source": [
    "## Prepare the Environment"
   ]
  },
  {
   "cell_type": "code",
   "execution_count": 217,
   "id": "4abb3b0b",
   "metadata": {
    "ExecuteTime": {
     "end_time": "2024-04-18T10:05:54.288369Z",
     "start_time": "2024-04-18T10:05:53.769530Z"
    }
   },
   "outputs": [],
   "source": [
    "from neo4j import GraphDatabase, RoutingControl, basic_auth"
   ]
  },
  {
   "cell_type": "code",
   "execution_count": 218,
   "id": "c9446329",
   "metadata": {
    "ExecuteTime": {
     "end_time": "2024-04-18T10:05:54.362529Z",
     "start_time": "2024-04-18T10:05:54.292246Z"
    }
   },
   "outputs": [],
   "source": [
    "import pandas as pd\n",
    "import numpy as np\n",
    "#fewkfew"
   ]
  },
  {
   "cell_type": "markdown",
   "id": "b0c8b55a",
   "metadata": {},
   "source": [
    "## Setup the Connection to the Database\n",
    "Choose a database server, a database, credentials for accessing it, and use them to configure the driver.\\\n",
    "The driver helps connecting the database and passing the Cypher statements"
   ]
  },
  {
   "cell_type": "code",
   "execution_count": 219,
   "id": "789b9896",
   "metadata": {
    "ExecuteTime": {
     "end_time": "2024-04-18T10:05:54.401639Z",
     "start_time": "2024-04-18T10:05:54.365342Z"
    }
   },
   "outputs": [],
   "source": [
    "# DB URI and authentication\n",
    "URI = \"bolt://localhost:7687\"\n",
    "AUTH = (\"neo4j\",\"mikkel405\")"
   ]
  },
  {
   "cell_type": "code",
   "execution_count": 220,
   "id": "425f14b6",
   "metadata": {
    "ExecuteTime": {
     "end_time": "2024-04-18T10:05:54.487064Z",
     "start_time": "2024-04-18T10:05:54.407676Z"
    }
   },
   "outputs": [],
   "source": [
    "driver = GraphDatabase.driver(URI, auth=AUTH)"
   ]
  },
  {
   "cell_type": "code",
   "execution_count": 221,
   "id": "28cbb451",
   "metadata": {
    "ExecuteTime": {
     "end_time": "2024-04-18T10:05:54.500784Z",
     "start_time": "2024-04-18T10:05:54.475559Z"
    }
   },
   "outputs": [],
   "source": [
    "driver.verify_connectivity()"
   ]
  },
  {
   "cell_type": "markdown",
   "id": "1be487cc",
   "metadata": {},
   "source": [
    "### Query Templates"
   ]
  },
  {
   "cell_type": "markdown",
   "id": "77936962",
   "metadata": {},
   "source": [
    "Execute a Cypher statement by creating a session and using the methods \n",
    "- Session.execute_read() and \n",
    "- Session.execute_write()\n",
    "\n",
    "Do not hardcode or concatenate parameters: \n",
    "- use placeholders and \n",
    "- specify the parameters as keyword arguments"
   ]
  },
  {
   "cell_type": "code",
   "execution_count": 222,
   "id": "700c791a",
   "metadata": {
    "ExecuteTime": {
     "end_time": "2024-04-18T10:05:54.552622Z",
     "start_time": "2024-04-18T10:05:54.505637Z"
    }
   },
   "outputs": [],
   "source": [
    "# template write request\n",
    "def write_query(query, params={}):\n",
    "    with driver.session(database=\"neo4j\") as session:\n",
    "        results = session.execute_write(lambda tx: tx.run(query, params).data())\n",
    "        # response = [record.values()[0] for record in results]\n",
    "        return results"
   ]
  },
  {
   "cell_type": "code",
   "execution_count": 223,
   "id": "c553fb58",
   "metadata": {
    "ExecuteTime": {
     "end_time": "2024-04-18T10:05:54.577663Z",
     "start_time": "2024-04-18T10:05:54.543350Z"
    }
   },
   "outputs": [],
   "source": [
    "# template read request\n",
    "def read_query(query, params={}):\n",
    "    with driver.session(database=\"neo4j\") as session:\n",
    "        results = session.execute_read(lambda tx: tx.run(query, params).data())       \n",
    "        response = [record.values()[0] for record in results]\n",
    "        return response"
   ]
  },
  {
   "cell_type": "markdown",
   "id": "8215b418",
   "metadata": {},
   "source": [
    "## Harry Potter Demo Implementation"
   ]
  },
  {
   "cell_type": "markdown",
   "id": "dfc2010e",
   "metadata": {},
   "source": [
    "### File Reading Utilities"
   ]
  },
  {
   "cell_type": "code",
   "execution_count": 224,
   "id": "added0cd",
   "metadata": {
    "ExecuteTime": {
     "end_time": "2024-04-18T10:05:54.596424Z",
     "start_time": "2024-04-18T10:05:54.571730Z"
    }
   },
   "outputs": [],
   "source": [
    "data_dir = '../Data/HarryPotter/'\n",
    "file_name = 'HP-characters.csv'\n",
    "path = data_dir+file_name"
   ]
  },
  {
   "cell_type": "code",
   "execution_count": 225,
   "id": "0524bd19",
   "metadata": {
    "ExecuteTime": {
     "end_time": "2024-04-18T10:05:54.657534Z",
     "start_time": "2024-04-18T10:05:54.602027Z"
    }
   },
   "outputs": [
    {
     "data": {
      "text/plain": "                                         title  \\\n0                               Vernon Dursley   \n1                              Petunia Dursley   \n2                               Dudley Dursley   \n3                               Lily J. Potter   \n4                               James Potter I   \n..                                         ...   \n157                           Elfric the Eager   \n158                       Hogwarts Giant Squid   \n159  Quirinus Quirrell's second mountain troll   \n160                       King's Cross Station   \n161                                 Wizardkind   \n\n                                                   url  \\\n0    https://harrypotter.fandom.com/wiki/Vernon_Dur...   \n1    https://harrypotter.fandom.com/wiki/Petunia_Du...   \n2    https://harrypotter.fandom.com/wiki/Dudley_Dur...   \n3    https://harrypotter.fandom.com/wiki/Lily_J._Po...   \n4    https://harrypotter.fandom.com/wiki/James_Pott...   \n..                                                 ...   \n157  https://harrypotter.fandom.com/wiki/Elfric_the...   \n158  https://harrypotter.fandom.com/wiki/Hogwarts_G...   \n159  https://harrypotter.fandom.com/wiki/Quirinus_Q...   \n160  https://harrypotter.fandom.com/wiki/King%27s_C...   \n161     https://harrypotter.fandom.com/wiki/Wizardkind   \n\n                                               loyalty  \\\n0                             Dursley family,Grunnings   \n1                          Evans family,Dursley family   \n2    Dursley family,Evans family,Smeltings Academy,...   \n3    Evans family,Potter family,Hogwarts School of ...   \n4    Potter family,Evans family,Hogwarts School of ...   \n..                                                 ...   \n157                                                NaN   \n158                                                NaN   \n159                                                NaN   \n160                                                NaN   \n161                                                NaN   \n\n                                                family        blood  \\\n0    Mrs Dursley,Marjorie Dursley,Petunia Dursley,D...       Muggle   \n1    Mr Evans,Mrs Evans,Lily Potter,Vernon Dursley,...       Muggle   \n2    Vernon Dursley,Petunia Dursley,Mrs Dursley,Chi...       Muggle   \n3    Mr Evans,Mrs Evans,Petunia Dursley,James Potte...  Muggle-born   \n4    Ignotus Peverell,Linfred of Stinchcombe,Hardwi...   Pure-blood   \n..                                                 ...          ...   \n157                                                NaN          NaN   \n158                                                NaN          NaN   \n159                                                NaN          NaN   \n160                                                NaN          NaN   \n161                                                NaN          NaN   \n\n    nationality         species       house  gender  \\\n0       English           Human         NaN    Male   \n1       English           Human         NaN  Female   \n2       English           Human         NaN    Male   \n3       English           Human  Gryffindor  Female   \n4       English           Human  Gryffindor    Male   \n..          ...             ...         ...     ...   \n157         NaN             NaN         NaN     NaN   \n158         NaN     Giant Squid         NaN     NaN   \n159         NaN  Mountain Troll         NaN     NaN   \n160         NaN             NaN         NaN     NaN   \n161         NaN             NaN         NaN     NaN   \n\n                                               aliases  \n0                                                  NaN  \n1                                                   []  \n2    ['Dudders', 'Ickle Dudleykins', 'Popkin', 'Did...  \n3                                                  NaN  \n4                                                   []  \n..                                                 ...  \n157                                                NaN  \n158                                                NaN  \n159                                                NaN  \n160                                                NaN  \n161    ['Wizards & Witches', 'Sorcerers', 'Magicians']  \n\n[162 rows x 10 columns]",
      "text/html": "<div>\n<style scoped>\n    .dataframe tbody tr th:only-of-type {\n        vertical-align: middle;\n    }\n\n    .dataframe tbody tr th {\n        vertical-align: top;\n    }\n\n    .dataframe thead th {\n        text-align: right;\n    }\n</style>\n<table border=\"1\" class=\"dataframe\">\n  <thead>\n    <tr style=\"text-align: right;\">\n      <th></th>\n      <th>title</th>\n      <th>url</th>\n      <th>loyalty</th>\n      <th>family</th>\n      <th>blood</th>\n      <th>nationality</th>\n      <th>species</th>\n      <th>house</th>\n      <th>gender</th>\n      <th>aliases</th>\n    </tr>\n  </thead>\n  <tbody>\n    <tr>\n      <th>0</th>\n      <td>Vernon Dursley</td>\n      <td>https://harrypotter.fandom.com/wiki/Vernon_Dur...</td>\n      <td>Dursley family,Grunnings</td>\n      <td>Mrs Dursley,Marjorie Dursley,Petunia Dursley,D...</td>\n      <td>Muggle</td>\n      <td>English</td>\n      <td>Human</td>\n      <td>NaN</td>\n      <td>Male</td>\n      <td>NaN</td>\n    </tr>\n    <tr>\n      <th>1</th>\n      <td>Petunia Dursley</td>\n      <td>https://harrypotter.fandom.com/wiki/Petunia_Du...</td>\n      <td>Evans family,Dursley family</td>\n      <td>Mr Evans,Mrs Evans,Lily Potter,Vernon Dursley,...</td>\n      <td>Muggle</td>\n      <td>English</td>\n      <td>Human</td>\n      <td>NaN</td>\n      <td>Female</td>\n      <td>[]</td>\n    </tr>\n    <tr>\n      <th>2</th>\n      <td>Dudley Dursley</td>\n      <td>https://harrypotter.fandom.com/wiki/Dudley_Dur...</td>\n      <td>Dursley family,Evans family,Smeltings Academy,...</td>\n      <td>Vernon Dursley,Petunia Dursley,Mrs Dursley,Chi...</td>\n      <td>Muggle</td>\n      <td>English</td>\n      <td>Human</td>\n      <td>NaN</td>\n      <td>Male</td>\n      <td>['Dudders', 'Ickle Dudleykins', 'Popkin', 'Did...</td>\n    </tr>\n    <tr>\n      <th>3</th>\n      <td>Lily J. Potter</td>\n      <td>https://harrypotter.fandom.com/wiki/Lily_J._Po...</td>\n      <td>Evans family,Potter family,Hogwarts School of ...</td>\n      <td>Mr Evans,Mrs Evans,Petunia Dursley,James Potte...</td>\n      <td>Muggle-born</td>\n      <td>English</td>\n      <td>Human</td>\n      <td>Gryffindor</td>\n      <td>Female</td>\n      <td>NaN</td>\n    </tr>\n    <tr>\n      <th>4</th>\n      <td>James Potter I</td>\n      <td>https://harrypotter.fandom.com/wiki/James_Pott...</td>\n      <td>Potter family,Evans family,Hogwarts School of ...</td>\n      <td>Ignotus Peverell,Linfred of Stinchcombe,Hardwi...</td>\n      <td>Pure-blood</td>\n      <td>English</td>\n      <td>Human</td>\n      <td>Gryffindor</td>\n      <td>Male</td>\n      <td>[]</td>\n    </tr>\n    <tr>\n      <th>...</th>\n      <td>...</td>\n      <td>...</td>\n      <td>...</td>\n      <td>...</td>\n      <td>...</td>\n      <td>...</td>\n      <td>...</td>\n      <td>...</td>\n      <td>...</td>\n      <td>...</td>\n    </tr>\n    <tr>\n      <th>157</th>\n      <td>Elfric the Eager</td>\n      <td>https://harrypotter.fandom.com/wiki/Elfric_the...</td>\n      <td>NaN</td>\n      <td>NaN</td>\n      <td>NaN</td>\n      <td>NaN</td>\n      <td>NaN</td>\n      <td>NaN</td>\n      <td>NaN</td>\n      <td>NaN</td>\n    </tr>\n    <tr>\n      <th>158</th>\n      <td>Hogwarts Giant Squid</td>\n      <td>https://harrypotter.fandom.com/wiki/Hogwarts_G...</td>\n      <td>NaN</td>\n      <td>NaN</td>\n      <td>NaN</td>\n      <td>NaN</td>\n      <td>Giant Squid</td>\n      <td>NaN</td>\n      <td>NaN</td>\n      <td>NaN</td>\n    </tr>\n    <tr>\n      <th>159</th>\n      <td>Quirinus Quirrell's second mountain troll</td>\n      <td>https://harrypotter.fandom.com/wiki/Quirinus_Q...</td>\n      <td>NaN</td>\n      <td>NaN</td>\n      <td>NaN</td>\n      <td>NaN</td>\n      <td>Mountain Troll</td>\n      <td>NaN</td>\n      <td>NaN</td>\n      <td>NaN</td>\n    </tr>\n    <tr>\n      <th>160</th>\n      <td>King's Cross Station</td>\n      <td>https://harrypotter.fandom.com/wiki/King%27s_C...</td>\n      <td>NaN</td>\n      <td>NaN</td>\n      <td>NaN</td>\n      <td>NaN</td>\n      <td>NaN</td>\n      <td>NaN</td>\n      <td>NaN</td>\n      <td>NaN</td>\n    </tr>\n    <tr>\n      <th>161</th>\n      <td>Wizardkind</td>\n      <td>https://harrypotter.fandom.com/wiki/Wizardkind</td>\n      <td>NaN</td>\n      <td>NaN</td>\n      <td>NaN</td>\n      <td>NaN</td>\n      <td>NaN</td>\n      <td>NaN</td>\n      <td>NaN</td>\n      <td>['Wizards &amp; Witches', 'Sorcerers', 'Magicians']</td>\n    </tr>\n  </tbody>\n</table>\n<p>162 rows × 10 columns</p>\n</div>"
     },
     "execution_count": 225,
     "metadata": {},
     "output_type": "execute_result"
    }
   ],
   "source": [
    "# with pandas\n",
    "data = pd.read_csv(path)\n",
    "data"
   ]
  },
  {
   "cell_type": "code",
   "execution_count": 226,
   "id": "00acf69a",
   "metadata": {
    "ExecuteTime": {
     "end_time": "2024-04-18T10:05:54.673987Z",
     "start_time": "2024-04-18T10:05:54.647319Z"
    }
   },
   "outputs": [
    {
     "data": {
      "text/plain": "title            0\nurl              0\nloyalty         63\nfamily         106\nblood           79\nnationality     53\nspecies         10\nhouse           94\ngender          19\naliases        121\ndtype: int64"
     },
     "execution_count": 226,
     "metadata": {},
     "output_type": "execute_result"
    }
   ],
   "source": [
    "data.isnull().sum()"
   ]
  },
  {
   "cell_type": "code",
   "execution_count": 227,
   "id": "a02503bd",
   "metadata": {
    "ExecuteTime": {
     "end_time": "2024-04-18T10:05:54.733473Z",
     "start_time": "2024-04-18T10:05:54.688793Z"
    }
   },
   "outputs": [
    {
     "name": "stdout",
     "output_type": "stream",
     "text": [
      "<class 'pandas.core.frame.DataFrame'>\n",
      "RangeIndex: 162 entries, 0 to 161\n",
      "Data columns (total 10 columns):\n",
      " #   Column       Non-Null Count  Dtype \n",
      "---  ------       --------------  ----- \n",
      " 0   title        162 non-null    object\n",
      " 1   url          162 non-null    object\n",
      " 2   loyalty      99 non-null     object\n",
      " 3   family       56 non-null     object\n",
      " 4   blood        83 non-null     object\n",
      " 5   nationality  109 non-null    object\n",
      " 6   species      152 non-null    object\n",
      " 7   house        68 non-null     object\n",
      " 8   gender       143 non-null    object\n",
      " 9   aliases      41 non-null     object\n",
      "dtypes: object(10)\n",
      "memory usage: 12.8+ KB\n"
     ]
    }
   ],
   "source": [
    "data.info()"
   ]
  },
  {
   "cell_type": "code",
   "execution_count": 228,
   "id": "a971e982",
   "metadata": {
    "ExecuteTime": {
     "end_time": "2024-04-18T10:05:54.886727Z",
     "start_time": "2024-04-18T10:05:54.720813Z"
    }
   },
   "outputs": [],
   "source": [
    "datax = data.replace({np.nan: None})"
   ]
  },
  {
   "cell_type": "code",
   "execution_count": 229,
   "id": "b5315f50",
   "metadata": {
    "ExecuteTime": {
     "end_time": "2024-04-18T10:05:55.027052Z",
     "start_time": "2024-04-18T10:05:54.900739Z"
    }
   },
   "outputs": [
    {
     "data": {
      "text/plain": "                    title                                                url  \\\n158  Hogwarts Giant Squid  https://harrypotter.fandom.com/wiki/Hogwarts_G...   \n18          Arabella Figg  https://harrypotter.fandom.com/wiki/Arabella_Figg   \n98                 Peeves         https://harrypotter.fandom.com/wiki/Peeves   \n50       Newton Scamander  https://harrypotter.fandom.com/wiki/Newton_Sca...   \n99            Sorting Hat    https://harrypotter.fandom.com/wiki/Sorting_Hat   \n\n                                               loyalty  \\\n158                                               None   \n18   Albus Dumbledore,Order of the Phoenix,Figg family   \n98   Hogwarts School of Witchcraft and Wizardry,Ord...   \n50   Scamander family,Goldstein family,Hogwarts Sch...   \n99                                                None   \n\n                                                family       blood  \\\n158                                               None        None   \n18                                                None       Squib   \n98                                                None        None   \n50   Mrs Scamander,Theseus Scamander,Porpentina Gol...  Pure-blood   \n99                                                None        None   \n\n    nationality      species       house  gender                 aliases  \n158        None  Giant Squid        None    None                    None  \n18      British        Human        None  Female                    None  \n98         None  Poltergeist        None    Male  ['Peevsie', 'Peevesy']  \n50      English        Human  Hufflepuff    Male                ['Newt']  \n99         None         None        None    None                    None  ",
      "text/html": "<div>\n<style scoped>\n    .dataframe tbody tr th:only-of-type {\n        vertical-align: middle;\n    }\n\n    .dataframe tbody tr th {\n        vertical-align: top;\n    }\n\n    .dataframe thead th {\n        text-align: right;\n    }\n</style>\n<table border=\"1\" class=\"dataframe\">\n  <thead>\n    <tr style=\"text-align: right;\">\n      <th></th>\n      <th>title</th>\n      <th>url</th>\n      <th>loyalty</th>\n      <th>family</th>\n      <th>blood</th>\n      <th>nationality</th>\n      <th>species</th>\n      <th>house</th>\n      <th>gender</th>\n      <th>aliases</th>\n    </tr>\n  </thead>\n  <tbody>\n    <tr>\n      <th>158</th>\n      <td>Hogwarts Giant Squid</td>\n      <td>https://harrypotter.fandom.com/wiki/Hogwarts_G...</td>\n      <td>None</td>\n      <td>None</td>\n      <td>None</td>\n      <td>None</td>\n      <td>Giant Squid</td>\n      <td>None</td>\n      <td>None</td>\n      <td>None</td>\n    </tr>\n    <tr>\n      <th>18</th>\n      <td>Arabella Figg</td>\n      <td>https://harrypotter.fandom.com/wiki/Arabella_Figg</td>\n      <td>Albus Dumbledore,Order of the Phoenix,Figg family</td>\n      <td>None</td>\n      <td>Squib</td>\n      <td>British</td>\n      <td>Human</td>\n      <td>None</td>\n      <td>Female</td>\n      <td>None</td>\n    </tr>\n    <tr>\n      <th>98</th>\n      <td>Peeves</td>\n      <td>https://harrypotter.fandom.com/wiki/Peeves</td>\n      <td>Hogwarts School of Witchcraft and Wizardry,Ord...</td>\n      <td>None</td>\n      <td>None</td>\n      <td>None</td>\n      <td>Poltergeist</td>\n      <td>None</td>\n      <td>Male</td>\n      <td>['Peevsie', 'Peevesy']</td>\n    </tr>\n    <tr>\n      <th>50</th>\n      <td>Newton Scamander</td>\n      <td>https://harrypotter.fandom.com/wiki/Newton_Sca...</td>\n      <td>Scamander family,Goldstein family,Hogwarts Sch...</td>\n      <td>Mrs Scamander,Theseus Scamander,Porpentina Gol...</td>\n      <td>Pure-blood</td>\n      <td>English</td>\n      <td>Human</td>\n      <td>Hufflepuff</td>\n      <td>Male</td>\n      <td>['Newt']</td>\n    </tr>\n    <tr>\n      <th>99</th>\n      <td>Sorting Hat</td>\n      <td>https://harrypotter.fandom.com/wiki/Sorting_Hat</td>\n      <td>None</td>\n      <td>None</td>\n      <td>None</td>\n      <td>None</td>\n      <td>None</td>\n      <td>None</td>\n      <td>None</td>\n      <td>None</td>\n    </tr>\n  </tbody>\n</table>\n</div>"
     },
     "execution_count": 229,
     "metadata": {},
     "output_type": "execute_result"
    }
   ],
   "source": [
    "datax.sample(5)"
   ]
  },
  {
   "cell_type": "code",
   "execution_count": 230,
   "id": "264bd927",
   "metadata": {
    "ExecuteTime": {
     "end_time": "2024-04-18T10:05:55.096007Z",
     "start_time": "2024-04-18T10:05:54.955554Z"
    }
   },
   "outputs": [
    {
     "data": {
      "text/plain": "[None,\n None,\n None,\n 'Gryffindor',\n 'Gryffindor',\n 'Gryffindor',\n None,\n 'Slytherin',\n None,\n None,\n None,\n 'Gryffindor',\n 'Gryffindor',\n None,\n None,\n 'Gryffindor',\n 'Gryffindor',\n None,\n None,\n None,\n None,\n None,\n None,\n None,\n None,\n None,\n None,\n None,\n None,\n None,\n None,\n None,\n None,\n None,\n None,\n None,\n None,\n 'Slytherin',\n None,\n None,\n None,\n 'Hufflepuff',\n 'Gryffindor',\n None,\n None,\n None,\n None,\n None,\n None,\n None,\n 'Hufflepuff',\n None,\n None,\n None,\n 'Ravenclaw',\n None,\n None,\n None,\n 'Slytherin',\n 'Slytherin',\n 'Slytherin',\n None,\n None,\n 'Ravenclaw',\n None,\n 'Gryffindor',\n 'Gryffindor',\n 'Gryffindor',\n 'Gryffindor',\n 'Gryffindor',\n 'Gryffindor',\n 'Gryffindor',\n None,\n 'Gryffindor',\n None,\n 'Gryffindor',\n 'Gryffindor',\n 'Gryffindor',\n 'Gryffindor',\n None,\n None,\n None,\n None,\n None,\n None,\n 'Hufflepuff',\n None,\n None,\n None,\n None,\n None,\n None,\n 'Gryffindor',\n 'Slytherin',\n 'Slytherin',\n None,\n None,\n 'Hufflepuff',\n None,\n None,\n 'Hufflepuff',\n 'Hufflepuff',\n 'Ravenclaw',\n 'Ravenclaw',\n 'Gryffindor',\n 'Slytherin',\n 'Hufflepuff',\n 'Gryffindor',\n None,\n 'Gryffindor',\n 'Slytherin',\n 'Slytherin',\n 'Ravenclaw',\n 'Gryffindor',\n 'Gryffindor',\n 'Gryffindor',\n 'Ravenclaw',\n 'Slytherin',\n 'Gryffindor',\n 'Slytherin',\n None,\n 'Gryffindor',\n None,\n None,\n 'Slytherin',\n None,\n None,\n 'Gryffindor',\n None,\n 'Hufflepuff',\n None,\n None,\n 'Ravenclaw',\n 'Ravenclaw',\n None,\n 'Gryffindor',\n 'Ravenclaw',\n None,\n None,\n None,\n None,\n None,\n 'Gryffindor',\n 'Slytherin',\n 'Gryffindor',\n 'Gryffindor',\n 'Slytherin',\n 'Slytherin',\n 'Slytherin',\n None,\n None,\n None,\n None,\n None,\n None,\n None,\n None,\n None,\n None,\n None,\n None,\n None]"
     },
     "execution_count": 230,
     "metadata": {},
     "output_type": "execute_result"
    }
   ],
   "source": [
    "datax['house'].tolist()"
   ]
  },
  {
   "cell_type": "markdown",
   "id": "266bb6fc",
   "metadata": {},
   "source": [
    "### Ingest the Data into the Database"
   ]
  },
  {
   "cell_type": "markdown",
   "id": "ff47ad9e",
   "metadata": {},
   "source": [
    "#### Characters"
   ]
  },
  {
   "cell_type": "code",
   "execution_count": 231,
   "id": "a01b3594",
   "metadata": {
    "ExecuteTime": {
     "end_time": "2024-04-18T10:05:55.264617Z",
     "start_time": "2024-04-18T10:05:55.056511Z"
    }
   },
   "outputs": [],
   "source": [
    "create_db = \"\"\"\n",
    "MERGE (c:Character{name:$title, url:$url})\n",
    "    SET c.aliases = CASE trim(toString(c.aliases)) WHEN 'None' THEN null ELSE $aliases END\n",
    "    SET c.blood = CASE trim(toString(c.blood)) WHEN 'None' THEN null ELSE $blood END\n",
    "    SET c.nationality = CASE trim(toString(c.nationality)) WHEN 'None' THEN null ELSE $nationality END\n",
    "    SET c.gender = CASE trim(toString(c.gender)) WHEN 'None' THEN null ELSE $gender END\n",
    "    SET c.species = CASE trim(toString(c.species)) WHEN 'None' THEN null ELSE $species END\n",
    "  \n",
    "\"\"\"\n"
   ]
  },
  {
   "cell_type": "code",
   "execution_count": 232,
   "id": "dd6f8f1b",
   "metadata": {
    "ExecuteTime": {
     "end_time": "2024-04-18T10:05:56.154862Z",
     "start_time": "2024-04-18T10:05:55.201979Z"
    }
   },
   "outputs": [],
   "source": [
    "# Execute transaction\n",
    "for index, row in datax.iterrows():\n",
    "    response = write_query(create_db, \n",
    "                           params = {'title':row['title'], 'url':row['url'], 'aliases':row['aliases'],\n",
    "                                     'blood':row['blood'], 'nationality':row['nationality'], \n",
    "                                     'species':row['species'], 'gender':row['gender'] \n",
    "                                    })"
   ]
  },
  {
   "cell_type": "code",
   "execution_count": 233,
   "id": "b889cdb9",
   "metadata": {
    "ExecuteTime": {
     "end_time": "2024-04-18T10:05:56.165024Z",
     "start_time": "2024-04-18T10:05:56.063139Z"
    }
   },
   "outputs": [],
   "source": [
    "add_groups = '''\n",
    "    MERGE (c:Character {title:$title})\n",
    "    WITH c\n",
    "    UNWIND split($loyalty, ',') AS l\n",
    "        MERGE (g:Group {name:l}) \n",
    "        MERGE (c)-[:LOYAL_TO]->(g)\n",
    "    RETURN c\n",
    "'''"
   ]
  },
  {
   "cell_type": "code",
   "execution_count": 234,
   "id": "4ae4cd7f",
   "metadata": {
    "ExecuteTime": {
     "end_time": "2024-04-18T10:05:56.983637Z",
     "start_time": "2024-04-18T10:05:56.071314Z"
    }
   },
   "outputs": [],
   "source": [
    "# Execute transaction\n",
    "for index, row in datax.iterrows():\n",
    "    response = write_query(add_groups, params = {'title':row['title'], 'loyalty':row['loyalty'] })"
   ]
  },
  {
   "cell_type": "code",
   "execution_count": 235,
   "id": "d51ebc2b",
   "metadata": {
    "ExecuteTime": {
     "end_time": "2024-04-18T10:05:56.998408Z",
     "start_time": "2024-04-18T10:05:56.988321Z"
    }
   },
   "outputs": [],
   "source": [
    "add_family = '''\n",
    "    MERGE (c:Character {title:$title})\n",
    "    WITH c\n",
    "    UNWIND split($family, ',') AS f\n",
    "    MERGE (f1:Character {name:f}) \n",
    "    MERGE (c)-[t:IN_FAMILY_WITH]->(f1) \n",
    "    RETURN c\n",
    "'''"
   ]
  },
  {
   "cell_type": "code",
   "execution_count": 236,
   "id": "e2297c91",
   "metadata": {
    "ExecuteTime": {
     "end_time": "2024-04-18T10:05:57.841160Z",
     "start_time": "2024-04-18T10:05:56.995157Z"
    }
   },
   "outputs": [],
   "source": [
    "# Execute transaction\n",
    "for index, row in datax.iterrows():\n",
    "    response = write_query(add_family, params = {'title':row['title'], 'family':row['family'] })"
   ]
  },
  {
   "cell_type": "code",
   "execution_count": 237,
   "id": "f6254372",
   "metadata": {
    "ExecuteTime": {
     "end_time": "2024-04-18T10:05:57.847011Z",
     "start_time": "2024-04-18T10:05:57.842002Z"
    }
   },
   "outputs": [],
   "source": [
    "add_house = '''\n",
    "    MERGE (c:Character {title:$title})\n",
    "    WITH c\n",
    "    FOREACH (h in CASE WHEN $house IS NOT NULL THEN [1] ELSE [] END | \n",
    "    MERGE (h1:House {name:$house}) \n",
    "    MERGE (c)-[:BELONGS_TO]->(h1)  ) \n",
    "    RETURN c\n",
    "'''"
   ]
  },
  {
   "cell_type": "code",
   "execution_count": 238,
   "id": "c342ee1f",
   "metadata": {
    "ExecuteTime": {
     "end_time": "2024-04-18T10:05:58.325623Z",
     "start_time": "2024-04-18T10:05:57.848503Z"
    }
   },
   "outputs": [],
   "source": [
    "# Execute transaction\n",
    "for index, row in datax.iterrows():\n",
    "    response = write_query(add_house, params = {'title':row['title'],'house':row['house']})"
   ]
  },
  {
   "cell_type": "code",
   "execution_count": 238,
   "id": "98014834",
   "metadata": {
    "ExecuteTime": {
     "end_time": "2024-04-18T10:05:58.330290Z",
     "start_time": "2024-04-18T10:05:58.326510Z"
    }
   },
   "outputs": [],
   "source": []
  },
  {
   "cell_type": "markdown",
   "id": "814ac336",
   "metadata": {},
   "source": [
    "#### Relations"
   ]
  },
  {
   "cell_type": "code",
   "execution_count": 239,
   "id": "7696bbf0",
   "metadata": {
    "ExecuteTime": {
     "end_time": "2024-04-18T10:05:58.335051Z",
     "start_time": "2024-04-18T10:05:58.330945Z"
    }
   },
   "outputs": [],
   "source": [
    "file_name = 'HP-relations-seen.csv'\n",
    "path = data_dir+file_name"
   ]
  },
  {
   "cell_type": "code",
   "execution_count": 240,
   "id": "43f71ce2",
   "metadata": {
    "ExecuteTime": {
     "end_time": "2024-04-18T10:05:58.424241Z",
     "start_time": "2024-04-18T10:05:58.339767Z"
    }
   },
   "outputs": [
    {
     "data": {
      "text/plain": "               source            target   value\n0     Petunia Dursley    Vernon Dursley   67629\n1      Dudley Dursley    Vernon Dursley   30647\n2      Dudley Dursley   Petunia Dursley  104637\n3        Harry Potter    Vernon Dursley   30959\n4        Harry Potter   Petunia Dursley  104646\n..                ...               ...     ...\n401    George Weasley     Poppy Pomfrey  100216\n402    Nicolas Flamel  Perenelle Flamel  100608\n403  Albus Dumbledore  Helena Ravenclaw  103872\n404    Ronald Weasley    Vernon Dursley  104671\n405  Hermione Granger    Vernon Dursley  104732\n\n[406 rows x 3 columns]",
      "text/html": "<div>\n<style scoped>\n    .dataframe tbody tr th:only-of-type {\n        vertical-align: middle;\n    }\n\n    .dataframe tbody tr th {\n        vertical-align: top;\n    }\n\n    .dataframe thead th {\n        text-align: right;\n    }\n</style>\n<table border=\"1\" class=\"dataframe\">\n  <thead>\n    <tr style=\"text-align: right;\">\n      <th></th>\n      <th>source</th>\n      <th>target</th>\n      <th>value</th>\n    </tr>\n  </thead>\n  <tbody>\n    <tr>\n      <th>0</th>\n      <td>Petunia Dursley</td>\n      <td>Vernon Dursley</td>\n      <td>67629</td>\n    </tr>\n    <tr>\n      <th>1</th>\n      <td>Dudley Dursley</td>\n      <td>Vernon Dursley</td>\n      <td>30647</td>\n    </tr>\n    <tr>\n      <th>2</th>\n      <td>Dudley Dursley</td>\n      <td>Petunia Dursley</td>\n      <td>104637</td>\n    </tr>\n    <tr>\n      <th>3</th>\n      <td>Harry Potter</td>\n      <td>Vernon Dursley</td>\n      <td>30959</td>\n    </tr>\n    <tr>\n      <th>4</th>\n      <td>Harry Potter</td>\n      <td>Petunia Dursley</td>\n      <td>104646</td>\n    </tr>\n    <tr>\n      <th>...</th>\n      <td>...</td>\n      <td>...</td>\n      <td>...</td>\n    </tr>\n    <tr>\n      <th>401</th>\n      <td>George Weasley</td>\n      <td>Poppy Pomfrey</td>\n      <td>100216</td>\n    </tr>\n    <tr>\n      <th>402</th>\n      <td>Nicolas Flamel</td>\n      <td>Perenelle Flamel</td>\n      <td>100608</td>\n    </tr>\n    <tr>\n      <th>403</th>\n      <td>Albus Dumbledore</td>\n      <td>Helena Ravenclaw</td>\n      <td>103872</td>\n    </tr>\n    <tr>\n      <th>404</th>\n      <td>Ronald Weasley</td>\n      <td>Vernon Dursley</td>\n      <td>104671</td>\n    </tr>\n    <tr>\n      <th>405</th>\n      <td>Hermione Granger</td>\n      <td>Vernon Dursley</td>\n      <td>104732</td>\n    </tr>\n  </tbody>\n</table>\n<p>406 rows × 3 columns</p>\n</div>"
     },
     "execution_count": 240,
     "metadata": {},
     "output_type": "execute_result"
    }
   ],
   "source": [
    "# with pandas\n",
    "data = pd.read_csv(path)\n",
    "data"
   ]
  },
  {
   "cell_type": "code",
   "execution_count": 241,
   "id": "0ce53d51",
   "metadata": {
    "ExecuteTime": {
     "end_time": "2024-04-18T10:05:58.427179Z",
     "start_time": "2024-04-18T10:05:58.401492Z"
    }
   },
   "outputs": [
    {
     "data": {
      "text/plain": "source    0\ntarget    0\nvalue     0\ndtype: int64"
     },
     "execution_count": 241,
     "metadata": {},
     "output_type": "execute_result"
    }
   ],
   "source": [
    "data.isnull().sum()"
   ]
  },
  {
   "cell_type": "code",
   "execution_count": 242,
   "id": "687052be",
   "metadata": {
    "ExecuteTime": {
     "end_time": "2024-04-18T10:05:58.441913Z",
     "start_time": "2024-04-18T10:05:58.413898Z"
    }
   },
   "outputs": [
    {
     "name": "stdout",
     "output_type": "stream",
     "text": [
      "<class 'pandas.core.frame.DataFrame'>\n",
      "RangeIndex: 406 entries, 0 to 405\n",
      "Data columns (total 3 columns):\n",
      " #   Column  Non-Null Count  Dtype \n",
      "---  ------  --------------  ----- \n",
      " 0   source  406 non-null    object\n",
      " 1   target  406 non-null    object\n",
      " 2   value   406 non-null    int64 \n",
      "dtypes: int64(1), object(2)\n",
      "memory usage: 9.6+ KB\n"
     ]
    }
   ],
   "source": [
    "data.info()"
   ]
  },
  {
   "cell_type": "code",
   "execution_count": 243,
   "id": "09c15bb6",
   "metadata": {
    "ExecuteTime": {
     "end_time": "2024-04-18T10:05:58.455013Z",
     "start_time": "2024-04-18T10:05:58.421649Z"
    }
   },
   "outputs": [],
   "source": [
    "datay = data.replace({np.nan: None})"
   ]
  },
  {
   "cell_type": "code",
   "execution_count": 244,
   "id": "b08b0200",
   "metadata": {
    "ExecuteTime": {
     "end_time": "2024-04-18T10:05:58.539122Z",
     "start_time": "2024-04-18T10:05:58.426499Z"
    }
   },
   "outputs": [
    {
     "data": {
      "text/plain": "            source              target   value\n375          Ronan       Rubeus Hagrid   85951\n32         Mr Paws               Tufty    8093\n355  Gregory Goyle  Neville Longbottom  104122\n15    Harry Potter      Lily J. Potter   18611\n364  Poppy Pomfrey      Ronald Weasley  101898",
      "text/html": "<div>\n<style scoped>\n    .dataframe tbody tr th:only-of-type {\n        vertical-align: middle;\n    }\n\n    .dataframe tbody tr th {\n        vertical-align: top;\n    }\n\n    .dataframe thead th {\n        text-align: right;\n    }\n</style>\n<table border=\"1\" class=\"dataframe\">\n  <thead>\n    <tr style=\"text-align: right;\">\n      <th></th>\n      <th>source</th>\n      <th>target</th>\n      <th>value</th>\n    </tr>\n  </thead>\n  <tbody>\n    <tr>\n      <th>375</th>\n      <td>Ronan</td>\n      <td>Rubeus Hagrid</td>\n      <td>85951</td>\n    </tr>\n    <tr>\n      <th>32</th>\n      <td>Mr Paws</td>\n      <td>Tufty</td>\n      <td>8093</td>\n    </tr>\n    <tr>\n      <th>355</th>\n      <td>Gregory Goyle</td>\n      <td>Neville Longbottom</td>\n      <td>104122</td>\n    </tr>\n    <tr>\n      <th>15</th>\n      <td>Harry Potter</td>\n      <td>Lily J. Potter</td>\n      <td>18611</td>\n    </tr>\n    <tr>\n      <th>364</th>\n      <td>Poppy Pomfrey</td>\n      <td>Ronald Weasley</td>\n      <td>101898</td>\n    </tr>\n  </tbody>\n</table>\n</div>"
     },
     "execution_count": 244,
     "metadata": {},
     "output_type": "execute_result"
    }
   ],
   "source": [
    "datay.sample(5)"
   ]
  },
  {
   "cell_type": "code",
   "execution_count": 245,
   "id": "c12fdfcc",
   "metadata": {
    "ExecuteTime": {
     "end_time": "2024-04-18T10:05:58.558463Z",
     "start_time": "2024-04-18T10:05:58.438503Z"
    }
   },
   "outputs": [],
   "source": [
    "create_rel = \"\"\"\n",
    "    MERGE (s:Character{name:$source})\n",
    "    MERGE (t:Character{name:$target})\n",
    "    MERGE (s)-[r:INTERACTS]-(t)\n",
    "    SET r.weight = $value\n",
    "\"\"\"    "
   ]
  },
  {
   "cell_type": "code",
   "execution_count": 246,
   "id": "ecbcbc40",
   "metadata": {
    "ExecuteTime": {
     "end_time": "2024-04-18T10:06:00.783176Z",
     "start_time": "2024-04-18T10:05:58.442793Z"
    }
   },
   "outputs": [],
   "source": [
    "# Execute transaction\n",
    "for index, row in datay.iterrows():\n",
    "    response = write_query(create_rel, \n",
    "                           params = {'source':row['source'], 'target':row['target'], 'value':row['value']})"
   ]
  },
  {
   "cell_type": "markdown",
   "id": "a0cf3af1",
   "metadata": {},
   "source": [
    "## Query the Database"
   ]
  },
  {
   "cell_type": "markdown",
   "id": "661d6b9d",
   "metadata": {},
   "source": [
    "To enable permissions for running the algorithms on the localmachine, aadd this line to your config file:\n",
    "__dbms.security.procedures.unrestricted=jwt.security.*, apoc.*, gds.*__"
   ]
  },
  {
   "cell_type": "code",
   "execution_count": 247,
   "id": "5c2b8ef2",
   "metadata": {
    "ExecuteTime": {
     "end_time": "2024-04-18T10:06:00.806694Z",
     "start_time": "2024-04-18T10:06:00.785344Z"
    }
   },
   "outputs": [],
   "source": [
    "def read_gds(query, params=None):\n",
    "    with driver.session() as session:\n",
    "        result = session.run(query, params)\n",
    "        return pd.DataFrame([r.values() for r in result], columns=result.keys())"
   ]
  },
  {
   "cell_type": "markdown",
   "id": "1fae82de",
   "metadata": {},
   "source": [
    "### Community Detection"
   ]
  },
  {
   "cell_type": "code",
   "execution_count": 248,
   "id": "c9f9946f",
   "metadata": {
    "ExecuteTime": {
     "end_time": "2024-04-18T10:06:00.810424Z",
     "start_time": "2024-04-18T10:06:00.791459Z"
    }
   },
   "outputs": [],
   "source": [
    "# create a projection\n",
    "query = \"\"\"\n",
    "    CALL gds.graph.project('dor', 'Character', {INTERACTS:{orientation:'UNDIRECTED'}})\n",
    "    YIELD nodeId, score\n",
    "    RETURN gds.util.asNode(nodeId).name AS title, score AS rank\n",
    "    ORDER BY rank DESCENDING, title LIMIT 5\n",
    "\"\"\""
   ]
  },
  {
   "cell_type": "code",
   "execution_count": 249,
   "id": "24ff231a",
   "metadata": {
    "ExecuteTime": {
     "end_time": "2024-04-18T10:06:00.976718Z",
     "start_time": "2024-04-18T10:06:00.797074Z"
    }
   },
   "outputs": [
    {
     "ename": "ClientError",
     "evalue": "{code: Neo.ClientError.Procedure.ProcedureNotFound} {message: There is no procedure with the name `gds.graph.project` registered for this database instance. Please ensure you've spelled the procedure name correctly and that the procedure is properly deployed.}",
     "output_type": "error",
     "traceback": [
      "\u001B[0;31m---------------------------------------------------------------------------\u001B[0m",
      "\u001B[0;31mClientError\u001B[0m                               Traceback (most recent call last)",
      "Cell \u001B[0;32mIn [249], line 1\u001B[0m\n\u001B[0;32m----> 1\u001B[0m response \u001B[38;5;241m=\u001B[39m read_gds(query)\n\u001B[1;32m      2\u001B[0m response\n",
      "Cell \u001B[0;32mIn [247], line 3\u001B[0m, in \u001B[0;36mread_gds\u001B[0;34m(query, params)\u001B[0m\n\u001B[1;32m      1\u001B[0m \u001B[38;5;28;01mdef\u001B[39;00m \u001B[38;5;21mread_gds\u001B[39m(query, params\u001B[38;5;241m=\u001B[39m\u001B[38;5;28;01mNone\u001B[39;00m):\n\u001B[1;32m      2\u001B[0m     \u001B[38;5;28;01mwith\u001B[39;00m driver\u001B[38;5;241m.\u001B[39msession() \u001B[38;5;28;01mas\u001B[39;00m session:\n\u001B[0;32m----> 3\u001B[0m         result \u001B[38;5;241m=\u001B[39m \u001B[43msession\u001B[49m\u001B[38;5;241;43m.\u001B[39;49m\u001B[43mrun\u001B[49m\u001B[43m(\u001B[49m\u001B[43mquery\u001B[49m\u001B[43m,\u001B[49m\u001B[43m \u001B[49m\u001B[43mparams\u001B[49m\u001B[43m)\u001B[49m\n\u001B[1;32m      4\u001B[0m         \u001B[38;5;28;01mreturn\u001B[39;00m pd\u001B[38;5;241m.\u001B[39mDataFrame([r\u001B[38;5;241m.\u001B[39mvalues() \u001B[38;5;28;01mfor\u001B[39;00m r \u001B[38;5;129;01min\u001B[39;00m result], columns\u001B[38;5;241m=\u001B[39mresult\u001B[38;5;241m.\u001B[39mkeys())\n",
      "File \u001B[0;32m/Library/Frameworks/Python.framework/Versions/3.10/lib/python3.10/site-packages/neo4j/_sync/work/session.py:313\u001B[0m, in \u001B[0;36mSession.run\u001B[0;34m(self, query, parameters, **kwargs)\u001B[0m\n\u001B[1;32m    311\u001B[0m bookmarks \u001B[38;5;241m=\u001B[39m \u001B[38;5;28mself\u001B[39m\u001B[38;5;241m.\u001B[39m_get_bookmarks()\n\u001B[1;32m    312\u001B[0m parameters \u001B[38;5;241m=\u001B[39m \u001B[38;5;28mdict\u001B[39m(parameters \u001B[38;5;129;01mor\u001B[39;00m {}, \u001B[38;5;241m*\u001B[39m\u001B[38;5;241m*\u001B[39mkwargs)\n\u001B[0;32m--> 313\u001B[0m \u001B[38;5;28;43mself\u001B[39;49m\u001B[38;5;241;43m.\u001B[39;49m\u001B[43m_auto_result\u001B[49m\u001B[38;5;241;43m.\u001B[39;49m\u001B[43m_run\u001B[49m\u001B[43m(\u001B[49m\n\u001B[1;32m    314\u001B[0m \u001B[43m    \u001B[49m\u001B[43mquery\u001B[49m\u001B[43m,\u001B[49m\u001B[43m \u001B[49m\u001B[43mparameters\u001B[49m\u001B[43m,\u001B[49m\u001B[43m \u001B[49m\u001B[38;5;28;43mself\u001B[39;49m\u001B[38;5;241;43m.\u001B[39;49m\u001B[43m_config\u001B[49m\u001B[38;5;241;43m.\u001B[39;49m\u001B[43mdatabase\u001B[49m\u001B[43m,\u001B[49m\n\u001B[1;32m    315\u001B[0m \u001B[43m    \u001B[49m\u001B[38;5;28;43mself\u001B[39;49m\u001B[38;5;241;43m.\u001B[39;49m\u001B[43m_config\u001B[49m\u001B[38;5;241;43m.\u001B[39;49m\u001B[43mimpersonated_user\u001B[49m\u001B[43m,\u001B[49m\u001B[43m \u001B[49m\u001B[38;5;28;43mself\u001B[39;49m\u001B[38;5;241;43m.\u001B[39;49m\u001B[43m_config\u001B[49m\u001B[38;5;241;43m.\u001B[39;49m\u001B[43mdefault_access_mode\u001B[49m\u001B[43m,\u001B[49m\n\u001B[1;32m    316\u001B[0m \u001B[43m    \u001B[49m\u001B[43mbookmarks\u001B[49m\u001B[43m,\u001B[49m\u001B[43m \u001B[49m\u001B[38;5;28;43mself\u001B[39;49m\u001B[38;5;241;43m.\u001B[39;49m\u001B[43m_config\u001B[49m\u001B[38;5;241;43m.\u001B[39;49m\u001B[43mnotifications_min_severity\u001B[49m\u001B[43m,\u001B[49m\n\u001B[1;32m    317\u001B[0m \u001B[43m    \u001B[49m\u001B[38;5;28;43mself\u001B[39;49m\u001B[38;5;241;43m.\u001B[39;49m\u001B[43m_config\u001B[49m\u001B[38;5;241;43m.\u001B[39;49m\u001B[43mnotifications_disabled_categories\u001B[49m\u001B[43m,\u001B[49m\n\u001B[1;32m    318\u001B[0m \u001B[43m\u001B[49m\u001B[43m)\u001B[49m\n\u001B[1;32m    320\u001B[0m \u001B[38;5;28;01mreturn\u001B[39;00m \u001B[38;5;28mself\u001B[39m\u001B[38;5;241m.\u001B[39m_auto_result\n",
      "File \u001B[0;32m/Library/Frameworks/Python.framework/Versions/3.10/lib/python3.10/site-packages/neo4j/_sync/work/result.py:181\u001B[0m, in \u001B[0;36mResult._run\u001B[0;34m(self, query, parameters, db, imp_user, access_mode, bookmarks, notifications_min_severity, notifications_disabled_categories)\u001B[0m\n\u001B[1;32m    179\u001B[0m \u001B[38;5;28mself\u001B[39m\u001B[38;5;241m.\u001B[39m_pull()\n\u001B[1;32m    180\u001B[0m \u001B[38;5;28mself\u001B[39m\u001B[38;5;241m.\u001B[39m_connection\u001B[38;5;241m.\u001B[39msend_all()\n\u001B[0;32m--> 181\u001B[0m \u001B[38;5;28;43mself\u001B[39;49m\u001B[38;5;241;43m.\u001B[39;49m\u001B[43m_attach\u001B[49m\u001B[43m(\u001B[49m\u001B[43m)\u001B[49m\n",
      "File \u001B[0;32m/Library/Frameworks/Python.framework/Versions/3.10/lib/python3.10/site-packages/neo4j/_sync/work/result.py:301\u001B[0m, in \u001B[0;36mResult._attach\u001B[0;34m(self)\u001B[0m\n\u001B[1;32m    299\u001B[0m \u001B[38;5;28;01mif\u001B[39;00m \u001B[38;5;28mself\u001B[39m\u001B[38;5;241m.\u001B[39m_exhausted \u001B[38;5;129;01mis\u001B[39;00m \u001B[38;5;28;01mFalse\u001B[39;00m:\n\u001B[1;32m    300\u001B[0m     \u001B[38;5;28;01mwhile\u001B[39;00m \u001B[38;5;28mself\u001B[39m\u001B[38;5;241m.\u001B[39m_attached \u001B[38;5;129;01mis\u001B[39;00m \u001B[38;5;28;01mFalse\u001B[39;00m:\n\u001B[0;32m--> 301\u001B[0m         \u001B[38;5;28;43mself\u001B[39;49m\u001B[38;5;241;43m.\u001B[39;49m\u001B[43m_connection\u001B[49m\u001B[38;5;241;43m.\u001B[39;49m\u001B[43mfetch_message\u001B[49m\u001B[43m(\u001B[49m\u001B[43m)\u001B[49m\n",
      "File \u001B[0;32m/Library/Frameworks/Python.framework/Versions/3.10/lib/python3.10/site-packages/neo4j/_sync/io/_common.py:178\u001B[0m, in \u001B[0;36mConnectionErrorHandler.__getattr__.<locals>.outer.<locals>.inner\u001B[0;34m(*args, **kwargs)\u001B[0m\n\u001B[1;32m    176\u001B[0m \u001B[38;5;28;01mdef\u001B[39;00m \u001B[38;5;21minner\u001B[39m(\u001B[38;5;241m*\u001B[39margs, \u001B[38;5;241m*\u001B[39m\u001B[38;5;241m*\u001B[39mkwargs):\n\u001B[1;32m    177\u001B[0m     \u001B[38;5;28;01mtry\u001B[39;00m:\n\u001B[0;32m--> 178\u001B[0m         \u001B[43mfunc\u001B[49m\u001B[43m(\u001B[49m\u001B[38;5;241;43m*\u001B[39;49m\u001B[43margs\u001B[49m\u001B[43m,\u001B[49m\u001B[43m \u001B[49m\u001B[38;5;241;43m*\u001B[39;49m\u001B[38;5;241;43m*\u001B[39;49m\u001B[43mkwargs\u001B[49m\u001B[43m)\u001B[49m\n\u001B[1;32m    179\u001B[0m     \u001B[38;5;28;01mexcept\u001B[39;00m (Neo4jError, ServiceUnavailable, SessionExpired) \u001B[38;5;28;01mas\u001B[39;00m exc:\n\u001B[1;32m    180\u001B[0m         \u001B[38;5;28;01massert\u001B[39;00m \u001B[38;5;129;01mnot\u001B[39;00m asyncio\u001B[38;5;241m.\u001B[39miscoroutinefunction(\u001B[38;5;28mself\u001B[39m\u001B[38;5;241m.\u001B[39m__on_error)\n",
      "File \u001B[0;32m/Library/Frameworks/Python.framework/Versions/3.10/lib/python3.10/site-packages/neo4j/_sync/io/_bolt.py:850\u001B[0m, in \u001B[0;36mBolt.fetch_message\u001B[0;34m(self)\u001B[0m\n\u001B[1;32m    846\u001B[0m \u001B[38;5;66;03m# Receive exactly one message\u001B[39;00m\n\u001B[1;32m    847\u001B[0m tag, fields \u001B[38;5;241m=\u001B[39m \u001B[38;5;28mself\u001B[39m\u001B[38;5;241m.\u001B[39minbox\u001B[38;5;241m.\u001B[39mpop(\n\u001B[1;32m    848\u001B[0m     hydration_hooks\u001B[38;5;241m=\u001B[39m\u001B[38;5;28mself\u001B[39m\u001B[38;5;241m.\u001B[39mresponses[\u001B[38;5;241m0\u001B[39m]\u001B[38;5;241m.\u001B[39mhydration_hooks\n\u001B[1;32m    849\u001B[0m )\n\u001B[0;32m--> 850\u001B[0m res \u001B[38;5;241m=\u001B[39m \u001B[38;5;28;43mself\u001B[39;49m\u001B[38;5;241;43m.\u001B[39;49m\u001B[43m_process_message\u001B[49m\u001B[43m(\u001B[49m\u001B[43mtag\u001B[49m\u001B[43m,\u001B[49m\u001B[43m \u001B[49m\u001B[43mfields\u001B[49m\u001B[43m)\u001B[49m\n\u001B[1;32m    851\u001B[0m \u001B[38;5;28mself\u001B[39m\u001B[38;5;241m.\u001B[39midle_since \u001B[38;5;241m=\u001B[39m monotonic()\n\u001B[1;32m    852\u001B[0m \u001B[38;5;28;01mreturn\u001B[39;00m res\n",
      "File \u001B[0;32m/Library/Frameworks/Python.framework/Versions/3.10/lib/python3.10/site-packages/neo4j/_sync/io/_bolt5.py:369\u001B[0m, in \u001B[0;36mBolt5x0._process_message\u001B[0;34m(self, tag, fields)\u001B[0m\n\u001B[1;32m    367\u001B[0m \u001B[38;5;28mself\u001B[39m\u001B[38;5;241m.\u001B[39m_server_state_manager\u001B[38;5;241m.\u001B[39mstate \u001B[38;5;241m=\u001B[39m \u001B[38;5;28mself\u001B[39m\u001B[38;5;241m.\u001B[39mbolt_states\u001B[38;5;241m.\u001B[39mFAILED\n\u001B[1;32m    368\u001B[0m \u001B[38;5;28;01mtry\u001B[39;00m:\n\u001B[0;32m--> 369\u001B[0m     \u001B[43mresponse\u001B[49m\u001B[38;5;241;43m.\u001B[39;49m\u001B[43mon_failure\u001B[49m\u001B[43m(\u001B[49m\u001B[43msummary_metadata\u001B[49m\u001B[43m \u001B[49m\u001B[38;5;129;43;01mor\u001B[39;49;00m\u001B[43m \u001B[49m\u001B[43m{\u001B[49m\u001B[43m}\u001B[49m\u001B[43m)\u001B[49m\n\u001B[1;32m    370\u001B[0m \u001B[38;5;28;01mexcept\u001B[39;00m (ServiceUnavailable, DatabaseUnavailable):\n\u001B[1;32m    371\u001B[0m     \u001B[38;5;28;01mif\u001B[39;00m \u001B[38;5;28mself\u001B[39m\u001B[38;5;241m.\u001B[39mpool:\n",
      "File \u001B[0;32m/Library/Frameworks/Python.framework/Versions/3.10/lib/python3.10/site-packages/neo4j/_sync/io/_common.py:245\u001B[0m, in \u001B[0;36mResponse.on_failure\u001B[0;34m(self, metadata)\u001B[0m\n\u001B[1;32m    243\u001B[0m handler \u001B[38;5;241m=\u001B[39m \u001B[38;5;28mself\u001B[39m\u001B[38;5;241m.\u001B[39mhandlers\u001B[38;5;241m.\u001B[39mget(\u001B[38;5;124m\"\u001B[39m\u001B[38;5;124mon_summary\u001B[39m\u001B[38;5;124m\"\u001B[39m)\n\u001B[1;32m    244\u001B[0m Util\u001B[38;5;241m.\u001B[39mcallback(handler)\n\u001B[0;32m--> 245\u001B[0m \u001B[38;5;28;01mraise\u001B[39;00m Neo4jError\u001B[38;5;241m.\u001B[39mhydrate(\u001B[38;5;241m*\u001B[39m\u001B[38;5;241m*\u001B[39mmetadata)\n",
      "\u001B[0;31mClientError\u001B[0m: {code: Neo.ClientError.Procedure.ProcedureNotFound} {message: There is no procedure with the name `gds.graph.project` registered for this database instance. Please ensure you've spelled the procedure name correctly and that the procedure is properly deployed.}"
     ]
    }
   ],
   "source": [
    "response = read_gds(query)\n",
    "response"
   ]
  },
  {
   "cell_type": "code",
   "execution_count": null,
   "id": "afda1d00",
   "metadata": {
    "ExecuteTime": {
     "start_time": "2024-04-18T10:06:00.954113Z"
    }
   },
   "outputs": [],
   "source": [
    "query = \"\"\"\n",
    "    CALL gds.louvain.stream('dom')\n",
    "    YIELD nodeId, communityId, intermediateCommunityIds\n",
    "    RETURN gds.util.asNode(nodeId).name AS name, communityId\n",
    "    ORDER BY communityId ASC LIMIT 15\n",
    "\"\"\""
   ]
  },
  {
   "cell_type": "code",
   "execution_count": null,
   "id": "fbab07b4",
   "metadata": {
    "ExecuteTime": {
     "start_time": "2024-04-18T10:06:00.958349Z"
    }
   },
   "outputs": [],
   "source": [
    "# writes the calculated community coeficients as parameters of the nodes\n",
    "response = read_gds(query)\n",
    "response"
   ]
  },
  {
   "cell_type": "markdown",
   "id": "fe8ada56",
   "metadata": {},
   "source": [
    "### Degree Centrality"
   ]
  },
  {
   "cell_type": "code",
   "execution_count": null,
   "id": "a3bf2709",
   "metadata": {
    "ExecuteTime": {
     "start_time": "2024-04-18T10:06:00.961682Z"
    }
   },
   "outputs": [],
   "source": [
    "query = \"\"\"\n",
    "    CALL gds.degree.stream('dor')\n",
    "    YIELD nodeId, score\n",
    "    RETURN gds.util.asNode(nodeId).name AS title, score AS connections\n",
    "    ORDER BY rank DESCENDING, title LIMIT 5\n",
    "\"\"\""
   ]
  },
  {
   "cell_type": "code",
   "execution_count": null,
   "id": "f15162f3",
   "metadata": {
    "ExecuteTime": {
     "start_time": "2024-04-18T10:06:00.964920Z"
    }
   },
   "outputs": [],
   "source": [
    "response = read_gds(query)\n",
    "response"
   ]
  },
  {
   "cell_type": "markdown",
   "id": "137799e5",
   "metadata": {},
   "source": [
    "### Page Rank"
   ]
  },
  {
   "cell_type": "code",
   "execution_count": null,
   "id": "154da59c",
   "metadata": {
    "ExecuteTime": {
     "start_time": "2024-04-18T10:06:00.972552Z"
    }
   },
   "outputs": [],
   "source": [
    "# create projection\n",
    "query = '''\n",
    "CALL gds.graph.project(\n",
    "  'dom',\n",
    "  'Character',\n",
    "  'INTERACTS',\n",
    "  {\n",
    "    relationshipProperties: 'weight'\n",
    "  }\n",
    ")\n",
    "'''"
   ]
  },
  {
   "cell_type": "code",
   "execution_count": null,
   "id": "4174be99",
   "metadata": {
    "ExecuteTime": {
     "start_time": "2024-04-18T10:06:00.976479Z"
    }
   },
   "outputs": [],
   "source": [
    "response = read_gds(query)\n",
    "response"
   ]
  },
  {
   "cell_type": "code",
   "execution_count": null,
   "id": "f3d78597",
   "metadata": {
    "ExecuteTime": {
     "end_time": "2024-04-18T10:06:01.000355Z",
     "start_time": "2024-04-18T10:06:00.979358Z"
    }
   },
   "outputs": [],
   "source": [
    "query = \"\"\"\n",
    "    CALL gds.pageRank.stream('dom')\n",
    "    YIELD nodeId, score\n",
    "    RETURN gds.util.asNode(nodeId).title AS title, score\n",
    "    ORDER BY score DESC\n",
    "\"\"\""
   ]
  },
  {
   "cell_type": "code",
   "execution_count": null,
   "id": "c2d0c79d",
   "metadata": {
    "ExecuteTime": {
     "start_time": "2024-04-18T10:06:00.984521Z"
    }
   },
   "outputs": [],
   "source": [
    "response = read_gds(query)\n",
    "response"
   ]
  },
  {
   "cell_type": "markdown",
   "id": "0322e95f",
   "metadata": {},
   "source": [
    "### Shortest Path"
   ]
  },
  {
   "cell_type": "code",
   "execution_count": null,
   "id": "c921d5f4",
   "metadata": {
    "ExecuteTime": {
     "start_time": "2024-04-18T10:06:00.989410Z"
    }
   },
   "outputs": [],
   "source": [
    "# create projection\n",
    "query = '''\n",
    "CALL gds.graph.project(\n",
    "    'pat',\n",
    "    'Character',\n",
    "    'INTERACTS',\n",
    "    {\n",
    "        relationshipProperties: 'weight'\n",
    "    }\n",
    ")\n",
    "'''"
   ]
  },
  {
   "cell_type": "code",
   "execution_count": null,
   "id": "0065dbae",
   "metadata": {
    "ExecuteTime": {
     "start_time": "2024-04-18T10:06:00.992092Z"
    }
   },
   "outputs": [],
   "source": [
    "response = read_gds(query)\n",
    "response"
   ]
  },
  {
   "cell_type": "code",
   "execution_count": null,
   "id": "50bc8508",
   "metadata": {
    "ExecuteTime": {
     "start_time": "2024-04-18T10:06:00.994046Z"
    }
   },
   "outputs": [],
   "source": [
    "query = \"\"\"\n",
    "    MATCH (source:Character {title: 'Harry Potter'}), (target:Character {title: 'Albus Dumbledore'})\n",
    "    CALL gds.shortestPath.dijkstra.stream('pat', \n",
    "    {\n",
    "        sourceNode: source,\n",
    "        targetNode: target,\n",
    "        relationshipWeightProperty: 'weight'\n",
    "    })\n",
    "    YIELD index, sourceNode, targetNode, totalCost, nodeIds, costs, path\n",
    "    RETURN\n",
    "        index,\n",
    "        gds.util.asNode(sourceNode).title AS sourceNodeName,\n",
    "        gds.util.asNode(targetNode).title AS targetNodeName,\n",
    "        totalCost,\n",
    "        [nodeId IN nodeIds | gds.util.asNode(nodeId).title] AS nodeNames,\n",
    "        costs,\n",
    "        nodes(path) as path\n",
    "    ORDER BY index\n",
    "\"\"\""
   ]
  },
  {
   "cell_type": "code",
   "execution_count": null,
   "id": "5435086b",
   "metadata": {
    "ExecuteTime": {
     "start_time": "2024-04-18T10:06:00.995893Z"
    }
   },
   "outputs": [],
   "source": [
    "response = read_gds(query)\n",
    "response"
   ]
  },
  {
   "cell_type": "code",
   "execution_count": null,
   "id": "2fd5581c",
   "metadata": {
    "ExecuteTime": {
     "start_time": "2024-04-18T10:06:00.998560Z"
    }
   },
   "outputs": [],
   "source": []
  },
  {
   "cell_type": "code",
   "execution_count": null,
   "id": "1d6d6418",
   "metadata": {
    "ExecuteTime": {
     "end_time": "2024-04-18T10:06:01.171929Z",
     "start_time": "2024-04-18T10:06:01.002457Z"
    }
   },
   "outputs": [],
   "source": []
  }
 ],
 "metadata": {
  "kernelspec": {
   "display_name": "Python 3 (ipykernel)",
   "language": "python",
   "name": "python3"
  },
  "language_info": {
   "codemirror_mode": {
    "name": "ipython",
    "version": 3
   },
   "file_extension": ".py",
   "mimetype": "text/x-python",
   "name": "python",
   "nbconvert_exporter": "python",
   "pygments_lexer": "ipython3",
   "version": "3.11.4"
  }
 },
 "nbformat": 4,
 "nbformat_minor": 5
}
