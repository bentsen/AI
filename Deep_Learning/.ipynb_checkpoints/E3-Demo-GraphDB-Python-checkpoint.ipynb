{
 "cells": [
  {
   "cell_type": "markdown",
   "id": "d07c6275",
   "metadata": {},
   "source": [
    "# Creating and  Using Graph DB in Python Application"
   ]
  },
  {
   "cell_type": "code",
   "execution_count": null,
   "id": "45193d30",
   "metadata": {},
   "outputs": [],
   "source": [
    "!pip install neo4"
   ]
  },
  {
   "cell_type": "markdown",
   "id": "5d2636ee",
   "metadata": {},
   "source": [
    "## Prepare the Environment"
   ]
  },
  {
   "cell_type": "code",
   "execution_count": 1,
   "id": "71d5fd09",
   "metadata": {
    "pycharm": {
     "name": "#%%\n"
    }
   },
   "outputs": [
    {
     "ename": "ModuleNotFoundError",
     "evalue": "No module named 'neo4j'",
     "output_type": "error",
     "traceback": [
      "\u001b[0;31m---------------------------------------------------------------------------\u001b[0m",
      "\u001b[0;31mModuleNotFoundError\u001b[0m                       Traceback (most recent call last)",
      "Cell \u001b[0;32mIn [1], line 1\u001b[0m\n\u001b[0;32m----> 1\u001b[0m \u001b[38;5;28;01mfrom\u001b[39;00m \u001b[38;5;21;01mneo4j\u001b[39;00m \u001b[38;5;28;01mimport\u001b[39;00m GraphDatabase, RoutingControl, basic_auth\n",
      "\u001b[0;31mModuleNotFoundError\u001b[0m: No module named 'neo4j'"
     ]
    }
   ],
   "source": [
    "from neo4j import GraphDatabase, RoutingControl, basic_auth"
   ]
  },
  {
   "cell_type": "code",
   "execution_count": null,
   "id": "c2a57f69",
   "metadata": {
    "pycharm": {
     "name": "#%%\n"
    }
   },
   "outputs": [],
   "source": [
    "import pandas as pd\n",
    "import numpy as np"
   ]
  },
  {
   "cell_type": "markdown",
   "id": "db5c64b4",
   "metadata": {
    "pycharm": {
     "name": "#%% md\n"
    }
   },
   "source": [
    "## Setup the Connection to the Database\n",
    "Choose a database server, a database, credentials for accessing it, and use them to configure the driver.\\\n",
    "The driver helps connecting the database and passing the Cypher statements"
   ]
  },
  {
   "cell_type": "code",
   "execution_count": null,
   "id": "82d74f51",
   "metadata": {
    "pycharm": {
     "name": "#%%\n"
    }
   },
   "outputs": [],
   "source": [
    "# DB URI and authentication\n",
    "URI = \"bolt://localhost:7687\"\n",
    "AUTH = (\"neo4j\",\"mikkel405\")"
   ]
  },
  {
   "cell_type": "code",
   "execution_count": null,
   "id": "599592fe",
   "metadata": {
    "pycharm": {
     "name": "#%%\n"
    }
   },
   "outputs": [],
   "source": [
    "driver = GraphDatabase.driver(URI, auth=AUTH)"
   ]
  },
  {
   "cell_type": "code",
   "execution_count": null,
   "id": "59696b97",
   "metadata": {
    "pycharm": {
     "name": "#%%\n"
    }
   },
   "outputs": [],
   "source": [
    "driver.verify_connectivity()"
   ]
  },
  {
   "cell_type": "markdown",
   "id": "124f7f51",
   "metadata": {
    "pycharm": {
     "name": "#%% md\n"
    }
   },
   "source": [
    "### Query Templates"
   ]
  },
  {
   "cell_type": "markdown",
   "id": "1837ce26",
   "metadata": {
    "pycharm": {
     "name": "#%% md\n"
    }
   },
   "source": [
    "Execute a Cypher statement by creating a session and using the methods \n",
    "- Session.execute_read() and \n",
    "- Session.execute_write()\n",
    "\n",
    "Do not hardcode or concatenate parameters: \n",
    "- use placeholders and \n",
    "- specify the parameters as keyword arguments"
   ]
  },
  {
   "cell_type": "code",
   "execution_count": null,
   "id": "66e2d42b",
   "metadata": {
    "pycharm": {
     "name": "#%%\n"
    }
   },
   "outputs": [],
   "source": [
    "# template write request\n",
    "def write_query(query, params={}):\n",
    "    with driver.session(database=\"neo4j\") as session:\n",
    "        results = session.execute_write(lambda tx: tx.run(query, params).data())\n",
    "        # response = [record.values()[0] for record in results]\n",
    "        return results"
   ]
  },
  {
   "cell_type": "code",
   "execution_count": null,
   "id": "687ed4c9",
   "metadata": {
    "pycharm": {
     "name": "#%%\n"
    }
   },
   "outputs": [],
   "source": [
    "# template read request\n",
    "def read_query(query, params={}):\n",
    "    with driver.session(database=\"neo4j\") as session:\n",
    "        results = session.execute_read(lambda tx: tx.run(query, params).data())       \n",
    "        response = [record.values()[0] for record in results]\n",
    "        return response"
   ]
  },
  {
   "cell_type": "markdown",
   "id": "2b40b620",
   "metadata": {
    "pycharm": {
     "name": "#%% md\n"
    }
   },
   "source": [
    "## Harry Potter Demo Implementation"
   ]
  },
  {
   "cell_type": "markdown",
   "id": "a6df870d",
   "metadata": {
    "pycharm": {
     "name": "#%% md\n"
    }
   },
   "source": [
    "### File Reading Utilities"
   ]
  },
  {
   "cell_type": "code",
   "execution_count": null,
   "id": "cc4a09e5",
   "metadata": {
    "pycharm": {
     "name": "#%%\n"
    }
   },
   "outputs": [],
   "source": [
    "data_dir = '../Data/HarryPotter/'\n",
    "file_name = 'HP-characters.csv'\n",
    "path = data_dir+file_name"
   ]
  },
  {
   "cell_type": "code",
   "execution_count": null,
   "id": "296fb4b4",
   "metadata": {
    "pycharm": {
     "name": "#%%\n"
    }
   },
   "outputs": [],
   "source": [
    "# with pandas\n",
    "data = pd.read_csv(path)\n",
    "data"
   ]
  },
  {
   "cell_type": "code",
   "execution_count": null,
   "id": "33307989",
   "metadata": {
    "pycharm": {
     "name": "#%%\n"
    }
   },
   "outputs": [],
   "source": [
    "data.isnull().sum()"
   ]
  },
  {
   "cell_type": "code",
   "execution_count": null,
   "id": "06573ab4",
   "metadata": {
    "pycharm": {
     "name": "#%%\n"
    }
   },
   "outputs": [],
   "source": [
    "data.info()"
   ]
  },
  {
   "cell_type": "code",
   "execution_count": null,
   "id": "e032702a",
   "metadata": {
    "pycharm": {
     "name": "#%%\n"
    }
   },
   "outputs": [],
   "source": [
    "datax = data.replace({np.nan: None})"
   ]
  },
  {
   "cell_type": "code",
   "execution_count": null,
   "id": "0e630992",
   "metadata": {
    "pycharm": {
     "name": "#%%\n"
    }
   },
   "outputs": [],
   "source": [
    "datax.sample(5)"
   ]
  },
  {
   "cell_type": "code",
   "execution_count": null,
   "id": "3b64c70d",
   "metadata": {
    "pycharm": {
     "name": "#%%\n"
    }
   },
   "outputs": [],
   "source": [
    "datax['house'].tolist()"
   ]
  },
  {
   "cell_type": "markdown",
   "id": "05f6f745",
   "metadata": {
    "pycharm": {
     "name": "#%% md\n"
    }
   },
   "source": [
    "### Ingest the Data into the Database"
   ]
  },
  {
   "cell_type": "markdown",
   "id": "2071f3fd",
   "metadata": {
    "pycharm": {
     "name": "#%% md\n"
    }
   },
   "source": [
    "#### Characters"
   ]
  },
  {
   "cell_type": "code",
   "execution_count": null,
   "id": "ba8baff6",
   "metadata": {
    "pycharm": {
     "name": "#%%\n"
    }
   },
   "outputs": [],
   "source": [
    "create_db = \"\"\"\n",
    "MERGE (c:Character{name:$title, url:$url})\n",
    "    SET c.aliases = CASE trim(toString(c.aliases)) WHEN 'None' THEN null ELSE $aliases END\n",
    "    SET c.blood = CASE trim(toString(c.blood)) WHEN 'None' THEN null ELSE $blood END\n",
    "    SET c.nationality = CASE trim(toString(c.nationality)) WHEN 'None' THEN null ELSE $nationality END\n",
    "    SET c.gender = CASE trim(toString(c.gender)) WHEN 'None' THEN null ELSE $gender END\n",
    "    SET c.species = CASE trim(toString(c.species)) WHEN 'None' THEN null ELSE $species END\n",
    "  \n",
    "\"\"\"\n"
   ]
  },
  {
   "cell_type": "code",
   "execution_count": null,
   "id": "6d77f27e",
   "metadata": {
    "pycharm": {
     "name": "#%%\n"
    }
   },
   "outputs": [],
   "source": [
    "# Execute transaction\n",
    "for index, row in datax.iterrows():\n",
    "    response = write_query(create_db, \n",
    "                           params = {'title':row['title'], 'url':row['url'], 'aliases':row['aliases'],\n",
    "                                     'blood':row['blood'], 'nationality':row['nationality'], \n",
    "                                     'species':row['species'], 'gender':row['gender'] \n",
    "                                    })"
   ]
  },
  {
   "cell_type": "code",
   "execution_count": null,
   "id": "412bb1d8",
   "metadata": {
    "pycharm": {
     "name": "#%%\n"
    }
   },
   "outputs": [],
   "source": [
    "add_groups = '''\n",
    "    MERGE (c:Character {title:$title})\n",
    "    WITH c\n",
    "    UNWIND split($loyalty, ',') AS l\n",
    "        MERGE (g:Group {name:l}) \n",
    "        MERGE (c)-[:LOYAL_TO]->(g)\n",
    "    RETURN c\n",
    "'''"
   ]
  },
  {
   "cell_type": "code",
   "execution_count": null,
   "id": "2164e16c",
   "metadata": {
    "pycharm": {
     "name": "#%%\n"
    }
   },
   "outputs": [],
   "source": [
    "# Execute transaction\n",
    "for index, row in datax.iterrows():\n",
    "    response = write_query(add_groups, params = {'title':row['title'], 'loyalty':row['loyalty'] })"
   ]
  },
  {
   "cell_type": "code",
   "execution_count": null,
   "id": "b8e50bcf",
   "metadata": {
    "pycharm": {
     "name": "#%%\n"
    }
   },
   "outputs": [],
   "source": [
    "add_family = '''\n",
    "    MERGE (c:Character {title:$title})\n",
    "    WITH c\n",
    "    UNWIND split($family, ',') AS f\n",
    "    MERGE (f1:Character {name:f}) \n",
    "    MERGE (c)-[t:IN_FAMILY_WITH]->(f1) \n",
    "    RETURN c\n",
    "'''"
   ]
  },
  {
   "cell_type": "code",
   "execution_count": null,
   "id": "c985d9dd",
   "metadata": {
    "pycharm": {
     "name": "#%%\n"
    }
   },
   "outputs": [],
   "source": [
    "# Execute transaction\n",
    "for index, row in datax.iterrows():\n",
    "    response = write_query(add_family, params = {'title':row['title'], 'family':row['family'] })"
   ]
  },
  {
   "cell_type": "code",
   "execution_count": null,
   "id": "2a81ed27",
   "metadata": {
    "pycharm": {
     "name": "#%%\n"
    }
   },
   "outputs": [],
   "source": [
    "add_house = '''\n",
    "    MERGE (c:Character {title:$title})\n",
    "    WITH c\n",
    "    FOREACH (h in CASE WHEN $house IS NOT NULL THEN [1] ELSE [] END | \n",
    "    MERGE (h1:House {name:$house}) \n",
    "    MERGE (c)-[:BELONGS_TO]->(h1)  ) \n",
    "    RETURN c\n",
    "'''"
   ]
  },
  {
   "cell_type": "code",
   "execution_count": null,
   "id": "64231811",
   "metadata": {
    "pycharm": {
     "name": "#%%\n"
    }
   },
   "outputs": [],
   "source": [
    "# Execute transaction\n",
    "for index, row in datax.iterrows():\n",
    "    response = write_query(add_house, params = {'title':row['title'],'house':row['house']})"
   ]
  },
  {
   "cell_type": "code",
   "execution_count": null,
   "id": "41bf5c6b",
   "metadata": {
    "pycharm": {
     "name": "#%%\n"
    }
   },
   "outputs": [],
   "source": []
  },
  {
   "cell_type": "markdown",
   "id": "f072abe8",
   "metadata": {
    "pycharm": {
     "name": "#%% md\n"
    }
   },
   "source": [
    "#### Relations"
   ]
  },
  {
   "cell_type": "code",
   "execution_count": null,
   "id": "32bfde4f",
   "metadata": {
    "pycharm": {
     "name": "#%%\n"
    }
   },
   "outputs": [],
   "source": [
    "file_name = 'HP-relations-seen.csv'\n",
    "path = data_dir+file_name"
   ]
  },
  {
   "cell_type": "code",
   "execution_count": null,
   "id": "af0944fe",
   "metadata": {
    "pycharm": {
     "name": "#%%\n"
    }
   },
   "outputs": [],
   "source": [
    "# with pandas\n",
    "data = pd.read_csv(path)\n",
    "data"
   ]
  },
  {
   "cell_type": "code",
   "execution_count": null,
   "id": "09c15bb6",
   "metadata": {
    "ExecuteTime": {
     "end_time": "2024-04-18T09:32:31.644683Z",
     "start_time": "2024-04-18T09:32:31.505536Z"
    }
   },
   "outputs": [],
   "source": [
    "datay = data.replace({np.nan: None})"
   ]
  },
  {
   "cell_type": "code",
   "execution_count": null,
   "id": "b08b0200",
   "metadata": {
    "ExecuteTime": {
     "end_time": "2024-04-18T09:32:31.659071Z",
     "start_time": "2024-04-18T09:32:31.520362Z"
    }
   },
   "outputs": [],
   "source": [
    "datay.sample(5)"
   ]
  },
  {
   "cell_type": "code",
   "execution_count": null,
   "id": "c12fdfcc",
   "metadata": {
    "ExecuteTime": {
     "end_time": "2024-04-18T09:32:31.664014Z",
     "start_time": "2024-04-18T09:32:31.531213Z"
    }
   },
   "outputs": [],
   "source": [
    "create_rel = \"\"\"\n",
    "    MERGE (s:Character{name:$source})\n",
    "    MERGE (t:Character{name:$target})\n",
    "    MERGE (s)-[r:INTERACTS]-(t)\n",
    "    SET r.weight = $value\n",
    "\"\"\"    "
   ]
  },
  {
   "cell_type": "code",
   "execution_count": null,
   "id": "ecbcbc40",
   "metadata": {
    "ExecuteTime": {
     "end_time": "2024-04-18T09:32:33.414573Z",
     "start_time": "2024-04-18T09:32:31.538635Z"
    }
   },
   "outputs": [],
   "source": [
    "# Execute transaction\n",
    "for index, row in datay.iterrows():\n",
    "    response = write_query(create_rel, \n",
    "                           params = {'source':row['source'], 'target':row['target'], 'value':row['value']})"
   ]
  },
  {
   "cell_type": "markdown",
   "id": "a0cf3af1",
   "metadata": {},
   "source": [
    "## Query the Database"
   ]
  },
  {
   "cell_type": "markdown",
   "id": "661d6b9d",
   "metadata": {},
   "source": [
    "To enable permissions for running the algorithms on the localmachine, aadd this line to your config file:\n",
    "__dbms.security.procedures.unrestricted=jwt.security.*, apoc.*, gds.*__"
   ]
  },
  {
   "cell_type": "code",
   "execution_count": null,
   "id": "5c2b8ef2",
   "metadata": {
    "ExecuteTime": {
     "end_time": "2024-04-18T09:32:33.421593Z",
     "start_time": "2024-04-18T09:32:33.416007Z"
    }
   },
   "outputs": [],
   "source": [
    "def read_gds(query, params=None):\n",
    "    with driver.session() as session:\n",
    "        result = session.run(query, params)\n",
    "        return pd.DataFrame([r.values() for r in result], columns=result.keys())"
   ]
  },
  {
   "cell_type": "markdown",
   "id": "1fae82de",
   "metadata": {},
   "source": [
    "### Community Detection"
   ]
  },
  {
   "cell_type": "code",
   "execution_count": null,
   "id": "c9f9946f",
   "metadata": {
    "ExecuteTime": {
     "end_time": "2024-04-18T09:32:33.437507Z",
     "start_time": "2024-04-18T09:32:33.422661Z"
    }
   },
   "outputs": [],
   "source": [
    "# create a projection\n",
    "query = \"\"\"\n",
    "    CALL gds.graph.project('dor', 'Character', {INTERACTS:{orientation:'UNDIRECTED'}})\n",
    "    YIELD nodeId, score\n",
    "    RETURN gds.util.asNode(nodeId).name AS title, score AS rank\n",
    "    ORDER BY rank DESCENDING, title LIMIT 5\n",
    "\"\"\""
   ]
  },
  {
   "cell_type": "code",
   "execution_count": null,
   "id": "24ff231a",
   "metadata": {
    "ExecuteTime": {
     "end_time": "2024-04-18T09:32:33.536066Z",
     "start_time": "2024-04-18T09:32:33.426699Z"
    }
   },
   "outputs": [],
   "source": [
    "response = read_gds(query)\n",
    "response"
   ]
  },
  {
   "cell_type": "code",
   "execution_count": null,
   "id": "afda1d00",
   "metadata": {
    "ExecuteTime": {
     "end_time": "2024-04-18T09:32:33.610702Z",
     "start_time": "2024-04-18T09:32:33.540675Z"
    }
   },
   "outputs": [],
   "source": [
    "query = \"\"\"\n",
    "    CALL gds.louvain.stream('dom')\n",
    "    YIELD nodeId, communityId, intermediateCommunityIds\n",
    "    RETURN gds.util.asNode(nodeId).name AS name, communityId\n",
    "    ORDER BY communityId ASC LIMIT 15\n",
    "\"\"\""
   ]
  },
  {
   "cell_type": "code",
   "execution_count": null,
   "id": "fbab07b4",
   "metadata": {
    "ExecuteTime": {
     "start_time": "2024-04-18T09:32:33.544486Z"
    }
   },
   "outputs": [],
   "source": [
    "# writes the calculated community coeficients as parameters of the nodes\n",
    "response = read_gds(query)\n",
    "response"
   ]
  },
  {
   "cell_type": "markdown",
   "id": "fe8ada56",
   "metadata": {},
   "source": [
    "### Degree Centrality"
   ]
  },
  {
   "cell_type": "code",
   "execution_count": null,
   "id": "a3bf2709",
   "metadata": {
    "ExecuteTime": {
     "start_time": "2024-04-18T09:32:33.548928Z"
    }
   },
   "outputs": [],
   "source": [
    "query = \"\"\"\n",
    "    CALL gds.degree.stream('dor')\n",
    "    YIELD nodeId, score\n",
    "    RETURN gds.util.asNode(nodeId).name AS title, score AS connections\n",
    "    ORDER BY rank DESCENDING, title LIMIT 5\n",
    "\"\"\""
   ]
  },
  {
   "cell_type": "code",
   "execution_count": null,
   "id": "f15162f3",
   "metadata": {
    "ExecuteTime": {
     "start_time": "2024-04-18T09:32:33.553303Z"
    }
   },
   "outputs": [],
   "source": [
    "response = read_gds(query)\n",
    "response"
   ]
  },
  {
   "cell_type": "markdown",
   "id": "137799e5",
   "metadata": {},
   "source": [
    "### Page Rank"
   ]
  },
  {
   "cell_type": "code",
   "execution_count": null,
   "id": "154da59c",
   "metadata": {
    "ExecuteTime": {
     "start_time": "2024-04-18T09:32:33.557649Z"
    }
   },
   "outputs": [],
   "source": [
    "# create projection\n",
    "query = '''\n",
    "CALL gds.graph.project(\n",
    "  'dom',\n",
    "  'Character',\n",
    "  'INTERACTS',\n",
    "  {\n",
    "    relationshipProperties: 'weight'\n",
    "  }\n",
    ")\n",
    "'''"
   ]
  },
  {
   "cell_type": "code",
   "execution_count": null,
   "id": "4174be99",
   "metadata": {
    "ExecuteTime": {
     "start_time": "2024-04-18T09:32:33.563072Z"
    }
   },
   "outputs": [],
   "source": [
    "response = read_gds(query)\n",
    "response"
   ]
  },
  {
   "cell_type": "code",
   "execution_count": null,
   "id": "f3d78597",
   "metadata": {
    "ExecuteTime": {
     "start_time": "2024-04-18T09:32:33.568717Z"
    }
   },
   "outputs": [],
   "source": [
    "query = \"\"\"\n",
    "    CALL gds.pageRank.stream('dom')\n",
    "    YIELD nodeId, score\n",
    "    RETURN gds.util.asNode(nodeId).title AS title, score\n",
    "    ORDER BY score DESC\n",
    "\"\"\""
   ]
  },
  {
   "cell_type": "code",
   "execution_count": null,
   "id": "c2d0c79d",
   "metadata": {
    "ExecuteTime": {
     "start_time": "2024-04-18T09:32:33.572357Z"
    }
   },
   "outputs": [],
   "source": [
    "response = read_gds(query)\n",
    "response"
   ]
  },
  {
   "cell_type": "markdown",
   "id": "0322e95f",
   "metadata": {},
   "source": [
    "### Shortest Path"
   ]
  },
  {
   "cell_type": "code",
   "execution_count": null,
   "id": "c921d5f4",
   "metadata": {
    "ExecuteTime": {
     "start_time": "2024-04-18T09:32:33.574955Z"
    }
   },
   "outputs": [],
   "source": [
    "# create projection\n",
    "query = '''\n",
    "CALL gds.graph.project(\n",
    "    'pat',\n",
    "    'Character',\n",
    "    'INTERACTS',\n",
    "    {\n",
    "        relationshipProperties: 'weight'\n",
    "    }\n",
    ")\n",
    "'''"
   ]
  },
  {
   "cell_type": "code",
   "execution_count": null,
   "id": "0065dbae",
   "metadata": {
    "ExecuteTime": {
     "start_time": "2024-04-18T09:32:33.577735Z"
    }
   },
   "outputs": [],
   "source": [
    "response = read_gds(query)\n",
    "response"
   ]
  },
  {
   "cell_type": "code",
   "execution_count": null,
   "id": "50bc8508",
   "metadata": {
    "ExecuteTime": {
     "start_time": "2024-04-18T09:32:33.580327Z"
    }
   },
   "outputs": [],
   "source": [
    "query = \"\"\"\n",
    "    MATCH (source:Character {title: 'Harry Potter'}), (target:Character {title: 'Albus Dumbledore'})\n",
    "    CALL gds.shortestPath.dijkstra.stream('pat', \n",
    "    {\n",
    "        sourceNode: source,\n",
    "        targetNode: target,\n",
    "        relationshipWeightProperty: 'weight'\n",
    "    })\n",
    "    YIELD index, sourceNode, targetNode, totalCost, nodeIds, costs, path\n",
    "    RETURN\n",
    "        index,\n",
    "        gds.util.asNode(sourceNode).title AS sourceNodeName,\n",
    "        gds.util.asNode(targetNode).title AS targetNodeName,\n",
    "        totalCost,\n",
    "        [nodeId IN nodeIds | gds.util.asNode(nodeId).title] AS nodeNames,\n",
    "        costs,\n",
    "        nodes(path) as path\n",
    "    ORDER BY index\n",
    "\"\"\""
   ]
  },
  {
   "cell_type": "code",
   "execution_count": null,
   "id": "5435086b",
   "metadata": {
    "ExecuteTime": {
     "start_time": "2024-04-18T09:32:33.583045Z"
    }
   },
   "outputs": [],
   "source": [
    "response = read_gds(query)\n",
    "response"
   ]
  },
  {
   "cell_type": "code",
   "execution_count": null,
   "id": "2fd5581c",
   "metadata": {
    "ExecuteTime": {
     "start_time": "2024-04-18T09:32:33.585157Z"
    }
   },
   "outputs": [],
   "source": []
  },
  {
   "cell_type": "code",
   "execution_count": null,
   "id": "1d6d6418",
   "metadata": {
    "ExecuteTime": {
     "start_time": "2024-04-18T09:32:33.587678Z"
    }
   },
   "outputs": [],
   "source": []
  }
 ],
 "metadata": {
  "kernelspec": {
   "display_name": "Python 3 (ipykernel)",
   "language": "python",
   "name": "python3"
  },
  "language_info": {
   "codemirror_mode": {
    "name": "ipython",
    "version": 3
   },
   "file_extension": ".py",
   "mimetype": "text/x-python",
   "name": "python",
   "nbconvert_exporter": "python",
   "pygments_lexer": "ipython3",
   "version": "3.9.12"
  }
 },
 "nbformat": 4,
 "nbformat_minor": 5
}
