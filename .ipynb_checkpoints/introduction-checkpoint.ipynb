{
 "cells": [
  {
   "cell_type": "code",
   "execution_count": 1,
   "id": "22da235ef11fc20b",
   "metadata": {
    "ExecuteTime": {
     "end_time": "2024-01-29T10:17:02.637188Z",
     "start_time": "2024-01-29T10:17:02.628950Z"
    },
    "pycharm": {
     "name": "#%%\n"
    }
   },
   "outputs": [
    {
     "data": {
      "text/markdown": [
       "## i) Practise \"magic\" commands %% -create a notebook to demo them\n"
      ],
      "text/plain": [
       "<IPython.core.display.Markdown object>"
      ]
     },
     "metadata": {},
     "output_type": "display_data"
    }
   ],
   "source": [
    "%%markdown\n",
    "## i) Practise \"magic\" commands %% -create a notebook to demo them"
   ]
  },
  {
   "cell_type": "code",
   "execution_count": 2,
   "id": "f4aac519c1582445",
   "metadata": {
    "ExecuteTime": {
     "end_time": "2024-01-29T10:16:38.059880Z",
     "start_time": "2024-01-29T10:16:38.051787Z"
    },
    "pycharm": {
     "name": "#%%\n"
    }
   },
   "outputs": [
    {
     "data": {
      "text/markdown": [
       "\n",
       "%run: Run a python script as a program\n",
       "\n",
       "%load: Load code into the current frontend.\n",
       "\n",
       "%timeit: Time the execution of a statement or expression.\n",
       "\n",
       "%matplotlib: Enable interactive Matplotlib plots.\n",
       "\n",
       "%reset: Reset the namespace by removing all names defined by the user.\n",
       "\n",
       "%pwd: Print the current working directory.\n",
       "\n",
       "%who: Display variables in the interactive namespace.\n",
       "\n",
       "%debug: Activate the interactive debugger.\n",
       "\n",
       "more at https://ipython.readthedocs.io/en/stable/interactive/magics.html\n"
      ],
      "text/plain": [
       "<IPython.core.display.Markdown object>"
      ]
     },
     "metadata": {},
     "output_type": "display_data"
    }
   ],
   "source": [
    "%%markdown\n",
    "\n",
    "%run: Run a python script as a program\n",
    "\n",
    "%load: Load code into the current frontend.\n",
    "\n",
    "%timeit: Time the execution of a statement or expression.\n",
    "\n",
    "%matplotlib: Enable interactive Matplotlib plots.\n",
    "\n",
    "%reset: Reset the namespace by removing all names defined by the user.\n",
    "\n",
    "%pwd: Print the current working directory.\n",
    "\n",
    "%who: Display variables in the interactive namespace.\n",
    "\n",
    "%debug: Activate the interactive debugger.\n",
    "\n",
    "more at https://ipython.readthedocs.io/en/stable/interactive/magics.html"
   ]
  },
  {
   "cell_type": "code",
   "execution_count": 3,
   "id": "6a311f05bcfd14b5",
   "metadata": {
    "ExecuteTime": {
     "end_time": "2024-01-29T10:18:08.176029Z",
     "start_time": "2024-01-29T10:18:08.168995Z"
    },
    "pycharm": {
     "name": "#%%\n"
    }
   },
   "outputs": [
    {
     "data": {
      "text/markdown": [
       "## ii) Python flow of control show how python handles it\n"
      ],
      "text/plain": [
       "<IPython.core.display.Markdown object>"
      ]
     },
     "metadata": {},
     "output_type": "display_data"
    }
   ],
   "source": [
    "%%markdown \n",
    "## ii) Python flow of control show how python handles it"
   ]
  },
  {
   "cell_type": "code",
   "execution_count": 4,
   "id": "initial_id",
   "metadata": {
    "ExecuteTime": {
     "start_time": "2024-01-29T10:12:48.820964Z"
    },
    "pycharm": {
     "name": "#%%\n"
    }
   },
   "outputs": [
    {
     "data": {
      "text/markdown": [
       "Flow control in Python is typically managed using conditional statements (if, elif, else) and loops (for while). Here's a simple example that demonstrates these concepts:\n"
      ],
      "text/plain": [
       "<IPython.core.display.Markdown object>"
      ]
     },
     "metadata": {},
     "output_type": "display_data"
    }
   ],
   "source": [
    "%%markdown\n",
    "Flow control in Python is typically managed using conditional statements (if, elif, else) and loops (for while). Here's a simple example that demonstrates these concepts:"
   ]
  },
  {
   "cell_type": "code",
   "execution_count": 5,
   "id": "50bcd0992502cd8d",
   "metadata": {
    "ExecuteTime": {
     "end_time": "2024-01-29T10:20:12.664547Z",
     "start_time": "2024-01-29T10:20:12.658135Z"
    },
    "pycharm": {
     "name": "#%%\n"
    }
   },
   "outputs": [
    {
     "name": "stdout",
     "output_type": "stream",
     "text": [
      "x is positive\n",
      "Fruits in the list:\n",
      "apple\n",
      "banana\n",
      "cherry\n",
      "Count: 1\n",
      "Count: 2\n",
      "Count: 3\n",
      "Count: 4\n",
      "Count: 5\n"
     ]
    }
   ],
   "source": [
    "x = 10\n",
    "\n",
    "if x > 0:\n",
    "    print(\"x is positive\")\n",
    "elif x == 0:\n",
    "    print(\"x is zero\")\n",
    "else:\n",
    "    print(\"x is negative\")\n",
    "\n",
    "# Loops (for loop)\n",
    "fruits = [\"apple\", \"banana\", \"cherry\"]\n",
    "\n",
    "print(\"Fruits in the list:\")\n",
    "for fruit in fruits:\n",
    "    print(fruit)\n",
    "    \n",
    "# Loops (while loop)\n",
    "count = 1\n",
    "while count <= 5:\n",
    "    print(f\"Count: {count}\")\n",
    "    count += 1"
   ]
  },
  {
   "cell_type": "code",
   "execution_count": 6,
   "id": "e090cad86a15bde5",
   "metadata": {
    "ExecuteTime": {
     "end_time": "2024-01-29T10:18:58.515532Z",
     "start_time": "2024-01-29T10:18:58.496879Z"
    },
    "pycharm": {
     "name": "#%%\n"
    }
   },
   "outputs": [
    {
     "data": {
      "text/markdown": [
       "##  Task iii) Data types + data structures show how Python handles data\n"
      ],
      "text/plain": [
       "<IPython.core.display.Markdown object>"
      ]
     },
     "metadata": {},
     "output_type": "display_data"
    }
   ],
   "source": [
    "%%markdown\n",
    "##  Task iii) Data types + data structures show how Python handles data"
   ]
  },
  {
   "cell_type": "code",
   "execution_count": 7,
   "id": "d29db2ad44250242",
   "metadata": {
    "ExecuteTime": {
     "end_time": "2024-01-29T10:20:55.899477Z",
     "start_time": "2024-01-29T10:20:55.887341Z"
    },
    "pycharm": {
     "name": "#%%\n"
    }
   },
   "outputs": [
    {
     "data": {
      "text/markdown": [
       "\n",
       "Task iii. Data Types\n",
       "\n",
       "Numeric Types:\n",
       "int: x = 5\n",
       "float: y = 3.14\n",
       "complex: z = complex(2, 3)\n",
       "\n",
       "boolean types:\n",
       "is_true = True\n",
       "is_false = False\n",
       "\n",
       "string type:\n",
       "text = \"Hello, Python!\"\n",
       "\n",
       "None type:\n",
       "empty_value = None\n"
      ],
      "text/plain": [
       "<IPython.core.display.Markdown object>"
      ]
     },
     "metadata": {},
     "output_type": "display_data"
    }
   ],
   "source": [
    "%%markdown\n",
    "\n",
    "Task iii. Data Types\n",
    "\n",
    "Numeric Types:\n",
    "int: x = 5\n",
    "float: y = 3.14\n",
    "complex: z = complex(2, 3)\n",
    "\n",
    "boolean types:\n",
    "is_true = True\n",
    "is_false = False\n",
    "\n",
    "string type:\n",
    "text = \"Hello, Python!\"\n",
    "\n",
    "None type:\n",
    "empty_value = None"
   ]
  },
  {
   "cell_type": "code",
   "execution_count": 8,
   "id": "bafdf872850c1e79",
   "metadata": {
    "ExecuteTime": {
     "end_time": "2024-01-29T10:21:06.877081Z",
     "start_time": "2024-01-29T10:21:06.858545Z"
    },
    "pycharm": {
     "name": "#%%\n"
    }
   },
   "outputs": [
    {
     "data": {
      "text/markdown": [
       "\n",
       "## Task iii. Data structure\n"
      ],
      "text/plain": [
       "<IPython.core.display.Markdown object>"
      ]
     },
     "metadata": {},
     "output_type": "display_data"
    }
   ],
   "source": [
    "%%markdown\n",
    "\n",
    "## Task iii. Data structure"
   ]
  },
  {
   "cell_type": "code",
   "execution_count": 9,
   "id": "0e1cafe9",
   "metadata": {
    "pycharm": {
     "name": "#%%\n"
    }
   },
   "outputs": [],
   "source": [
    "# List (Ordered, mutable collection of elements):\n",
    "my_list = [1, 2, 3, 'a', 'b', 'c']\n",
    "\n",
    "# Tuples (Ordered, immutable collection of elements.):\n",
    "my_tuple = (1, 2, 3, 'a', 'b', 'c')\n",
    "\n",
    "# Sets (Unordered collection of unique elements.):\n",
    "my_set = {1, 2, 3, 3, 4}\n",
    "\n",
    "# Dictionaries (Unordered collection of key-value pairs.):\n",
    "my_dict = {'name': 'John', 'age': 25, 'city': 'New York'}\n",
    "\n",
    "# Arrays (NumPy) (Homogeneous multidimensional arrays (provided by the NumPy library)).:\n",
    "import numpy as np\n",
    "\n",
    "my_array = np.array([1, 2, 3, 4, 5])\n",
    "\n",
    "#DataFrames (Pandas) (2D labeled data structures with columns that can be different types (provided by the Pandas library)):\n",
    "import pandas as pd\n",
    "\n",
    "data = {'Name': ['Alice', 'Bob', 'Charlie'],\n",
    "        'Age': [25, 30, 35],\n",
    "        'City': ['New York', 'San Francisco', 'Los Angeles']}\n",
    "df = pd.DataFrame(data)"
   ]
  },
  {
   "cell_type": "code",
   "execution_count": 10,
   "id": "13692c33",
   "metadata": {
    "pycharm": {
     "name": "#%%\n"
    }
   },
   "outputs": [
    {
     "data": {
      "text/markdown": [
       "# Task iii\n",
       "## How Python Handles Data:\n",
       "\n",
       "Dynamic Typing:\n",
       "Python is dynamically typed, meaning you don't have to explicitly declare the data type of a variable. The interpreter infers the type based on the value assigned.\n",
       "x = 5      # x is an integer\n",
       "y = 'hello'  # y is a string\n",
       "\n",
       "Memory Management:\n",
       "Python manages memory automatically, and variables don't need to be explicitly declared or deallocated. Memory is managed through a system of reference counting and garbage collection.\n",
       "\n",
       "Object-Oriented:\n",
       "Everything in Python is an object, including data types and data structures. Objects have associated methods and attributes.\n",
       "\n",
       "Easy Syntax:\n",
       "Python has a clean and readable syntax, making it easy to work with data. It provides built-in functions and methods for common operations on data structures.\n"
      ],
      "text/plain": [
       "<IPython.core.display.Markdown object>"
      ]
     },
     "metadata": {},
     "output_type": "display_data"
    }
   ],
   "source": [
    "%%markdown\n",
    "# Task iii\n",
    "## How Python Handles Data:\n",
    "\n",
    "Dynamic Typing:\n",
    "Python is dynamically typed, meaning you don't have to explicitly declare the data type of a variable. The interpreter infers the type based on the value assigned.\n",
    "x = 5      # x is an integer\n",
    "y = 'hello'  # y is a string\n",
    "\n",
    "Memory Management:\n",
    "Python manages memory automatically, and variables don't need to be explicitly declared or deallocated. Memory is managed through a system of reference counting and garbage collection.\n",
    "\n",
    "Object-Oriented:\n",
    "Everything in Python is an object, including data types and data structures. Objects have associated methods and attributes.\n",
    "\n",
    "Easy Syntax:\n",
    "Python has a clean and readable syntax, making it easy to work with data. It provides built-in functions and methods for common operations on data structures."
   ]
  },
  {
   "cell_type": "code",
   "execution_count": 11,
   "id": "9125dad78720832a",
   "metadata": {
    "ExecuteTime": {
     "end_time": "2024-01-29T10:23:35.977054Z",
     "start_time": "2024-01-29T10:23:35.953501Z"
    },
    "pycharm": {
     "name": "#%%\n"
    }
   },
   "outputs": [
    {
     "data": {
      "text/markdown": [
       "## iv) Numpy/Pandas/Matplotlib/Seaborn. Research the most used functions + produce demo code\n"
      ],
      "text/plain": [
       "<IPython.core.display.Markdown object>"
      ]
     },
     "metadata": {},
     "output_type": "display_data"
    }
   ],
   "source": [
    "%%markdown \n",
    "## iv) Numpy/Pandas/Matplotlib/Seaborn. Research the most used functions + produce demo code"
   ]
  },
  {
   "cell_type": "code",
   "execution_count": 12,
   "id": "2df3e6f9d0cec1d1",
   "metadata": {
    "ExecuteTime": {
     "end_time": "2024-01-29T10:34:59.718825Z",
     "start_time": "2024-01-29T10:34:59.696688Z"
    },
    "pycharm": {
     "name": "#%%\n"
    }
   },
   "outputs": [
    {
     "data": {
      "text/markdown": [
       "### Numpy\n"
      ],
      "text/plain": [
       "<IPython.core.display.Markdown object>"
      ]
     },
     "metadata": {},
     "output_type": "display_data"
    }
   ],
   "source": [
    "%%markdown \n",
    "### Numpy"
   ]
  },
  {
   "cell_type": "code",
   "execution_count": 13,
   "id": "adbec741982b0472",
   "metadata": {
    "ExecuteTime": {
     "end_time": "2024-01-29T10:50:35.021594Z",
     "start_time": "2024-01-29T10:50:35.000440Z"
    },
    "pycharm": {
     "name": "#%%\n"
    }
   },
   "outputs": [
    {
     "name": "stdout",
     "output_type": "stream",
     "text": [
      "[[1]\n",
      " [2]\n",
      " [3]]\n",
      "[1 2 3 1 2 3]\n"
     ]
    }
   ],
   "source": [
    "import numpy as np\n",
    "\n",
    "#Creating Arrays\n",
    "arr = np.array([1, 2, 3])\n",
    "\n",
    "#Math Operations\n",
    "mean_val = np.mean(arr)\n",
    "sum_val = np.sum(arr)\n",
    "max_val = np.max(arr)\n",
    "min_val = np.min(arr)\n",
    "\n",
    "#Array Manipulation\n",
    "reshaped_arr = np.reshape(arr, (3, 1))\n",
    "print(reshaped_arr)\n",
    "concat_arr = np.concatenate([arr, arr])\n",
    "print(concat_arr)"
   ]
  },
  {
   "cell_type": "code",
   "execution_count": 14,
   "id": "f1a6b29ea221bb29",
   "metadata": {
    "ExecuteTime": {
     "end_time": "2024-01-29T10:37:07.765808Z",
     "start_time": "2024-01-29T10:37:07.740207Z"
    },
    "pycharm": {
     "name": "#%%\n"
    }
   },
   "outputs": [
    {
     "data": {
      "text/markdown": [
       "### Pandas\n"
      ],
      "text/plain": [
       "<IPython.core.display.Markdown object>"
      ]
     },
     "metadata": {},
     "output_type": "display_data"
    }
   ],
   "source": [
    "%%markdown\n",
    "### Pandas"
   ]
  },
  {
   "cell_type": "code",
   "execution_count": 15,
   "id": "43b726c93c09fdbf",
   "metadata": {
    "ExecuteTime": {
     "end_time": "2024-01-29T10:53:37.403810Z",
     "start_time": "2024-01-29T10:53:37.375247Z"
    },
    "pycharm": {
     "name": "#%%\n"
    }
   },
   "outputs": [],
   "source": [
    "import pandas as pd\n",
    "\n",
    "#Creating DataFrames\n",
    "data = {'Name': ['Alice', 'Bob', 'Charlie'],\n",
    "        'Age': [25, 30, 35],\n",
    "        'City': ['New York', 'San Francisco', 'Los Angeles']}\n",
    "df = pd.DataFrame(data)\n",
    "\n",
    "#Data Exploration\n",
    "head = df.head()\n",
    "summary_stats = df.describe()\n",
    "\n",
    "#Filtering Data\n",
    "subset = df.loc[df['Age'] > 30]\n"
   ]
  },
  {
   "cell_type": "code",
   "execution_count": 16,
   "id": "9208fce97322e63e",
   "metadata": {
    "ExecuteTime": {
     "end_time": "2024-01-29T10:40:17.995332Z",
     "start_time": "2024-01-29T10:40:17.977743Z"
    },
    "pycharm": {
     "name": "#%%\n"
    }
   },
   "outputs": [
    {
     "data": {
      "text/markdown": [
       "### Matplotlib\n"
      ],
      "text/plain": [
       "<IPython.core.display.Markdown object>"
      ]
     },
     "metadata": {},
     "output_type": "display_data"
    }
   ],
   "source": [
    "%%markdown\n",
    "### Matplotlib"
   ]
  },
  {
   "cell_type": "code",
   "execution_count": 17,
   "id": "6092f28f3f794e59",
   "metadata": {
    "ExecuteTime": {
     "end_time": "2024-01-29T10:53:55.306337Z",
     "start_time": "2024-01-29T10:53:54.830273Z"
    },
    "pycharm": {
     "name": "#%%\n"
    }
   },
   "outputs": [
    {
     "data": {
      "image/png": "[encoded data removed]",
      "text/plain": [
       "<Figure size 640x480 with 1 Axes>"
      ]
     },
     "metadata": {},
     "output_type": "display_data"
    },
    {
     "data": {
      "image/png": "[encoded data removed]",
      "text/plain": [
       "<Figure size 640x480 with 1 Axes>"
      ]
     },
     "metadata": {},
     "output_type": "display_data"
    },
    {
     "data": {
      "image/png": "[encoded data removed]",
      "text/plain": [
       "<Figure size 640x480 with 1 Axes>"
      ]
     },
     "metadata": {},
     "output_type": "display_data"
    }
   ],
   "source": [
    "import matplotlib.pyplot as plt\n",
    "import numpy as np\n",
    "\n",
    "#Line Plot\n",
    "x = np.array([1,2,3])\n",
    "y = np.array([2,4,6])\n",
    "plt.plot(x, y)\n",
    "plt.show()\n",
    "\n",
    "#Scatter Plot\n",
    "plt.scatter(x, y)\n",
    "plt.show()\n",
    "\n",
    "#Bar Plot\n",
    "categories = ['A', 'B', 'C']\n",
    "values = [3, 7, 5]\n",
    "plt.bar(categories, values)\n",
    "plt.show()"
   ]
  },
  {
   "cell_type": "code",
   "execution_count": 18,
   "id": "f14d12f545a58811",
   "metadata": {
    "ExecuteTime": {
     "end_time": "2024-01-29T10:42:35.658327Z",
     "start_time": "2024-01-29T10:42:35.628904Z"
    },
    "pycharm": {
     "name": "#%%\n"
    }
   },
   "outputs": [
    {
     "data": {
      "text/markdown": [
       "### Seaborn\n"
      ],
      "text/plain": [
       "<IPython.core.display.Markdown object>"
      ]
     },
     "metadata": {},
     "output_type": "display_data"
    }
   ],
   "source": [
    "%%markdown\n",
    "### Seaborn"
   ]
  },
  {
   "cell_type": "code",
   "execution_count": 19,
   "id": "9ee507fdc1eb4c58",
   "metadata": {
    "ExecuteTime": {
     "end_time": "2024-01-29T10:45:50.170291Z",
     "start_time": "2024-01-29T10:45:49.654858Z"
    },
    "pycharm": {
     "name": "#%%\n"
    }
   },
   "outputs": [
    {
     "name": "stderr",
     "output_type": "stream",
     "text": [
      "/Users/philippesuenson/opt/anaconda3/lib/python3.9/site-packages/seaborn/distributions.py:2619: FutureWarning: `distplot` is a deprecated function and will be removed in a future version. Please adapt your code to use either `displot` (a figure-level function with similar flexibility) or `histplot` (an axes-level function for histograms).\n",
      "  warnings.warn(msg, FutureWarning)\n"
     ]
    },
    {
     "data": {
      "image/png": "[encoded data removed]",
      "text/plain": [
       "<Figure size 640x480 with 1 Axes>"
      ]
     },
     "metadata": {},
     "output_type": "display_data"
    },
    {
     "data": {
      "image/png": "[encoded data removed]",
      "text/plain": [
       "<Figure size 640x480 with 1 Axes>"
      ]
     },
     "metadata": {},
     "output_type": "display_data"
    },
    {
     "data": {
      "image/png": "[encoded data removed]",
      "text/plain": [
       "<Figure size 640x480 with 2 Axes>"
      ]
     },
     "metadata": {},
     "output_type": "display_data"
    }
   ],
   "source": [
    "import seaborn as sns\n",
    "import pandas as pd\n",
    "\n",
    "data = {'Name': ['Alice', 'Bob', 'Charlie'], 'Age': [25, 30, 35]}\n",
    "df = pd.DataFrame(data)\n",
    "\n",
    "#Distribution Plot\n",
    "sns.distplot(df['Age'])\n",
    "plt.show()\n",
    "\n",
    "#Box Plot\n",
    "sns.boxplot(x='Name', y='Age', data=df)\n",
    "plt.show()\n",
    "\n",
    "#Heatmap\n",
    "corr_matrix = df.corr()\n",
    "sns.heatmap(corr_matrix, annot=True, cmap='coolwarm')\n",
    "plt.show()"
   ]
  },
  {
   "cell_type": "code",
   "execution_count": null,
   "id": "89790c99dc7b61a9",
   "metadata": {
    "pycharm": {
     "name": "#%%\n"
    }
   },
   "outputs": [],
   "source": []
  }
 ],
 "metadata": {
  "kernelspec": {
   "display_name": "Python 3 (ipykernel)",
   "language": "python",
   "name": "python3"
  },
  "language_info": {
   "codemirror_mode": {
    "name": "ipython",
    "version": 3
   },
   "file_extension": ".py",
   "mimetype": "text/x-python",
   "name": "python",
   "nbconvert_exporter": "python",
   "pygments_lexer": "ipython3",
   "version": "3.9.12"
  }
 },
 "nbformat": 4,
 "nbformat_minor": 5
}
