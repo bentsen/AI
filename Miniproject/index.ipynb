{
 "cells": [
  {
   "cell_type": "code",
   "execution_count": 17,
   "outputs": [],
   "source": [
    "import os\n",
    "import requests\n",
    "from bs4 import BeautifulSoup\n",
    "import PyPDF2\n",
    "\n",
    "# Define folder paths\n",
    "Miniproject_dir = './Miniproject'\n",
    "resources_dir = os.path.join(Miniproject_dir, 'resources')\n",
    "\n",
    "# Create Miniproject folder if it doesn't exist\n",
    "if not os.path.exists(Miniproject_dir):\n",
    "    os.makedirs(Miniproject_dir)\n",
    "\n",
    "# Create resources folder inside Miniproject if it doesn't exist\n",
    "if not os.path.exists(resources_dir):\n",
    "    os.makedirs(resources_dir)\n",
    "\n",
    "# Load data from Wikipedia\n",
    "wiki_url = 'https://en.wikipedia.org/wiki/Healthcare_in_Denmark'\n",
    "wiki_response = requests.get(wiki_url)\n",
    "wiki_soup = BeautifulSoup(wiki_response.text, 'html.parser')\n",
    "wiki_text = wiki_soup.get_text()\n",
    "\n",
    "# Save Wikipedia text to a file\n",
    "wiki_file_path = os.path.join(resources_dir, 'wikipedia_text.txt')\n",
    "with open(wiki_file_path, 'w', encoding='utf-8') as file:\n",
    "    file.write(wiki_text)\n",
    "\n",
    "# Load data from PDF\n",
    "pdf_url = 'https://sum.dk/Media/C/A/Healthcare-in%20denmark%20an%20overview%20english-V16-dec.pdf'\n",
    "pdf_response = requests.get(pdf_url)\n",
    "pdf_file_path = os.path.join(resources_dir, 'healthcare_pdf_text.txt')\n",
    "with open(pdf_file_path, 'wb') as f:\n",
    "    f.write(pdf_response.content)\n",
    "\n",
    "pdf_text = \"\"\n",
    "with open(pdf_file_path, 'rb') as f:\n",
    "    pdf_reader = PyPDF2.PdfReader(f)\n",
    "    for page_num in range(len(pdf_reader.pages)):\n",
    "        pdf_text += pdf_reader.pages[page_num].extract_text()\n",
    "\n",
    "# Save PDF text to a file\n",
    "with open(pdf_file_path, 'w', encoding='utf-8') as file:\n",
    "    file.write(pdf_text)\n"
   ],
   "metadata": {
    "collapsed": false,
    "pycharm": {
     "name": "#%%\n"
    }
   }
  },
  {
   "cell_type": "code",
   "execution_count": 18,
   "outputs": [
    {
     "data": {
      "text/plain": "<IPython.core.display.Markdown object>",
      "text/markdown": "# Text processing\n\n"
     },
     "metadata": {},
     "output_type": "display_data"
    }
   ],
   "source": [
    "%%markdown\n",
    "# Text processing\n"
   ],
   "metadata": {
    "collapsed": false,
    "pycharm": {
     "name": "#%%\n"
    }
   }
  },
  {
   "cell_type": "code",
   "execution_count": 19,
   "outputs": [
    {
     "name": "stderr",
     "output_type": "stream",
     "text": [
      "[nltk_data] Downloading package punkt to\n",
      "[nltk_data]     /Users/philippesuenson/nltk_data...\n",
      "[nltk_data]   Package punkt is already up-to-date!\n",
      "[nltk_data] Downloading package stopwords to\n",
      "[nltk_data]     /Users/philippesuenson/nltk_data...\n",
      "[nltk_data]   Package stopwords is already up-to-date!\n",
      "[nltk_data] Downloading package wordnet to\n",
      "[nltk_data]     /Users/philippesuenson/nltk_data...\n",
      "[nltk_data]   Package wordnet is already up-to-date!\n"
     ]
    },
    {
     "name": "stdout",
     "output_type": "stream",
     "text": [
      "Preprocessed Wikipedia Text:\n",
      "['healthcare', 'denmark', '', 'wikipedia', 'jump', 'content', 'main', 'menu', 'main', 'menu']\n",
      "\n",
      "Preprocessed PDF Text:\n",
      "['', 'healthcare', 'denmark', 'overview', '', 'colophon', 'healthcare', 'denmark', '', 'overview']\n"
     ]
    }
   ],
   "source": [
    "import os\n",
    "import string\n",
    "import nltk\n",
    "from nltk.tokenize import word_tokenize\n",
    "from nltk.corpus import stopwords\n",
    "from nltk.stem import WordNetLemmatizer\n",
    "\n",
    "# Download NLTK resources (run only once)\n",
    "nltk.download('punkt')\n",
    "nltk.download('stopwords')\n",
    "nltk.download('wordnet')\n",
    "\n",
    "# Define folder paths\n",
    "Miniproject_dir = 'Miniproject'\n",
    "resources_dir = os.path.join(Miniproject_dir, 'resources')\n",
    "\n",
    "# Load Wikipedia text data\n",
    "wiki_file_path = os.path.join(resources_dir, 'wikipedia_text.txt')\n",
    "with open(wiki_file_path, 'r', encoding='utf-8') as file:\n",
    "    wiki_text = file.read()\n",
    "\n",
    "# Load PDF text data\n",
    "pdf_file_path = os.path.join(resources_dir, 'healthcare_pdf_text.txt')\n",
    "with open(pdf_file_path, 'r', encoding='utf-8') as file:\n",
    "    pdf_text = file.read()\n",
    "\n",
    "# Text preprocessing\n",
    "def preprocess_text(text):\n",
    "    # Convert text to lowercase\n",
    "    text = text.lower()\n",
    "\n",
    "    # Tokenization\n",
    "    tokens = word_tokenize(text)\n",
    "\n",
    "    # Remove punctuation and digits\n",
    "    table = str.maketrans('', '', string.punctuation + string.digits)\n",
    "    tokens = [token.translate(table) for token in tokens]\n",
    "\n",
    "    # Remove stopwords\n",
    "    stop_words = set(stopwords.words('english'))\n",
    "    tokens = [token for token in tokens if token not in stop_words]\n",
    "\n",
    "    # Lemmatization\n",
    "    lemmatizer = WordNetLemmatizer()\n",
    "    tokens = [lemmatizer.lemmatize(token) for token in tokens]\n",
    "\n",
    "    return tokens\n",
    "\n",
    "# Preprocess Wikipedia text\n",
    "preprocessed_wiki_text = preprocess_text(wiki_text)\n",
    "\n",
    "# Preprocess PDF text\n",
    "preprocessed_pdf_text = preprocess_text(pdf_text)\n",
    "\n",
    "# Display preprocessed text for verification\n",
    "print(\"Preprocessed Wikipedia Text:\")\n",
    "print(preprocessed_wiki_text[:10])  # Displaying first 10 tokens for brevity\n",
    "print(\"\\nPreprocessed PDF Text:\")\n",
    "print(preprocessed_pdf_text[:10])  # Displaying first 10 tokens for brevity\n"
   ],
   "metadata": {
    "collapsed": false,
    "pycharm": {
     "name": "#%%\n"
    }
   }
  },
  {
   "cell_type": "code",
   "execution_count": 20,
   "outputs": [
    {
     "data": {
      "text/plain": "<IPython.core.display.Markdown object>",
      "text/markdown": "# Vectorization\nBag-of-words (BoW)\n"
     },
     "metadata": {},
     "output_type": "display_data"
    }
   ],
   "source": [
    "%%markdown\n",
    "# Vectorization\n",
    "Bag-of-words (BoW)"
   ],
   "metadata": {
    "collapsed": false,
    "pycharm": {
     "name": "#%%\n"
    }
   }
  },
  {
   "cell_type": "code",
   "execution_count": 21,
   "outputs": [
    {
     "name": "stdout",
     "output_type": "stream",
     "text": [
      "Bag-of-Words Matrix Shape (Wikipedia Text): (1, 1064)\n",
      "Bag-of-Words Matrix Shape (PDF Text): (1, 1064)\n"
     ]
    }
   ],
   "source": [
    "from sklearn.feature_extraction.text import CountVectorizer\n",
    "\n",
    "# Initialize CountVectorizer\n",
    "vectorizer = CountVectorizer()\n",
    "\n",
    "# Fit and transform the preprocessed text data\n",
    "bow_matrix_wiki = vectorizer.fit_transform([' '.join(preprocessed_wiki_text)])\n",
    "bow_matrix_pdf = vectorizer.transform([' '.join(preprocessed_pdf_text)])\n",
    "\n",
    "# Display the shape of the Bag-of-Words matrix\n",
    "print(\"Bag-of-Words Matrix Shape (Wikipedia Text):\", bow_matrix_wiki.shape)\n",
    "print(\"Bag-of-Words Matrix Shape (PDF Text):\", bow_matrix_pdf.shape)\n"
   ],
   "metadata": {
    "collapsed": false,
    "pycharm": {
     "name": "#%%\n"
    }
   }
  },
  {
   "cell_type": "code",
   "execution_count": 22,
   "outputs": [
    {
     "data": {
      "text/plain": "<IPython.core.display.Markdown object>",
      "text/markdown": "TF-IDF (Term Frequency-Inverse Document Frequency)\n"
     },
     "metadata": {},
     "output_type": "display_data"
    }
   ],
   "source": [
    "%%markdown\n",
    "TF-IDF (Term Frequency-Inverse Document Frequency)"
   ],
   "metadata": {
    "collapsed": false,
    "pycharm": {
     "name": "#%%\n"
    }
   }
  },
  {
   "cell_type": "code",
   "execution_count": 23,
   "outputs": [
    {
     "name": "stdout",
     "output_type": "stream",
     "text": [
      "TF-IDF Matrix Shape (Wikipedia Text): (1, 1064)\n",
      "TF-IDF Matrix Shape (PDF Text): (1, 1064)\n"
     ]
    }
   ],
   "source": [
    "from sklearn.feature_extraction.text import TfidfVectorizer\n",
    "\n",
    "# Initialize TfidfVectorizer\n",
    "tfidf_vectorizer = TfidfVectorizer()\n",
    "\n",
    "# Fit and transform the preprocessed text data\n",
    "tfidf_matrix_wiki = tfidf_vectorizer.fit_transform([' '.join(preprocessed_wiki_text)])\n",
    "tfidf_matrix_pdf = tfidf_vectorizer.transform([' '.join(preprocessed_pdf_text)])\n",
    "\n",
    "# Display the shape of the TF-IDF matrix\n",
    "print(\"TF-IDF Matrix Shape (Wikipedia Text):\", tfidf_matrix_wiki.shape)\n",
    "print(\"TF-IDF Matrix Shape (PDF Text):\", tfidf_matrix_pdf.shape)"
   ],
   "metadata": {
    "collapsed": false,
    "pycharm": {
     "name": "#%%\n"
    }
   }
  },
  {
   "cell_type": "code",
   "execution_count": 24,
   "outputs": [
    {
     "data": {
      "text/plain": "<IPython.core.display.Markdown object>",
      "text/markdown": "# Interactive application\n"
     },
     "metadata": {},
     "output_type": "display_data"
    }
   ],
   "source": [
    "%%markdown\n",
    "# Interactive application"
   ],
   "metadata": {
    "collapsed": false,
    "pycharm": {
     "name": "#%%\n"
    }
   }
  },
  {
   "cell_type": "code",
   "execution_count": 4,
   "outputs": [
    {
     "name": "stdout",
     "output_type": "stream",
     "text": [
      "Collecting langchain==0.1.6\r\n",
      "  Obtaining dependency information for langchain==0.1.6 from https://files.pythonhosted.org/packages/10/17/1d00f5ee2577d9c10c238c318b1fe6f6142a989c77277b6163d9549e3f93/langchain-0.1.6-py3-none-any.whl.metadata\r\n",
      "  Using cached langchain-0.1.6-py3-none-any.whl.metadata (13 kB)\r\n",
      "Requirement already satisfied: PyYAML>=5.3 in /Users/philippesuenson/anaconda3/lib/python3.11/site-packages (from langchain==0.1.6) (6.0)\r\n",
      "Requirement already satisfied: SQLAlchemy<3,>=1.4 in /Users/philippesuenson/anaconda3/lib/python3.11/site-packages (from langchain==0.1.6) (1.4.39)\r\n",
      "Requirement already satisfied: aiohttp<4.0.0,>=3.8.3 in /Users/philippesuenson/anaconda3/lib/python3.11/site-packages (from langchain==0.1.6) (3.8.5)\r\n",
      "Requirement already satisfied: dataclasses-json<0.7,>=0.5.7 in /Users/philippesuenson/anaconda3/lib/python3.11/site-packages (from langchain==0.1.6) (0.6.6)\r\n",
      "Requirement already satisfied: jsonpatch<2.0,>=1.33 in /Users/philippesuenson/anaconda3/lib/python3.11/site-packages (from langchain==0.1.6) (1.33)\r\n",
      "Collecting langchain-community<0.1,>=0.0.18 (from langchain==0.1.6)\r\n",
      "  Obtaining dependency information for langchain-community<0.1,>=0.0.18 from https://files.pythonhosted.org/packages/1b/d3/1f4d1941ae5a627299c8ea052847b99ad6674b97b699d8a08fc4faf25d3e/langchain_community-0.0.38-py3-none-any.whl.metadata\r\n",
      "  Using cached langchain_community-0.0.38-py3-none-any.whl.metadata (8.7 kB)\r\n",
      "Collecting langchain-core<0.2,>=0.1.22 (from langchain==0.1.6)\r\n",
      "  Obtaining dependency information for langchain-core<0.2,>=0.1.22 from https://files.pythonhosted.org/packages/43/8b/48b7e6de9041d2b33d5108e154b82d1bd6c47cc68f0e44cb4fcdaccf5ec7/langchain_core-0.1.52-py3-none-any.whl.metadata\r\n",
      "  Using cached langchain_core-0.1.52-py3-none-any.whl.metadata (5.9 kB)\r\n",
      "Requirement already satisfied: langsmith<0.1,>=0.0.83 in /Users/philippesuenson/anaconda3/lib/python3.11/site-packages (from langchain==0.1.6) (0.0.87)\r\n",
      "Requirement already satisfied: numpy<2,>=1 in /Users/philippesuenson/anaconda3/lib/python3.11/site-packages (from langchain==0.1.6) (1.24.3)\r\n",
      "Requirement already satisfied: pydantic<3,>=1 in /Users/philippesuenson/anaconda3/lib/python3.11/site-packages (from langchain==0.1.6) (1.10.8)\r\n",
      "Requirement already satisfied: requests<3,>=2 in /Users/philippesuenson/anaconda3/lib/python3.11/site-packages (from langchain==0.1.6) (2.31.0)\r\n",
      "Requirement already satisfied: tenacity<9.0.0,>=8.1.0 in /Users/philippesuenson/anaconda3/lib/python3.11/site-packages (from langchain==0.1.6) (8.2.2)\r\n",
      "Requirement already satisfied: attrs>=17.3.0 in /Users/philippesuenson/anaconda3/lib/python3.11/site-packages (from aiohttp<4.0.0,>=3.8.3->langchain==0.1.6) (22.1.0)\r\n",
      "Requirement already satisfied: charset-normalizer<4.0,>=2.0 in /Users/philippesuenson/anaconda3/lib/python3.11/site-packages (from aiohttp<4.0.0,>=3.8.3->langchain==0.1.6) (2.0.4)\r\n",
      "Requirement already satisfied: multidict<7.0,>=4.5 in /Users/philippesuenson/anaconda3/lib/python3.11/site-packages (from aiohttp<4.0.0,>=3.8.3->langchain==0.1.6) (6.0.2)\r\n",
      "Requirement already satisfied: async-timeout<5.0,>=4.0.0a3 in /Users/philippesuenson/anaconda3/lib/python3.11/site-packages (from aiohttp<4.0.0,>=3.8.3->langchain==0.1.6) (4.0.2)\r\n",
      "Requirement already satisfied: yarl<2.0,>=1.0 in /Users/philippesuenson/anaconda3/lib/python3.11/site-packages (from aiohttp<4.0.0,>=3.8.3->langchain==0.1.6) (1.8.1)\r\n",
      "Requirement already satisfied: frozenlist>=1.1.1 in /Users/philippesuenson/anaconda3/lib/python3.11/site-packages (from aiohttp<4.0.0,>=3.8.3->langchain==0.1.6) (1.3.3)\r\n",
      "Requirement already satisfied: aiosignal>=1.1.2 in /Users/philippesuenson/anaconda3/lib/python3.11/site-packages (from aiohttp<4.0.0,>=3.8.3->langchain==0.1.6) (1.2.0)\r\n",
      "Requirement already satisfied: marshmallow<4.0.0,>=3.18.0 in /Users/philippesuenson/anaconda3/lib/python3.11/site-packages (from dataclasses-json<0.7,>=0.5.7->langchain==0.1.6) (3.21.2)\r\n",
      "Requirement already satisfied: typing-inspect<1,>=0.4.0 in /Users/philippesuenson/anaconda3/lib/python3.11/site-packages (from dataclasses-json<0.7,>=0.5.7->langchain==0.1.6) (0.9.0)\r\n",
      "Requirement already satisfied: jsonpointer>=1.9 in /Users/philippesuenson/anaconda3/lib/python3.11/site-packages (from jsonpatch<2.0,>=1.33->langchain==0.1.6) (2.1)\r\n",
      "INFO: pip is looking at multiple versions of langchain-community to determine which version is compatible with other requirements. This could take a while.\r\n",
      "Collecting langchain-community<0.1,>=0.0.18 (from langchain==0.1.6)\r\n",
      "  Obtaining dependency information for langchain-community<0.1,>=0.0.18 from https://files.pythonhosted.org/packages/4a/d3/c3c1d4fc775551d18fbc3d62ae2cac7cb4c56614532a3e492a799d597b57/langchain_community-0.0.37-py3-none-any.whl.metadata\r\n",
      "  Using cached langchain_community-0.0.37-py3-none-any.whl.metadata (8.7 kB)\r\n",
      "  Obtaining dependency information for langchain-community<0.1,>=0.0.18 from https://files.pythonhosted.org/packages/ef/20/df5eb4eaf6a027fb185ac97720f5d365d11c972a122bb9fa2ba8a435b8ea/langchain_community-0.0.36-py3-none-any.whl.metadata\r\n",
      "  Using cached langchain_community-0.0.36-py3-none-any.whl.metadata (8.7 kB)\r\n",
      "  Obtaining dependency information for langchain-community<0.1,>=0.0.18 from https://files.pythonhosted.org/packages/b4/9a/ace5461a52b173bed9955bc828142d30506d2a944d1882a44a7fadea8a4c/langchain_community-0.0.35-py3-none-any.whl.metadata\r\n",
      "  Using cached langchain_community-0.0.35-py3-none-any.whl.metadata (8.7 kB)\r\n",
      "  Obtaining dependency information for langchain-community<0.1,>=0.0.18 from https://files.pythonhosted.org/packages/0a/48/40d8863d18160f3d148d173db3180b0a558525562e9c5ab8c2a338684919/langchain_community-0.0.34-py3-none-any.whl.metadata\r\n",
      "  Using cached langchain_community-0.0.34-py3-none-any.whl.metadata (8.5 kB)\r\n",
      "  Obtaining dependency information for langchain-community<0.1,>=0.0.18 from https://files.pythonhosted.org/packages/1f/cc/f65b573144bc95044354228760138a158dc09856beab8d178130591b2694/langchain_community-0.0.33-py3-none-any.whl.metadata\r\n",
      "  Using cached langchain_community-0.0.33-py3-none-any.whl.metadata (8.5 kB)\r\n",
      "  Obtaining dependency information for langchain-community<0.1,>=0.0.18 from https://files.pythonhosted.org/packages/6d/9e/2af18bcaebd47995ec5a4e3eeb7c6cf8e6a99c637a7cafe09bb98fc0f6f5/langchain_community-0.0.32-py3-none-any.whl.metadata\r\n",
      "  Using cached langchain_community-0.0.32-py3-none-any.whl.metadata (8.5 kB)\r\n",
      "  Obtaining dependency information for langchain-community<0.1,>=0.0.18 from https://files.pythonhosted.org/packages/8a/67/6855b4a55e4e150264fd1a51888d20a1ba3c1b7757660f7ec4a14bd3d7a0/langchain_community-0.0.31-py3-none-any.whl.metadata\r\n",
      "  Using cached langchain_community-0.0.31-py3-none-any.whl.metadata (8.4 kB)\r\n",
      "INFO: pip is still looking at multiple versions of langchain-community to determine which version is compatible with other requirements. This could take a while.\r\n",
      "  Obtaining dependency information for langchain-community<0.1,>=0.0.18 from https://files.pythonhosted.org/packages/94/c9/7d8c1dca1715059427b5cb02fdce37b2705ca9f04e9dac125c0d4f6d0909/langchain_community-0.0.30-py3-none-any.whl.metadata\r\n",
      "  Using cached langchain_community-0.0.30-py3-none-any.whl.metadata (8.4 kB)\r\n",
      "  Obtaining dependency information for langchain-community<0.1,>=0.0.18 from https://files.pythonhosted.org/packages/e1/80/4136757bf245f60e2f4e148adb340207ea330be92bc26727bca32fe6bc48/langchain_community-0.0.29-py3-none-any.whl.metadata\r\n",
      "  Using cached langchain_community-0.0.29-py3-none-any.whl.metadata (8.3 kB)\r\n",
      "  Obtaining dependency information for langchain-community<0.1,>=0.0.18 from https://files.pythonhosted.org/packages/f9/c5/40e0fa5fddce3028052d6ae9596c5629dd6f81176c78e229c58e58409f55/langchain_community-0.0.28-py3-none-any.whl.metadata\r\n",
      "  Using cached langchain_community-0.0.28-py3-none-any.whl.metadata (8.3 kB)\r\n",
      "  Obtaining dependency information for langchain-community<0.1,>=0.0.18 from https://files.pythonhosted.org/packages/8d/cc/387b93205020d23151c039e73805062c749a452a417fc578c7ea69efd469/langchain_community-0.0.27-py3-none-any.whl.metadata\r\n",
      "  Using cached langchain_community-0.0.27-py3-none-any.whl.metadata (8.2 kB)\r\n",
      "  Obtaining dependency information for langchain-community<0.1,>=0.0.18 from https://files.pythonhosted.org/packages/a1/57/38a7fabcc9652c1aa7448b6679c297aba5fe21e5c49849cd008b9a8710d2/langchain_community-0.0.26-py3-none-any.whl.metadata\r\n",
      "  Using cached langchain_community-0.0.26-py3-none-any.whl.metadata (8.2 kB)\r\n",
      "INFO: This is taking longer than usual. You might need to provide the dependency resolver with stricter constraints to reduce runtime. See https://pip.pypa.io/warnings/backtracking for guidance. If you want to abort this run, press Ctrl + C.\r\n",
      "  Obtaining dependency information for langchain-community<0.1,>=0.0.18 from https://files.pythonhosted.org/packages/b6/23/ceba35a18190531e3f13d12a71480efe0744a0b8420e3ea570b69ba2f381/langchain_community-0.0.25-py3-none-any.whl.metadata\r\n",
      "  Using cached langchain_community-0.0.25-py3-none-any.whl.metadata (8.1 kB)\r\n",
      "  Obtaining dependency information for langchain-community<0.1,>=0.0.18 from https://files.pythonhosted.org/packages/95/c4/cb370b12b8e43bd23976acab001e2b3ae2aeae501d012e3fb3043a380e12/langchain_community-0.0.24-py3-none-any.whl.metadata\r\n",
      "  Using cached langchain_community-0.0.24-py3-none-any.whl.metadata (8.1 kB)\r\n",
      "  Obtaining dependency information for langchain-community<0.1,>=0.0.18 from https://files.pythonhosted.org/packages/7a/1a/0c5c7f50ec790b9ecb8e90b2b8fa339fe156b74202849cf78885bfd71a16/langchain_community-0.0.23-py3-none-any.whl.metadata\r\n",
      "  Using cached langchain_community-0.0.23-py3-none-any.whl.metadata (8.1 kB)\r\n",
      "  Obtaining dependency information for langchain-community<0.1,>=0.0.18 from https://files.pythonhosted.org/packages/ae/98/3066c36e74f916ccb875afa40d9a4cee28755335ce7b6c675c25d4572920/langchain_community-0.0.22-py3-none-any.whl.metadata\r\n",
      "  Using cached langchain_community-0.0.22-py3-none-any.whl.metadata (8.1 kB)\r\n",
      "  Obtaining dependency information for langchain-community<0.1,>=0.0.18 from https://files.pythonhosted.org/packages/2f/39/e4998914febe29c91953ab8c50fe793ca6e2780f4744e92a83ad261bf637/langchain_community-0.0.21-py3-none-any.whl.metadata\r\n",
      "  Using cached langchain_community-0.0.21-py3-none-any.whl.metadata (8.1 kB)\r\n",
      "  Obtaining dependency information for langchain-community<0.1,>=0.0.18 from https://files.pythonhosted.org/packages/44/21/0c26e7f4cbea8ecc22c21dda8cca29a378b9d2795aebaa47ed40b130979d/langchain_community-0.0.20-py3-none-any.whl.metadata\r\n",
      "  Using cached langchain_community-0.0.20-py3-none-any.whl.metadata (8.1 kB)\r\n",
      "INFO: pip is looking at multiple versions of langchain-core to determine which version is compatible with other requirements. This could take a while.\r\n",
      "Collecting langchain-core<0.2,>=0.1.22 (from langchain==0.1.6)\r\n",
      "  Obtaining dependency information for langchain-core<0.2,>=0.1.22 from https://files.pythonhosted.org/packages/98/98/192692de98128a88876be61aa78e788e2418140e3f03ea6d5f499536422b/langchain_core-0.1.51-py3-none-any.whl.metadata\r\n",
      "  Using cached langchain_core-0.1.51-py3-none-any.whl.metadata (5.9 kB)\r\n",
      "  Obtaining dependency information for langchain-core<0.2,>=0.1.22 from https://files.pythonhosted.org/packages/92/4c/e2f8a26eacd2fedb4c3b450bfeb054f6ee65872114ea9d81a179d759fc2c/langchain_core-0.1.50-py3-none-any.whl.metadata\r\n",
      "  Using cached langchain_core-0.1.50-py3-none-any.whl.metadata (5.9 kB)\r\n",
      "  Obtaining dependency information for langchain-core<0.2,>=0.1.22 from https://files.pythonhosted.org/packages/4a/cf/df40633dc9bc9dffe23eaaa65ad36997db7c828d1db524a88006f1a68621/langchain_core-0.1.49-py3-none-any.whl.metadata\r\n",
      "  Using cached langchain_core-0.1.49-py3-none-any.whl.metadata (5.9 kB)\r\n",
      "  Obtaining dependency information for langchain-core<0.2,>=0.1.22 from https://files.pythonhosted.org/packages/e7/26/845d61d7d0382925bc593a34c473c0321bc989a424e6ed333457e8de2ba2/langchain_core-0.1.48-py3-none-any.whl.metadata\r\n",
      "  Using cached langchain_core-0.1.48-py3-none-any.whl.metadata (5.9 kB)\r\n",
      "  Obtaining dependency information for langchain-core<0.2,>=0.1.22 from https://files.pythonhosted.org/packages/e7/76/becd13f50bbd5c50f0f32603ff65c1519e884d5e47cd8db99c6f3d92b34b/langchain_core-0.1.47-py3-none-any.whl.metadata\r\n",
      "  Using cached langchain_core-0.1.47-py3-none-any.whl.metadata (5.9 kB)\r\n",
      "  Obtaining dependency information for langchain-core<0.2,>=0.1.22 from https://files.pythonhosted.org/packages/fb/cf/acf1262e90831c76927a922623d6eebda92a6a036b2cb75447bc49af2ced/langchain_core-0.1.46-py3-none-any.whl.metadata\r\n",
      "  Using cached langchain_core-0.1.46-py3-none-any.whl.metadata (5.9 kB)\r\n",
      "  Obtaining dependency information for langchain-core<0.2,>=0.1.22 from https://files.pythonhosted.org/packages/31/a9/77dbfa21d7fa97c2927857f6c0cd2bcf143c5a2a92ce14ff2ba0276e89dd/langchain_core-0.1.45-py3-none-any.whl.metadata\r\n",
      "  Using cached langchain_core-0.1.45-py3-none-any.whl.metadata (5.9 kB)\r\n",
      "INFO: pip is still looking at multiple versions of langchain-core to determine which version is compatible with other requirements. This could take a while.\r\n",
      "  Obtaining dependency information for langchain-core<0.2,>=0.1.22 from https://files.pythonhosted.org/packages/e9/ba/ee09e7613ff2162e15cb4b5b9181b4dae398298cbfe91bb6f431de59643e/langchain_core-0.1.44-py3-none-any.whl.metadata\r\n",
      "  Using cached langchain_core-0.1.44-py3-none-any.whl.metadata (5.9 kB)\r\n",
      "  Obtaining dependency information for langchain-core<0.2,>=0.1.22 from https://files.pythonhosted.org/packages/4a/76/420c6449e20b6a7ac65c7f58689f11399ada2c0919b74ac1924444c794d3/langchain_core-0.1.43-py3-none-any.whl.metadata\r\n",
      "  Using cached langchain_core-0.1.43-py3-none-any.whl.metadata (5.9 kB)\r\n",
      "  Obtaining dependency information for langchain-core<0.2,>=0.1.22 from https://files.pythonhosted.org/packages/1d/93/0f6969c7d8a9cd220e600d10ccc16a8e5f1f27e55310ae077d8c3bc8d354/langchain_core-0.1.42-py3-none-any.whl.metadata\r\n",
      "  Using cached langchain_core-0.1.42-py3-none-any.whl.metadata (5.9 kB)\r\n",
      "  Obtaining dependency information for langchain-core<0.2,>=0.1.22 from https://files.pythonhosted.org/packages/f1/c0/24899eefaa64de0f845fce2f8d14612214026bab28f9392f433a1e24aa5a/langchain_core-0.1.41-py3-none-any.whl.metadata\r\n",
      "  Using cached langchain_core-0.1.41-py3-none-any.whl.metadata (5.9 kB)\r\n",
      "  Obtaining dependency information for langchain-core<0.2,>=0.1.22 from https://files.pythonhosted.org/packages/6f/14/afdf6bdded7dbadb31435fe2792f3f194a0e6fcadf795fb7a8bd5159c669/langchain_core-0.1.40-py3-none-any.whl.metadata\r\n",
      "  Using cached langchain_core-0.1.40-py3-none-any.whl.metadata (5.9 kB)\r\n",
      "INFO: This is taking longer than usual. You might need to provide the dependency resolver with stricter constraints to reduce runtime. See https://pip.pypa.io/warnings/backtracking for guidance. If you want to abort this run, press Ctrl + C.\r\n",
      "  Obtaining dependency information for langchain-core<0.2,>=0.1.22 from https://files.pythonhosted.org/packages/3d/cc/bf236ae1c76a34693f3bf3242d322d7362392ad453aa45e972fb874b5da0/langchain_core-0.1.39-py3-none-any.whl.metadata\r\n",
      "  Using cached langchain_core-0.1.39-py3-none-any.whl.metadata (5.9 kB)\r\n",
      "  Obtaining dependency information for langchain-core<0.2,>=0.1.22 from https://files.pythonhosted.org/packages/6c/5a/fa1b80560fbadad086e709a93f449dcc0e0f13d1ad6118809b5de14d9cf9/langchain_core-0.1.38-py3-none-any.whl.metadata\r\n",
      "  Using cached langchain_core-0.1.38-py3-none-any.whl.metadata (6.0 kB)\r\n",
      "  Obtaining dependency information for langchain-core<0.2,>=0.1.22 from https://files.pythonhosted.org/packages/00/27/738bda5daa11536d98427d9e5d959236ee27d73ae14a3f737e18258d3a45/langchain_core-0.1.37-py3-none-any.whl.metadata\r\n",
      "  Using cached langchain_core-0.1.37-py3-none-any.whl.metadata (6.0 kB)\r\n",
      "  Obtaining dependency information for langchain-core<0.2,>=0.1.22 from https://files.pythonhosted.org/packages/07/88/42ac034db5c8764a4b1aead210dd662d9c702b67cef0c7b89bbb05fa9769/langchain_core-0.1.36-py3-none-any.whl.metadata\r\n",
      "  Using cached langchain_core-0.1.36-py3-none-any.whl.metadata (6.0 kB)\r\n",
      "  Obtaining dependency information for langchain-core<0.2,>=0.1.22 from https://files.pythonhosted.org/packages/44/23/f3c1d413cfe8119db81730ce301aa5f97ebf37bf923123095ecd988b2b59/langchain_core-0.1.35-py3-none-any.whl.metadata\r\n",
      "  Using cached langchain_core-0.1.35-py3-none-any.whl.metadata (6.0 kB)\r\n",
      "  Obtaining dependency information for langchain-core<0.2,>=0.1.22 from https://files.pythonhosted.org/packages/fe/0d/261c9964134f038fae6eeac847b5eaa345ec0c62402f6381d0a6f9844048/langchain_core-0.1.34-py3-none-any.whl.metadata\r\n",
      "  Using cached langchain_core-0.1.34-py3-none-any.whl.metadata (6.0 kB)\r\n",
      "  Obtaining dependency information for langchain-core<0.2,>=0.1.22 from https://files.pythonhosted.org/packages/d9/09/2aca6c80eed501c2de0990bb7b8b353f4baf67ad1f4117f1539e67847868/langchain_core-0.1.33-py3-none-any.whl.metadata\r\n",
      "  Using cached langchain_core-0.1.33-py3-none-any.whl.metadata (6.0 kB)\r\n",
      "Requirement already satisfied: anyio<5,>=3 in /Users/philippesuenson/anaconda3/lib/python3.11/site-packages (from langchain-core<0.2,>=0.1.22->langchain==0.1.6) (3.5.0)\r\n",
      "  Obtaining dependency information for langchain-core<0.2,>=0.1.22 from https://files.pythonhosted.org/packages/9d/ac/f590500b92b00f2984a33f116f4b59b32e52698ecf014fa9927135bc1c7e/langchain_core-0.1.32-py3-none-any.whl.metadata\r\n",
      "  Using cached langchain_core-0.1.32-py3-none-any.whl.metadata (6.0 kB)\r\n",
      "  Obtaining dependency information for langchain-core<0.2,>=0.1.22 from https://files.pythonhosted.org/packages/93/fa/a671529ad3932c8e8da0ab3443ac7b9989e7fb622e78bcd7051581a93209/langchain_core-0.1.31-py3-none-any.whl.metadata\r\n",
      "  Using cached langchain_core-0.1.31-py3-none-any.whl.metadata (6.0 kB)\r\n",
      "  Obtaining dependency information for langchain-core<0.2,>=0.1.22 from https://files.pythonhosted.org/packages/53/b3/ae022560a8b104525b4ac1a97a557e3aa05dd0d233bb5284f7c63509742f/langchain_core-0.1.30-py3-none-any.whl.metadata\r\n",
      "  Using cached langchain_core-0.1.30-py3-none-any.whl.metadata (6.0 kB)\r\n",
      "  Obtaining dependency information for langchain-core<0.2,>=0.1.22 from https://files.pythonhosted.org/packages/7e/e6/f3b22fc973610466b0b6cc2c15a65a4b706bc687975bbd96ddeb800bb54b/langchain_core-0.1.29-py3-none-any.whl.metadata\r\n",
      "  Using cached langchain_core-0.1.29-py3-none-any.whl.metadata (6.0 kB)\r\n",
      "  Obtaining dependency information for langchain-core<0.2,>=0.1.22 from https://files.pythonhosted.org/packages/f4/55/c1b8fff498cfd7939491ea6c2322c4187da5fb2b3baf52fe4688775a50b0/langchain_core-0.1.28-py3-none-any.whl.metadata\r\n",
      "  Using cached langchain_core-0.1.28-py3-none-any.whl.metadata (6.0 kB)\r\n",
      "  Obtaining dependency information for langchain-core<0.2,>=0.1.22 from https://files.pythonhosted.org/packages/51/df/b5906fd60bac8d7f9010b17aeabab6beee11a5e9f69b75d0c3d03da7c1ca/langchain_core-0.1.27-py3-none-any.whl.metadata\r\n",
      "  Using cached langchain_core-0.1.27-py3-none-any.whl.metadata (6.0 kB)\r\n",
      "  Obtaining dependency information for langchain-core<0.2,>=0.1.22 from https://files.pythonhosted.org/packages/27/a0/6cd072db5ff0dec6b080575c0d976fc1bf22063d131f038496c650db7b84/langchain_core-0.1.26-py3-none-any.whl.metadata\r\n",
      "  Using cached langchain_core-0.1.26-py3-none-any.whl.metadata (6.0 kB)\r\n",
      "  Obtaining dependency information for langchain-core<0.2,>=0.1.22 from https://files.pythonhosted.org/packages/8c/ed/76c8e2451418b2169fc0d52d3fe9bf63bcaa24bac3f32b27692b9d22ec23/langchain_core-0.1.25-py3-none-any.whl.metadata\r\n",
      "  Using cached langchain_core-0.1.25-py3-none-any.whl.metadata (6.0 kB)\r\n",
      "  Obtaining dependency information for langchain-core<0.2,>=0.1.22 from https://files.pythonhosted.org/packages/a4/cc/ff9b7afd637d44a3e33d14d37b6fabd80638702aa0c0afe6f47d3b28cbfd/langchain_core-0.1.24-py3-none-any.whl.metadata\r\n",
      "  Using cached langchain_core-0.1.24-py3-none-any.whl.metadata (6.0 kB)\r\n",
      "  Obtaining dependency information for langchain-core<0.2,>=0.1.22 from https://files.pythonhosted.org/packages/b1/e9/7e624fe4a7619821331ad2e943fbfc2eab7465cf97ee95158c435a276d3e/langchain_core-0.1.23-py3-none-any.whl.metadata\r\n",
      "  Using cached langchain_core-0.1.23-py3-none-any.whl.metadata (6.0 kB)\r\n",
      "Requirement already satisfied: packaging<24.0,>=23.2 in /Users/philippesuenson/anaconda3/lib/python3.11/site-packages (from langchain-core<0.2,>=0.1.22->langchain==0.1.6) (23.2)\r\n",
      "Requirement already satisfied: typing-extensions>=4.2.0 in /Users/philippesuenson/anaconda3/lib/python3.11/site-packages (from pydantic<3,>=1->langchain==0.1.6) (4.11.0)\r\n",
      "Requirement already satisfied: idna<4,>=2.5 in /Users/philippesuenson/anaconda3/lib/python3.11/site-packages (from requests<3,>=2->langchain==0.1.6) (3.4)\r\n",
      "Requirement already satisfied: urllib3<3,>=1.21.1 in /Users/philippesuenson/anaconda3/lib/python3.11/site-packages (from requests<3,>=2->langchain==0.1.6) (1.26.16)\r\n",
      "Requirement already satisfied: certifi>=2017.4.17 in /Users/philippesuenson/anaconda3/lib/python3.11/site-packages (from requests<3,>=2->langchain==0.1.6) (2024.2.2)\r\n",
      "Requirement already satisfied: greenlet!=0.4.17 in /Users/philippesuenson/anaconda3/lib/python3.11/site-packages (from SQLAlchemy<3,>=1.4->langchain==0.1.6) (2.0.1)\r\n",
      "Requirement already satisfied: sniffio>=1.1 in /Users/philippesuenson/anaconda3/lib/python3.11/site-packages (from anyio<5,>=3->langchain-core<0.2,>=0.1.22->langchain==0.1.6) (1.2.0)\r\n",
      "Requirement already satisfied: mypy-extensions>=0.3.0 in /Users/philippesuenson/anaconda3/lib/python3.11/site-packages (from typing-inspect<1,>=0.4.0->dataclasses-json<0.7,>=0.5.7->langchain==0.1.6) (1.0.0)\r\n",
      "Using cached langchain-0.1.6-py3-none-any.whl (811 kB)\r\n",
      "Using cached langchain_community-0.0.20-py3-none-any.whl (1.7 MB)\r\n",
      "Using cached langchain_core-0.1.23-py3-none-any.whl (241 kB)\r\n",
      "Installing collected packages: langchain-core, langchain-community, langchain\r\n",
      "Successfully installed langchain-0.1.6 langchain-community-0.0.20 langchain-core-0.1.23\r\n",
      "Collecting langchain-community==0.0.19\r\n",
      "  Obtaining dependency information for langchain-community==0.0.19 from https://files.pythonhosted.org/packages/bf/b4/1b1b22ab0c57320c5476b735cfe1500e49ddc4425df9e4c2e569e4c4472e/langchain_community-0.0.19-py3-none-any.whl.metadata\r\n",
      "  Using cached langchain_community-0.0.19-py3-none-any.whl.metadata (7.9 kB)\r\n",
      "Requirement already satisfied: PyYAML>=5.3 in /Users/philippesuenson/anaconda3/lib/python3.11/site-packages (from langchain-community==0.0.19) (6.0)\r\n",
      "Requirement already satisfied: SQLAlchemy<3,>=1.4 in /Users/philippesuenson/anaconda3/lib/python3.11/site-packages (from langchain-community==0.0.19) (1.4.39)\r\n",
      "Requirement already satisfied: aiohttp<4.0.0,>=3.8.3 in /Users/philippesuenson/anaconda3/lib/python3.11/site-packages (from langchain-community==0.0.19) (3.8.5)\r\n",
      "Requirement already satisfied: dataclasses-json<0.7,>=0.5.7 in /Users/philippesuenson/anaconda3/lib/python3.11/site-packages (from langchain-community==0.0.19) (0.6.6)\r\n",
      "Requirement already satisfied: langchain-core<0.2,>=0.1.21 in /Users/philippesuenson/anaconda3/lib/python3.11/site-packages (from langchain-community==0.0.19) (0.1.23)\r\n",
      "Requirement already satisfied: langsmith<0.1,>=0.0.83 in /Users/philippesuenson/anaconda3/lib/python3.11/site-packages (from langchain-community==0.0.19) (0.0.87)\r\n",
      "Requirement already satisfied: numpy<2,>=1 in /Users/philippesuenson/anaconda3/lib/python3.11/site-packages (from langchain-community==0.0.19) (1.24.3)\r\n",
      "Requirement already satisfied: requests<3,>=2 in /Users/philippesuenson/anaconda3/lib/python3.11/site-packages (from langchain-community==0.0.19) (2.31.0)\r\n",
      "Requirement already satisfied: tenacity<9.0.0,>=8.1.0 in /Users/philippesuenson/anaconda3/lib/python3.11/site-packages (from langchain-community==0.0.19) (8.2.2)\r\n",
      "Requirement already satisfied: attrs>=17.3.0 in /Users/philippesuenson/anaconda3/lib/python3.11/site-packages (from aiohttp<4.0.0,>=3.8.3->langchain-community==0.0.19) (22.1.0)\r\n",
      "Requirement already satisfied: charset-normalizer<4.0,>=2.0 in /Users/philippesuenson/anaconda3/lib/python3.11/site-packages (from aiohttp<4.0.0,>=3.8.3->langchain-community==0.0.19) (2.0.4)\r\n",
      "Requirement already satisfied: multidict<7.0,>=4.5 in /Users/philippesuenson/anaconda3/lib/python3.11/site-packages (from aiohttp<4.0.0,>=3.8.3->langchain-community==0.0.19) (6.0.2)\r\n",
      "Requirement already satisfied: async-timeout<5.0,>=4.0.0a3 in /Users/philippesuenson/anaconda3/lib/python3.11/site-packages (from aiohttp<4.0.0,>=3.8.3->langchain-community==0.0.19) (4.0.2)\r\n",
      "Requirement already satisfied: yarl<2.0,>=1.0 in /Users/philippesuenson/anaconda3/lib/python3.11/site-packages (from aiohttp<4.0.0,>=3.8.3->langchain-community==0.0.19) (1.8.1)\r\n",
      "Requirement already satisfied: frozenlist>=1.1.1 in /Users/philippesuenson/anaconda3/lib/python3.11/site-packages (from aiohttp<4.0.0,>=3.8.3->langchain-community==0.0.19) (1.3.3)\r\n",
      "Requirement already satisfied: aiosignal>=1.1.2 in /Users/philippesuenson/anaconda3/lib/python3.11/site-packages (from aiohttp<4.0.0,>=3.8.3->langchain-community==0.0.19) (1.2.0)\r\n",
      "Requirement already satisfied: marshmallow<4.0.0,>=3.18.0 in /Users/philippesuenson/anaconda3/lib/python3.11/site-packages (from dataclasses-json<0.7,>=0.5.7->langchain-community==0.0.19) (3.21.2)\r\n",
      "Requirement already satisfied: typing-inspect<1,>=0.4.0 in /Users/philippesuenson/anaconda3/lib/python3.11/site-packages (from dataclasses-json<0.7,>=0.5.7->langchain-community==0.0.19) (0.9.0)\r\n",
      "Requirement already satisfied: anyio<5,>=3 in /Users/philippesuenson/anaconda3/lib/python3.11/site-packages (from langchain-core<0.2,>=0.1.21->langchain-community==0.0.19) (3.5.0)\r\n",
      "Requirement already satisfied: jsonpatch<2.0,>=1.33 in /Users/philippesuenson/anaconda3/lib/python3.11/site-packages (from langchain-core<0.2,>=0.1.21->langchain-community==0.0.19) (1.33)\r\n",
      "Requirement already satisfied: packaging<24.0,>=23.2 in /Users/philippesuenson/anaconda3/lib/python3.11/site-packages (from langchain-core<0.2,>=0.1.21->langchain-community==0.0.19) (23.2)\r\n",
      "Requirement already satisfied: pydantic<3,>=1 in /Users/philippesuenson/anaconda3/lib/python3.11/site-packages (from langchain-core<0.2,>=0.1.21->langchain-community==0.0.19) (1.10.8)\r\n",
      "Requirement already satisfied: idna<4,>=2.5 in /Users/philippesuenson/anaconda3/lib/python3.11/site-packages (from requests<3,>=2->langchain-community==0.0.19) (3.4)\r\n",
      "Requirement already satisfied: urllib3<3,>=1.21.1 in /Users/philippesuenson/anaconda3/lib/python3.11/site-packages (from requests<3,>=2->langchain-community==0.0.19) (1.26.16)\r\n",
      "Requirement already satisfied: certifi>=2017.4.17 in /Users/philippesuenson/anaconda3/lib/python3.11/site-packages (from requests<3,>=2->langchain-community==0.0.19) (2024.2.2)\r\n",
      "Requirement already satisfied: greenlet!=0.4.17 in /Users/philippesuenson/anaconda3/lib/python3.11/site-packages (from SQLAlchemy<3,>=1.4->langchain-community==0.0.19) (2.0.1)\r\n",
      "Requirement already satisfied: sniffio>=1.1 in /Users/philippesuenson/anaconda3/lib/python3.11/site-packages (from anyio<5,>=3->langchain-core<0.2,>=0.1.21->langchain-community==0.0.19) (1.2.0)\r\n",
      "Requirement already satisfied: jsonpointer>=1.9 in /Users/philippesuenson/anaconda3/lib/python3.11/site-packages (from jsonpatch<2.0,>=1.33->langchain-core<0.2,>=0.1.21->langchain-community==0.0.19) (2.1)\r\n",
      "Requirement already satisfied: typing-extensions>=4.2.0 in /Users/philippesuenson/anaconda3/lib/python3.11/site-packages (from pydantic<3,>=1->langchain-core<0.2,>=0.1.21->langchain-community==0.0.19) (4.11.0)\r\n",
      "Requirement already satisfied: mypy-extensions>=0.3.0 in /Users/philippesuenson/anaconda3/lib/python3.11/site-packages (from typing-inspect<1,>=0.4.0->dataclasses-json<0.7,>=0.5.7->langchain-community==0.0.19) (1.0.0)\r\n",
      "Using cached langchain_community-0.0.19-py3-none-any.whl (1.6 MB)\r\n",
      "Installing collected packages: langchain-community\r\n",
      "  Attempting uninstall: langchain-community\r\n",
      "    Found existing installation: langchain-community 0.0.20\r\n",
      "    Uninstalling langchain-community-0.0.20:\r\n",
      "      Successfully uninstalled langchain-community-0.0.20\r\n",
      "Successfully installed langchain-community-0.0.19\r\n",
      "Requirement already satisfied: langchain-core==0.1.23 in /Users/philippesuenson/anaconda3/lib/python3.11/site-packages (0.1.23)\r\n",
      "Requirement already satisfied: PyYAML>=5.3 in /Users/philippesuenson/anaconda3/lib/python3.11/site-packages (from langchain-core==0.1.23) (6.0)\r\n",
      "Requirement already satisfied: anyio<5,>=3 in /Users/philippesuenson/anaconda3/lib/python3.11/site-packages (from langchain-core==0.1.23) (3.5.0)\r\n",
      "Requirement already satisfied: jsonpatch<2.0,>=1.33 in /Users/philippesuenson/anaconda3/lib/python3.11/site-packages (from langchain-core==0.1.23) (1.33)\r\n",
      "Requirement already satisfied: langsmith<0.0.88,>=0.0.87 in /Users/philippesuenson/anaconda3/lib/python3.11/site-packages (from langchain-core==0.1.23) (0.0.87)\r\n",
      "Requirement already satisfied: packaging<24.0,>=23.2 in /Users/philippesuenson/anaconda3/lib/python3.11/site-packages (from langchain-core==0.1.23) (23.2)\r\n",
      "Requirement already satisfied: pydantic<3,>=1 in /Users/philippesuenson/anaconda3/lib/python3.11/site-packages (from langchain-core==0.1.23) (1.10.8)\r\n",
      "Requirement already satisfied: requests<3,>=2 in /Users/philippesuenson/anaconda3/lib/python3.11/site-packages (from langchain-core==0.1.23) (2.31.0)\r\n",
      "Requirement already satisfied: tenacity<9.0.0,>=8.1.0 in /Users/philippesuenson/anaconda3/lib/python3.11/site-packages (from langchain-core==0.1.23) (8.2.2)\r\n",
      "Requirement already satisfied: idna>=2.8 in /Users/philippesuenson/anaconda3/lib/python3.11/site-packages (from anyio<5,>=3->langchain-core==0.1.23) (3.4)\r\n",
      "Requirement already satisfied: sniffio>=1.1 in /Users/philippesuenson/anaconda3/lib/python3.11/site-packages (from anyio<5,>=3->langchain-core==0.1.23) (1.2.0)\r\n",
      "Requirement already satisfied: jsonpointer>=1.9 in /Users/philippesuenson/anaconda3/lib/python3.11/site-packages (from jsonpatch<2.0,>=1.33->langchain-core==0.1.23) (2.1)\r\n",
      "Requirement already satisfied: typing-extensions>=4.2.0 in /Users/philippesuenson/anaconda3/lib/python3.11/site-packages (from pydantic<3,>=1->langchain-core==0.1.23) (4.11.0)\r\n",
      "Requirement already satisfied: charset-normalizer<4,>=2 in /Users/philippesuenson/anaconda3/lib/python3.11/site-packages (from requests<3,>=2->langchain-core==0.1.23) (2.0.4)\r\n",
      "Requirement already satisfied: urllib3<3,>=1.21.1 in /Users/philippesuenson/anaconda3/lib/python3.11/site-packages (from requests<3,>=2->langchain-core==0.1.23) (1.26.16)\r\n",
      "Requirement already satisfied: certifi>=2017.4.17 in /Users/philippesuenson/anaconda3/lib/python3.11/site-packages (from requests<3,>=2->langchain-core==0.1.23) (2024.2.2)\r\n",
      "Requirement already satisfied: langdetect in /Users/philippesuenson/anaconda3/lib/python3.11/site-packages (1.0.9)\r\n",
      "Requirement already satisfied: six in /Users/philippesuenson/anaconda3/lib/python3.11/site-packages (from langdetect) (1.16.0)\r\n",
      "Requirement already satisfied: sentence-transformers in /Users/philippesuenson/anaconda3/lib/python3.11/site-packages (2.7.0)\r\n",
      "Requirement already satisfied: transformers<5.0.0,>=4.34.0 in /Users/philippesuenson/anaconda3/lib/python3.11/site-packages (from sentence-transformers) (4.40.2)\r\n",
      "Requirement already satisfied: tqdm in /Users/philippesuenson/anaconda3/lib/python3.11/site-packages (from sentence-transformers) (4.65.0)\r\n",
      "Requirement already satisfied: torch>=1.11.0 in /Users/philippesuenson/anaconda3/lib/python3.11/site-packages (from sentence-transformers) (2.2.2)\r\n",
      "Requirement already satisfied: numpy in /Users/philippesuenson/anaconda3/lib/python3.11/site-packages (from sentence-transformers) (1.24.3)\r\n",
      "Requirement already satisfied: scikit-learn in /Users/philippesuenson/anaconda3/lib/python3.11/site-packages (from sentence-transformers) (1.3.0)\r\n",
      "Requirement already satisfied: scipy in /Users/philippesuenson/anaconda3/lib/python3.11/site-packages (from sentence-transformers) (1.11.1)\r\n",
      "Requirement already satisfied: huggingface-hub>=0.15.1 in /Users/philippesuenson/anaconda3/lib/python3.11/site-packages (from sentence-transformers) (0.23.0)\r\n",
      "Requirement already satisfied: Pillow in /Users/philippesuenson/anaconda3/lib/python3.11/site-packages (from sentence-transformers) (10.3.0)\r\n",
      "Requirement already satisfied: filelock in /Users/philippesuenson/anaconda3/lib/python3.11/site-packages (from huggingface-hub>=0.15.1->sentence-transformers) (3.9.0)\r\n",
      "Requirement already satisfied: fsspec>=2023.5.0 in /Users/philippesuenson/anaconda3/lib/python3.11/site-packages (from huggingface-hub>=0.15.1->sentence-transformers) (2024.5.0)\r\n",
      "Requirement already satisfied: packaging>=20.9 in /Users/philippesuenson/anaconda3/lib/python3.11/site-packages (from huggingface-hub>=0.15.1->sentence-transformers) (23.2)\r\n",
      "Requirement already satisfied: pyyaml>=5.1 in /Users/philippesuenson/anaconda3/lib/python3.11/site-packages (from huggingface-hub>=0.15.1->sentence-transformers) (6.0)\r\n",
      "Requirement already satisfied: requests in /Users/philippesuenson/anaconda3/lib/python3.11/site-packages (from huggingface-hub>=0.15.1->sentence-transformers) (2.31.0)\r\n",
      "Requirement already satisfied: typing-extensions>=3.7.4.3 in /Users/philippesuenson/anaconda3/lib/python3.11/site-packages (from huggingface-hub>=0.15.1->sentence-transformers) (4.11.0)\r\n",
      "Requirement already satisfied: sympy in /Users/philippesuenson/anaconda3/lib/python3.11/site-packages (from torch>=1.11.0->sentence-transformers) (1.11.1)\r\n",
      "Requirement already satisfied: networkx in /Users/philippesuenson/anaconda3/lib/python3.11/site-packages (from torch>=1.11.0->sentence-transformers) (3.1)\r\n",
      "Requirement already satisfied: jinja2 in /Users/philippesuenson/anaconda3/lib/python3.11/site-packages (from torch>=1.11.0->sentence-transformers) (3.1.2)\r\n",
      "Requirement already satisfied: regex!=2019.12.17 in /Users/philippesuenson/anaconda3/lib/python3.11/site-packages (from transformers<5.0.0,>=4.34.0->sentence-transformers) (2022.7.9)\r\n",
      "Requirement already satisfied: tokenizers<0.20,>=0.19 in /Users/philippesuenson/anaconda3/lib/python3.11/site-packages (from transformers<5.0.0,>=4.34.0->sentence-transformers) (0.19.1)\r\n",
      "Requirement already satisfied: safetensors>=0.4.1 in /Users/philippesuenson/anaconda3/lib/python3.11/site-packages (from transformers<5.0.0,>=4.34.0->sentence-transformers) (0.4.3)\r\n",
      "Requirement already satisfied: joblib>=1.1.1 in /Users/philippesuenson/anaconda3/lib/python3.11/site-packages (from scikit-learn->sentence-transformers) (1.2.0)\r\n",
      "Requirement already satisfied: threadpoolctl>=2.0.0 in /Users/philippesuenson/anaconda3/lib/python3.11/site-packages (from scikit-learn->sentence-transformers) (2.2.0)\r\n",
      "Requirement already satisfied: MarkupSafe>=2.0 in /Users/philippesuenson/anaconda3/lib/python3.11/site-packages (from jinja2->torch>=1.11.0->sentence-transformers) (2.1.1)\r\n",
      "Requirement already satisfied: charset-normalizer<4,>=2 in /Users/philippesuenson/anaconda3/lib/python3.11/site-packages (from requests->huggingface-hub>=0.15.1->sentence-transformers) (2.0.4)\r\n",
      "Requirement already satisfied: idna<4,>=2.5 in /Users/philippesuenson/anaconda3/lib/python3.11/site-packages (from requests->huggingface-hub>=0.15.1->sentence-transformers) (3.4)\r\n",
      "Requirement already satisfied: urllib3<3,>=1.21.1 in /Users/philippesuenson/anaconda3/lib/python3.11/site-packages (from requests->huggingface-hub>=0.15.1->sentence-transformers) (1.26.16)\r\n",
      "Requirement already satisfied: certifi>=2017.4.17 in /Users/philippesuenson/anaconda3/lib/python3.11/site-packages (from requests->huggingface-hub>=0.15.1->sentence-transformers) (2024.2.2)\r\n",
      "Requirement already satisfied: mpmath>=0.19 in /Users/philippesuenson/anaconda3/lib/python3.11/site-packages (from sympy->torch>=1.11.0->sentence-transformers) (1.3.0)\r\n"
     ]
    }
   ],
   "source": [
    "!pip install langchain==0.1.6\n",
    "!pip install langchain-community==0.0.19\n",
    "!pip install langchain-core==0.1.23\n",
    "!pip install langdetect\n",
    "!pip install sentence-transformers"
   ],
   "metadata": {
    "collapsed": false,
    "pycharm": {
     "name": "#%%\n"
    }
   }
  },
  {
   "cell_type": "code",
   "execution_count": null,
   "outputs": [
    {
     "name": "stderr",
     "output_type": "stream",
     "text": [
      "/Users/philippesuenson/anaconda3/lib/python3.11/site-packages/huggingface_hub/file_download.py:1132: FutureWarning: `resume_download` is deprecated and will be removed in version 1.0.0. Downloads always resume when possible. If you want to force a new download, use `force_download=True`.\n",
      "  warnings.warn(\n"
     ]
    }
   ],
   "source": [
    "import os\n",
    "import requests\n",
    "from bs4 import BeautifulSoup\n",
    "import nltk\n",
    "from nltk.tokenize import word_tokenize\n",
    "from nltk.corpus import stopwords\n",
    "from nltk.stem import WordNetLemmatizer\n",
    "from sklearn.feature_extraction.text import TfidfVectorizer\n",
    "from langchain_community.llms import Ollama\n",
    "from langchain.callbacks.manager import CallbackManager\n",
    "from langchain.callbacks.streaming_stdout import StreamingStdOutCallbackHandler\n",
    "from langchain_community.embeddings import HuggingFaceEmbeddings\n",
    "from langchain.prompts import PromptTemplate\n",
    "from langdetect import detect\n",
    "\n",
    "# Load and preprocess text data\n",
    "# Define folder paths\n",
    "Miniproject_dir = 'Miniproject'\n",
    "resources_dir = os.path.join(Miniproject_dir, 'resources')\n",
    "\n",
    "# Load data from Wikipedia\n",
    "wiki_url = 'https://en.wikipedia.org/wiki/Healthcare_in_Denmark'\n",
    "wiki_response = requests.get(wiki_url)\n",
    "wiki_soup = BeautifulSoup(wiki_response.text, 'html.parser')\n",
    "wiki_text = wiki_soup.get_text()\n",
    "\n",
    "# Load PDF text data\n",
    "pdf_url = 'https://sum.dk/Media/C/A/Healthcare-in%20denmark%20an%20overview%20english-V16-dec.pdf'\n",
    "pdf_response = requests.get(pdf_url)\n",
    "pdf_text = pdf_response.text\n",
    "\n",
    "# Text preprocessing\n",
    "def preprocess_text(text):\n",
    "    # Convert text to lowercase\n",
    "    text = text.lower()\n",
    "\n",
    "    # Tokenization\n",
    "    tokens = word_tokenize(text)\n",
    "\n",
    "    # Remove punctuation and digits\n",
    "    tokens = [token for token in tokens if token.isalnum()]\n",
    "\n",
    "    # Remove stopwords\n",
    "    stop_words = set(stopwords.words('english'))\n",
    "    tokens = [token for token in tokens if token not in stop_words]\n",
    "\n",
    "    # Lemmatization\n",
    "    lemmatizer = WordNetLemmatizer()\n",
    "    tokens = [lemmatizer.lemmatize(token) for token in tokens]\n",
    "\n",
    "    return ' '.join(tokens)\n",
    "\n",
    "# Preprocess Wikipedia text\n",
    "preprocessed_wiki_text = preprocess_text(wiki_text)\n",
    "\n",
    "# Preprocess PDF text\n",
    "preprocessed_pdf_text = preprocess_text(pdf_text)\n",
    "\n",
    "# Initialize TF-IDF Vectorizer\n",
    "tfidf_vectorizer = TfidfVectorizer()\n",
    "\n",
    "# Fit and transform the preprocessed text data\n",
    "tfidf_matrix_wiki = tfidf_vectorizer.fit_transform([preprocessed_wiki_text])\n",
    "tfidf_matrix_pdf = tfidf_vectorizer.transform([preprocessed_pdf_text])\n",
    "\n",
    "# Initialize the embeddings model\n",
    "model_name = \"sentence-transformers/paraphrase-MiniLM-L6-v2\"\n",
    "model_kwargs = {\"device\": \"cpu\"}\n",
    "encode_kwargs = {\"normalize_embeddings\": False}\n",
    "embeddings_model = HuggingFaceEmbeddings(\n",
    "    model_name=model_name,\n",
    "    model_kwargs=model_kwargs,\n",
    "    encode_kwargs=encode_kwargs\n",
    ")\n",
    "\n",
    "# Initialize the Ollama language model\n",
    "llm = Ollama(model=\"mistral\", callback_manager=CallbackManager([StreamingStdOutCallbackHandler()]))\n",
    "\n",
    "# Define a prompt template\n",
    "template = \"\"\"Use the following pieces of context to answer the question at the end.\n",
    "If you don't know the answer, just say that you don't know, don't try to make up an answer.\n",
    "Use five sentences maximum. Keep the answer as concise as possible.\n",
    "\n",
    "{context}\n",
    "\n",
    "Question: {question}\n",
    "\n",
    "Helpful Answer:\n",
    "\"\"\"\n",
    "\n",
    "# Create a prompt from the template\n",
    "prompt = PromptTemplate.from_template(template)\n",
    "\n",
    "# Combine the TF-IDF matrices and embeddings model into a single vector\n",
    "combined_vector = tfidf_matrix_wiki + tfidf_matrix_pdf + embeddings_model\n",
    "\n",
    "# Define a function to handle user queries\n",
    "def handle_query(description):\n",
    "    # Detect language and handle non-English inputs\n",
    "    if detect(description) != 'en':\n",
    "        return \"Sorry, I currently support only English descriptions.\"\n",
    "\n",
    "    # Process the description with the retrieval chain\n",
    "    response = llm({\"query\": description, \"context\": combined_vector})\n",
    "    return response[\"result\"]\n",
    "\n",
    "# Example usage:\n",
    "user_input = \"What are the healthcare services in Denmark?\"\n",
    "response = handle_query(user_input)\n",
    "print(\"Response:\", response)\n"
   ],
   "metadata": {
    "collapsed": false,
    "pycharm": {
     "name": "#%%\n",
     "is_executing": true
    }
   }
  },
  {
   "cell_type": "code",
   "execution_count": null,
   "outputs": [],
   "source": [],
   "metadata": {
    "collapsed": false,
    "pycharm": {
     "name": "#%%\n"
    },
    "ExecuteTime": {
     "start_time": "2024-05-12T22:35:57.401472500Z"
    }
   }
  }
 ],
 "metadata": {
  "kernelspec": {
   "display_name": "Python 3",
   "language": "python",
   "name": "python3"
  },
  "language_info": {
   "codemirror_mode": {
    "name": "ipython",
    "version": 2
   },
   "file_extension": ".py",
   "mimetype": "text/x-python",
   "name": "python",
   "nbconvert_exporter": "python",
   "pygments_lexer": "ipython2",
   "version": "2.7.6"
  }
 },
 "nbformat": 4,
 "nbformat_minor": 0
}