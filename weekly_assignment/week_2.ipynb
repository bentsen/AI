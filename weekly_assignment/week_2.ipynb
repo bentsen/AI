{
 "cells": [
  {
   "cell_type": "code",
   "execution_count": 7,
   "id": "initial_id",
   "metadata": {
    "collapsed": true,
    "ExecuteTime": {
     "end_time": "2024-02-05T09:01:08.077635Z",
     "start_time": "2024-02-05T09:01:08.066779Z"
    }
   },
   "outputs": [
    {
     "data": {
      "text/plain": "<IPython.core.display.Markdown object>",
      "text/markdown": "\n# Task 1: Using your research skills\n#### Prepare a 10 minute presenta/on on the future of AI in the field of so8ware development. The presenta/on should be based on named and reliable sources. It should include the following sec/ons:\n"
     },
     "metadata": {},
     "output_type": "display_data"
    }
   ],
   "source": [
    "%%markdown\n",
    "\n",
    "# Task 1: Using your research skills\n",
    "#### Prepare a 10 minute presentation on the future of AI in the field of software development. The presentation should be based on named and reliable sources. It should include the following sections:"
   ]
  },
  {
   "cell_type": "code",
   "execution_count": null,
   "outputs": [],
   "source": [
    "#write task 1 here"
   ],
   "metadata": {
    "collapsed": false
   },
   "id": "82a096bd243f061c"
  },
  {
   "cell_type": "code",
   "execution_count": 8,
   "outputs": [
    {
     "data": {
      "text/plain": "<IPython.core.display.Markdown object>",
      "text/markdown": "# Task 2: Algorithm Selection\n#### I want you to have a handy guide to algorithms and when they are usually used. Try and build simple examples in a Jupyter Notebook. I will also post Jupyter Notebooks in the Moodle course. As the course goes on you will be given projects to apply these algorithms.\n\n"
     },
     "metadata": {},
     "output_type": "display_data"
    }
   ],
   "source": [
    "%%markdown\n",
    "# Task 2: Algorithm Selection\n",
    "#### I want you to have a handy guide to algorithms and when they are usually used. Try and build simple examples in a Jupyter Notebook. I will also post Jupyter Notebooks in the Moodle course. As the course goes on you will be given projects to apply these algorithms.\n"
   ],
   "metadata": {
    "collapsed": false,
    "ExecuteTime": {
     "end_time": "2024-02-05T09:03:26.622791Z",
     "start_time": "2024-02-05T09:03:26.603203Z"
    }
   },
   "id": "cb905716b08f41c4"
  },
  {
   "cell_type": "code",
   "execution_count": null,
   "outputs": [],
   "source": [
    "#write task 2 here"
   ],
   "metadata": {
    "collapsed": false
   },
   "id": "e474710f8806efec"
  }
 ],
 "metadata": {
  "kernelspec": {
   "display_name": "Python 3",
   "language": "python",
   "name": "python3"
  },
  "language_info": {
   "codemirror_mode": {
    "name": "ipython",
    "version": 2
   },
   "file_extension": ".py",
   "mimetype": "text/x-python",
   "name": "python",
   "nbconvert_exporter": "python",
   "pygments_lexer": "ipython2",
   "version": "2.7.6"
  }
 },
 "nbformat": 4,
 "nbformat_minor": 5
}
