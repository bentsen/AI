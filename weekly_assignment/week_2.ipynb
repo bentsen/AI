{
 "cells": [
  {
   "cell_type": "code",
   "execution_count": 10,
   "id": "initial_id",
   "metadata": {
    "collapsed": true,
    "pycharm": {
     "name": "#%%\n"
    },
    "ExecuteTime": {
     "end_time": "2024-02-19T19:10:00.869124300Z",
     "start_time": "2024-02-19T19:10:00.855893600Z"
    }
   },
   "outputs": [
    {
     "data": {
      "text/plain": "<IPython.core.display.Markdown object>",
      "text/markdown": "\n# Task 1: Using your research skills\n#### Prepare a 10 minute presentation on the future of AI in the field of software development. The presentation should be based on named and reliable sources. It should include the following sections:\n"
     },
     "metadata": {},
     "output_type": "display_data"
    }
   ],
   "source": [
    "%%markdown\n",
    "\n",
    "# Task 1: Using your research skills\n",
    "#### Prepare a 10 minute presentation on the future of AI in the field of software development. The presentation should be based on named and reliable sources. It should include the following sections:"
   ]
  },
  {
   "cell_type": "code",
   "execution_count": 11,
   "outputs": [
    {
     "data": {
      "text/plain": "<IPython.core.display.Markdown object>",
      "text/markdown": "## 1) Current growth in the use of AI in business processes and IT projects and examples of key academic research being carried out.\n\n##### https://www.statista.com/outlook/tmo/artificial-intelligence/worldwide#market-size\n\nThe market size in the Artificial Intelligence market is projected to reach US$305.90bn in 2024.\nThe market size is expected to show an annual growth rate (CAGR 2024-2030) of 15.83%, resulting in a market volume of US$738.80bn by 2030.\nIn global comparison, the largest market size will be in the United States (US$106.50bn in 2024).\n\n### business processes\nTaget ud fra disse 2:\n##### https://www.businessnewsdaily.com/9402-artificial-intelligence-business-trends.html\n##### https://datafloq.com/read/how-ai-drives-business-growth-and-innovation/\n\n### businessnewsdaily:\nAI Adoption Across Industries: AI is increasingly being adopted across various industries, including healthcare, finance, retail, and manufacturing.\n\nEnhanced Data Analysis: AI enables businesses to analyze large datasets more efficiently, extracting valuable insights and informing strategic decision-making.\n\nPersonalized Customer Experiences: Businesses leverage AI to deliver personalized customer experiences through recommendation systems, chatbots, and virtual assistants.\n\nImproved Operational Efficiency: AI-powered automation streamlines business processes, reducing manual effort and increasing operational efficiency.\n\nPredictive Analytics: AI algorithms enable businesses to predict future trends and outcomes, empowering proactive decision-making and risk management.\n\nCybersecurity Enhancement: AI tools enhance cybersecurity measures by detecting and mitigating security threats in real-time, bolstering overall digital defenses.\n\nSupply Chain Optimization: AI optimizes supply chain operations by predicting demand, optimizing inventory levels, and identifying cost-saving opportunities.\n\nImproved Productivity: AI-driven automation frees up employees from repetitive tasks, allowing them to focus on higher-value activities and innovation.\n# ------------------------------------------------------------------------------------------------\n\n### datafloq:\nIn conclusion, the impact of AI on business growth and innovation is transformative, touching every aspect of modern enterprises.\nFrom streamlining operations and enhancing customer experiences to driving product innovation and facilitating strategic decision-making, AI has become a cornerstone of success in today’s business environment.\nAs businesses continue to embrace and integrate AI technologies, the potential for growth and innovation is boundless. However, a balanced approach that addresses challenges and ethical considerations is essential to\nunlock the full potential of AI for sustainable and responsible business development.\n"
     },
     "metadata": {},
     "output_type": "display_data"
    }
   ],
   "source": [
    "%%markdown\n",
    "## 1) Current growth in the use of AI in business processes and IT projects and examples of key academic research being carried out.\n",
    "\n",
    "##### https://www.statista.com/outlook/tmo/artificial-intelligence/worldwide#market-size\n",
    "\n",
    "The market size in the Artificial Intelligence market is projected to reach US$305.90bn in 2024.\n",
    "The market size is expected to show an annual growth rate (CAGR 2024-2030) of 15.83%, resulting in a market volume of US$738.80bn by 2030.\n",
    "In global comparison, the largest market size will be in the United States (US$106.50bn in 2024).\n",
    "\n",
    "### business processes\n",
    "Taget ud fra disse 2:\n",
    "##### https://www.businessnewsdaily.com/9402-artificial-intelligence-business-trends.html\n",
    "##### https://datafloq.com/read/how-ai-drives-business-growth-and-innovation/\n",
    "\n",
    "### businessnewsdaily:\n",
    "AI Adoption Across Industries: AI is increasingly being adopted across various industries, including healthcare, finance, retail, and manufacturing.\n",
    "\n",
    "Enhanced Data Analysis: AI enables businesses to analyze large datasets more efficiently, extracting valuable insights and informing strategic decision-making.\n",
    "\n",
    "Personalized Customer Experiences: Businesses leverage AI to deliver personalized customer experiences through recommendation systems, chatbots, and virtual assistants.\n",
    "\n",
    "Improved Operational Efficiency: AI-powered automation streamlines business processes, reducing manual effort and increasing operational efficiency.\n",
    "\n",
    "Predictive Analytics: AI algorithms enable businesses to predict future trends and outcomes, empowering proactive decision-making and risk management.\n",
    "\n",
    "Cybersecurity Enhancement: AI tools enhance cybersecurity measures by detecting and mitigating security threats in real-time, bolstering overall digital defenses.\n",
    "\n",
    "Supply Chain Optimization: AI optimizes supply chain operations by predicting demand, optimizing inventory levels, and identifying cost-saving opportunities.\n",
    "\n",
    "Improved Productivity: AI-driven automation frees up employees from repetitive tasks, allowing them to focus on higher-value activities and innovation.\n",
    "# ------------------------------------------------------------------------------------------------\n",
    "\n",
    "### datafloq:\n",
    "In conclusion, the impact of AI on business growth and innovation is transformative, touching every aspect of modern enterprises.\n",
    "From streamlining operations and enhancing customer experiences to driving product innovation and facilitating strategic decision-making, AI has become a cornerstone of success in today’s business environment.\n",
    "As businesses continue to embrace and integrate AI technologies, the potential for growth and innovation is boundless. However, a balanced approach that addresses challenges and ethical considerations is essential to\n",
    "unlock the full potential of AI for sustainable and responsible business development."
   ],
   "metadata": {
    "collapsed": false,
    "pycharm": {
     "name": "#%%\n"
    },
    "ExecuteTime": {
     "end_time": "2024-02-19T19:10:00.921536900Z",
     "start_time": "2024-02-19T19:10:00.876108400Z"
    }
   },
   "id": "82a096bd243f061c"
  },
  {
   "cell_type": "code",
   "execution_count": 12,
   "outputs": [
    {
     "data": {
      "text/plain": "<IPython.core.display.Markdown object>",
      "text/markdown": "\n### IT projects\nTaget ud fra disse 2:\n##### https://aloa.co/blog/the-role-of-ai-in-software-development-trends-statistics-and-growth\n##### https://newsroom.ibm.com/2024-01-10-Data-Suggests-Growth-in-Enterprise-Adoption-of-AI-is-Due-to-Widespread-Deployment-by-Early-Adopters\n\n### aloa.co:\nRise of AI-Powered Development Tools: There's a surge in AI-driven tools and technologies aimed at optimizing various stages of the software development lifecycle, from coding to testing and deployment.\n\nAutomated Code Generation: AI algorithms are increasingly used to generate code snippets, reducing manual coding efforts and speeding up development processes.\n\nIntelligent Code Analysis: AI-powered tools analyze code for bugs, vulnerabilities, and performance issues, enabling developers to address them proactively and ensure higher software quality.\n\nPredictive Maintenance: AI predicts software maintenance needs, helping organizations preemptively address issues and prevent system downtime.\n\nNatural Language Processing (NLP) for Coding: NLP techniques allow developers to interact with code using natural language commands, simplifying programming tasks and enhancing productivity.\n\nEnhanced Testing and Debugging: AI automates software testing and debugging processes, accelerating time-to-market and improving overall product reliability.\n\nPersonalized User Experiences: AI analyzes user data to personalize software interfaces and experiences, enhancing user engagement and satisfaction.\n\nContinuous Learning and Improvement: AI systems continuously learn from data and user interactions, allowing software to evolve and adapt to changing requirements and user needs over time.\n# ------------------------------------------------------------------------------------------------\n\n### IBM:\n\nOver the last several years, AI adoption has remained steady at large organizations surveyed:\n•\tToday, 42% of IT professionals at large organizations report that they have actively deployed AI while an additional 40% are actively exploring using the technology.\n•\tAdditionally, 38% of IT professionals at enterprises report that their company is actively implementing generative AI and another 42% are exploring it.\n•\tOrganizations in India (59%), the UAE (58%), Singapore (53%), and China (50%) are leading the way in active use of AI, compared with lagging markets like Spain (28%), Australia (29%), and France (26%).\n•\tCompanies within the financial services industry are most likely to be using AI, with about half of IT professionals within that industry reporting their company has actively deployed AI. 37% of IT professionals within the telecommunications industry state that their company is also deploying AI.\n\n\nEasier to use AI tools and the need to reduce costs and automate processes are driving AI adoption among surveyed companies:\n•\tAdvances in AI tools that make them more accessible (45%), the need to reduce costs and automate key processes (42%), and the increasing amount of AI embedded into standard off the shelf business applications (37%) are the top factors driving AI adoption.\n•\tFor IT professionals, the two most important changes to AI in recent years are solutions that are easier to deploy (43%) and the increased prevalence of data, AI, and automation skills (42%).\n•\tThe AI use cases driving adoption for surveyed companies currently exploring or deploying AI are not limited, but cut across many key areas of business operations:\n•\tAutomation of IT processes (33%)\n•\tSecurity and threat detection (26%)\n•\tAI monitoring or governance (25%)\n•\tBusiness analytics or intelligence (24%)\n•\tAutomating processing, understanding, and flow of documents (24%)\n•\tAutomating customer or employee self-service answers and actions (23%)\n•\tAutomation of business processes (22%)\n•\tAutomation of network processes (22%)\n•\tDigital labor (22%)\n•\tMarketing and sales (22%)\n•\tFraud detection (22%)\n•\tSearch and knowledge discovery (21%)\n•\tHuman resources and talent acquisition (19%)\n•\tFinancial planning and analysis (18%)\n•\tSupply chain intelligence (18%)\n\n\n\n\n\nAI is already having an impact on the workforce:\n•\tOne-in-five organizations report they do not have employees with the right skills in place to use new AI or automation tools and 16% cannot find new hires with the skills to address that gap.\n•\tAmong companies citing AI's use to address labor or skills shortages, they are tapping AI to do things like reduce manual or repetitive tasks with automation tools (55%) or automate customer self-service answers and actions (47%).\n•\tOnly 34% are currently training or reskilling employees to work together with new automation and AI tools.\n\n\n\n\nThe need for trustworthy and governed AI is understood by IT professionals, but barriers are making it difficult for surveyed companies to put into practice:\n•\tIT professionals are largely in agreement that consumers are more likely to choose services from companies with transparent and ethical AI practices (85% strongly or somewhat agree) and say being able to explain how their AI reached a decision is important to their business (83% among companies exploring or deploying AI).\n•\tBut, with many companies already deploying AI facing multiple barriers in the process, well under half report they are taking key steps towards trustworthy AI like reducing bias (27%), tracking data provenance (37%), making sure they can explain the decisions of their AI models (41%), or developing ethical AI policies (44%).\n\n\nMethodology:\nThis survey was conducted in November 2023 among a representative sample of 8,584 IT Professionals in Australia, Canada, China, France, Germany, India, Italy, Japan, Singapore, South Korea, Spain, UAE, UK, US and LATAM (Argentina, Brazil, Chile, Colombia, Mexico, and Peru). To qualify for the survey, participants must be employed full-time, work at companies with more than 1 employee, work in a manager or higher-level role, and have at least some knowledge about how IT operates and is used by their company. The global results have a margin of error of +/- 1 percentage point.\n\n"
     },
     "metadata": {},
     "output_type": "display_data"
    }
   ],
   "source": [
    "%%markdown\n",
    "\n",
    "### IT projects\n",
    "Taget ud fra disse 2:\n",
    "##### https://aloa.co/blog/the-role-of-ai-in-software-development-trends-statistics-and-growth\n",
    "##### https://newsroom.ibm.com/2024-01-10-Data-Suggests-Growth-in-Enterprise-Adoption-of-AI-is-Due-to-Widespread-Deployment-by-Early-Adopters\n",
    "\n",
    "### aloa.co:\n",
    "Rise of AI-Powered Development Tools: There's a surge in AI-driven tools and technologies aimed at optimizing various stages of the software development lifecycle, from coding to testing and deployment.\n",
    "\n",
    "Automated Code Generation: AI algorithms are increasingly used to generate code snippets, reducing manual coding efforts and speeding up development processes.\n",
    "\n",
    "Intelligent Code Analysis: AI-powered tools analyze code for bugs, vulnerabilities, and performance issues, enabling developers to address them proactively and ensure higher software quality.\n",
    "\n",
    "Predictive Maintenance: AI predicts software maintenance needs, helping organizations preemptively address issues and prevent system downtime.\n",
    "\n",
    "Natural Language Processing (NLP) for Coding: NLP techniques allow developers to interact with code using natural language commands, simplifying programming tasks and enhancing productivity.\n",
    "\n",
    "Enhanced Testing and Debugging: AI automates software testing and debugging processes, accelerating time-to-market and improving overall product reliability.\n",
    "\n",
    "Personalized User Experiences: AI analyzes user data to personalize software interfaces and experiences, enhancing user engagement and satisfaction.\n",
    "\n",
    "Continuous Learning and Improvement: AI systems continuously learn from data and user interactions, allowing software to evolve and adapt to changing requirements and user needs over time.\n",
    "# ------------------------------------------------------------------------------------------------\n",
    "\n",
    "### IBM:\n",
    "\n",
    "Over the last several years, AI adoption has remained steady at large organizations surveyed:\n",
    "•\tToday, 42% of IT professionals at large organizations report that they have actively deployed AI while an additional 40% are actively exploring using the technology.\n",
    "•\tAdditionally, 38% of IT professionals at enterprises report that their company is actively implementing generative AI and another 42% are exploring it.\n",
    "•\tOrganizations in India (59%), the UAE (58%), Singapore (53%), and China (50%) are leading the way in active use of AI, compared with lagging markets like Spain (28%), Australia (29%), and France (26%).\n",
    "•\tCompanies within the financial services industry are most likely to be using AI, with about half of IT professionals within that industry reporting their company has actively deployed AI. 37% of IT professionals within the telecommunications industry state that their company is also deploying AI.\n",
    "\n",
    "\n",
    "Easier to use AI tools and the need to reduce costs and automate processes are driving AI adoption among surveyed companies:\n",
    "•\tAdvances in AI tools that make them more accessible (45%), the need to reduce costs and automate key processes (42%), and the increasing amount of AI embedded into standard off the shelf business applications (37%) are the top factors driving AI adoption.\n",
    "•\tFor IT professionals, the two most important changes to AI in recent years are solutions that are easier to deploy (43%) and the increased prevalence of data, AI, and automation skills (42%).\n",
    "•\tThe AI use cases driving adoption for surveyed companies currently exploring or deploying AI are not limited, but cut across many key areas of business operations:\n",
    "•\tAutomation of IT processes (33%)\n",
    "•\tSecurity and threat detection (26%)\n",
    "•\tAI monitoring or governance (25%)\n",
    "•\tBusiness analytics or intelligence (24%)\n",
    "•\tAutomating processing, understanding, and flow of documents (24%)\n",
    "•\tAutomating customer or employee self-service answers and actions (23%)\n",
    "•\tAutomation of business processes (22%)\n",
    "•\tAutomation of network processes (22%)\n",
    "•\tDigital labor (22%)\n",
    "•\tMarketing and sales (22%)\n",
    "•\tFraud detection (22%)\n",
    "•\tSearch and knowledge discovery (21%)\n",
    "•\tHuman resources and talent acquisition (19%)\n",
    "•\tFinancial planning and analysis (18%)\n",
    "•\tSupply chain intelligence (18%)\n",
    "\n",
    "\n",
    "\n",
    "\n",
    "\n",
    "AI is already having an impact on the workforce:\n",
    "•\tOne-in-five organizations report they do not have employees with the right skills in place to use new AI or automation tools and 16% cannot find new hires with the skills to address that gap.\n",
    "•\tAmong companies citing AI's use to address labor or skills shortages, they are tapping AI to do things like reduce manual or repetitive tasks with automation tools (55%) or automate customer self-service answers and actions (47%).\n",
    "•\tOnly 34% are currently training or reskilling employees to work together with new automation and AI tools.\n",
    "\n",
    "\n",
    "\n",
    "\n",
    "The need for trustworthy and governed AI is understood by IT professionals, but barriers are making it difficult for surveyed companies to put into practice:\n",
    "•\tIT professionals are largely in agreement that consumers are more likely to choose services from companies with transparent and ethical AI practices (85% strongly or somewhat agree) and say being able to explain how their AI reached a decision is important to their business (83% among companies exploring or deploying AI).\n",
    "•\tBut, with many companies already deploying AI facing multiple barriers in the process, well under half report they are taking key steps towards trustworthy AI like reducing bias (27%), tracking data provenance (37%), making sure they can explain the decisions of their AI models (41%), or developing ethical AI policies (44%).\n",
    "\n",
    "\n",
    "Methodology:\n",
    "This survey was conducted in November 2023 among a representative sample of 8,584 IT Professionals in Australia, Canada, China, France, Germany, India, Italy, Japan, Singapore, South Korea, Spain, UAE, UK, US and LATAM (Argentina, Brazil, Chile, Colombia, Mexico, and Peru). To qualify for the survey, participants must be employed full-time, work at companies with more than 1 employee, work in a manager or higher-level role, and have at least some knowledge about how IT operates and is used by their company. The global results have a margin of error of +/- 1 percentage point.\n"
   ],
   "metadata": {
    "collapsed": false,
    "pycharm": {
     "name": "#%%\n"
    },
    "ExecuteTime": {
     "end_time": "2024-02-19T19:10:00.923530600Z",
     "start_time": "2024-02-19T19:10:00.888644100Z"
    }
   },
   "id": "149c89e6b8e7ebc7"
  },
  {
   "cell_type": "code",
   "execution_count": 13,
   "outputs": [
    {
     "data": {
      "text/plain": "<IPython.core.display.Markdown object>",
      "text/markdown": "## 2) The State of Ethics and the Role of EU AI Legislation in AI Governance\n##### https://www.europarl.europa.eu/topics/en/article/20230601STO93804/eu-ai-act-first-regulation-on-artificial-intelligence\n\nThe European Union (EU) is at the forefront of shaping ethical guidelines and legislative frameworks for the governance of artificial intelligence (AI). The EU AI Act represents the first comprehensive regulation specifically targeting AI technologies.\n\n### 1. Introduction of the EU AI Act:\n   - The EU AI Act is a landmark regulation designed to establish clear rules and standards for the development,\n    deployment, and use of AI technologies within the EU.\n\n### 2. Ethical Considerations:\n   - Ethical considerations are at the core of the EU AI Act, emphasizing principles such as transparency,\n    accountability, and human oversight in AI systems.\n   - The legislation aims to ensure that AI technologies respect fundamental rights and values,\n    including non-discrimination, privacy, and the protection of personal data.\n\n### 3. Risk-Based Approach:\n   - The EU AI Act adopts a risk-based approach,\n    categorizing AI applications into different risk levels based on their potential impact on safety, fundamental rights, and societal values.\n   - High-risk AI systems, such as those used in critical infrastructure\n    or for biometric identification, are subject to stricter requirements and regulatory oversight.\n\n### 4. Obligations for AI Providers:\n   - AI providers are required to comply with a set of obligations, including documenting their AI systems,\n    conducting risk assessments, and implementing appropriate measures to mitigate risks.\n   - Compliance with technical standards and conformity assessments is necessary for high-risk AI systems before they can be placed on the EU market.\n\n### 5. **Enforcement Mechanisms:**\n   - The EU AI Act establishes robust enforcement mechanisms to ensure compliance with its provisions,\n    including the designation of national competent authorities responsible for supervision and enforcement.\n   - Non-compliance with the regulation can result in significant fines and penalties for AI providers.\n\n### 6. International Cooperation:\n   - The EU aims to promote international cooperation and alignment on AI governance standards,\n    fostering collaboration with global partners to address common challenges and ensure a consistent regulatory landscape.\n\n### 7. Impact on Innovation and Competitiveness:\n   - While the EU AI Act aims to promote innovation and competitiveness in the AI sector,\n   there are concerns about potential impacts on smaller businesses and startups due to compliance costs and administrative burdens.\n\n### 8. Future Outlook:\n   - The EU AI Act represents a significant step towards establishing a harmonized regulatory framework for AI governance,\n    setting a precedent for other jurisdictions to follow.\n   - Continued dialogue and engagement with stakeholders will be essential to ensure the effective implementation\n    and evolution of AI regulation in the EU.\n\n### 9. Conclusion:\n- EU AI Act reflects a proactive approach to addressing ethical concerns and promoting responsible AI innovation, laying the groundwork for a more transparent, accountable, and human-centric approach to AI governance within the European Union.\n\n"
     },
     "metadata": {},
     "output_type": "display_data"
    }
   ],
   "source": [
    "%%markdown\n",
    "## 2) The State of Ethics and the Role of EU AI Legislation in AI Governance\n",
    "##### https://www.europarl.europa.eu/topics/en/article/20230601STO93804/eu-ai-act-first-regulation-on-artificial-intelligence\n",
    "\n",
    "The European Union (EU) is at the forefront of shaping ethical guidelines and legislative frameworks for the governance of artificial intelligence (AI). The EU AI Act represents the first comprehensive regulation specifically targeting AI technologies.\n",
    "\n",
    "### 1. Introduction of the EU AI Act:\n",
    "   - The EU AI Act is a landmark regulation designed to establish clear rules and standards for the development,\n",
    "    deployment, and use of AI technologies within the EU.\n",
    "\n",
    "### 2. Ethical Considerations:\n",
    "   - Ethical considerations are at the core of the EU AI Act, emphasizing principles such as transparency,\n",
    "    accountability, and human oversight in AI systems.\n",
    "   - The legislation aims to ensure that AI technologies respect fundamental rights and values,\n",
    "    including non-discrimination, privacy, and the protection of personal data.\n",
    "\n",
    "### 3. Risk-Based Approach:\n",
    "   - The EU AI Act adopts a risk-based approach,\n",
    "    categorizing AI applications into different risk levels based on their potential impact on safety, fundamental rights, and societal values.\n",
    "   - High-risk AI systems, such as those used in critical infrastructure\n",
    "    or for biometric identification, are subject to stricter requirements and regulatory oversight.\n",
    "\n",
    "### 4. Obligations for AI Providers:\n",
    "   - AI providers are required to comply with a set of obligations, including documenting their AI systems,\n",
    "    conducting risk assessments, and implementing appropriate measures to mitigate risks.\n",
    "   - Compliance with technical standards and conformity assessments is necessary for high-risk AI systems before they can be placed on the EU market.\n",
    "\n",
    "### 5. **Enforcement Mechanisms:**\n",
    "   - The EU AI Act establishes robust enforcement mechanisms to ensure compliance with its provisions,\n",
    "    including the designation of national competent authorities responsible for supervision and enforcement.\n",
    "   - Non-compliance with the regulation can result in significant fines and penalties for AI providers.\n",
    "\n",
    "### 6. International Cooperation:\n",
    "   - The EU aims to promote international cooperation and alignment on AI governance standards,\n",
    "    fostering collaboration with global partners to address common challenges and ensure a consistent regulatory landscape.\n",
    "\n",
    "### 7. Impact on Innovation and Competitiveness:\n",
    "   - While the EU AI Act aims to promote innovation and competitiveness in the AI sector,\n",
    "   there are concerns about potential impacts on smaller businesses and startups due to compliance costs and administrative burdens.\n",
    "\n",
    "### 8. Future Outlook:\n",
    "   - The EU AI Act represents a significant step towards establishing a harmonized regulatory framework for AI governance,\n",
    "    setting a precedent for other jurisdictions to follow.\n",
    "   - Continued dialogue and engagement with stakeholders will be essential to ensure the effective implementation\n",
    "    and evolution of AI regulation in the EU.\n",
    "\n",
    "### 9. Conclusion:\n",
    "- EU AI Act reflects a proactive approach to addressing ethical concerns and promoting responsible AI innovation, laying the groundwork for a more transparent, accountable, and human-centric approach to AI governance within the European Union.\n"
   ],
   "metadata": {
    "collapsed": false,
    "pycharm": {
     "name": "#%%\n"
    },
    "ExecuteTime": {
     "end_time": "2024-02-19T19:10:01.000024200Z",
     "start_time": "2024-02-19T19:10:00.929012800Z"
    }
   },
   "id": "1ffabcd4b43204e0"
  },
  {
   "cell_type": "code",
   "execution_count": 14,
   "outputs": [
    {
     "data": {
      "text/plain": "<IPython.core.display.Markdown object>",
      "text/markdown": "## 3) The Future of AI in Software Development\n\n### 1. GitHub Copilot (Co-pilot) by GitHub:\n  - GitHub Copilot is an AI-powered code completion tool developed by GitHub in collaboration with OpenAI.\n   - It uses machine learning models to assist developers in writing code by providing context-aware code suggestions and auto-completion.\n   - Copilot learns from a vast corpus of code repositories to generate relevant code snippets, improving developer productivity and accelerating the software development process.\n\n### 2. Polycode by Microsoft:\n   - Polycode is a project by Microsoft that integrates AI capabilities into software development tools and platforms.\n   - It offers features such as intelligent code completion, automated code reviews,\n    and predictive analytics to assist developers in writing, testing, and maintaining code more efficiently.\n   - Polycode leverages Microsoft's Azure AI services to provide advanced AI-driven functionalities tailored to the needs of software development teams.\n\n### 3. Azure AI by Microsoft:\n   - Azure AI is a comprehensive suite of AI services and tools offered by Microsoft as part of its Azure cloud platform.\n   - It includes a range of AI-powered capabilities such as natural language processing (NLP), computer vision, speech recognition, and machine learning.\n   - Azure AI services can be integrated into software projects to add intelligent features and functionalities,\n   such as sentiment analysis, image recognition, and personalized recommendations.\n\n### 4. Bing by Microsoft:\n   - Bing, Microsoft's search engine, incorporates AI technologies to deliver more relevant and personalized search results to users.\n   - It utilizes AI algorithms for features like intelligent search suggestions, semantic search, and natural language understanding.\n   - Bing's AI capabilities can be leveraged by developers through APIs and SDKs\n   to integrate intelligent search functionalities into software applications and projects.\n\n"
     },
     "metadata": {},
     "output_type": "display_data"
    }
   ],
   "source": [
    "%%markdown\n",
    "## 3) The Future of AI in Software Development\n",
    "\n",
    "### 1. GitHub Copilot (Co-pilot) by GitHub:\n",
    "  - GitHub Copilot is an AI-powered code completion tool developed by GitHub in collaboration with OpenAI.\n",
    "   - It uses machine learning models to assist developers in writing code by providing context-aware code suggestions and auto-completion.\n",
    "   - Copilot learns from a vast corpus of code repositories to generate relevant code snippets, improving developer productivity and accelerating the software development process.\n",
    "\n",
    "### 2. Polycode by Microsoft:\n",
    "   - Polycode is a project by Microsoft that integrates AI capabilities into software development tools and platforms.\n",
    "   - It offers features such as intelligent code completion, automated code reviews,\n",
    "    and predictive analytics to assist developers in writing, testing, and maintaining code more efficiently.\n",
    "   - Polycode leverages Microsoft's Azure AI services to provide advanced AI-driven functionalities tailored to the needs of software development teams.\n",
    "\n",
    "### 3. Azure AI by Microsoft:\n",
    "   - Azure AI is a comprehensive suite of AI services and tools offered by Microsoft as part of its Azure cloud platform.\n",
    "   - It includes a range of AI-powered capabilities such as natural language processing (NLP), computer vision, speech recognition, and machine learning.\n",
    "   - Azure AI services can be integrated into software projects to add intelligent features and functionalities,\n",
    "   such as sentiment analysis, image recognition, and personalized recommendations.\n",
    "\n",
    "### 4. Bing by Microsoft:\n",
    "   - Bing, Microsoft's search engine, incorporates AI technologies to deliver more relevant and personalized search results to users.\n",
    "   - It utilizes AI algorithms for features like intelligent search suggestions, semantic search, and natural language understanding.\n",
    "   - Bing's AI capabilities can be leveraged by developers through APIs and SDKs\n",
    "   to integrate intelligent search functionalities into software applications and projects.\n"
   ],
   "metadata": {
    "collapsed": false,
    "pycharm": {
     "name": "#%%\n"
    },
    "ExecuteTime": {
     "end_time": "2024-02-19T19:10:01.076075400Z",
     "start_time": "2024-02-19T19:10:01.004014300Z"
    }
   },
   "id": "ac3f8d413ee20ad3"
  },
  {
   "cell_type": "code",
   "execution_count": 15,
   "outputs": [
    {
     "data": {
      "text/plain": "<IPython.core.display.Markdown object>",
      "text/markdown": "## 4) Your thoughts on the how AI will impact software development and IT projects.\n\nWe believe that AI holds great potential to revolutionize software development and IT projects,\noffering innovative solutions and streamlining workflows.\nHowever, it's important to approach AI with a degree of skepticism and ensure that it remains a tool to enhance our work rather than replace it entirely.\n\n While AI can automate repetitive tasks, optimize processes, and provide valuable insights, our human creativity, judgment, and expertise remain necessary. By using AI as a supportive tool, we can enhance productivity, drive innovation, and unlock new possibilities in software development while preserving the human touch\n"
     },
     "metadata": {},
     "output_type": "display_data"
    }
   ],
   "source": [
    "%%markdown\n",
    "## 4) Your thoughts on the how AI will impact software development and IT projects.\n",
    "\n",
    "We believe that AI holds great potential to revolutionize software development and IT projects,\n",
    "offering innovative solutions and streamlining workflows.\n",
    "However, it's important to approach AI with a degree of skepticism and ensure that it remains a tool to enhance our work rather than replace it entirely.\n",
    "\n",
    " While AI can automate repetitive tasks, optimize processes, and provide valuable insights, our human creativity, judgment, and expertise remain necessary. By using AI as a supportive tool, we can enhance productivity, drive innovation, and unlock new possibilities in software development while preserving the human touch"
   ],
   "metadata": {
    "collapsed": false,
    "pycharm": {
     "name": "#%%\n"
    },
    "ExecuteTime": {
     "end_time": "2024-02-19T19:10:01.122114700Z",
     "start_time": "2024-02-19T19:10:01.079563900Z"
    }
   },
   "id": "c9ff41049180045"
  },
  {
   "cell_type": "code",
   "execution_count": 16,
   "outputs": [
    {
     "data": {
      "text/plain": "<IPython.core.display.Markdown object>",
      "text/markdown": "# Task 2: Algorithm Selection\n#### I want you to have a handy guide to algorithms and when they are usually used. Try and build simple examples in a Jupyter Notebook. I will also post Jupyter Notebooks in the Moodle course. As the course goes on you will be given projects to apply these algorithms.\n\n"
     },
     "metadata": {},
     "output_type": "display_data"
    }
   ],
   "source": [
    "%%markdown\n",
    "# Task 2: Algorithm Selection\n",
    "#### I want you to have a handy guide to algorithms and when they are usually used. Try and build simple examples in a Jupyter Notebook. I will also post Jupyter Notebooks in the Moodle course. As the course goes on you will be given projects to apply these algorithms.\n"
   ],
   "metadata": {
    "collapsed": false,
    "pycharm": {
     "name": "#%%\n"
    },
    "ExecuteTime": {
     "end_time": "2024-02-19T19:10:01.177395700Z",
     "start_time": "2024-02-19T19:10:01.126103500Z"
    }
   },
   "id": "cb905716b08f41c4"
  },
  {
   "cell_type": "code",
   "execution_count": 17,
   "outputs": [
    {
     "data": {
      "text/plain": "<IPython.core.display.Markdown object>",
      "text/markdown": "## 1) Linear Regression\n**Description:** Linear Regression is used to predict a continuous outcome variable (dependent variable) based on one or more predictor (independent) variables. It assumes a linear relationship between the variables.\n**Usage:** Commonly used in economics, real estate, business, among others, for predicting prices, sales, etc.\n\n## 2) Logistic Regression\n**Description:** Logistic Regression is used for binary classification tasks (where the output is binary, e.g., Yes/No, 0/1). It estimates the probability of an event occurring.\n**Usage:** Used in fields like medicine for predicting the likelihood of a disease, in banking for predicting default on loans, etc.\n\n## 3) Decision Trees\n**Description:** Decision Trees are a type of algorithm that splits the data into branches at certain decision points, leading to a final decision or classification.\n**Usage:** Useful in operational research, strategic planning, and machine learning for making sequential decisions.\n\n## 4) Random Forest\n**Description:** Random Forests are an ensemble learning method that operates by constructing multiple decision trees during training and outputting the class that is the mode of the classes (classification) or mean prediction (regression) of the individual trees.\n**Usage:** Widely used in classification problems like in biology for gene classification, in finance for stock market prediction, etc.\n\n## 5) Support Vector Machines (SVM)\n**Description:** SVMs are a set of supervised learning methods used for classification, regression, and outliers detection. It finds the best boundary (hyperplane) that separates classes in a feature space.\n**Usage:** Used in face detection, classification of images, handwriting recognition, etc.\n\n## 6) Naive Bayes\n**Description:** Naive Bayes classifiers are a family of simple \"probabilistic classifiers\" based on applying Bayes' theorem with strong (naïve) independence assumptions between the features.\n**Usage:** Often used in text classification, spam filtering, sentiment analysis, etc.\n\n## 7) K-Nearest Neighbors (KNN)\n**Description:** KNN is a simple algorithm that stores all available cases and classifies new cases based on a similarity measure (e.g., distance functions).\n**Usage:** KNN is used in recommendation systems, semantic searching, anomaly detection, etc\n\n## 8) Gradient Boosting Machines (GBMs)\n**Description:** GBMs are a type of machine learning boosting that builds models from weak learners, usually decision trees. It builds the model in a stage-wise fashion.\n**Usage:** Used in numerous areas of science and technology, like web search ranking and ecology.\n"
     },
     "metadata": {},
     "output_type": "display_data"
    }
   ],
   "source": [
    "%%markdown\n",
    "## 1) Linear Regression\n",
    "**Description:** Linear Regression is used to predict a continuous outcome variable (dependent variable) based on one or more predictor (independent) variables. It assumes a linear relationship between the variables.\n",
    "**Usage:** Commonly used in economics, real estate, business, among others, for predicting prices, sales, etc.\n",
    "\n",
    "## 2) Logistic Regression\n",
    "**Description:** Logistic Regression is used for binary classification tasks (where the output is binary, e.g., Yes/No, 0/1). It estimates the probability of an event occurring.\n",
    "**Usage:** Used in fields like medicine for predicting the likelihood of a disease, in banking for predicting default on loans, etc.\n",
    "\n",
    "## 3) Decision Trees\n",
    "**Description:** Decision Trees are a type of algorithm that splits the data into branches at certain decision points, leading to a final decision or classification.\n",
    "**Usage:** Useful in operational research, strategic planning, and machine learning for making sequential decisions.\n",
    "\n",
    "## 4) Random Forest\n",
    "**Description:** Random Forests are an ensemble learning method that operates by constructing multiple decision trees during training and outputting the class that is the mode of the classes (classification) or mean prediction (regression) of the individual trees.\n",
    "**Usage:** Widely used in classification problems like in biology for gene classification, in finance for stock market prediction, etc.\n",
    "\n",
    "## 5) Support Vector Machines (SVM)\n",
    "**Description:** SVMs are a set of supervised learning methods used for classification, regression, and outliers detection. It finds the best boundary (hyperplane) that separates classes in a feature space.\n",
    "**Usage:** Used in face detection, classification of images, handwriting recognition, etc.\n",
    "\n",
    "## 6) Naive Bayes\n",
    "**Description:** Naive Bayes classifiers are a family of simple \"probabilistic classifiers\" based on applying Bayes' theorem with strong (naïve) independence assumptions between the features.\n",
    "**Usage:** Often used in text classification, spam filtering, sentiment analysis, etc.\n",
    "\n",
    "## 7) K-Nearest Neighbors (KNN)\n",
    "**Description:** KNN is a simple algorithm that stores all available cases and classifies new cases based on a similarity measure (e.g., distance functions).\n",
    "**Usage:** KNN is used in recommendation systems, semantic searching, anomaly detection, etc\n",
    "\n",
    "## 8) Gradient Boosting Machines (GBMs)\n",
    "**Description:** GBMs are a type of machine learning boosting that builds models from weak learners, usually decision trees. It builds the model in a stage-wise fashion.\n",
    "**Usage:** Used in numerous areas of science and technology, like web search ranking and ecology."
   ],
   "metadata": {
    "collapsed": false,
    "pycharm": {
     "name": "#%%\n"
    },
    "ExecuteTime": {
     "end_time": "2024-02-19T19:10:01.204687100Z",
     "start_time": "2024-02-19T19:10:01.166241900Z"
    }
   },
   "id": "e474710f8806efec"
  },
  {
   "cell_type": "code",
   "outputs": [
    {
     "name": "stdout",
     "output_type": "stream",
     "text": [
      "Linear Regression mean squared error: 0.09999999999999987\n",
      "Logistic Regression Accuracy: 0.9\n",
      "DecisionTree Accuracy: 0.9\n",
      "Random Forrest Accuracy: 0.9\n",
      "Random forrest guess on new data [1 0 0]\n",
      "SVM Accuracy: 0.3\n",
      "Naive Bayes Accuracy: 0.9\n",
      "KNN Accuracy: 0.4\n",
      "GBM Accuracy: 0.4\n"
     ]
    }
   ],
   "source": [
    "from sklearn.linear_model import LinearRegression, LogisticRegression\n",
    "from sklearn.neighbors import KNeighborsClassifier\n",
    "from sklearn.naive_bayes import GaussianNB\n",
    "from sklearn.svm import SVC\n",
    "from sklearn.tree import DecisionTreeClassifier\n",
    "from sklearn.ensemble import RandomForestClassifier, GradientBoostingClassifier\n",
    "from sklearn.model_selection import train_test_split\n",
    "from sklearn.metrics import accuracy_score, mean_squared_error\n",
    "import pandas as pd\n",
    "\n",
    "# GLOBAL DATA\n",
    "data = {\n",
    "    \"Survived\": [0, 1, 1, 0, 0, 1, 0, 1, 1, 0, 1, 0, 1, 0, 1, 0, 1, 0, 1, 1,\n",
    "                 0, 0, 0, 1, 0, 1, 1, 1, 1, 0, 1, 0, 1, 0, 1, 1, 1, 0, 1, 1,\n",
    "                 1, 1, 0, 1, 1, 1, 0, 1, 1, 0],\n",
    "    \"Pclass\": [3, 1, 3, 1, 3, 1, 2, 3, 2, 1, 3, 1, 2, 3, 2, 1, 2, 1, 3, 2,\n",
    "               3, 2, 1, 3, 1, 2, 1, 3, 2, 1, 2, 3, 1, 3, 2, 1, 3, 2, 1, 2,\n",
    "               2, 3, 1, 2, 3, 2, 1, 2, 3, 1],\n",
    "    \"Sex\": [\"male\", \"female\", \"female\", \"male\", \"male\", \"female\", \"male\", \"female\", \"female\", \"male\", \n",
    "            \"female\", \"male\", \"female\", \"male\", \"female\", \"male\", \"female\", \"male\", \"female\", \"female\",\n",
    "            \"male\", \"male\", \"male\", \"female\", \"male\", \"female\", \"female\", \"female\", \"female\", \"male\",\n",
    "            \"female\", \"male\", \"female\", \"male\", \"female\", \"female\", \"female\", \"male\", \"female\", \"female\",\n",
    "            \"female\", \"female\", \"male\", \"female\", \"female\", \"female\", \"male\", \"female\", \"male\", \"male\"],\n",
    "    \"Age\": [22, 38, 26, 35, 35, 27, 58, 14, 4, 34, 15, 28, 8, 19, 40, 66, 42, 21, 18, 32,\n",
    "            45, 23, 31, 24, 60, 29, 50, 20, 47, 54, 33, 37, 36, 49, 70, 9, 5, 39, 6, 10,\n",
    "            4, 7, 48, 12, 8, 11, 52, 13, 17, 16]\n",
    "}\n",
    "titanic_data = pd.DataFrame(data)\n",
    "titanic_data['Sex'] = titanic_data['Sex'].map({'male': 0, 'female': 1})\n",
    "X = titanic_data.drop('Survived', axis=1)\n",
    "y = titanic_data['Survived']\n",
    "X_train, X_test, y_train, y_test = train_test_split(X, y, test_size=0.2, random_state=42)\n",
    "\n",
    "# Linear Regression Example\n",
    "model = LinearRegression()\n",
    "model.fit(X_train, y_train)\n",
    "\n",
    "y_pred = model.predict(X_test)\n",
    "accuracy = mean_squared_error(y_test, y_pred)\n",
    "print(\"Linear Regression mean squared error:\", accuracy)\n",
    "\n",
    "# Logistic Regression Example\n",
    "model = LogisticRegression()\n",
    "model.fit(X_train, y_train)\n",
    "\n",
    "y_pred = model.predict(X_test)\n",
    "accuracy = accuracy_score(y_test, y_pred)\n",
    "print(\"Logistic Regression Accuracy:\", accuracy)\n",
    "\n",
    "# Decision Trees Example\n",
    "model = DecisionTreeClassifier()\n",
    "model.fit(X_train, y_train)\n",
    "\n",
    "y_pred = model.predict(X_test)\n",
    "accuracy = accuracy_score(y_test, y_pred)\n",
    "print(\"DecisionTree Accuracy:\", accuracy)\n",
    "\n",
    "# Random Forest Example\n",
    "model = RandomForestClassifier()\n",
    "model.fit(X_train, y_train)\n",
    "\n",
    "y_pred = model.predict(X_test)\n",
    "accuracy = accuracy_score(y_test, y_pred)\n",
    "print(\"Random Forrest Accuracy:\", accuracy)\n",
    "\n",
    "new_data = pd.DataFrame({\n",
    "    'Pclass': [2, 1, 1],\n",
    "    'Sex': ['female', 'male', 'male'],\n",
    "    'Age': [29, 40, 4]\n",
    "})\n",
    "\n",
    "# Convert 'Sex' to numerical as done with training data\n",
    "new_data['Sex'] = new_data['Sex'].map({'male': 0, 'female': 1})\n",
    "\n",
    "print(\"Random forrest guess on new data\" ,model.predict(new_data))\n",
    "\n",
    "# Support Vector Machines Example\n",
    "model = SVC()\n",
    "model.fit(X_train, y_train)\n",
    "\n",
    "y_pred = model.predict(X_test)\n",
    "accuracy = accuracy_score(y_test, y_pred)\n",
    "print(\"SVM Accuracy:\", accuracy)\n",
    "\n",
    "# Naive Bayes Example\n",
    "model = GaussianNB()\n",
    "model.fit(X_train, y_train)\n",
    "\n",
    "y_pred = model.predict(X_test)\n",
    "accuracy = accuracy_score(y_test, y_pred)\n",
    "print(\"Naive Bayes Accuracy:\", accuracy)\n",
    "\n",
    "# K-Nearest Neighbors Example\n",
    "model = KNeighborsClassifier(n_neighbors=3)\n",
    "model.fit(X_train, y_train)\n",
    "\n",
    "y_pred = model.predict(X_test)\n",
    "accuracy = accuracy_score(y_test, y_pred)\n",
    "print(\"KNN Accuracy:\", accuracy)\n",
    "\n",
    "y_pred = model.predict(X_test)\n",
    "accuracy = accuracy_score(y_test, y_pred)\n",
    "print(\"GBM Accuracy:\", accuracy)"
   ],
   "metadata": {
    "collapsed": false,
    "ExecuteTime": {
     "end_time": "2024-02-19T19:10:01.487226400Z",
     "start_time": "2024-02-19T19:10:01.207193500Z"
    }
   },
   "id": "64e0e88c221d74f8",
   "execution_count": 18
  },
  {
   "cell_type": "code",
   "outputs": [],
   "source": [],
   "metadata": {
    "collapsed": false,
    "ExecuteTime": {
     "end_time": "2024-02-19T19:10:01.488312400Z",
     "start_time": "2024-02-19T19:10:01.484234800Z"
    }
   },
   "id": "785d6f138a5bc9fa",
   "execution_count": 18
  }
 ],
 "metadata": {
  "kernelspec": {
   "display_name": "Python 3",
   "language": "python",
   "name": "python3"
  },
  "language_info": {
   "codemirror_mode": {
    "name": "ipython",
    "version": 2
   },
   "file_extension": ".py",
   "mimetype": "text/x-python",
   "name": "python",
   "nbconvert_exporter": "python",
   "pygments_lexer": "ipython2",
   "version": "2.7.6"
  }
 },
 "nbformat": 4,
 "nbformat_minor": 5
}
