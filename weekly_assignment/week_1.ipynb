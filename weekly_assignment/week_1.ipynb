{
 "cells": [
  {
   "cell_type": "code",
   "execution_count": 1,
   "outputs": [
    {
     "data": {
      "text/plain": "<IPython.core.display.Markdown object>",
      "text/markdown": "## i) Practise \"magic\" commands %% -create a notebook to demo them\n"
     },
     "metadata": {},
     "output_type": "display_data"
    }
   ],
   "source": [
    "%%markdown\n",
    "## i) Practise \"magic\" commands %% -create a notebook to demo them"
   ],
   "metadata": {
    "collapsed": false,
    "pycharm": {
     "name": "#%%\n"
    },
    "ExecuteTime": {
     "end_time": "2024-02-19T19:09:05.176554400Z",
     "start_time": "2024-02-19T19:09:05.162088300Z"
    }
   },
   "id": "22da235ef11fc20b"
  },
  {
   "cell_type": "code",
   "execution_count": 2,
   "outputs": [
    {
     "data": {
      "text/plain": "<IPython.core.display.Markdown object>",
      "text/markdown": "\n%run: Run a python script as a program\n\n%load: Load code into the current frontend.\n\n%timeit: Time the execution of a statement or expression.\n\n%matplotlib: Enable interactive Matplotlib plots.\n\n%reset: Reset the namespace by removing all names defined by the user.\n\n%pwd: Print the current working directory.\n\n%who: Display variables in the interactive namespace.\n\n%debug: Activate the interactive debugger.\n\nmore at https://ipython.readthedocs.io/en/stable/interactive/magics.html\n"
     },
     "metadata": {},
     "output_type": "display_data"
    }
   ],
   "source": [
    "%%markdown\n",
    "\n",
    "%run: Run a python script as a program\n",
    "\n",
    "%load: Load code into the current frontend.\n",
    "\n",
    "%timeit: Time the execution of a statement or expression.\n",
    "\n",
    "%matplotlib: Enable interactive Matplotlib plots.\n",
    "\n",
    "%reset: Reset the namespace by removing all names defined by the user.\n",
    "\n",
    "%pwd: Print the current working directory.\n",
    "\n",
    "%who: Display variables in the interactive namespace.\n",
    "\n",
    "%debug: Activate the interactive debugger.\n",
    "\n",
    "more at https://ipython.readthedocs.io/en/stable/interactive/magics.html"
   ],
   "metadata": {
    "collapsed": false,
    "pycharm": {
     "name": "#%%\n"
    },
    "ExecuteTime": {
     "end_time": "2024-02-19T19:09:05.182816400Z",
     "start_time": "2024-02-19T19:09:05.171559900Z"
    }
   },
   "id": "f4aac519c1582445"
  },
  {
   "cell_type": "code",
   "execution_count": 3,
   "outputs": [
    {
     "data": {
      "text/plain": "<IPython.core.display.Markdown object>",
      "text/markdown": "## ii) Python flow of control show how python handles it\n"
     },
     "metadata": {},
     "output_type": "display_data"
    }
   ],
   "source": [
    "%%markdown \n",
    "## ii) Python flow of control show how python handles it"
   ],
   "metadata": {
    "collapsed": false,
    "pycharm": {
     "name": "#%%\n"
    },
    "ExecuteTime": {
     "end_time": "2024-02-19T19:09:05.185239200Z",
     "start_time": "2024-02-19T19:09:05.176554400Z"
    }
   },
   "id": "6a311f05bcfd14b5"
  },
  {
   "cell_type": "code",
   "execution_count": 4,
   "outputs": [
    {
     "data": {
      "text/plain": "<IPython.core.display.Markdown object>",
      "text/markdown": "Flow control in Python is typically managed using conditional statements (if, elif, else) and loops (for while). Here's a simple example that demonstrates these concepts:\n"
     },
     "metadata": {},
     "output_type": "display_data"
    }
   ],
   "source": [
    "%%markdown\n",
    "Flow control in Python is typically managed using conditional statements (if, elif, else) and loops (for while). Here's a simple example that demonstrates these concepts:"
   ],
   "metadata": {
    "collapsed": false,
    "pycharm": {
     "name": "#%%\n"
    },
    "ExecuteTime": {
     "end_time": "2024-02-19T19:09:05.190132Z",
     "start_time": "2024-02-19T19:09:05.183812100Z"
    }
   },
   "id": "initial_id"
  },
  {
   "cell_type": "code",
   "execution_count": 5,
   "outputs": [
    {
     "name": "stdout",
     "output_type": "stream",
     "text": [
      "x is positive\n",
      "Fruits in the list:\n",
      "apple\n",
      "banana\n",
      "cherry\n",
      "Count: 1\n",
      "Count: 2\n",
      "Count: 3\n",
      "Count: 4\n",
      "Count: 5\n"
     ]
    }
   ],
   "source": [
    "x = 10\n",
    "\n",
    "if x > 0:\n",
    "    print(\"x is positive\")\n",
    "elif x == 0:\n",
    "    print(\"x is zero\")\n",
    "else:\n",
    "    print(\"x is negative\")\n",
    "\n",
    "# Loops (for loop)\n",
    "fruits = [\"apple\", \"banana\", \"cherry\"]\n",
    "\n",
    "print(\"Fruits in the list:\")\n",
    "for fruit in fruits:\n",
    "    print(fruit)\n",
    "    \n",
    "# Loops (while loop)\n",
    "count = 1\n",
    "while count <= 5:\n",
    "    print(f\"Count: {count}\")\n",
    "    count += 1"
   ],
   "metadata": {
    "collapsed": false,
    "pycharm": {
     "name": "#%%\n"
    },
    "ExecuteTime": {
     "end_time": "2024-02-19T19:09:05.253186700Z",
     "start_time": "2024-02-19T19:09:05.190132Z"
    }
   },
   "id": "50bcd0992502cd8d"
  },
  {
   "cell_type": "code",
   "execution_count": 6,
   "outputs": [
    {
     "data": {
      "text/plain": "<IPython.core.display.Markdown object>",
      "text/markdown": "##  Task iii) Data types + data structures show how Python handles data\n"
     },
     "metadata": {},
     "output_type": "display_data"
    }
   ],
   "source": [
    "%%markdown\n",
    "##  Task iii) Data types + data structures show how Python handles data"
   ],
   "metadata": {
    "collapsed": false,
    "pycharm": {
     "name": "#%%\n"
    },
    "ExecuteTime": {
     "end_time": "2024-02-19T19:09:05.278547100Z",
     "start_time": "2024-02-19T19:09:05.197465Z"
    }
   },
   "id": "e090cad86a15bde5"
  },
  {
   "cell_type": "code",
   "execution_count": 7,
   "outputs": [
    {
     "data": {
      "text/plain": "<IPython.core.display.Markdown object>",
      "text/markdown": "\nTask iii. Data Types\n\nNumeric Types:\nint: x = 5\nfloat: y = 3.14\ncomplex: z = complex(2, 3)\n\nboolean types:\nis_true = True\nis_false = False\n\nstring type:\ntext = \"Hello, Python!\"\n\nNone type:\nempty_value = None\n"
     },
     "metadata": {},
     "output_type": "display_data"
    }
   ],
   "source": [
    "%%markdown\n",
    "\n",
    "Task iii. Data Types\n",
    "\n",
    "Numeric Types:\n",
    "int: x = 5\n",
    "float: y = 3.14\n",
    "complex: z = complex(2, 3)\n",
    "\n",
    "boolean types:\n",
    "is_true = True\n",
    "is_false = False\n",
    "\n",
    "string type:\n",
    "text = \"Hello, Python!\"\n",
    "\n",
    "None type:\n",
    "empty_value = None"
   ],
   "metadata": {
    "collapsed": false,
    "pycharm": {
     "name": "#%%\n"
    },
    "ExecuteTime": {
     "end_time": "2024-02-19T19:09:05.280436800Z",
     "start_time": "2024-02-19T19:09:05.201423700Z"
    }
   },
   "id": "d29db2ad44250242"
  },
  {
   "cell_type": "code",
   "execution_count": 8,
   "outputs": [
    {
     "data": {
      "text/plain": "<IPython.core.display.Markdown object>",
      "text/markdown": "\n## Task iii. Data structure\n"
     },
     "metadata": {},
     "output_type": "display_data"
    }
   ],
   "source": [
    "%%markdown\n",
    "\n",
    "## Task iii. Data structure"
   ],
   "metadata": {
    "collapsed": false,
    "pycharm": {
     "name": "#%%\n"
    },
    "ExecuteTime": {
     "end_time": "2024-02-19T19:09:05.281445300Z",
     "start_time": "2024-02-19T19:09:05.209311900Z"
    }
   },
   "id": "bafdf872850c1e79"
  },
  {
   "cell_type": "code",
   "execution_count": 9,
   "outputs": [],
   "source": [
    "# List (Ordered, mutable collection of elements):\n",
    "my_list = [1, 2, 3, 'a', 'b', 'c']\n",
    "\n",
    "# Tuples (Ordered, immutable collection of elements.):\n",
    "my_tuple = (1, 2, 3, 'a', 'b', 'c')\n",
    "\n",
    "# Sets (Unordered collection of unique elements.):\n",
    "my_set = {1, 2, 3, 3, 4}\n",
    "\n",
    "# Dictionaries (Unordered collection of key-value pairs.):\n",
    "my_dict = {'name': 'John', 'age': 25, 'city': 'New York'}\n",
    "\n",
    "# Arrays (NumPy) (Homogeneous multidimensional arrays (provided by the NumPy library)).:\n",
    "import numpy as np\n",
    "\n",
    "my_array = np.array([1, 2, 3, 4, 5])\n",
    "\n",
    "#DataFrames (Pandas) (2D labeled data structures with columns that can be different types (provided by the Pandas library)):\n",
    "import pandas as pd\n",
    "\n",
    "data = {'Name': ['Alice', 'Bob', 'Charlie'],\n",
    "        'Age': [25, 30, 35],\n",
    "        'City': ['New York', 'San Francisco', 'Los Angeles']}\n",
    "df = pd.DataFrame(data)"
   ],
   "metadata": {
    "collapsed": false,
    "pycharm": {
     "name": "#%%\n"
    },
    "ExecuteTime": {
     "end_time": "2024-02-19T19:09:05.350272500Z",
     "start_time": "2024-02-19T19:09:05.216129Z"
    }
   },
   "id": "154a3c5c1f7ccf77"
  },
  {
   "cell_type": "code",
   "execution_count": 10,
   "outputs": [
    {
     "data": {
      "text/plain": "<IPython.core.display.Markdown object>",
      "text/markdown": "# Task iii\n## How Python Handles Data:\n\nDynamic Typing:\nPython is dynamically typed, meaning you don't have to explicitly declare the data type of a variable. The interpreter infers the type based on the value assigned.\nx = 5      # x is an integer\ny = 'hello'  # y is a string\n\nMemory Management:\nPython manages memory automatically, and variables don't need to be explicitly declared or deallocated. Memory is managed through a system of reference counting and garbage collection.\n\nObject-Oriented:\nEverything in Python is an object, including data types and data structures. Objects have associated methods and attributes.\n\nEasy Syntax:\nPython has a clean and readable syntax, making it easy to work with data. It provides built-in functions and methods for common operations on data structures.\n"
     },
     "metadata": {},
     "output_type": "display_data"
    }
   ],
   "source": [
    "%%markdown\n",
    "# Task iii\n",
    "## How Python Handles Data:\n",
    "\n",
    "Dynamic Typing:\n",
    "Python is dynamically typed, meaning you don't have to explicitly declare the data type of a variable. The interpreter infers the type based on the value assigned.\n",
    "x = 5      # x is an integer\n",
    "y = 'hello'  # y is a string\n",
    "\n",
    "Memory Management:\n",
    "Python manages memory automatically, and variables don't need to be explicitly declared or deallocated. Memory is managed through a system of reference counting and garbage collection.\n",
    "\n",
    "Object-Oriented:\n",
    "Everything in Python is an object, including data types and data structures. Objects have associated methods and attributes.\n",
    "\n",
    "Easy Syntax:\n",
    "Python has a clean and readable syntax, making it easy to work with data. It provides built-in functions and methods for common operations on data structures."
   ],
   "metadata": {
    "collapsed": false,
    "pycharm": {
     "name": "#%%\n"
    },
    "ExecuteTime": {
     "end_time": "2024-02-19T19:09:05.351269800Z",
     "start_time": "2024-02-19T19:09:05.229643700Z"
    }
   },
   "id": "2032a2002fe79f33"
  },
  {
   "cell_type": "code",
   "execution_count": 11,
   "outputs": [
    {
     "data": {
      "text/plain": "<IPython.core.display.Markdown object>",
      "text/markdown": "## iv) Numpy/Pandas/Matplotlib/Seaborn. Research the most used functions + produce demo code\n"
     },
     "metadata": {},
     "output_type": "display_data"
    }
   ],
   "source": [
    "%%markdown \n",
    "## iv) Numpy/Pandas/Matplotlib/Seaborn. Research the most used functions + produce demo code"
   ],
   "metadata": {
    "collapsed": false,
    "pycharm": {
     "name": "#%%\n"
    },
    "ExecuteTime": {
     "end_time": "2024-02-19T19:09:05.352266100Z",
     "start_time": "2024-02-19T19:09:05.234148200Z"
    }
   },
   "id": "9125dad78720832a"
  },
  {
   "cell_type": "code",
   "execution_count": 12,
   "outputs": [
    {
     "data": {
      "text/plain": "<IPython.core.display.Markdown object>",
      "text/markdown": "### Numpy\n"
     },
     "metadata": {},
     "output_type": "display_data"
    }
   ],
   "source": [
    "%%markdown \n",
    "### Numpy"
   ],
   "metadata": {
    "collapsed": false,
    "pycharm": {
     "name": "#%%\n"
    },
    "ExecuteTime": {
     "end_time": "2024-02-19T19:09:05.353264400Z",
     "start_time": "2024-02-19T19:09:05.241104300Z"
    }
   },
   "id": "2df3e6f9d0cec1d1"
  },
  {
   "cell_type": "code",
   "execution_count": 13,
   "outputs": [
    {
     "name": "stdout",
     "output_type": "stream",
     "text": [
      "[[1]\n",
      " [2]\n",
      " [3]]\n",
      "[1 2 3 1 2 3]\n"
     ]
    }
   ],
   "source": [
    "import numpy as np\n",
    "\n",
    "#Creating Arrays\n",
    "arr = np.array([1, 2, 3])\n",
    "\n",
    "#Math Operations\n",
    "mean_val = np.mean(arr)\n",
    "sum_val = np.sum(arr)\n",
    "max_val = np.max(arr)\n",
    "min_val = np.min(arr)\n",
    "\n",
    "#Array Manipulation\n",
    "reshaped_arr = np.reshape(arr, (3, 1))\n",
    "print(reshaped_arr)\n",
    "concat_arr = np.concatenate([arr, arr])\n",
    "print(concat_arr)"
   ],
   "metadata": {
    "collapsed": false,
    "pycharm": {
     "name": "#%%\n"
    },
    "ExecuteTime": {
     "end_time": "2024-02-19T19:09:05.354261500Z",
     "start_time": "2024-02-19T19:09:05.247947200Z"
    }
   },
   "id": "adbec741982b0472"
  },
  {
   "cell_type": "code",
   "execution_count": 14,
   "outputs": [
    {
     "data": {
      "text/plain": "<IPython.core.display.Markdown object>",
      "text/markdown": "### Pandas\n"
     },
     "metadata": {},
     "output_type": "display_data"
    }
   ],
   "source": [
    "%%markdown\n",
    "### Pandas"
   ],
   "metadata": {
    "collapsed": false,
    "pycharm": {
     "name": "#%%\n"
    },
    "ExecuteTime": {
     "end_time": "2024-02-19T19:09:05.382674900Z",
     "start_time": "2024-02-19T19:09:05.256178400Z"
    }
   },
   "id": "f1a6b29ea221bb29"
  },
  {
   "cell_type": "code",
   "execution_count": 15,
   "outputs": [],
   "source": [
    "import pandas as pd\n",
    "\n",
    "#Creating DataFrames\n",
    "data = {'Name': ['Alice', 'Bob', 'Charlie'],\n",
    "        'Age': [25, 30, 35],\n",
    "        'City': ['New York', 'San Francisco', 'Los Angeles']}\n",
    "df = pd.DataFrame(data)\n",
    "\n",
    "#Data Exploration\n",
    "head = df.head()\n",
    "summary_stats = df.describe()\n",
    "\n",
    "#Filtering Data\n",
    "subset = df.loc[df['Age'] > 30]\n"
   ],
   "metadata": {
    "collapsed": false,
    "pycharm": {
     "name": "#%%\n"
    },
    "ExecuteTime": {
     "end_time": "2024-02-19T19:09:05.384668600Z",
     "start_time": "2024-02-19T19:09:05.262723Z"
    }
   },
   "id": "43b726c93c09fdbf"
  },
  {
   "cell_type": "code",
   "execution_count": 16,
   "outputs": [
    {
     "data": {
      "text/plain": "<IPython.core.display.Markdown object>",
      "text/markdown": "### Matplotlib\n"
     },
     "metadata": {},
     "output_type": "display_data"
    }
   ],
   "source": [
    "%%markdown\n",
    "### Matplotlib"
   ],
   "metadata": {
    "collapsed": false,
    "pycharm": {
     "name": "#%%\n"
    },
    "ExecuteTime": {
     "end_time": "2024-02-19T19:09:05.398158700Z",
     "start_time": "2024-02-19T19:09:05.277520200Z"
    }
   },
   "id": "9208fce97322e63e"
  },
  {
   "cell_type": "code",
   "execution_count": 17,
   "outputs": [
    {
     "data": {
      "text/plain": "<Figure size 640x480 with 1 Axes>",
      "image/png": "[encoded data removed]"
     },
     "metadata": {},
     "output_type": "display_data"
    },
    {
     "data": {
      "text/plain": "<Figure size 640x480 with 1 Axes>",
      "image/png": "[encoded data removed]"
     },
     "metadata": {},
     "output_type": "display_data"
    },
    {
     "data": {
      "text/plain": "<Figure size 640x480 with 1 Axes>",
      "image/png": "[encoded data removed]"
     },
     "metadata": {},
     "output_type": "display_data"
    }
   ],
   "source": [
    "import matplotlib.pyplot as plt\n",
    "import numpy as np\n",
    "\n",
    "#Line Plot\n",
    "x = np.array([1,2,3])\n",
    "y = np.array([2,4,6])\n",
    "plt.plot(x, y)\n",
    "plt.show()\n",
    "\n",
    "#Scatter Plot\n",
    "plt.scatter(x, y)\n",
    "plt.show()\n",
    "\n",
    "#Bar Plot\n",
    "categories = ['A', 'B', 'C']\n",
    "values = [3, 7, 5]\n",
    "plt.bar(categories, values)\n",
    "plt.show()"
   ],
   "metadata": {
    "collapsed": false,
    "pycharm": {
     "name": "#%%\n"
    },
    "ExecuteTime": {
     "end_time": "2024-02-19T19:09:06.084395600Z",
     "start_time": "2024-02-19T19:09:05.282443200Z"
    }
   },
   "id": "6092f28f3f794e59"
  },
  {
   "cell_type": "code",
   "execution_count": 18,
   "outputs": [
    {
     "data": {
      "text/plain": "<IPython.core.display.Markdown object>",
      "text/markdown": "### Seaborn\n"
     },
     "metadata": {},
     "output_type": "display_data"
    }
   ],
   "source": [
    "%%markdown\n",
    "### Seaborn"
   ],
   "metadata": {
    "collapsed": false,
    "pycharm": {
     "name": "#%%\n"
    },
    "ExecuteTime": {
     "end_time": "2024-02-19T19:09:06.095894300Z",
     "start_time": "2024-02-19T19:09:06.084395600Z"
    }
   },
   "id": "f14d12f545a58811"
  },
  {
   "cell_type": "code",
   "execution_count": 19,
   "outputs": [
    {
     "name": "stderr",
     "output_type": "stream",
     "text": [
      "C:\\Users\\mikke\\AppData\\Local\\Temp\\ipykernel_13496\\2715444076.py:8: UserWarning: \n",
      "\n",
      "`distplot` is a deprecated function and will be removed in seaborn v0.14.0.\n",
      "\n",
      "Please adapt your code to use either `displot` (a figure-level function with\n",
      "similar flexibility) or `histplot` (an axes-level function for histograms).\n",
      "\n",
      "For a guide to updating your code to use the new functions, please see\n",
      "https://gist.github.com/mwaskom/de44147ed2974457ad6372750bbe5751\n",
      "\n",
      "  sns.distplot(df['Age'])\n"
     ]
    },
    {
     "data": {
      "text/plain": "<Figure size 640x480 with 1 Axes>",
      "image/png": "[encoded data removed]"
     },
     "metadata": {},
     "output_type": "display_data"
    },
    {
     "data": {
      "text/plain": "<Figure size 640x480 with 1 Axes>",
      "image/png": "[encoded data removed]"
     },
     "metadata": {},
     "output_type": "display_data"
    },
    {
     "ename": "ValueError",
     "evalue": "could not convert string to float: 'Alice'",
     "output_type": "error",
     "traceback": [
      "\u001B[1;31m---------------------------------------------------------------------------\u001B[0m",
      "\u001B[1;31mValueError\u001B[0m                                Traceback (most recent call last)",
      "Cell \u001B[1;32mIn[19], line 16\u001B[0m\n\u001B[0;32m     13\u001B[0m plt\u001B[38;5;241m.\u001B[39mshow()\n\u001B[0;32m     15\u001B[0m \u001B[38;5;66;03m#Heatmap\u001B[39;00m\n\u001B[1;32m---> 16\u001B[0m corr_matrix \u001B[38;5;241m=\u001B[39m df\u001B[38;5;241m.\u001B[39mcorr()\n\u001B[0;32m     17\u001B[0m sns\u001B[38;5;241m.\u001B[39mheatmap(corr_matrix, annot\u001B[38;5;241m=\u001B[39m\u001B[38;5;28;01mTrue\u001B[39;00m, cmap\u001B[38;5;241m=\u001B[39m\u001B[38;5;124m'\u001B[39m\u001B[38;5;124mcoolwarm\u001B[39m\u001B[38;5;124m'\u001B[39m)\n\u001B[0;32m     18\u001B[0m plt\u001B[38;5;241m.\u001B[39mshow()\n",
      "File \u001B[1;32m~\\anaconda3\\Lib\\site-packages\\pandas\\core\\frame.py:10054\u001B[0m, in \u001B[0;36mDataFrame.corr\u001B[1;34m(self, method, min_periods, numeric_only)\u001B[0m\n\u001B[0;32m  10052\u001B[0m cols \u001B[38;5;241m=\u001B[39m data\u001B[38;5;241m.\u001B[39mcolumns\n\u001B[0;32m  10053\u001B[0m idx \u001B[38;5;241m=\u001B[39m cols\u001B[38;5;241m.\u001B[39mcopy()\n\u001B[1;32m> 10054\u001B[0m mat \u001B[38;5;241m=\u001B[39m data\u001B[38;5;241m.\u001B[39mto_numpy(dtype\u001B[38;5;241m=\u001B[39m\u001B[38;5;28mfloat\u001B[39m, na_value\u001B[38;5;241m=\u001B[39mnp\u001B[38;5;241m.\u001B[39mnan, copy\u001B[38;5;241m=\u001B[39m\u001B[38;5;28;01mFalse\u001B[39;00m)\n\u001B[0;32m  10056\u001B[0m \u001B[38;5;28;01mif\u001B[39;00m method \u001B[38;5;241m==\u001B[39m \u001B[38;5;124m\"\u001B[39m\u001B[38;5;124mpearson\u001B[39m\u001B[38;5;124m\"\u001B[39m:\n\u001B[0;32m  10057\u001B[0m     correl \u001B[38;5;241m=\u001B[39m libalgos\u001B[38;5;241m.\u001B[39mnancorr(mat, minp\u001B[38;5;241m=\u001B[39mmin_periods)\n",
      "File \u001B[1;32m~\\anaconda3\\Lib\\site-packages\\pandas\\core\\frame.py:1838\u001B[0m, in \u001B[0;36mDataFrame.to_numpy\u001B[1;34m(self, dtype, copy, na_value)\u001B[0m\n\u001B[0;32m   1836\u001B[0m \u001B[38;5;28;01mif\u001B[39;00m dtype \u001B[38;5;129;01mis\u001B[39;00m \u001B[38;5;129;01mnot\u001B[39;00m \u001B[38;5;28;01mNone\u001B[39;00m:\n\u001B[0;32m   1837\u001B[0m     dtype \u001B[38;5;241m=\u001B[39m np\u001B[38;5;241m.\u001B[39mdtype(dtype)\n\u001B[1;32m-> 1838\u001B[0m result \u001B[38;5;241m=\u001B[39m \u001B[38;5;28mself\u001B[39m\u001B[38;5;241m.\u001B[39m_mgr\u001B[38;5;241m.\u001B[39mas_array(dtype\u001B[38;5;241m=\u001B[39mdtype, copy\u001B[38;5;241m=\u001B[39mcopy, na_value\u001B[38;5;241m=\u001B[39mna_value)\n\u001B[0;32m   1839\u001B[0m \u001B[38;5;28;01mif\u001B[39;00m result\u001B[38;5;241m.\u001B[39mdtype \u001B[38;5;129;01mis\u001B[39;00m \u001B[38;5;129;01mnot\u001B[39;00m dtype:\n\u001B[0;32m   1840\u001B[0m     result \u001B[38;5;241m=\u001B[39m np\u001B[38;5;241m.\u001B[39marray(result, dtype\u001B[38;5;241m=\u001B[39mdtype, copy\u001B[38;5;241m=\u001B[39m\u001B[38;5;28;01mFalse\u001B[39;00m)\n",
      "File \u001B[1;32m~\\anaconda3\\Lib\\site-packages\\pandas\\core\\internals\\managers.py:1732\u001B[0m, in \u001B[0;36mBlockManager.as_array\u001B[1;34m(self, dtype, copy, na_value)\u001B[0m\n\u001B[0;32m   1730\u001B[0m         arr\u001B[38;5;241m.\u001B[39mflags\u001B[38;5;241m.\u001B[39mwriteable \u001B[38;5;241m=\u001B[39m \u001B[38;5;28;01mFalse\u001B[39;00m\n\u001B[0;32m   1731\u001B[0m \u001B[38;5;28;01melse\u001B[39;00m:\n\u001B[1;32m-> 1732\u001B[0m     arr \u001B[38;5;241m=\u001B[39m \u001B[38;5;28mself\u001B[39m\u001B[38;5;241m.\u001B[39m_interleave(dtype\u001B[38;5;241m=\u001B[39mdtype, na_value\u001B[38;5;241m=\u001B[39mna_value)\n\u001B[0;32m   1733\u001B[0m     \u001B[38;5;66;03m# The underlying data was copied within _interleave, so no need\u001B[39;00m\n\u001B[0;32m   1734\u001B[0m     \u001B[38;5;66;03m# to further copy if copy=True or setting na_value\u001B[39;00m\n\u001B[0;32m   1736\u001B[0m \u001B[38;5;28;01mif\u001B[39;00m na_value \u001B[38;5;129;01mis\u001B[39;00m \u001B[38;5;129;01mnot\u001B[39;00m lib\u001B[38;5;241m.\u001B[39mno_default:\n",
      "File \u001B[1;32m~\\anaconda3\\Lib\\site-packages\\pandas\\core\\internals\\managers.py:1794\u001B[0m, in \u001B[0;36mBlockManager._interleave\u001B[1;34m(self, dtype, na_value)\u001B[0m\n\u001B[0;32m   1792\u001B[0m     \u001B[38;5;28;01melse\u001B[39;00m:\n\u001B[0;32m   1793\u001B[0m         arr \u001B[38;5;241m=\u001B[39m blk\u001B[38;5;241m.\u001B[39mget_values(dtype)\n\u001B[1;32m-> 1794\u001B[0m     result[rl\u001B[38;5;241m.\u001B[39mindexer] \u001B[38;5;241m=\u001B[39m arr\n\u001B[0;32m   1795\u001B[0m     itemmask[rl\u001B[38;5;241m.\u001B[39mindexer] \u001B[38;5;241m=\u001B[39m \u001B[38;5;241m1\u001B[39m\n\u001B[0;32m   1797\u001B[0m \u001B[38;5;28;01mif\u001B[39;00m \u001B[38;5;129;01mnot\u001B[39;00m itemmask\u001B[38;5;241m.\u001B[39mall():\n",
      "\u001B[1;31mValueError\u001B[0m: could not convert string to float: 'Alice'"
     ]
    }
   ],
   "source": [
    "import seaborn as sns\n",
    "import pandas as pd\n",
    "\n",
    "data = {'Name': ['Alice', 'Bob', 'Charlie'], 'Age': [25, 30, 35]}\n",
    "df = pd.DataFrame(data)\n",
    "\n",
    "#Distribution Plot\n",
    "sns.distplot(df['Age'])\n",
    "plt.show()\n",
    "\n",
    "#Box Plot\n",
    "sns.boxplot(x='Name', y='Age', data=df)\n",
    "plt.show()\n",
    "\n",
    "#Heatmap\n",
    "corr_matrix = df.corr()\n",
    "sns.heatmap(corr_matrix, annot=True, cmap='coolwarm')\n",
    "plt.show()"
   ],
   "metadata": {
    "collapsed": false,
    "pycharm": {
     "name": "#%%\n"
    },
    "ExecuteTime": {
     "end_time": "2024-02-19T19:09:08.448659Z",
     "start_time": "2024-02-19T19:09:06.091905100Z"
    }
   },
   "id": "9ee507fdc1eb4c58"
  },
  {
   "cell_type": "code",
   "execution_count": null,
   "outputs": [],
   "source": [],
   "metadata": {
    "collapsed": false,
    "pycharm": {
     "name": "#%%\n"
    },
    "ExecuteTime": {
     "end_time": "2024-02-19T19:09:08.455713900Z",
     "start_time": "2024-02-19T19:09:08.450726900Z"
    }
   },
   "id": "89790c99dc7b61a9"
  }
 ],
 "metadata": {
  "kernelspec": {
   "display_name": "Python 3",
   "language": "python",
   "name": "python3"
  },
  "language_info": {
   "codemirror_mode": {
    "name": "ipython",
    "version": 2
   },
   "file_extension": ".py",
   "mimetype": "text/x-python",
   "name": "python",
   "nbconvert_exporter": "python",
   "pygments_lexer": "ipython2",
   "version": "2.7.6"
  }
 },
 "nbformat": 4,
 "nbformat_minor": 5
}
